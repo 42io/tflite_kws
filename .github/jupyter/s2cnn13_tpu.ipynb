{
  "nbformat": 4,
  "nbformat_minor": 0,
  "metadata": {
    "colab": {
      "provenance": []
    },
    "kernelspec": {
      "name": "python3",
      "display_name": "Python 3"
    },
    "language_info": {
      "name": "python"
    },
    "gpuClass": "standard",
    "accelerator": "TPU"
  },
  "cells": [
    {
      "cell_type": "markdown",
      "source": [
        "#Multi-task learning\n",
        "\n",
        "Multi-task learning (MTL) is a subfield of machine learning in which multiple learning tasks are solved at the same time, while exploiting commonalities and differences across tasks. This can result in improved learning efficiency and prediction accuracy for the task-specific models, when compared to training the models separately.\n",
        "\n",
        "#Semi-supervised learning\n",
        "\n",
        "Semi-supervised learning is a machine learning approach that utilizes both (small-scale) ***labeled*** data and (large-scale) ***unlabeled*** data. A teacher model is first trained with labeled data. Then the trained teacher model predicts the labels of unlabeled data. A student model is optimized to predict both the labels of labeled data and the pseudo-labels (the prediction by teacher) of unlabeled data.\n",
        "\n",
        "#Knowledge expansion and distillation\n",
        "\n",
        "The size of the student model is not necessarily smaller than the size of the teacher model. As a student model is exposed with larger-scale data with more difficult environments (noise), it can learn more information than the teacher model. One can interpret this method as ***knowledge expansion***.\n",
        "\n",
        "On the other hand, we can also reduce the size of the student model for the sake of model compression. This process is called ***knowledge distillation*** and it is suitable for applications with less computing power.\n",
        "\n",
        "In this example finetuned Huggingface audio classification model is used as a teacher.\n",
        "\n",
        "[Distill Notebooks](https://github.com/42io/tflite_kws/blob/master/.github/jupyter/distill/)"
      ],
      "metadata": {
        "id": "a3ImmsdkvXr7"
      }
    },
    {
      "cell_type": "code",
      "source": [
        "TFLITE_MODEL_PATH = '/content/gdrive/MyDrive/0-9.distill.s2cnn13.tflite'\n",
        "TOTAL_TRAINING_EPOCHS = 218\n",
        "DS = {}"
      ],
      "metadata": {
        "id": "kXIq3GoelTwO"
      },
      "execution_count": 1,
      "outputs": []
    },
    {
      "cell_type": "code",
      "source": [
        "from google.colab import drive\n",
        "drive.mount(TFLITE_MODEL_PATH[:15])"
      ],
      "metadata": {
        "id": "0CjTps9yJjjS",
        "outputId": "ec222925-e23e-48df-ac5a-fd7087f33aa7",
        "colab": {
          "base_uri": "https://localhost:8080/"
        }
      },
      "execution_count": 2,
      "outputs": [
        {
          "output_type": "stream",
          "name": "stdout",
          "text": [
            "Mounted at /content/gdrive\n"
          ]
        }
      ]
    },
    {
      "cell_type": "code",
      "metadata": {
        "id": "5T3UOLCpGUmg",
        "outputId": "6220baae-5f41-46c1-c582-fb8225007b91",
        "colab": {
          "base_uri": "https://localhost:8080/"
        }
      },
      "source": [
        "import matplotlib.pyplot as plt\n",
        "import numpy as np\n",
        "from tensorflow import keras\n",
        "import tensorflow as tf\n",
        "import tensorflow_datasets as tfds\n",
        "from operator import itemgetter\n",
        "print('TensorFlow', tf.__version__)\n",
        "print('TensorFlow Datasets', tfds.__version__)\n",
        "print('Numpy', np.__version__)\n",
        "!python -V"
      ],
      "execution_count": 3,
      "outputs": [
        {
          "output_type": "stream",
          "name": "stdout",
          "text": [
            "TensorFlow 2.12.0\n",
            "TensorFlow Datasets 4.9.2\n",
            "Numpy 1.25.1\n",
            "Python 3.10.12\n"
          ]
        }
      ]
    },
    {
      "cell_type": "code",
      "source": [
        "resolver = tf.distribute.cluster_resolver.TPUClusterResolver()\n",
        "tf.config.experimental_connect_to_cluster(resolver)\n",
        "# This is the TPU initialization code that has to be at the beginning.\n",
        "tf.tpu.experimental.initialize_tpu_system(resolver)\n",
        "strategy = tf.distribute.TPUStrategy(resolver)\n",
        "resolver.get_tpu_system_metadata()"
      ],
      "metadata": {
        "id": "L4zizmQeofPM",
        "outputId": "3064dd9f-e892-4352-e5d9-d92004e0b572",
        "colab": {
          "base_uri": "https://localhost:8080/"
        }
      },
      "execution_count": 4,
      "outputs": [
        {
          "output_type": "execute_result",
          "data": {
            "text/plain": [
              "TPUSystemMetadata(num_cores=8, num_hosts=1, num_of_cores_per_host=8, topology=None, devices=(_DeviceAttributes(/job:localhost/replica:0/task:0/device:CPU:0, CPU, 0, 0), _DeviceAttributes(/job:worker/replica:0/task:0/device:CPU:0, CPU, 0, 0), _DeviceAttributes(/job:worker/replica:0/task:0/device:TPU:0, TPU, 0, 0), _DeviceAttributes(/job:worker/replica:0/task:0/device:TPU:1, TPU, 0, 0), _DeviceAttributes(/job:worker/replica:0/task:0/device:TPU:2, TPU, 0, 0), _DeviceAttributes(/job:worker/replica:0/task:0/device:TPU:3, TPU, 0, 0), _DeviceAttributes(/job:worker/replica:0/task:0/device:TPU:4, TPU, 0, 0), _DeviceAttributes(/job:worker/replica:0/task:0/device:TPU:5, TPU, 0, 0), _DeviceAttributes(/job:worker/replica:0/task:0/device:TPU:6, TPU, 0, 0), _DeviceAttributes(/job:worker/replica:0/task:0/device:TPU:7, TPU, 0, 0), _DeviceAttributes(/job:worker/replica:0/task:0/device:TPU_SYSTEM:0, TPU_SYSTEM, 0, 0), _DeviceAttributes(/job:worker/replica:0/task:0/device:XLA_CPU:0, XLA_CPU, 0, 0)))"
            ]
          },
          "metadata": {},
          "execution_count": 4
        }
      ]
    },
    {
      "cell_type": "code",
      "source": [
        "GLOBAL_BATCH_SIZE = 32 * strategy.num_replicas_in_sync"
      ],
      "metadata": {
        "id": "k4Pb5yA-V9sU"
      },
      "execution_count": 5,
      "outputs": []
    },
    {
      "cell_type": "code",
      "source": [
        "class WarmUpCosine(keras.optimizers.schedules.LearningRateSchedule):\n",
        "  def __init__(\n",
        "    self, learning_rate_base, total_steps, warmup_learning_rate, warmup_ratio\n",
        "  ):\n",
        "    super().__init__()\n",
        "\n",
        "    self.learning_rate_base = learning_rate_base\n",
        "    self.total_steps = total_steps\n",
        "    self.warmup_learning_rate = warmup_learning_rate\n",
        "    self.warmup_steps = int(total_steps * warmup_ratio)\n",
        "    self.pi = tf.constant(np.pi)\n",
        "\n",
        "  def __call__(self, step):\n",
        "    if self.total_steps < self.warmup_steps:\n",
        "      raise ValueError(\"Total_steps must be larger or equal to warmup_steps.\")\n",
        "\n",
        "    cos_annealed_lr = tf.cos(\n",
        "      self.pi\n",
        "      * (tf.cast(step, tf.float32) - self.warmup_steps)\n",
        "      / float(self.total_steps - self.warmup_steps)\n",
        "    )\n",
        "    learning_rate = 0.5 * self.learning_rate_base * (1 + cos_annealed_lr)\n",
        "\n",
        "    if self.warmup_steps > 0:\n",
        "      if self.learning_rate_base < self.warmup_learning_rate:\n",
        "        raise ValueError(\n",
        "          \"Learning_rate_base must be larger or equal to \"\n",
        "          \"warmup_learning_rate.\"\n",
        "        )\n",
        "      slope = (\n",
        "        self.learning_rate_base - self.warmup_learning_rate\n",
        "      ) / self.warmup_steps\n",
        "      warmup_rate = slope * tf.cast(step, tf.float32) + self.warmup_learning_rate\n",
        "      learning_rate = tf.where(\n",
        "        step < self.warmup_steps, warmup_rate, learning_rate\n",
        "      )\n",
        "    return tf.where(\n",
        "      step > self.total_steps, 0.0, learning_rate, name=\"learning_rate\"\n",
        "    )"
      ],
      "metadata": {
        "id": "zNE3xXCu-uSn"
      },
      "execution_count": 6,
      "outputs": []
    },
    {
      "cell_type": "code",
      "source": [
        "class Distiller(keras.Model):\n",
        "\n",
        "  def __init__(self, student):\n",
        "    super().__init__()\n",
        "    self.student = student\n",
        "    self.loss_tracker = keras.metrics.Mean(name='loss')\n",
        "\n",
        "  @property\n",
        "  def metrics(self):\n",
        "    metrics = super().metrics\n",
        "    metrics.append(self.loss_tracker)\n",
        "    return metrics\n",
        "\n",
        "  def compile(self, task_weight, temperature, **kwargs):\n",
        "    super().compile(**kwargs)\n",
        "    self.temperature = temperature\n",
        "    self.task_weight = task_weight\n",
        "    assert sum(task_weight) == 1\n",
        "\n",
        "  def train_step(self, data_list):\n",
        "    data_list = [itemgetter('mfcc', 'logits')(i) for i in data_list]\n",
        "\n",
        "    with tf.GradientTape() as tape:\n",
        "      loss = []\n",
        "\n",
        "      for i, data in enumerate(data_list):\n",
        "        # Unpack data\n",
        "        x, teacher_predictions = data\n",
        "\n",
        "        # Forward pass of student\n",
        "        student_predictions = self.student(x, training=True)[i]\n",
        "\n",
        "        # Compute losses\n",
        "        loss.append(self.task_weight[i] * keras.losses.kld(\n",
        "          tf.nn.softmax(teacher_predictions / self.temperature, axis=1),\n",
        "          tf.nn.softmax(student_predictions / self.temperature, axis=1),\n",
        "        ) * self.temperature**2)\n",
        "\n",
        "      loss = sum(loss)\n",
        "\n",
        "    # Compute gradients\n",
        "    trainable_vars = self.student.trainable_variables\n",
        "    gradients = tape.gradient(loss, trainable_vars)\n",
        "\n",
        "    # Update weights\n",
        "    self.optimizer.apply_gradients(zip(gradients, trainable_vars))\n",
        "\n",
        "    # Report progress\n",
        "    self.loss_tracker.update_state(loss)\n",
        "    return {m.name: m.result() for m in self.metrics}\n",
        "\n",
        "  def test_step(self, data_list):\n",
        "    loss, metrics = [], []\n",
        "\n",
        "    for i, data in enumerate(data_list):\n",
        "      # Unpack data\n",
        "      x, teacher_predictions, y = itemgetter('mfcc', 'logits', 'label')(data)\n",
        "\n",
        "      # Forward pass of student\n",
        "      student_predictions = self.student(x, training=False)[i]\n",
        "      metrics.append((y, student_predictions))\n",
        "\n",
        "      # Compute losses\n",
        "      loss.append(self.task_weight[i] * keras.losses.kld(\n",
        "        tf.nn.softmax(teacher_predictions / self.temperature, axis=1),\n",
        "        tf.nn.softmax(student_predictions / self.temperature, axis=1),\n",
        "      ) * self.temperature**2)\n",
        "\n",
        "    # Report progress\n",
        "    self.loss_tracker.update_state(sum(loss))\n",
        "    self.compiled_metrics.update_state(*zip(*metrics))\n",
        "    return {m.name: m.result() for m in self.metrics}"
      ],
      "metadata": {
        "id": "Vx9PU6oM_LYY"
      },
      "execution_count": 7,
      "outputs": []
    },
    {
      "cell_type": "code",
      "source": [
        "def spectrogram_masking(spectrogram, dim, masks_number=2, mask_max_size=2):\n",
        "  \"\"\"Spectrogram masking on frequency or time dimension.\n",
        "  Args:\n",
        "    spectrogram: Input spectrum [batch, time, frequency]\n",
        "    dim: dimension on which masking will be applied: 1 - time; 2 - frequency\n",
        "    masks_number: number of masks\n",
        "    mask_max_size: mask max size\n",
        "  Returns:\n",
        "    masked spectrogram\n",
        "  \"\"\"\n",
        "  if dim not in (1, 2):\n",
        "    raise ValueError('Wrong dim value: %d' % dim)\n",
        "  input_shape = spectrogram.shape\n",
        "  time_size, frequency_size = input_shape[1:3]\n",
        "  dim_size = input_shape[dim]  # size of dimension on which mask is applied\n",
        "  stripe_shape = [1, time_size, frequency_size]\n",
        "  for _ in range(masks_number):\n",
        "    mask_end = tf.random.uniform([], 0, mask_max_size, tf.int32)\n",
        "    mask_start = tf.random.uniform([], 0, dim_size - mask_end, tf.int32)\n",
        "\n",
        "    # initialize stripes with stripe_shape\n",
        "    stripe_ones_left = list(stripe_shape)\n",
        "    stripe_zeros_center = list(stripe_shape)\n",
        "    stripe_ones_right = list(stripe_shape)\n",
        "\n",
        "    # update stripes dim\n",
        "    stripe_ones_left[dim] = dim_size - mask_start - mask_end\n",
        "    stripe_zeros_center[dim] = mask_end\n",
        "    stripe_ones_right[dim] = mask_start\n",
        "\n",
        "    # generate mask\n",
        "    mask = tf.concat((\n",
        "        tf.ones(stripe_ones_left, spectrogram.dtype),\n",
        "        tf.zeros(stripe_zeros_center, spectrogram.dtype),\n",
        "        tf.ones(stripe_ones_right, spectrogram.dtype),\n",
        "    ), dim)\n",
        "    spectrogram = spectrogram * mask\n",
        "  return spectrogram"
      ],
      "metadata": {
        "id": "l8tJAaRkOskM"
      },
      "execution_count": 8,
      "outputs": []
    },
    {
      "cell_type": "code",
      "source": [
        "def streaming_input_output(streaming, t, inputs, otputs, x):\n",
        "  if streaming:\n",
        "    otputs.append(x)\n",
        "    x = keras.Input(shape=[t] + x.shape[2:])\n",
        "    inputs.append(x)\n",
        "  return x"
      ],
      "metadata": {
        "id": "9Qfjgetp0C9R"
      },
      "execution_count": 9,
      "outputs": []
    },
    {
      "cell_type": "code",
      "source": [
        "def build_model(activation='elu', streaming=False):\n",
        "\n",
        "  # resetting the layer name generation counter\n",
        "  keras.backend.clear_session()\n",
        "\n",
        "  inputs, outputs = [], []\n",
        "\n",
        "  x = x_in = keras.Input(shape=(1 if streaming else 47, 13))\n",
        "\n",
        "  x = keras.layers.Dense(512, use_bias=False)(x)\n",
        "  x = keras.layers.BatchNormalization()(x)\n",
        "  x = keras.layers.SpatialDropout1D(0.05)(x)\n",
        "\n",
        "  for i in range(4):\n",
        "    x = streaming_input_output(streaming, 1 + 2**i, inputs, outputs, x)\n",
        "    x = keras.layers.Conv1D(x.shape[-1], 2,\n",
        "                            dilation_rate=2**i, use_bias=False)(x)\n",
        "    x = keras.layers.BatchNormalization()(x)\n",
        "    x = keras.layers.Activation(activation)(x)\n",
        "    x = keras.layers.SpatialDropout1D(0.05)(x)\n",
        "\n",
        "  x = streaming_input_output(streaming, 32, inputs, outputs, x)\n",
        "  x = keras.layers.MaxPool1D(x.shape[1])(x)\n",
        "  x = keras.layers.Flatten()(x)\n",
        "\n",
        "  c = keras.layers.Dense(2 * x.shape[-1], use_bias=False)(x)\n",
        "  c = keras.layers.BatchNormalization()(c)\n",
        "  c = keras.layers.Activation(activation)(c)\n",
        "  c = keras.layers.Dropout(0.05)(c)\n",
        "  c = keras.layers.Dense(x.shape[-1], use_bias=False)(c)\n",
        "  c = keras.layers.BatchNormalization()(c)\n",
        "  c = keras.layers.add([c, x])\n",
        "  c = keras.layers.Activation(activation)(c)\n",
        "  c = keras.layers.Dropout(0.05)(c)\n",
        "  c = keras.layers.Dense(12, name='c')(c)\n",
        "\n",
        "  m = keras.layers.Dense(2 * x.shape[-1], use_bias=False)(x)\n",
        "  m = keras.layers.BatchNormalization()(m)\n",
        "  m = keras.layers.Activation(activation)(m)\n",
        "  m = keras.layers.Dropout(0.05)(m)\n",
        "  m = keras.layers.Dense(x.shape[-1], use_bias=False)(m)\n",
        "  m = keras.layers.BatchNormalization()(m)\n",
        "  m = keras.layers.add([m, x])\n",
        "  m = keras.layers.Activation(activation)(m)\n",
        "  m = keras.layers.Dropout(0.05)(m)\n",
        "  m = keras.layers.Dense(2, name='m')(m)\n",
        "\n",
        "  return keras.Model(inputs=[x_in] + inputs, outputs=[c, m] + outputs)"
      ],
      "metadata": {
        "id": "oKYmA0gCO48p"
      },
      "execution_count": 10,
      "outputs": []
    },
    {
      "cell_type": "markdown",
      "source": [
        "#Is Digit Mask Dataset"
      ],
      "metadata": {
        "id": "duDBUWRgBOlu"
      }
    },
    {
      "cell_type": "code",
      "source": [
        "DS['mask-cv12'], info = tfds.load(\n",
        "    name='my_dataset', split='train',\n",
        "    data_dir='gs://tfds-isdigitensemble-cv12-mfcc.appspot.com',\n",
        "    try_gcs=True, with_info=True)\n",
        "assert info.homepage == 'https://huggingface.co/datasets/mazkooleg/digit_mask_ensemble_distilled_from_cv12_balanced_mfcc'\n",
        "assert len(DS['mask-cv12']) == 10122488, len(DS['mask-cv12'])"
      ],
      "metadata": {
        "id": "UMwVAtCwBOl_"
      },
      "execution_count": 11,
      "outputs": []
    },
    {
      "cell_type": "code",
      "source": [
        "(DS['mask-train'], DS['mask-test'], DS['mask-valid']), info = tfds.load(\n",
        "    name='my_dataset', split=['train', 'test', 'valid'],\n",
        "    data_dir='gs://tfds-isdigit-ensemble-ft-mfcc.appspot.com',\n",
        "    try_gcs=True, with_info=True)\n",
        "assert info.homepage == 'https://huggingface.co/datasets/mazkooleg/digit_mask_ft_ensemble_distilled_mfcc'\n",
        "assert len(DS['mask-train']) == 1825800, len(DS['mask-train'])"
      ],
      "metadata": {
        "id": "GoTZd4oNBOl_"
      },
      "execution_count": 12,
      "outputs": []
    },
    {
      "cell_type": "code",
      "source": [
        "print(int(DS['mask-test'].reduce(0, lambda x, y: x + int(y['label'] != tf.argmax(y['logits'])))),\n",
        "      len(DS['mask-test']))"
      ],
      "metadata": {
        "id": "DmP1iFdPBOmA",
        "outputId": "607e8db9-cbe7-4d02-a0ce-5452400bd2db",
        "colab": {
          "base_uri": "https://localhost:8080/"
        }
      },
      "execution_count": 13,
      "outputs": [
        {
          "output_type": "stream",
          "name": "stdout",
          "text": [
            "5 6086\n"
          ]
        }
      ]
    },
    {
      "cell_type": "code",
      "source": [
        "print(int(DS['mask-valid'].reduce(0, lambda x, y: x + int(y['label'] != tf.argmax(y['logits'])))),\n",
        "      len(DS['mask-valid']))"
      ],
      "metadata": {
        "id": "C0rOFlMIBOmB",
        "outputId": "b21f15dc-ddb2-45b5-a549-b620f3dea984",
        "colab": {
          "base_uri": "https://localhost:8080/"
        }
      },
      "execution_count": 14,
      "outputs": [
        {
          "output_type": "stream",
          "name": "stdout",
          "text": [
            "5 5276\n"
          ]
        }
      ]
    },
    {
      "cell_type": "code",
      "source": [
        "DS['mask-train'] = DS['mask-train'].map(lambda d: {'mfcc': d['mfcc'], 'logits': d['logits']})\n",
        "DS['mask-train'] = DS['mask-train'].concatenate(DS['mask-cv12'])\n",
        "assert len(DS['mask-train']) == 11948288, len(DS['mask-train'])"
      ],
      "metadata": {
        "id": "VwVBw4waBOmC"
      },
      "execution_count": 15,
      "outputs": []
    },
    {
      "cell_type": "markdown",
      "source": [
        "# Digit 0-9up Dataset"
      ],
      "metadata": {
        "id": "ew8iRmJO_VV9"
      }
    },
    {
      "cell_type": "code",
      "source": [
        "DS['0-9up-cv12'], info = tfds.load(\n",
        "    name='my_dataset', split='train',\n",
        "    data_dir='gs://tfds-0-9up-ensemble-cv12-mfcc.appspot.com',\n",
        "    try_gcs=True, with_info=True)\n",
        "assert info.homepage == 'https://huggingface.co/datasets/mazkooleg/0-9up_ft_ensemble_distilled_from_cv12_balanced_mfcc'\n",
        "assert len(DS['0-9up-cv12']) == 2056992, len(DS['0-9up-cv12'])"
      ],
      "metadata": {
        "id": "ijLY1GhqsE9Q"
      },
      "execution_count": 16,
      "outputs": []
    },
    {
      "cell_type": "code",
      "source": [
        "(DS['0-9up-train'], DS['0-9up-test'], DS['0-9up-valid']), info = tfds.load(\n",
        "    name='my_dataset', split=['train', 'test', 'valid'],\n",
        "    data_dir='gs://tfds-0-9up-ensemble-ft-mfcc.appspot.com',\n",
        "    try_gcs=True, with_info=True)\n",
        "assert info.homepage == 'https://huggingface.co/datasets/mazkooleg/0-9up-ft_ensemble_distilled_mfcc'\n",
        "assert len(DS['0-9up-train']) == 1095480, len(DS['0-9up-train'])"
      ],
      "metadata": {
        "id": "F0Y7THNkRsRg"
      },
      "execution_count": 17,
      "outputs": []
    },
    {
      "cell_type": "code",
      "source": [
        "print(int(DS['0-9up-test'].reduce(0, lambda x, y: x + int(y['label'] != tf.argmax(y['logits'])))),\n",
        "      len(DS['0-9up-test']))"
      ],
      "metadata": {
        "id": "MqY_Ym0b-75Q",
        "outputId": "b48f8f77-a11c-4753-d41e-3cbc92591550",
        "colab": {
          "base_uri": "https://localhost:8080/"
        }
      },
      "execution_count": 18,
      "outputs": [
        {
          "output_type": "stream",
          "name": "stdout",
          "text": [
            "9 3773\n"
          ]
        }
      ]
    },
    {
      "cell_type": "code",
      "source": [
        "print(int(DS['0-9up-valid'].reduce(0, lambda x, y: x + int(y['label'] != tf.argmax(y['logits'])))),\n",
        "      len(DS['0-9up-valid']))"
      ],
      "metadata": {
        "id": "8fVXhX_RHFt7",
        "outputId": "08d634cc-5112-446c-f64e-85257b50d390",
        "colab": {
          "base_uri": "https://localhost:8080/"
        }
      },
      "execution_count": 19,
      "outputs": [
        {
          "output_type": "stream",
          "name": "stdout",
          "text": [
            "4 3368\n"
          ]
        }
      ]
    },
    {
      "cell_type": "code",
      "source": [
        "DS['0-9up-train'] = DS['0-9up-train'].map(lambda d: {'mfcc': d['mfcc'], 'logits': d['logits']})\n",
        "DS['0-9up-train'] = DS['0-9up-train'].concatenate(DS['0-9up-cv12'])\n",
        "assert len(DS['0-9up-train']) == 3152472, len(DS['0-9up-train'])"
      ],
      "metadata": {
        "id": "j2zn5TiMokeJ"
      },
      "execution_count": 20,
      "outputs": []
    },
    {
      "cell_type": "markdown",
      "source": [
        "# Multitask Distillattion"
      ],
      "metadata": {
        "id": "u4wYruzFB6eC"
      }
    },
    {
      "cell_type": "code",
      "source": [
        "DS['0-9up-train'] = DS['0-9up-train'].cache().shuffle(len(DS['0-9up-train']))\n",
        "DS['mask-train']  = DS['mask-train'].cache()\n",
        "DS['train'] = tf.data.Dataset.zip((DS['0-9up-train'].repeat(), DS['mask-train']))\n",
        "DS['valid'] = tf.data.Dataset.zip((DS['0-9up-valid'].repeat(), DS['mask-valid']))\n",
        "DS['test']  = tf.data.Dataset.zip((DS['0-9up-test'].repeat(),  DS['mask-test']))\n",
        "assert [len(DS[i]) for i in ('train', 'test', 'valid')] == [11948288, 6086, 5276]\n",
        "DS['train'] = DS['train'].shuffle(len(DS['train']))\n",
        "DS['train'] = DS['train'].batch(GLOBAL_BATCH_SIZE, drop_remainder=True)\n",
        "DS['train'] = DS['train'].map(lambda *d: [i.update({'mfcc': spectrogram_masking(i['mfcc'], 1)}) or i for i in d])\n",
        "DS['train'] = DS['train'].map(lambda *d: [i.update({'mfcc': spectrogram_masking(i['mfcc'], 2)}) or i for i in d])\n",
        "DS['valid'] = DS['valid'].cache()\n",
        "DS['test']  = DS['test'].cache()"
      ],
      "metadata": {
        "id": "0KKFBRg0srMy"
      },
      "execution_count": 21,
      "outputs": []
    },
    {
      "cell_type": "code",
      "source": [
        "plt.rc('figure', figsize=(13, 4))\n",
        "assert plt.imshow(next(iter(DS['train'].take(1)))[0]['mfcc'][0].numpy().T)"
      ],
      "metadata": {
        "id": "SYxpsB9AYZSm",
        "outputId": "a5522f48-5bd9-4ba8-993b-31e1fb06a4b8",
        "colab": {
          "base_uri": "https://localhost:8080/",
          "height": 339
        }
      },
      "execution_count": 22,
      "outputs": [
        {
          "output_type": "display_data",
          "data": {
            "text/plain": [
              "<Figure size 1300x400 with 1 Axes>"
            ],
            "image/png": "[encoded data removed]"
          },
          "metadata": {}
        }
      ]
    },
    {
      "cell_type": "code",
      "source": [
        "plt.rc('figure', figsize=(13, 4))\n",
        "assert plt.imshow(next(iter(DS['train'].take(1)))[1]['mfcc'][0].numpy().T)"
      ],
      "metadata": {
        "id": "e-zHKne-FY94",
        "outputId": "aa1870f7-fc7a-4404-f1c1-676bab1f6aa3",
        "colab": {
          "base_uri": "https://localhost:8080/",
          "height": 339
        }
      },
      "execution_count": 23,
      "outputs": [
        {
          "output_type": "display_data",
          "data": {
            "text/plain": [
              "<Figure size 1300x400 with 1 Axes>"
            ],
            "image/png": "[encoded data removed]"
          },
          "metadata": {}
        }
      ]
    },
    {
      "cell_type": "code",
      "source": [
        "scheduled_lrs = WarmUpCosine(\n",
        "  learning_rate_base=1e-3,\n",
        "  total_steps=TOTAL_TRAINING_EPOCHS * len(DS['train']),\n",
        "  warmup_learning_rate=0.0,\n",
        "  warmup_ratio=0.2,\n",
        ")\n",
        "\n",
        "plt.plot([scheduled_lrs(step) for step in range(0, scheduled_lrs.total_steps,\n",
        "                                                len(DS['train']))])\n",
        "plt.xlabel(\"Step\", fontsize=14)\n",
        "assert plt.ylabel(\"LR\", fontsize=14)"
      ],
      "metadata": {
        "id": "PyE1MJaQqYCE",
        "outputId": "fa39d166-f007-41fc-b8ac-e5cb71c12402",
        "colab": {
          "base_uri": "https://localhost:8080/",
          "height": 393
        }
      },
      "execution_count": 24,
      "outputs": [
        {
          "output_type": "display_data",
          "data": {
            "text/plain": [
              "<Figure size 1300x400 with 1 Axes>"
            ],
            "image/png": "[encoded data removed]"
          },
          "metadata": {}
        }
      ]
    },
    {
      "cell_type": "code",
      "source": [
        "model = build_model()\n",
        "model.summary()"
      ],
      "metadata": {
        "id": "t1yHRyTvPP0l",
        "outputId": "9295e0d5-828b-4886-ceab-0ffbd9016e97",
        "colab": {
          "base_uri": "https://localhost:8080/"
        }
      },
      "execution_count": 25,
      "outputs": [
        {
          "output_type": "stream",
          "name": "stdout",
          "text": [
            "Model: \"model\"\n",
            "__________________________________________________________________________________________________\n",
            " Layer (type)                   Output Shape         Param #     Connected to                     \n",
            "==================================================================================================\n",
            " input_1 (InputLayer)           [(None, 47, 13)]     0           []                               \n",
            "                                                                                                  \n",
            " dense (Dense)                  (None, 47, 512)      6656        ['input_1[0][0]']                \n",
            "                                                                                                  \n",
            " batch_normalization (BatchNorm  (None, 47, 512)     2048        ['dense[0][0]']                  \n",
            " alization)                                                                                       \n",
            "                                                                                                  \n",
            " spatial_dropout1d (SpatialDrop  (None, 47, 512)     0           ['batch_normalization[0][0]']    \n",
            " out1D)                                                                                           \n",
            "                                                                                                  \n",
            " conv1d (Conv1D)                (None, 46, 512)      524288      ['spatial_dropout1d[0][0]']      \n",
            "                                                                                                  \n",
            " batch_normalization_1 (BatchNo  (None, 46, 512)     2048        ['conv1d[0][0]']                 \n",
            " rmalization)                                                                                     \n",
            "                                                                                                  \n",
            " activation (Activation)        (None, 46, 512)      0           ['batch_normalization_1[0][0]']  \n",
            "                                                                                                  \n",
            " spatial_dropout1d_1 (SpatialDr  (None, 46, 512)     0           ['activation[0][0]']             \n",
            " opout1D)                                                                                         \n",
            "                                                                                                  \n",
            " conv1d_1 (Conv1D)              (None, 44, 512)      524288      ['spatial_dropout1d_1[0][0]']    \n",
            "                                                                                                  \n",
            " batch_normalization_2 (BatchNo  (None, 44, 512)     2048        ['conv1d_1[0][0]']               \n",
            " rmalization)                                                                                     \n",
            "                                                                                                  \n",
            " activation_1 (Activation)      (None, 44, 512)      0           ['batch_normalization_2[0][0]']  \n",
            "                                                                                                  \n",
            " spatial_dropout1d_2 (SpatialDr  (None, 44, 512)     0           ['activation_1[0][0]']           \n",
            " opout1D)                                                                                         \n",
            "                                                                                                  \n",
            " conv1d_2 (Conv1D)              (None, 40, 512)      524288      ['spatial_dropout1d_2[0][0]']    \n",
            "                                                                                                  \n",
            " batch_normalization_3 (BatchNo  (None, 40, 512)     2048        ['conv1d_2[0][0]']               \n",
            " rmalization)                                                                                     \n",
            "                                                                                                  \n",
            " activation_2 (Activation)      (None, 40, 512)      0           ['batch_normalization_3[0][0]']  \n",
            "                                                                                                  \n",
            " spatial_dropout1d_3 (SpatialDr  (None, 40, 512)     0           ['activation_2[0][0]']           \n",
            " opout1D)                                                                                         \n",
            "                                                                                                  \n",
            " conv1d_3 (Conv1D)              (None, 32, 512)      524288      ['spatial_dropout1d_3[0][0]']    \n",
            "                                                                                                  \n",
            " batch_normalization_4 (BatchNo  (None, 32, 512)     2048        ['conv1d_3[0][0]']               \n",
            " rmalization)                                                                                     \n",
            "                                                                                                  \n",
            " activation_3 (Activation)      (None, 32, 512)      0           ['batch_normalization_4[0][0]']  \n",
            "                                                                                                  \n",
            " spatial_dropout1d_4 (SpatialDr  (None, 32, 512)     0           ['activation_3[0][0]']           \n",
            " opout1D)                                                                                         \n",
            "                                                                                                  \n",
            " max_pooling1d (MaxPooling1D)   (None, 1, 512)       0           ['spatial_dropout1d_4[0][0]']    \n",
            "                                                                                                  \n",
            " flatten (Flatten)              (None, 512)          0           ['max_pooling1d[0][0]']          \n",
            "                                                                                                  \n",
            " dense_1 (Dense)                (None, 1024)         524288      ['flatten[0][0]']                \n",
            "                                                                                                  \n",
            " dense_3 (Dense)                (None, 1024)         524288      ['flatten[0][0]']                \n",
            "                                                                                                  \n",
            " batch_normalization_5 (BatchNo  (None, 1024)        4096        ['dense_1[0][0]']                \n",
            " rmalization)                                                                                     \n",
            "                                                                                                  \n",
            " batch_normalization_7 (BatchNo  (None, 1024)        4096        ['dense_3[0][0]']                \n",
            " rmalization)                                                                                     \n",
            "                                                                                                  \n",
            " activation_4 (Activation)      (None, 1024)         0           ['batch_normalization_5[0][0]']  \n",
            "                                                                                                  \n",
            " activation_6 (Activation)      (None, 1024)         0           ['batch_normalization_7[0][0]']  \n",
            "                                                                                                  \n",
            " dropout (Dropout)              (None, 1024)         0           ['activation_4[0][0]']           \n",
            "                                                                                                  \n",
            " dropout_2 (Dropout)            (None, 1024)         0           ['activation_6[0][0]']           \n",
            "                                                                                                  \n",
            " dense_2 (Dense)                (None, 512)          524288      ['dropout[0][0]']                \n",
            "                                                                                                  \n",
            " dense_4 (Dense)                (None, 512)          524288      ['dropout_2[0][0]']              \n",
            "                                                                                                  \n",
            " batch_normalization_6 (BatchNo  (None, 512)         2048        ['dense_2[0][0]']                \n",
            " rmalization)                                                                                     \n",
            "                                                                                                  \n",
            " batch_normalization_8 (BatchNo  (None, 512)         2048        ['dense_4[0][0]']                \n",
            " rmalization)                                                                                     \n",
            "                                                                                                  \n",
            " add (Add)                      (None, 512)          0           ['batch_normalization_6[0][0]',  \n",
            "                                                                  'flatten[0][0]']                \n",
            "                                                                                                  \n",
            " add_1 (Add)                    (None, 512)          0           ['batch_normalization_8[0][0]',  \n",
            "                                                                  'flatten[0][0]']                \n",
            "                                                                                                  \n",
            " activation_5 (Activation)      (None, 512)          0           ['add[0][0]']                    \n",
            "                                                                                                  \n",
            " activation_7 (Activation)      (None, 512)          0           ['add_1[0][0]']                  \n",
            "                                                                                                  \n",
            " dropout_1 (Dropout)            (None, 512)          0           ['activation_5[0][0]']           \n",
            "                                                                                                  \n",
            " dropout_3 (Dropout)            (None, 512)          0           ['activation_7[0][0]']           \n",
            "                                                                                                  \n",
            " c (Dense)                      (None, 12)           6156        ['dropout_1[0][0]']              \n",
            "                                                                                                  \n",
            " m (Dense)                      (None, 2)            1026        ['dropout_3[0][0]']              \n",
            "                                                                                                  \n",
            "==================================================================================================\n",
            "Total params: 4,230,670\n",
            "Trainable params: 4,219,406\n",
            "Non-trainable params: 11,264\n",
            "__________________________________________________________________________________________________\n"
          ]
        }
      ]
    },
    {
      "cell_type": "code",
      "source": [
        "with strategy.scope():\n",
        "  tpu_model = Distiller(keras.Model.from_config(model.get_config()))\n",
        "  tpu_model.compile(\n",
        "    optimizer=keras.optimizers.Adam(learning_rate=scheduled_lrs),\n",
        "    metrics=[keras.metrics.SparseCategoricalAccuracy('acc')],\n",
        "    temperature=10,\n",
        "    task_weight=[0.9, 0.1],\n",
        "    steps_per_execution=len(DS['train']))"
      ],
      "metadata": {
        "id": "FbAUQE9uuZNN"
      },
      "execution_count": 26,
      "outputs": []
    },
    {
      "cell_type": "code",
      "source": [
        "# Distill teacher to student\n",
        "history = tpu_model.fit(DS['train'],\n",
        "                        validation_data=DS['valid'].repeat(\n",
        "                            strategy.num_replicas_in_sync).batch(\n",
        "                                GLOBAL_BATCH_SIZE, drop_remainder=True),\n",
        "                        epochs=TOTAL_TRAINING_EPOCHS, verbose=2)\n",
        "\n",
        "model.set_weights(tpu_model.student.get_weights())"
      ],
      "metadata": {
        "id": "2OTgnR9QpzES",
        "outputId": "9ffab4d3-69a0-4113-dac8-5d16f9eafc8f",
        "colab": {
          "base_uri": "https://localhost:8080/"
        }
      },
      "execution_count": 27,
      "outputs": [
        {
          "output_type": "stream",
          "name": "stdout",
          "text": [
            "Epoch 1/218\n",
            "46673/46673 - 222s - loss: 2.2108 - val_output_1_acc: 0.9656 - val_output_2_acc: 0.9874 - val_loss: 0.8092 - 222s/epoch - 5ms/step\n",
            "Epoch 2/218\n",
            "46673/46673 - 196s - loss: 1.1008 - val_output_1_acc: 0.9845 - val_output_2_acc: 0.9915 - val_loss: 0.2812 - 196s/epoch - 4ms/step\n",
            "Epoch 3/218\n",
            "46673/46673 - 194s - loss: 0.8379 - val_output_1_acc: 0.9899 - val_output_2_acc: 0.9925 - val_loss: 0.1868 - 194s/epoch - 4ms/step\n",
            "Epoch 4/218\n",
            "46673/46673 - 196s - loss: 0.7241 - val_output_1_acc: 0.9910 - val_output_2_acc: 0.9923 - val_loss: 0.1567 - 196s/epoch - 4ms/step\n",
            "Epoch 5/218\n",
            "46673/46673 - 195s - loss: 0.6644 - val_output_1_acc: 0.9925 - val_output_2_acc: 0.9949 - val_loss: 0.1344 - 195s/epoch - 4ms/step\n",
            "Epoch 6/218\n",
            "46673/46673 - 193s - loss: 0.6271 - val_output_1_acc: 0.9925 - val_output_2_acc: 0.9949 - val_loss: 0.1220 - 193s/epoch - 4ms/step\n",
            "Epoch 7/218\n",
            "46673/46673 - 196s - loss: 0.6004 - val_output_1_acc: 0.9920 - val_output_2_acc: 0.9948 - val_loss: 0.1114 - 196s/epoch - 4ms/step\n",
            "Epoch 8/218\n",
            "46673/46673 - 193s - loss: 0.5801 - val_output_1_acc: 0.9937 - val_output_2_acc: 0.9960 - val_loss: 0.1068 - 193s/epoch - 4ms/step\n",
            "Epoch 9/218\n",
            "46673/46673 - 193s - loss: 0.5646 - val_output_1_acc: 0.9928 - val_output_2_acc: 0.9958 - val_loss: 0.0963 - 193s/epoch - 4ms/step\n",
            "Epoch 10/218\n",
            "46673/46673 - 195s - loss: 0.5513 - val_output_1_acc: 0.9945 - val_output_2_acc: 0.9959 - val_loss: 0.0879 - 195s/epoch - 4ms/step\n",
            "Epoch 11/218\n",
            "46673/46673 - 195s - loss: 0.5408 - val_output_1_acc: 0.9936 - val_output_2_acc: 0.9962 - val_loss: 0.0915 - 195s/epoch - 4ms/step\n",
            "Epoch 12/218\n",
            "46673/46673 - 193s - loss: 0.5311 - val_output_1_acc: 0.9934 - val_output_2_acc: 0.9966 - val_loss: 0.0880 - 193s/epoch - 4ms/step\n",
            "Epoch 13/218\n",
            "46673/46673 - 195s - loss: 0.5230 - val_output_1_acc: 0.9944 - val_output_2_acc: 0.9968 - val_loss: 0.0839 - 195s/epoch - 4ms/step\n",
            "Epoch 14/218\n",
            "46673/46673 - 195s - loss: 0.5165 - val_output_1_acc: 0.9934 - val_output_2_acc: 0.9970 - val_loss: 0.0782 - 195s/epoch - 4ms/step\n",
            "Epoch 15/218\n",
            "46673/46673 - 193s - loss: 0.5104 - val_output_1_acc: 0.9941 - val_output_2_acc: 0.9978 - val_loss: 0.0732 - 193s/epoch - 4ms/step\n",
            "Epoch 16/218\n",
            "46673/46673 - 196s - loss: 0.5056 - val_output_1_acc: 0.9938 - val_output_2_acc: 0.9973 - val_loss: 0.0749 - 196s/epoch - 4ms/step\n",
            "Epoch 17/218\n",
            "46673/46673 - 193s - loss: 0.5008 - val_output_1_acc: 0.9946 - val_output_2_acc: 0.9972 - val_loss: 0.0708 - 193s/epoch - 4ms/step\n",
            "Epoch 18/218\n",
            "46673/46673 - 196s - loss: 0.4966 - val_output_1_acc: 0.9941 - val_output_2_acc: 0.9977 - val_loss: 0.0741 - 196s/epoch - 4ms/step\n",
            "Epoch 19/218\n",
            "46673/46673 - 193s - loss: 0.4928 - val_output_1_acc: 0.9949 - val_output_2_acc: 0.9968 - val_loss: 0.0765 - 193s/epoch - 4ms/step\n",
            "Epoch 20/218\n",
            "46673/46673 - 193s - loss: 0.4897 - val_output_1_acc: 0.9951 - val_output_2_acc: 0.9977 - val_loss: 0.0689 - 193s/epoch - 4ms/step\n",
            "Epoch 21/218\n",
            "46673/46673 - 193s - loss: 0.4862 - val_output_1_acc: 0.9941 - val_output_2_acc: 0.9976 - val_loss: 0.0706 - 193s/epoch - 4ms/step\n",
            "Epoch 22/218\n",
            "46673/46673 - 193s - loss: 0.4836 - val_output_1_acc: 0.9960 - val_output_2_acc: 0.9975 - val_loss: 0.0705 - 193s/epoch - 4ms/step\n",
            "Epoch 23/218\n",
            "46673/46673 - 193s - loss: 0.4812 - val_output_1_acc: 0.9949 - val_output_2_acc: 0.9973 - val_loss: 0.0717 - 193s/epoch - 4ms/step\n",
            "Epoch 24/218\n",
            "46673/46673 - 194s - loss: 0.4784 - val_output_1_acc: 0.9956 - val_output_2_acc: 0.9968 - val_loss: 0.0749 - 194s/epoch - 4ms/step\n",
            "Epoch 25/218\n",
            "46673/46673 - 195s - loss: 0.4766 - val_output_1_acc: 0.9954 - val_output_2_acc: 0.9977 - val_loss: 0.0641 - 195s/epoch - 4ms/step\n",
            "Epoch 26/218\n",
            "46673/46673 - 194s - loss: 0.4741 - val_output_1_acc: 0.9949 - val_output_2_acc: 0.9984 - val_loss: 0.0682 - 194s/epoch - 4ms/step\n",
            "Epoch 27/218\n",
            "46673/46673 - 193s - loss: 0.4722 - val_output_1_acc: 0.9950 - val_output_2_acc: 0.9975 - val_loss: 0.0659 - 193s/epoch - 4ms/step\n",
            "Epoch 28/218\n",
            "46673/46673 - 195s - loss: 0.4705 - val_output_1_acc: 0.9953 - val_output_2_acc: 0.9979 - val_loss: 0.0683 - 195s/epoch - 4ms/step\n",
            "Epoch 29/218\n",
            "46673/46673 - 193s - loss: 0.4691 - val_output_1_acc: 0.9948 - val_output_2_acc: 0.9977 - val_loss: 0.0680 - 193s/epoch - 4ms/step\n",
            "Epoch 30/218\n",
            "46673/46673 - 193s - loss: 0.4674 - val_output_1_acc: 0.9947 - val_output_2_acc: 0.9979 - val_loss: 0.0678 - 193s/epoch - 4ms/step\n",
            "Epoch 31/218\n",
            "46673/46673 - 193s - loss: 0.4659 - val_output_1_acc: 0.9960 - val_output_2_acc: 0.9978 - val_loss: 0.0674 - 193s/epoch - 4ms/step\n",
            "Epoch 32/218\n",
            "46673/46673 - 193s - loss: 0.4643 - val_output_1_acc: 0.9954 - val_output_2_acc: 0.9983 - val_loss: 0.0636 - 193s/epoch - 4ms/step\n",
            "Epoch 33/218\n",
            "46673/46673 - 193s - loss: 0.4637 - val_output_1_acc: 0.9955 - val_output_2_acc: 0.9983 - val_loss: 0.0641 - 193s/epoch - 4ms/step\n",
            "Epoch 34/218\n",
            "46673/46673 - 193s - loss: 0.4619 - val_output_1_acc: 0.9946 - val_output_2_acc: 0.9985 - val_loss: 0.0671 - 193s/epoch - 4ms/step\n",
            "Epoch 35/218\n",
            "46673/46673 - 193s - loss: 0.4612 - val_output_1_acc: 0.9955 - val_output_2_acc: 0.9976 - val_loss: 0.0595 - 193s/epoch - 4ms/step\n",
            "Epoch 36/218\n",
            "46673/46673 - 193s - loss: 0.4596 - val_output_1_acc: 0.9957 - val_output_2_acc: 0.9976 - val_loss: 0.0663 - 193s/epoch - 4ms/step\n",
            "Epoch 37/218\n",
            "46673/46673 - 195s - loss: 0.4586 - val_output_1_acc: 0.9948 - val_output_2_acc: 0.9979 - val_loss: 0.0623 - 195s/epoch - 4ms/step\n",
            "Epoch 38/218\n",
            "46673/46673 - 195s - loss: 0.4580 - val_output_1_acc: 0.9959 - val_output_2_acc: 0.9984 - val_loss: 0.0603 - 195s/epoch - 4ms/step\n",
            "Epoch 39/218\n",
            "46673/46673 - 193s - loss: 0.4571 - val_output_1_acc: 0.9956 - val_output_2_acc: 0.9985 - val_loss: 0.0634 - 193s/epoch - 4ms/step\n",
            "Epoch 40/218\n",
            "46673/46673 - 193s - loss: 0.4560 - val_output_1_acc: 0.9948 - val_output_2_acc: 0.9981 - val_loss: 0.0670 - 193s/epoch - 4ms/step\n",
            "Epoch 41/218\n",
            "46673/46673 - 195s - loss: 0.4554 - val_output_1_acc: 0.9949 - val_output_2_acc: 0.9985 - val_loss: 0.0672 - 195s/epoch - 4ms/step\n",
            "Epoch 42/218\n",
            "46673/46673 - 195s - loss: 0.4541 - val_output_1_acc: 0.9962 - val_output_2_acc: 0.9979 - val_loss: 0.0684 - 195s/epoch - 4ms/step\n",
            "Epoch 43/218\n",
            "46673/46673 - 193s - loss: 0.4537 - val_output_1_acc: 0.9954 - val_output_2_acc: 0.9979 - val_loss: 0.0650 - 193s/epoch - 4ms/step\n",
            "Epoch 44/218\n",
            "46673/46673 - 196s - loss: 0.4525 - val_output_1_acc: 0.9953 - val_output_2_acc: 0.9969 - val_loss: 0.0640 - 196s/epoch - 4ms/step\n",
            "Epoch 45/218\n",
            "46673/46673 - 193s - loss: 0.4513 - val_output_1_acc: 0.9949 - val_output_2_acc: 0.9980 - val_loss: 0.0644 - 193s/epoch - 4ms/step\n",
            "Epoch 46/218\n",
            "46673/46673 - 195s - loss: 0.4498 - val_output_1_acc: 0.9957 - val_output_2_acc: 0.9978 - val_loss: 0.0630 - 195s/epoch - 4ms/step\n",
            "Epoch 47/218\n",
            "46673/46673 - 195s - loss: 0.4486 - val_output_1_acc: 0.9951 - val_output_2_acc: 0.9985 - val_loss: 0.0624 - 195s/epoch - 4ms/step\n",
            "Epoch 48/218\n",
            "46673/46673 - 192s - loss: 0.4478 - val_output_1_acc: 0.9960 - val_output_2_acc: 0.9988 - val_loss: 0.0578 - 192s/epoch - 4ms/step\n",
            "Epoch 49/218\n",
            "46673/46673 - 193s - loss: 0.4468 - val_output_1_acc: 0.9949 - val_output_2_acc: 0.9977 - val_loss: 0.0631 - 193s/epoch - 4ms/step\n",
            "Epoch 50/218\n",
            "46673/46673 - 195s - loss: 0.4456 - val_output_1_acc: 0.9953 - val_output_2_acc: 0.9985 - val_loss: 0.0644 - 195s/epoch - 4ms/step\n",
            "Epoch 51/218\n",
            "46673/46673 - 193s - loss: 0.4443 - val_output_1_acc: 0.9954 - val_output_2_acc: 0.9978 - val_loss: 0.0600 - 193s/epoch - 4ms/step\n",
            "Epoch 52/218\n",
            "46673/46673 - 196s - loss: 0.4438 - val_output_1_acc: 0.9961 - val_output_2_acc: 0.9979 - val_loss: 0.0571 - 196s/epoch - 4ms/step\n",
            "Epoch 53/218\n",
            "46673/46673 - 194s - loss: 0.4426 - val_output_1_acc: 0.9951 - val_output_2_acc: 0.9982 - val_loss: 0.0643 - 194s/epoch - 4ms/step\n",
            "Epoch 54/218\n",
            "46673/46673 - 194s - loss: 0.4417 - val_output_1_acc: 0.9962 - val_output_2_acc: 0.9978 - val_loss: 0.0591 - 194s/epoch - 4ms/step\n",
            "Epoch 55/218\n",
            "46673/46673 - 195s - loss: 0.4412 - val_output_1_acc: 0.9960 - val_output_2_acc: 0.9983 - val_loss: 0.0614 - 195s/epoch - 4ms/step\n",
            "Epoch 56/218\n",
            "46673/46673 - 193s - loss: 0.4400 - val_output_1_acc: 0.9946 - val_output_2_acc: 0.9979 - val_loss: 0.0637 - 193s/epoch - 4ms/step\n",
            "Epoch 57/218\n",
            "46673/46673 - 195s - loss: 0.4391 - val_output_1_acc: 0.9962 - val_output_2_acc: 0.9984 - val_loss: 0.0576 - 195s/epoch - 4ms/step\n",
            "Epoch 58/218\n",
            "46673/46673 - 193s - loss: 0.4383 - val_output_1_acc: 0.9950 - val_output_2_acc: 0.9981 - val_loss: 0.0549 - 193s/epoch - 4ms/step\n",
            "Epoch 59/218\n",
            "46673/46673 - 195s - loss: 0.4376 - val_output_1_acc: 0.9948 - val_output_2_acc: 0.9983 - val_loss: 0.0594 - 195s/epoch - 4ms/step\n",
            "Epoch 60/218\n",
            "46673/46673 - 193s - loss: 0.4366 - val_output_1_acc: 0.9952 - val_output_2_acc: 0.9980 - val_loss: 0.0607 - 193s/epoch - 4ms/step\n",
            "Epoch 61/218\n",
            "46673/46673 - 193s - loss: 0.4368 - val_output_1_acc: 0.9961 - val_output_2_acc: 0.9981 - val_loss: 0.0575 - 193s/epoch - 4ms/step\n",
            "Epoch 62/218\n",
            "46673/46673 - 195s - loss: 0.4359 - val_output_1_acc: 0.9955 - val_output_2_acc: 0.9981 - val_loss: 0.0585 - 195s/epoch - 4ms/step\n",
            "Epoch 63/218\n",
            "46673/46673 - 193s - loss: 0.4351 - val_output_1_acc: 0.9957 - val_output_2_acc: 0.9981 - val_loss: 0.0604 - 193s/epoch - 4ms/step\n",
            "Epoch 64/218\n",
            "46673/46673 - 194s - loss: 0.4348 - val_output_1_acc: 0.9962 - val_output_2_acc: 0.9980 - val_loss: 0.0581 - 194s/epoch - 4ms/step\n",
            "Epoch 65/218\n",
            "46673/46673 - 193s - loss: 0.4337 - val_output_1_acc: 0.9970 - val_output_2_acc: 0.9981 - val_loss: 0.0572 - 193s/epoch - 4ms/step\n",
            "Epoch 66/218\n",
            "46673/46673 - 193s - loss: 0.4334 - val_output_1_acc: 0.9965 - val_output_2_acc: 0.9980 - val_loss: 0.0586 - 193s/epoch - 4ms/step\n",
            "Epoch 67/218\n",
            "46673/46673 - 193s - loss: 0.4321 - val_output_1_acc: 0.9962 - val_output_2_acc: 0.9981 - val_loss: 0.0593 - 193s/epoch - 4ms/step\n",
            "Epoch 68/218\n",
            "46673/46673 - 193s - loss: 0.4324 - val_output_1_acc: 0.9965 - val_output_2_acc: 0.9979 - val_loss: 0.0598 - 193s/epoch - 4ms/step\n",
            "Epoch 69/218\n",
            "46673/46673 - 195s - loss: 0.4320 - val_output_1_acc: 0.9955 - val_output_2_acc: 0.9983 - val_loss: 0.0621 - 195s/epoch - 4ms/step\n",
            "Epoch 70/218\n",
            "46673/46673 - 195s - loss: 0.4311 - val_output_1_acc: 0.9960 - val_output_2_acc: 0.9979 - val_loss: 0.0576 - 195s/epoch - 4ms/step\n",
            "Epoch 71/218\n",
            "46673/46673 - 195s - loss: 0.4307 - val_output_1_acc: 0.9956 - val_output_2_acc: 0.9989 - val_loss: 0.0579 - 195s/epoch - 4ms/step\n",
            "Epoch 72/218\n",
            "46673/46673 - 195s - loss: 0.4301 - val_output_1_acc: 0.9962 - val_output_2_acc: 0.9983 - val_loss: 0.0539 - 195s/epoch - 4ms/step\n",
            "Epoch 73/218\n",
            "46673/46673 - 193s - loss: 0.4298 - val_output_1_acc: 0.9960 - val_output_2_acc: 0.9984 - val_loss: 0.0557 - 193s/epoch - 4ms/step\n",
            "Epoch 74/218\n",
            "46673/46673 - 195s - loss: 0.4293 - val_output_1_acc: 0.9955 - val_output_2_acc: 0.9986 - val_loss: 0.0627 - 195s/epoch - 4ms/step\n",
            "Epoch 75/218\n",
            "46673/46673 - 195s - loss: 0.4289 - val_output_1_acc: 0.9958 - val_output_2_acc: 0.9982 - val_loss: 0.0564 - 195s/epoch - 4ms/step\n",
            "Epoch 76/218\n",
            "46673/46673 - 193s - loss: 0.4282 - val_output_1_acc: 0.9962 - val_output_2_acc: 0.9982 - val_loss: 0.0567 - 193s/epoch - 4ms/step\n",
            "Epoch 77/218\n",
            "46673/46673 - 193s - loss: 0.4277 - val_output_1_acc: 0.9958 - val_output_2_acc: 0.9986 - val_loss: 0.0589 - 193s/epoch - 4ms/step\n",
            "Epoch 78/218\n",
            "46673/46673 - 195s - loss: 0.4277 - val_output_1_acc: 0.9953 - val_output_2_acc: 0.9977 - val_loss: 0.0570 - 195s/epoch - 4ms/step\n",
            "Epoch 79/218\n",
            "46673/46673 - 195s - loss: 0.4270 - val_output_1_acc: 0.9956 - val_output_2_acc: 0.9978 - val_loss: 0.0616 - 195s/epoch - 4ms/step\n",
            "Epoch 80/218\n",
            "46673/46673 - 195s - loss: 0.4270 - val_output_1_acc: 0.9964 - val_output_2_acc: 0.9981 - val_loss: 0.0532 - 195s/epoch - 4ms/step\n",
            "Epoch 81/218\n",
            "46673/46673 - 195s - loss: 0.4265 - val_output_1_acc: 0.9960 - val_output_2_acc: 0.9977 - val_loss: 0.0551 - 195s/epoch - 4ms/step\n",
            "Epoch 82/218\n",
            "46673/46673 - 193s - loss: 0.4258 - val_output_1_acc: 0.9961 - val_output_2_acc: 0.9985 - val_loss: 0.0534 - 193s/epoch - 4ms/step\n",
            "Epoch 83/218\n",
            "46673/46673 - 195s - loss: 0.4256 - val_output_1_acc: 0.9963 - val_output_2_acc: 0.9978 - val_loss: 0.0558 - 195s/epoch - 4ms/step\n",
            "Epoch 84/218\n",
            "46673/46673 - 193s - loss: 0.4251 - val_output_1_acc: 0.9964 - val_output_2_acc: 0.9983 - val_loss: 0.0577 - 193s/epoch - 4ms/step\n",
            "Epoch 85/218\n",
            "46673/46673 - 195s - loss: 0.4249 - val_output_1_acc: 0.9960 - val_output_2_acc: 0.9979 - val_loss: 0.0580 - 195s/epoch - 4ms/step\n",
            "Epoch 86/218\n",
            "46673/46673 - 195s - loss: 0.4242 - val_output_1_acc: 0.9960 - val_output_2_acc: 0.9981 - val_loss: 0.0572 - 195s/epoch - 4ms/step\n",
            "Epoch 87/218\n",
            "46673/46673 - 193s - loss: 0.4239 - val_output_1_acc: 0.9957 - val_output_2_acc: 0.9977 - val_loss: 0.0612 - 193s/epoch - 4ms/step\n",
            "Epoch 88/218\n",
            "46673/46673 - 193s - loss: 0.4238 - val_output_1_acc: 0.9958 - val_output_2_acc: 0.9989 - val_loss: 0.0527 - 193s/epoch - 4ms/step\n",
            "Epoch 89/218\n",
            "46673/46673 - 195s - loss: 0.4230 - val_output_1_acc: 0.9960 - val_output_2_acc: 0.9980 - val_loss: 0.0530 - 195s/epoch - 4ms/step\n",
            "Epoch 90/218\n",
            "46673/46673 - 193s - loss: 0.4227 - val_output_1_acc: 0.9959 - val_output_2_acc: 0.9983 - val_loss: 0.0564 - 193s/epoch - 4ms/step\n",
            "Epoch 91/218\n",
            "46673/46673 - 195s - loss: 0.4223 - val_output_1_acc: 0.9962 - val_output_2_acc: 0.9987 - val_loss: 0.0560 - 195s/epoch - 4ms/step\n",
            "Epoch 92/218\n",
            "46673/46673 - 195s - loss: 0.4218 - val_output_1_acc: 0.9952 - val_output_2_acc: 0.9987 - val_loss: 0.0545 - 195s/epoch - 4ms/step\n",
            "Epoch 93/218\n",
            "46673/46673 - 194s - loss: 0.4219 - val_output_1_acc: 0.9959 - val_output_2_acc: 0.9985 - val_loss: 0.0564 - 194s/epoch - 4ms/step\n",
            "Epoch 94/218\n",
            "46673/46673 - 193s - loss: 0.4214 - val_output_1_acc: 0.9964 - val_output_2_acc: 0.9982 - val_loss: 0.0554 - 193s/epoch - 4ms/step\n",
            "Epoch 95/218\n",
            "46673/46673 - 195s - loss: 0.4208 - val_output_1_acc: 0.9960 - val_output_2_acc: 0.9988 - val_loss: 0.0531 - 195s/epoch - 4ms/step\n",
            "Epoch 96/218\n",
            "46673/46673 - 193s - loss: 0.4206 - val_output_1_acc: 0.9962 - val_output_2_acc: 0.9983 - val_loss: 0.0517 - 193s/epoch - 4ms/step\n",
            "Epoch 97/218\n",
            "46673/46673 - 193s - loss: 0.4200 - val_output_1_acc: 0.9960 - val_output_2_acc: 0.9982 - val_loss: 0.0561 - 193s/epoch - 4ms/step\n",
            "Epoch 98/218\n",
            "46673/46673 - 196s - loss: 0.4198 - val_output_1_acc: 0.9960 - val_output_2_acc: 0.9977 - val_loss: 0.0578 - 196s/epoch - 4ms/step\n",
            "Epoch 99/218\n",
            "46673/46673 - 193s - loss: 0.4196 - val_output_1_acc: 0.9962 - val_output_2_acc: 0.9985 - val_loss: 0.0555 - 193s/epoch - 4ms/step\n",
            "Epoch 100/218\n",
            "46673/46673 - 193s - loss: 0.4193 - val_output_1_acc: 0.9966 - val_output_2_acc: 0.9980 - val_loss: 0.0561 - 193s/epoch - 4ms/step\n",
            "Epoch 101/218\n",
            "46673/46673 - 193s - loss: 0.4191 - val_output_1_acc: 0.9963 - val_output_2_acc: 0.9977 - val_loss: 0.0527 - 193s/epoch - 4ms/step\n",
            "Epoch 102/218\n",
            "46673/46673 - 193s - loss: 0.4187 - val_output_1_acc: 0.9957 - val_output_2_acc: 0.9983 - val_loss: 0.0582 - 193s/epoch - 4ms/step\n",
            "Epoch 103/218\n",
            "46673/46673 - 195s - loss: 0.4184 - val_output_1_acc: 0.9960 - val_output_2_acc: 0.9984 - val_loss: 0.0537 - 195s/epoch - 4ms/step\n",
            "Epoch 104/218\n",
            "46673/46673 - 195s - loss: 0.4178 - val_output_1_acc: 0.9963 - val_output_2_acc: 0.9980 - val_loss: 0.0555 - 195s/epoch - 4ms/step\n",
            "Epoch 105/218\n",
            "46673/46673 - 195s - loss: 0.4177 - val_output_1_acc: 0.9960 - val_output_2_acc: 0.9987 - val_loss: 0.0531 - 195s/epoch - 4ms/step\n",
            "Epoch 106/218\n",
            "46673/46673 - 195s - loss: 0.4174 - val_output_1_acc: 0.9957 - val_output_2_acc: 0.9985 - val_loss: 0.0553 - 195s/epoch - 4ms/step\n",
            "Epoch 107/218\n",
            "46673/46673 - 195s - loss: 0.4169 - val_output_1_acc: 0.9958 - val_output_2_acc: 0.9983 - val_loss: 0.0563 - 195s/epoch - 4ms/step\n",
            "Epoch 108/218\n",
            "46673/46673 - 194s - loss: 0.4168 - val_output_1_acc: 0.9964 - val_output_2_acc: 0.9983 - val_loss: 0.0547 - 194s/epoch - 4ms/step\n",
            "Epoch 109/218\n",
            "46673/46673 - 193s - loss: 0.4166 - val_output_1_acc: 0.9962 - val_output_2_acc: 0.9988 - val_loss: 0.0531 - 193s/epoch - 4ms/step\n",
            "Epoch 110/218\n",
            "46673/46673 - 195s - loss: 0.4160 - val_output_1_acc: 0.9962 - val_output_2_acc: 0.9980 - val_loss: 0.0523 - 195s/epoch - 4ms/step\n",
            "Epoch 111/218\n",
            "46673/46673 - 195s - loss: 0.4157 - val_output_1_acc: 0.9957 - val_output_2_acc: 0.9989 - val_loss: 0.0552 - 195s/epoch - 4ms/step\n",
            "Epoch 112/218\n",
            "46673/46673 - 193s - loss: 0.4152 - val_output_1_acc: 0.9958 - val_output_2_acc: 0.9984 - val_loss: 0.0525 - 193s/epoch - 4ms/step\n",
            "Epoch 113/218\n",
            "46673/46673 - 195s - loss: 0.4153 - val_output_1_acc: 0.9959 - val_output_2_acc: 0.9983 - val_loss: 0.0521 - 195s/epoch - 4ms/step\n",
            "Epoch 114/218\n",
            "46673/46673 - 193s - loss: 0.4154 - val_output_1_acc: 0.9962 - val_output_2_acc: 0.9979 - val_loss: 0.0552 - 193s/epoch - 4ms/step\n",
            "Epoch 115/218\n",
            "46673/46673 - 195s - loss: 0.4151 - val_output_1_acc: 0.9955 - val_output_2_acc: 0.9981 - val_loss: 0.0533 - 195s/epoch - 4ms/step\n",
            "Epoch 116/218\n",
            "46673/46673 - 194s - loss: 0.4140 - val_output_1_acc: 0.9961 - val_output_2_acc: 0.9981 - val_loss: 0.0526 - 194s/epoch - 4ms/step\n",
            "Epoch 117/218\n",
            "46673/46673 - 193s - loss: 0.4139 - val_output_1_acc: 0.9964 - val_output_2_acc: 0.9980 - val_loss: 0.0520 - 193s/epoch - 4ms/step\n",
            "Epoch 118/218\n",
            "46673/46673 - 194s - loss: 0.4135 - val_output_1_acc: 0.9966 - val_output_2_acc: 0.9978 - val_loss: 0.0542 - 194s/epoch - 4ms/step\n",
            "Epoch 119/218\n",
            "46673/46673 - 194s - loss: 0.4131 - val_output_1_acc: 0.9963 - val_output_2_acc: 0.9981 - val_loss: 0.0511 - 194s/epoch - 4ms/step\n",
            "Epoch 120/218\n",
            "46673/46673 - 194s - loss: 0.4132 - val_output_1_acc: 0.9958 - val_output_2_acc: 0.9982 - val_loss: 0.0518 - 194s/epoch - 4ms/step\n",
            "Epoch 121/218\n",
            "46673/46673 - 193s - loss: 0.4127 - val_output_1_acc: 0.9960 - val_output_2_acc: 0.9981 - val_loss: 0.0505 - 193s/epoch - 4ms/step\n",
            "Epoch 122/218\n",
            "46673/46673 - 193s - loss: 0.4124 - val_output_1_acc: 0.9962 - val_output_2_acc: 0.9985 - val_loss: 0.0508 - 193s/epoch - 4ms/step\n",
            "Epoch 123/218\n",
            "46673/46673 - 195s - loss: 0.4122 - val_output_1_acc: 0.9965 - val_output_2_acc: 0.9977 - val_loss: 0.0501 - 195s/epoch - 4ms/step\n",
            "Epoch 124/218\n",
            "46673/46673 - 196s - loss: 0.4121 - val_output_1_acc: 0.9962 - val_output_2_acc: 0.9979 - val_loss: 0.0521 - 196s/epoch - 4ms/step\n",
            "Epoch 125/218\n",
            "46673/46673 - 193s - loss: 0.4119 - val_output_1_acc: 0.9956 - val_output_2_acc: 0.9980 - val_loss: 0.0534 - 193s/epoch - 4ms/step\n",
            "Epoch 126/218\n",
            "46673/46673 - 195s - loss: 0.4116 - val_output_1_acc: 0.9961 - val_output_2_acc: 0.9983 - val_loss: 0.0514 - 195s/epoch - 4ms/step\n",
            "Epoch 127/218\n",
            "46673/46673 - 193s - loss: 0.4111 - val_output_1_acc: 0.9962 - val_output_2_acc: 0.9975 - val_loss: 0.0536 - 193s/epoch - 4ms/step\n",
            "Epoch 128/218\n",
            "46673/46673 - 195s - loss: 0.4110 - val_output_1_acc: 0.9959 - val_output_2_acc: 0.9974 - val_loss: 0.0511 - 195s/epoch - 4ms/step\n",
            "Epoch 129/218\n",
            "46673/46673 - 193s - loss: 0.4108 - val_output_1_acc: 0.9960 - val_output_2_acc: 0.9977 - val_loss: 0.0528 - 193s/epoch - 4ms/step\n",
            "Epoch 130/218\n",
            "46673/46673 - 195s - loss: 0.4104 - val_output_1_acc: 0.9962 - val_output_2_acc: 0.9981 - val_loss: 0.0493 - 195s/epoch - 4ms/step\n",
            "Epoch 131/218\n",
            "46673/46673 - 195s - loss: 0.4102 - val_output_1_acc: 0.9958 - val_output_2_acc: 0.9984 - val_loss: 0.0502 - 195s/epoch - 4ms/step\n",
            "Epoch 132/218\n",
            "46673/46673 - 193s - loss: 0.4095 - val_output_1_acc: 0.9956 - val_output_2_acc: 0.9983 - val_loss: 0.0498 - 193s/epoch - 4ms/step\n",
            "Epoch 133/218\n",
            "46673/46673 - 193s - loss: 0.4092 - val_output_1_acc: 0.9966 - val_output_2_acc: 0.9981 - val_loss: 0.0514 - 193s/epoch - 4ms/step\n",
            "Epoch 134/218\n",
            "46673/46673 - 193s - loss: 0.4089 - val_output_1_acc: 0.9957 - val_output_2_acc: 0.9980 - val_loss: 0.0514 - 193s/epoch - 4ms/step\n",
            "Epoch 135/218\n",
            "46673/46673 - 193s - loss: 0.4088 - val_output_1_acc: 0.9958 - val_output_2_acc: 0.9977 - val_loss: 0.0515 - 193s/epoch - 4ms/step\n",
            "Epoch 136/218\n",
            "46673/46673 - 193s - loss: 0.4086 - val_output_1_acc: 0.9960 - val_output_2_acc: 0.9982 - val_loss: 0.0481 - 193s/epoch - 4ms/step\n",
            "Epoch 137/218\n",
            "46673/46673 - 194s - loss: 0.4086 - val_output_1_acc: 0.9960 - val_output_2_acc: 0.9981 - val_loss: 0.0491 - 194s/epoch - 4ms/step\n",
            "Epoch 138/218\n",
            "46673/46673 - 195s - loss: 0.4078 - val_output_1_acc: 0.9958 - val_output_2_acc: 0.9979 - val_loss: 0.0519 - 195s/epoch - 4ms/step\n",
            "Epoch 139/218\n",
            "46673/46673 - 195s - loss: 0.4082 - val_output_1_acc: 0.9961 - val_output_2_acc: 0.9980 - val_loss: 0.0532 - 195s/epoch - 4ms/step\n",
            "Epoch 140/218\n",
            "46673/46673 - 195s - loss: 0.4079 - val_output_1_acc: 0.9956 - val_output_2_acc: 0.9979 - val_loss: 0.0511 - 195s/epoch - 4ms/step\n",
            "Epoch 141/218\n",
            "46673/46673 - 195s - loss: 0.4075 - val_output_1_acc: 0.9960 - val_output_2_acc: 0.9984 - val_loss: 0.0492 - 195s/epoch - 4ms/step\n",
            "Epoch 142/218\n",
            "46673/46673 - 195s - loss: 0.4069 - val_output_1_acc: 0.9959 - val_output_2_acc: 0.9984 - val_loss: 0.0514 - 195s/epoch - 4ms/step\n",
            "Epoch 143/218\n",
            "46673/46673 - 193s - loss: 0.4066 - val_output_1_acc: 0.9958 - val_output_2_acc: 0.9981 - val_loss: 0.0479 - 193s/epoch - 4ms/step\n",
            "Epoch 144/218\n",
            "46673/46673 - 195s - loss: 0.4063 - val_output_1_acc: 0.9958 - val_output_2_acc: 0.9979 - val_loss: 0.0491 - 195s/epoch - 4ms/step\n",
            "Epoch 145/218\n",
            "46673/46673 - 195s - loss: 0.4065 - val_output_1_acc: 0.9956 - val_output_2_acc: 0.9980 - val_loss: 0.0497 - 195s/epoch - 4ms/step\n",
            "Epoch 146/218\n",
            "46673/46673 - 193s - loss: 0.4066 - val_output_1_acc: 0.9955 - val_output_2_acc: 0.9980 - val_loss: 0.0489 - 193s/epoch - 4ms/step\n",
            "Epoch 147/218\n",
            "46673/46673 - 197s - loss: 0.4057 - val_output_1_acc: 0.9957 - val_output_2_acc: 0.9982 - val_loss: 0.0494 - 197s/epoch - 4ms/step\n",
            "Epoch 148/218\n",
            "46673/46673 - 194s - loss: 0.4055 - val_output_1_acc: 0.9958 - val_output_2_acc: 0.9980 - val_loss: 0.0499 - 194s/epoch - 4ms/step\n",
            "Epoch 149/218\n",
            "46673/46673 - 195s - loss: 0.4053 - val_output_1_acc: 0.9958 - val_output_2_acc: 0.9980 - val_loss: 0.0510 - 195s/epoch - 4ms/step\n",
            "Epoch 150/218\n",
            "46673/46673 - 195s - loss: 0.4050 - val_output_1_acc: 0.9962 - val_output_2_acc: 0.9982 - val_loss: 0.0479 - 195s/epoch - 4ms/step\n",
            "Epoch 151/218\n",
            "46673/46673 - 196s - loss: 0.4046 - val_output_1_acc: 0.9958 - val_output_2_acc: 0.9980 - val_loss: 0.0493 - 196s/epoch - 4ms/step\n",
            "Epoch 152/218\n",
            "46673/46673 - 195s - loss: 0.4049 - val_output_1_acc: 0.9960 - val_output_2_acc: 0.9981 - val_loss: 0.0518 - 195s/epoch - 4ms/step\n",
            "Epoch 153/218\n",
            "46673/46673 - 195s - loss: 0.4044 - val_output_1_acc: 0.9958 - val_output_2_acc: 0.9979 - val_loss: 0.0490 - 195s/epoch - 4ms/step\n",
            "Epoch 154/218\n",
            "46673/46673 - 193s - loss: 0.4042 - val_output_1_acc: 0.9955 - val_output_2_acc: 0.9985 - val_loss: 0.0490 - 193s/epoch - 4ms/step\n",
            "Epoch 155/218\n",
            "46673/46673 - 195s - loss: 0.4039 - val_output_1_acc: 0.9959 - val_output_2_acc: 0.9983 - val_loss: 0.0485 - 195s/epoch - 4ms/step\n",
            "Epoch 156/218\n",
            "46673/46673 - 194s - loss: 0.4039 - val_output_1_acc: 0.9962 - val_output_2_acc: 0.9981 - val_loss: 0.0493 - 194s/epoch - 4ms/step\n",
            "Epoch 157/218\n",
            "46673/46673 - 195s - loss: 0.4034 - val_output_1_acc: 0.9962 - val_output_2_acc: 0.9983 - val_loss: 0.0489 - 195s/epoch - 4ms/step\n",
            "Epoch 158/218\n",
            "46673/46673 - 194s - loss: 0.4031 - val_output_1_acc: 0.9960 - val_output_2_acc: 0.9981 - val_loss: 0.0497 - 194s/epoch - 4ms/step\n",
            "Epoch 159/218\n",
            "46673/46673 - 194s - loss: 0.4030 - val_output_1_acc: 0.9960 - val_output_2_acc: 0.9980 - val_loss: 0.0484 - 194s/epoch - 4ms/step\n",
            "Epoch 160/218\n",
            "46673/46673 - 194s - loss: 0.4029 - val_output_1_acc: 0.9961 - val_output_2_acc: 0.9981 - val_loss: 0.0467 - 194s/epoch - 4ms/step\n",
            "Epoch 161/218\n",
            "46673/46673 - 195s - loss: 0.4027 - val_output_1_acc: 0.9961 - val_output_2_acc: 0.9984 - val_loss: 0.0487 - 195s/epoch - 4ms/step\n",
            "Epoch 162/218\n",
            "46673/46673 - 195s - loss: 0.4024 - val_output_1_acc: 0.9954 - val_output_2_acc: 0.9981 - val_loss: 0.0495 - 195s/epoch - 4ms/step\n",
            "Epoch 163/218\n",
            "46673/46673 - 193s - loss: 0.4024 - val_output_1_acc: 0.9953 - val_output_2_acc: 0.9981 - val_loss: 0.0487 - 193s/epoch - 4ms/step\n",
            "Epoch 164/218\n",
            "46673/46673 - 195s - loss: 0.4019 - val_output_1_acc: 0.9954 - val_output_2_acc: 0.9981 - val_loss: 0.0491 - 195s/epoch - 4ms/step\n",
            "Epoch 165/218\n",
            "46673/46673 - 193s - loss: 0.4020 - val_output_1_acc: 0.9959 - val_output_2_acc: 0.9981 - val_loss: 0.0487 - 193s/epoch - 4ms/step\n",
            "Epoch 166/218\n",
            "46673/46673 - 193s - loss: 0.4015 - val_output_1_acc: 0.9958 - val_output_2_acc: 0.9981 - val_loss: 0.0481 - 193s/epoch - 4ms/step\n",
            "Epoch 167/218\n",
            "46673/46673 - 195s - loss: 0.4013 - val_output_1_acc: 0.9961 - val_output_2_acc: 0.9984 - val_loss: 0.0483 - 195s/epoch - 4ms/step\n",
            "Epoch 168/218\n",
            "46673/46673 - 193s - loss: 0.4008 - val_output_1_acc: 0.9960 - val_output_2_acc: 0.9983 - val_loss: 0.0473 - 193s/epoch - 4ms/step\n",
            "Epoch 169/218\n",
            "46673/46673 - 193s - loss: 0.4009 - val_output_1_acc: 0.9961 - val_output_2_acc: 0.9982 - val_loss: 0.0465 - 193s/epoch - 4ms/step\n",
            "Epoch 170/218\n",
            "46673/46673 - 193s - loss: 0.4006 - val_output_1_acc: 0.9960 - val_output_2_acc: 0.9981 - val_loss: 0.0476 - 193s/epoch - 4ms/step\n",
            "Epoch 171/218\n",
            "46673/46673 - 194s - loss: 0.4012 - val_output_1_acc: 0.9960 - val_output_2_acc: 0.9981 - val_loss: 0.0467 - 194s/epoch - 4ms/step\n",
            "Epoch 172/218\n",
            "46673/46673 - 195s - loss: 0.4002 - val_output_1_acc: 0.9960 - val_output_2_acc: 0.9981 - val_loss: 0.0463 - 195s/epoch - 4ms/step\n",
            "Epoch 173/218\n",
            "46673/46673 - 193s - loss: 0.4004 - val_output_1_acc: 0.9958 - val_output_2_acc: 0.9982 - val_loss: 0.0490 - 193s/epoch - 4ms/step\n",
            "Epoch 174/218\n",
            "46673/46673 - 194s - loss: 0.4002 - val_output_1_acc: 0.9960 - val_output_2_acc: 0.9982 - val_loss: 0.0469 - 194s/epoch - 4ms/step\n",
            "Epoch 175/218\n",
            "46673/46673 - 193s - loss: 0.4000 - val_output_1_acc: 0.9962 - val_output_2_acc: 0.9982 - val_loss: 0.0465 - 193s/epoch - 4ms/step\n",
            "Epoch 176/218\n",
            "46673/46673 - 193s - loss: 0.4000 - val_output_1_acc: 0.9960 - val_output_2_acc: 0.9979 - val_loss: 0.0470 - 193s/epoch - 4ms/step\n",
            "Epoch 177/218\n",
            "46673/46673 - 193s - loss: 0.3999 - val_output_1_acc: 0.9958 - val_output_2_acc: 0.9983 - val_loss: 0.0472 - 193s/epoch - 4ms/step\n",
            "Epoch 178/218\n",
            "46673/46673 - 193s - loss: 0.3996 - val_output_1_acc: 0.9958 - val_output_2_acc: 0.9982 - val_loss: 0.0462 - 193s/epoch - 4ms/step\n",
            "Epoch 179/218\n",
            "46673/46673 - 195s - loss: 0.3993 - val_output_1_acc: 0.9960 - val_output_2_acc: 0.9980 - val_loss: 0.0471 - 195s/epoch - 4ms/step\n",
            "Epoch 180/218\n",
            "46673/46673 - 194s - loss: 0.3993 - val_output_1_acc: 0.9962 - val_output_2_acc: 0.9981 - val_loss: 0.0475 - 194s/epoch - 4ms/step\n",
            "Epoch 181/218\n",
            "46673/46673 - 193s - loss: 0.3995 - val_output_1_acc: 0.9956 - val_output_2_acc: 0.9982 - val_loss: 0.0477 - 193s/epoch - 4ms/step\n",
            "Epoch 182/218\n",
            "46673/46673 - 193s - loss: 0.3991 - val_output_1_acc: 0.9959 - val_output_2_acc: 0.9981 - val_loss: 0.0460 - 193s/epoch - 4ms/step\n",
            "Epoch 183/218\n",
            "46673/46673 - 195s - loss: 0.3988 - val_output_1_acc: 0.9962 - val_output_2_acc: 0.9983 - val_loss: 0.0457 - 195s/epoch - 4ms/step\n",
            "Epoch 184/218\n",
            "46673/46673 - 195s - loss: 0.3985 - val_output_1_acc: 0.9959 - val_output_2_acc: 0.9982 - val_loss: 0.0459 - 195s/epoch - 4ms/step\n",
            "Epoch 185/218\n",
            "46673/46673 - 193s - loss: 0.3984 - val_output_1_acc: 0.9961 - val_output_2_acc: 0.9982 - val_loss: 0.0466 - 193s/epoch - 4ms/step\n",
            "Epoch 186/218\n",
            "46673/46673 - 193s - loss: 0.3988 - val_output_1_acc: 0.9961 - val_output_2_acc: 0.9979 - val_loss: 0.0460 - 193s/epoch - 4ms/step\n",
            "Epoch 187/218\n",
            "46673/46673 - 193s - loss: 0.3979 - val_output_1_acc: 0.9961 - val_output_2_acc: 0.9980 - val_loss: 0.0465 - 193s/epoch - 4ms/step\n",
            "Epoch 188/218\n",
            "46673/46673 - 193s - loss: 0.3975 - val_output_1_acc: 0.9961 - val_output_2_acc: 0.9982 - val_loss: 0.0464 - 193s/epoch - 4ms/step\n",
            "Epoch 189/218\n",
            "46673/46673 - 195s - loss: 0.3982 - val_output_1_acc: 0.9961 - val_output_2_acc: 0.9980 - val_loss: 0.0461 - 195s/epoch - 4ms/step\n",
            "Epoch 190/218\n",
            "46673/46673 - 193s - loss: 0.3975 - val_output_1_acc: 0.9960 - val_output_2_acc: 0.9982 - val_loss: 0.0464 - 193s/epoch - 4ms/step\n",
            "Epoch 191/218\n",
            "46673/46673 - 194s - loss: 0.3980 - val_output_1_acc: 0.9962 - val_output_2_acc: 0.9983 - val_loss: 0.0460 - 194s/epoch - 4ms/step\n",
            "Epoch 192/218\n",
            "46673/46673 - 193s - loss: 0.3971 - val_output_1_acc: 0.9960 - val_output_2_acc: 0.9981 - val_loss: 0.0463 - 193s/epoch - 4ms/step\n",
            "Epoch 193/218\n",
            "46673/46673 - 193s - loss: 0.3975 - val_output_1_acc: 0.9962 - val_output_2_acc: 0.9981 - val_loss: 0.0461 - 193s/epoch - 4ms/step\n",
            "Epoch 194/218\n",
            "46673/46673 - 195s - loss: 0.3975 - val_output_1_acc: 0.9961 - val_output_2_acc: 0.9980 - val_loss: 0.0460 - 195s/epoch - 4ms/step\n",
            "Epoch 195/218\n",
            "46673/46673 - 193s - loss: 0.3972 - val_output_1_acc: 0.9961 - val_output_2_acc: 0.9981 - val_loss: 0.0455 - 193s/epoch - 4ms/step\n",
            "Epoch 196/218\n",
            "46673/46673 - 193s - loss: 0.3975 - val_output_1_acc: 0.9961 - val_output_2_acc: 0.9981 - val_loss: 0.0451 - 193s/epoch - 4ms/step\n",
            "Epoch 197/218\n",
            "46673/46673 - 193s - loss: 0.3975 - val_output_1_acc: 0.9959 - val_output_2_acc: 0.9982 - val_loss: 0.0462 - 193s/epoch - 4ms/step\n",
            "Epoch 198/218\n",
            "46673/46673 - 196s - loss: 0.3974 - val_output_1_acc: 0.9961 - val_output_2_acc: 0.9983 - val_loss: 0.0462 - 196s/epoch - 4ms/step\n",
            "Epoch 199/218\n",
            "46673/46673 - 193s - loss: 0.3972 - val_output_1_acc: 0.9960 - val_output_2_acc: 0.9981 - val_loss: 0.0459 - 193s/epoch - 4ms/step\n",
            "Epoch 200/218\n",
            "46673/46673 - 196s - loss: 0.3970 - val_output_1_acc: 0.9960 - val_output_2_acc: 0.9981 - val_loss: 0.0454 - 196s/epoch - 4ms/step\n",
            "Epoch 201/218\n",
            "46673/46673 - 194s - loss: 0.3966 - val_output_1_acc: 0.9961 - val_output_2_acc: 0.9980 - val_loss: 0.0460 - 194s/epoch - 4ms/step\n",
            "Epoch 202/218\n",
            "46673/46673 - 193s - loss: 0.3964 - val_output_1_acc: 0.9961 - val_output_2_acc: 0.9980 - val_loss: 0.0457 - 193s/epoch - 4ms/step\n",
            "Epoch 203/218\n",
            "46673/46673 - 195s - loss: 0.3972 - val_output_1_acc: 0.9960 - val_output_2_acc: 0.9981 - val_loss: 0.0461 - 195s/epoch - 4ms/step\n",
            "Epoch 204/218\n",
            "46673/46673 - 194s - loss: 0.3962 - val_output_1_acc: 0.9960 - val_output_2_acc: 0.9980 - val_loss: 0.0457 - 194s/epoch - 4ms/step\n",
            "Epoch 205/218\n",
            "46673/46673 - 194s - loss: 0.3967 - val_output_1_acc: 0.9961 - val_output_2_acc: 0.9980 - val_loss: 0.0462 - 194s/epoch - 4ms/step\n",
            "Epoch 206/218\n",
            "46673/46673 - 193s - loss: 0.3966 - val_output_1_acc: 0.9960 - val_output_2_acc: 0.9980 - val_loss: 0.0452 - 193s/epoch - 4ms/step\n",
            "Epoch 207/218\n",
            "46673/46673 - 195s - loss: 0.3965 - val_output_1_acc: 0.9962 - val_output_2_acc: 0.9980 - val_loss: 0.0457 - 195s/epoch - 4ms/step\n",
            "Epoch 208/218\n",
            "46673/46673 - 193s - loss: 0.3964 - val_output_1_acc: 0.9960 - val_output_2_acc: 0.9980 - val_loss: 0.0457 - 193s/epoch - 4ms/step\n",
            "Epoch 209/218\n",
            "46673/46673 - 193s - loss: 0.3961 - val_output_1_acc: 0.9960 - val_output_2_acc: 0.9980 - val_loss: 0.0459 - 193s/epoch - 4ms/step\n",
            "Epoch 210/218\n",
            "46673/46673 - 195s - loss: 0.3966 - val_output_1_acc: 0.9960 - val_output_2_acc: 0.9981 - val_loss: 0.0457 - 195s/epoch - 4ms/step\n",
            "Epoch 211/218\n",
            "46673/46673 - 195s - loss: 0.3961 - val_output_1_acc: 0.9962 - val_output_2_acc: 0.9981 - val_loss: 0.0454 - 195s/epoch - 4ms/step\n",
            "Epoch 212/218\n",
            "46673/46673 - 195s - loss: 0.3965 - val_output_1_acc: 0.9961 - val_output_2_acc: 0.9982 - val_loss: 0.0450 - 195s/epoch - 4ms/step\n",
            "Epoch 213/218\n",
            "46673/46673 - 193s - loss: 0.3962 - val_output_1_acc: 0.9961 - val_output_2_acc: 0.9982 - val_loss: 0.0456 - 193s/epoch - 4ms/step\n",
            "Epoch 214/218\n",
            "46673/46673 - 196s - loss: 0.3959 - val_output_1_acc: 0.9961 - val_output_2_acc: 0.9980 - val_loss: 0.0453 - 196s/epoch - 4ms/step\n",
            "Epoch 215/218\n",
            "46673/46673 - 195s - loss: 0.3966 - val_output_1_acc: 0.9961 - val_output_2_acc: 0.9980 - val_loss: 0.0454 - 195s/epoch - 4ms/step\n",
            "Epoch 216/218\n",
            "46673/46673 - 194s - loss: 0.3962 - val_output_1_acc: 0.9962 - val_output_2_acc: 0.9982 - val_loss: 0.0452 - 194s/epoch - 4ms/step\n",
            "Epoch 217/218\n",
            "46673/46673 - 195s - loss: 0.3964 - val_output_1_acc: 0.9961 - val_output_2_acc: 0.9980 - val_loss: 0.0455 - 195s/epoch - 4ms/step\n",
            "Epoch 218/218\n",
            "46673/46673 - 194s - loss: 0.3961 - val_output_1_acc: 0.9960 - val_output_2_acc: 0.9981 - val_loss: 0.0455 - 194s/epoch - 4ms/step\n"
          ]
        }
      ]
    },
    {
      "cell_type": "code",
      "metadata": {
        "id": "MpFpu5bZeYj4",
        "outputId": "d572252c-de54-4da2-cd43-b99503c0b2c4",
        "colab": {
          "base_uri": "https://localhost:8080/",
          "height": 415
        }
      },
      "source": [
        "plt.plot(history.history['loss'])\n",
        "plt.plot(history.history['val_loss'])\n",
        "plt.title('Model loss')\n",
        "plt.ylabel('Loss', fontsize=14)\n",
        "plt.xlabel('Epoch', fontsize=14)\n",
        "assert plt.legend(['Train', 'Valid'], loc='upper right')"
      ],
      "execution_count": 28,
      "outputs": [
        {
          "output_type": "display_data",
          "data": {
            "text/plain": [
              "<Figure size 1300x400 with 1 Axes>"
            ],
            "image/png": "[encoded data removed]"
          },
          "metadata": {}
        }
      ]
    },
    {
      "cell_type": "code",
      "source": [
        "plt.plot(history.history['val_output_1_acc'])\n",
        "plt.plot(history.history['val_output_2_acc'])\n",
        "plt.title('Model accuracy')\n",
        "plt.ylabel('Accuracy')\n",
        "plt.xlabel('Epoch')\n",
        "assert plt.legend(['Valid Classifier', 'Valid Mask'], loc='lower right')"
      ],
      "metadata": {
        "id": "WoELbpzh4BXq",
        "outputId": "d6ca259f-ef6d-420e-cbe2-6f7389276710",
        "colab": {
          "base_uri": "https://localhost:8080/",
          "height": 410
        }
      },
      "execution_count": 29,
      "outputs": [
        {
          "output_type": "display_data",
          "data": {
            "text/plain": [
              "<Figure size 1300x400 with 1 Axes>"
            ],
            "image/png": "[encoded data removed]"
          },
          "metadata": {}
        }
      ]
    },
    {
      "cell_type": "code",
      "source": [
        "pred = model.predict(DS['test'].batch(32).map(lambda d, _: d['mfcc']), verbose=0)[0].argmax(axis=-1)\n",
        "print(sum(1 for p, l in zip(pred, DS['test']) if p != l[0]['label']), len(pred))\n",
        "pred = model.predict(DS['valid'].batch(32).map(lambda d, _: d['mfcc']), verbose=0)[0].argmax(axis=-1)\n",
        "print(sum(1 for p, l in zip(pred, DS['valid']) if p != l[0]['label']), len(pred))"
      ],
      "metadata": {
        "id": "sLnEPuRAcdrU",
        "outputId": "ff17a423-bdf0-4aa7-d9d4-10af51a27a8c",
        "colab": {
          "base_uri": "https://localhost:8080/"
        }
      },
      "execution_count": 30,
      "outputs": [
        {
          "output_type": "stream",
          "name": "stdout",
          "text": [
            "42 6086\n",
            "21 5276\n"
          ]
        }
      ]
    },
    {
      "cell_type": "code",
      "source": [
        "pred = model.predict(DS['test'].batch(32).map(lambda _, d: d['mfcc']), verbose=0)[1].argmax(axis=-1)\n",
        "print(sum(1 for p, l in zip(pred, DS['test']) if l[1]['label'] and not p),\n",
        "      sum(1 for p, l in zip(pred, DS['test']) if not l[1]['label'] and p), len(pred))\n",
        "pred = model.predict(DS['valid'].batch(32).map(lambda _, d: d['mfcc']), verbose=0)[1].argmax(axis=-1)\n",
        "print(sum(1 for p, l in zip(pred, DS['valid']) if l[1]['label'] and not p),\n",
        "      sum(1 for p, l in zip(pred, DS['valid']) if not l[1]['label'] and p), len(pred))"
      ],
      "metadata": {
        "id": "HZNEUpFvewNh",
        "outputId": "414f0e39-f95e-43dc-88c9-d9c83c82e2ed",
        "colab": {
          "base_uri": "https://localhost:8080/"
        }
      },
      "execution_count": 31,
      "outputs": [
        {
          "output_type": "stream",
          "name": "stdout",
          "text": [
            "7 9 6086\n",
            "2 9 5276\n"
          ]
        }
      ]
    },
    {
      "cell_type": "markdown",
      "source": [
        "# Target NN"
      ],
      "metadata": {
        "id": "u1kn_SWTCEe-"
      }
    },
    {
      "cell_type": "code",
      "source": [
        "def build_target_model():\n",
        "  dest = build_model(streaming=True)\n",
        "  for layer in dest.layers:\n",
        "    if layer.get_weights():\n",
        "      layer.set_weights(model.get_layer(name=layer.name).get_weights())\n",
        "  i = [keras.Input(shape=i.shape[1:]) for i in dest.inputs]\n",
        "  c, m, *x = dest(i)\n",
        "  c, m = map(tf.math.softmax, [c, m])\n",
        "  o = tf.concat([c[:,:10] * m[:,1:], c[:,10:]], axis=-1)\n",
        "  o = tf.math.softmax(tf.math.log(o))\n",
        "  return keras.Model(inputs=i, outputs=[o] + x, name='target')"
      ],
      "metadata": {
        "id": "iWJuM3CNcHWL"
      },
      "execution_count": 32,
      "outputs": []
    },
    {
      "cell_type": "code",
      "source": [
        "streaming_model = build_target_model()\n",
        "streaming_model.summary()"
      ],
      "metadata": {
        "id": "NdFPV_IVvoF7",
        "outputId": "9528d2a2-6f13-402a-de85-c6a4514e3d01",
        "colab": {
          "base_uri": "https://localhost:8080/"
        }
      },
      "execution_count": 33,
      "outputs": [
        {
          "output_type": "stream",
          "name": "stdout",
          "text": [
            "Model: \"target\"\n",
            "__________________________________________________________________________________________________\n",
            " Layer (type)                   Output Shape         Param #     Connected to                     \n",
            "==================================================================================================\n",
            " input_7 (InputLayer)           [(None, 1, 13)]      0           []                               \n",
            "                                                                                                  \n",
            " input_8 (InputLayer)           [(None, 2, 512)]     0           []                               \n",
            "                                                                                                  \n",
            " input_9 (InputLayer)           [(None, 3, 512)]     0           []                               \n",
            "                                                                                                  \n",
            " input_10 (InputLayer)          [(None, 5, 512)]     0           []                               \n",
            "                                                                                                  \n",
            " input_11 (InputLayer)          [(None, 9, 512)]     0           []                               \n",
            "                                                                                                  \n",
            " input_12 (InputLayer)          [(None, 32, 512)]    0           []                               \n",
            "                                                                                                  \n",
            " model (Functional)             [(None, 12),         4230670     ['input_7[0][0]',                \n",
            "                                 (None, 2),                       'input_8[0][0]',                \n",
            "                                 (None, 1, 512),                  'input_9[0][0]',                \n",
            "                                 (None, 1, 512),                  'input_10[0][0]',               \n",
            "                                 (None, 1, 512),                  'input_11[0][0]',               \n",
            "                                 (None, 1, 512),                  'input_12[0][0]']               \n",
            "                                 (None, 1, 512)]                                                  \n",
            "                                                                                                  \n",
            " tf.nn.softmax (TFOpLambda)     (None, 12)           0           ['model[0][0]']                  \n",
            "                                                                                                  \n",
            " tf.nn.softmax_1 (TFOpLambda)   (None, 2)            0           ['model[0][1]']                  \n",
            "                                                                                                  \n",
            " tf.__operators__.getitem (Slic  (None, 10)          0           ['tf.nn.softmax[0][0]']          \n",
            " ingOpLambda)                                                                                     \n",
            "                                                                                                  \n",
            " tf.__operators__.getitem_1 (Sl  (None, 1)           0           ['tf.nn.softmax_1[0][0]']        \n",
            " icingOpLambda)                                                                                   \n",
            "                                                                                                  \n",
            " tf.math.multiply (TFOpLambda)  (None, 10)           0           ['tf.__operators__.getitem[0][0]'\n",
            "                                                                 , 'tf.__operators__.getitem_1[0][\n",
            "                                                                 0]']                             \n",
            "                                                                                                  \n",
            " tf.__operators__.getitem_2 (Sl  (None, 2)           0           ['tf.nn.softmax[0][0]']          \n",
            " icingOpLambda)                                                                                   \n",
            "                                                                                                  \n",
            " tf.concat (TFOpLambda)         (None, 12)           0           ['tf.math.multiply[0][0]',       \n",
            "                                                                  'tf.__operators__.getitem_2[0][0\n",
            "                                                                 ]']                              \n",
            "                                                                                                  \n",
            " tf.math.log (TFOpLambda)       (None, 12)           0           ['tf.concat[0][0]']              \n",
            "                                                                                                  \n",
            " tf.nn.softmax_2 (TFOpLambda)   (None, 12)           0           ['tf.math.log[0][0]']            \n",
            "                                                                                                  \n",
            "==================================================================================================\n",
            "Total params: 4,230,670\n",
            "Trainable params: 4,219,406\n",
            "Non-trainable params: 11,264\n",
            "__________________________________________________________________________________________________\n"
          ]
        }
      ]
    },
    {
      "cell_type": "code",
      "source": [
        "with open('model.tflite', 'wb') as f:\n",
        "  conv = tf.lite.TFLiteConverter.from_keras_model(streaming_model)\n",
        "  conv.experimental_new_converter = False\n",
        "  f.write(conv.convert())"
      ],
      "metadata": {
        "id": "CPAhiGkpYr2A",
        "outputId": "16e94b21-fe27-427c-e930-7807c6b8513f",
        "colab": {
          "base_uri": "https://localhost:8080/"
        }
      },
      "execution_count": 34,
      "outputs": [
        {
          "output_type": "stream",
          "name": "stderr",
          "text": [
            "WARNING:absl:Found untraced functions such as _jit_compiled_convolution_op, _jit_compiled_convolution_op, _jit_compiled_convolution_op, _jit_compiled_convolution_op while saving (showing 4 of 4). These functions will not be directly callable after loading.\n",
            "WARNING:absl:Please consider switching to the new converter by setting experimental_new_converter=True. The old converter is deprecated.\n"
          ]
        }
      ]
    },
    {
      "cell_type": "code",
      "source": [
        "!md5sum 'model.tflite'\n",
        "!mv 'model.tflite' \"$TFLITE_MODEL_PATH\""
      ],
      "metadata": {
        "id": "40-YDahaYxQZ",
        "outputId": "5fb4c469-b9c4-4ce0-f032-9ed30e031fe5",
        "colab": {
          "base_uri": "https://localhost:8080/"
        }
      },
      "execution_count": 35,
      "outputs": [
        {
          "output_type": "stream",
          "name": "stdout",
          "text": [
            "d5743f6a4053c68aad004c3babecf8c2  model.tflite\n"
          ]
        }
      ]
    }
  ]
}