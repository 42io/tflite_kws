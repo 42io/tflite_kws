{
 "cells": [
  {
   "cell_type": "code",
   "execution_count": 1,
   "metadata": {
    "colab": {},
    "colab_type": "code",
    "id": "l_6NYiKJ7qzN"
   },
   "outputs": [],
   "source": [
    "# https://github.com/42io/dataset/tree/master/google_speech_commands#numpy-example\n",
    "DATASET_FILE = '1gmnWx2we0I-RNiWSvIRN7RzUrJrSp_uQ' # 0-9up.npz"
   ]
  },
  {
   "cell_type": "code",
   "execution_count": 2,
   "metadata": {},
   "outputs": [],
   "source": [
    "!test -f \"$DATASET_FILE\" || sudo pip install gdown"
   ]
  },
  {
   "cell_type": "code",
   "execution_count": 3,
   "metadata": {
    "colab": {
     "base_uri": "https://localhost:8080/",
     "height": 88
    },
    "colab_type": "code",
    "executionInfo": {
     "elapsed": 170068,
     "status": "ok",
     "timestamp": 1577980982385,
     "user": {
      "displayName": "Oleg Mazko",
      "photoUrl": "",
      "userId": "15659249211060430752"
     },
     "user_tz": -120
    },
    "id": "J4KjyC2X_ZyQ",
    "outputId": "42b11e5d-203d-4414-8c9e-1279a7382e7d"
   },
   "outputs": [],
   "source": [
    "!test -f \"$DATASET_FILE\" || gdown --id \"$DATASET_FILE\" -O \"$DATASET_FILE\""
   ]
  },
  {
   "cell_type": "code",
   "execution_count": 4,
   "metadata": {
    "colab": {},
    "colab_type": "code",
    "id": "kIdWKJAOu_p9"
   },
   "outputs": [],
   "source": [
    "import subprocess\n",
    "assert(b'cb126d837b86b1f6baf5c8268804877a' == subprocess.run(['md5sum', DATASET_FILE], stdout=subprocess.PIPE).stdout.split()[0])"
   ]
  },
  {
   "cell_type": "code",
   "execution_count": 5,
   "metadata": {
    "colab": {
     "base_uri": "https://localhost:8080/",
     "height": 70
    },
    "colab_type": "code",
    "executionInfo": {
     "elapsed": 194396,
     "status": "ok",
     "timestamp": 1577981006871,
     "user": {
      "displayName": "Oleg Mazko",
      "photoUrl": "",
      "userId": "15659249211060430752"
     },
     "user_tz": -120
    },
    "id": "5T3UOLCpGUmg",
    "outputId": "3700201b-e7b9-4885-e7e9-e4c61ab1071e"
   },
   "outputs": [],
   "source": [
    "import numpy as np\n",
    "from tensorflow import keras as keras"
   ]
  },
  {
   "cell_type": "code",
   "execution_count": 6,
   "metadata": {
    "colab": {
     "base_uri": "https://localhost:8080/",
     "height": 35
    },
    "colab_type": "code",
    "executionInfo": {
     "elapsed": 10394,
     "status": "ok",
     "timestamp": 1577981017275,
     "user": {
      "displayName": "Oleg Mazko",
      "photoUrl": "",
      "userId": "15659249211060430752"
     },
     "user_tz": -120
    },
    "id": "b7CYwmbKGb0h",
    "outputId": "7d8d773c-1818-4b19-a639-f0104b35cac3"
   },
   "outputs": [
    {
     "name": "stdout",
     "output_type": "stream",
     "text": [
      "(1095480, 637)\n"
     ]
    }
   ],
   "source": [
    "dset = np.load(DATASET_FILE)\n",
    "print(dset['x_train'].shape)"
   ]
  },
  {
   "cell_type": "code",
   "execution_count": 7,
   "metadata": {
    "colab": {},
    "colab_type": "code",
    "id": "tus9FNQ1pYnO"
   },
   "outputs": [],
   "source": [
    "x_train_3d = dset['x_train'].reshape(len(dset['x_train']), 49, 13)\n",
    "x_test_3d = dset['x_test'].reshape(len(dset['x_test']), 49, 13)\n",
    "x_valid_3d = dset['x_valid'].reshape(len(dset['x_valid']), 49, 13)"
   ]
  },
  {
   "cell_type": "code",
   "execution_count": 8,
   "metadata": {
    "colab": {
     "base_uri": "https://localhost:8080/",
     "height": 1000
    },
    "colab_type": "code",
    "id": "2mZMarEqIHF1",
    "outputId": "95f5995a-6b6a-4f0e-f870-39b282a1b5f4",
    "scrolled": false
   },
   "outputs": [
    {
     "name": "stdout",
     "output_type": "stream",
     "text": [
      "Model: \"sequential\"\n",
      "_________________________________________________________________\n",
      "Layer (type)                 Output Shape              Param #   \n",
      "=================================================================\n",
      "lstm (LSTM)                  (None, 49, 32)            5888      \n",
      "_________________________________________________________________\n",
      "dropout (Dropout)            (None, 49, 32)            0         \n",
      "_________________________________________________________________\n",
      "lstm_1 (LSTM)                (None, 49, 32)            8320      \n",
      "_________________________________________________________________\n",
      "dropout_1 (Dropout)          (None, 49, 32)            0         \n",
      "_________________________________________________________________\n",
      "lstm_2 (LSTM)                (None, 32)                8320      \n",
      "_________________________________________________________________\n",
      "dropout_2 (Dropout)          (None, 32)                0         \n",
      "_________________________________________________________________\n",
      "dense (Dense)                (None, 12)                396       \n",
      "=================================================================\n",
      "Total params: 22,924\n",
      "Trainable params: 22,924\n",
      "Non-trainable params: 0\n",
      "_________________________________________________________________\n",
      "Train on 1095480 samples, validate on 3368 samples\n",
      "Epoch 1/150\n",
      "1095480/1095480 - 1491s - loss: 0.4085 - accuracy: 0.8741 - val_loss: 0.1589 - val_accuracy: 0.9519\n",
      "Epoch 2/150\n",
      "1095480/1095480 - 1645s - loss: 0.1991 - accuracy: 0.9381 - val_loss: 0.1321 - val_accuracy: 0.9567\n",
      "Epoch 3/150\n",
      "1095480/1095480 - 1641s - loss: 0.1665 - accuracy: 0.9478 - val_loss: 0.1271 - val_accuracy: 0.9614\n",
      "Epoch 4/150\n",
      "1095480/1095480 - 1635s - loss: 0.1508 - accuracy: 0.9526 - val_loss: 0.1132 - val_accuracy: 0.9679\n",
      "Epoch 5/150\n",
      "1095480/1095480 - 1463s - loss: 0.1416 - accuracy: 0.9554 - val_loss: 0.1195 - val_accuracy: 0.9650\n",
      "Epoch 6/150\n",
      "1095480/1095480 - 1357s - loss: 0.1349 - accuracy: 0.9574 - val_loss: 0.1167 - val_accuracy: 0.9670\n",
      "Epoch 7/150\n",
      "1095480/1095480 - 1358s - loss: 0.1290 - accuracy: 0.9593 - val_loss: 0.0957 - val_accuracy: 0.9706\n",
      "Epoch 8/150\n",
      "1095480/1095480 - 1384s - loss: 0.1253 - accuracy: 0.9604 - val_loss: 0.1043 - val_accuracy: 0.9706\n",
      "Epoch 9/150\n",
      "1095480/1095480 - 1383s - loss: 0.1210 - accuracy: 0.9617 - val_loss: 0.1145 - val_accuracy: 0.9679\n",
      "Epoch 10/150\n",
      "1095480/1095480 - 1372s - loss: 0.1182 - accuracy: 0.9626 - val_loss: 0.1070 - val_accuracy: 0.9694\n",
      "Epoch 11/150\n",
      "1095480/1095480 - 1378s - loss: 0.1161 - accuracy: 0.9631 - val_loss: 0.1007 - val_accuracy: 0.9730\n",
      "Epoch 12/150\n",
      "1095480/1095480 - 1430s - loss: 0.1145 - accuracy: 0.9639 - val_loss: 0.1027 - val_accuracy: 0.9685\n",
      "Epoch 13/150\n",
      "1095480/1095480 - 1467s - loss: 0.1119 - accuracy: 0.9644 - val_loss: 0.1060 - val_accuracy: 0.9703\n",
      "Epoch 14/150\n",
      "1095480/1095480 - 1350s - loss: 0.1106 - accuracy: 0.9648 - val_loss: 0.1046 - val_accuracy: 0.9685\n",
      "Epoch 15/150\n",
      "1095480/1095480 - 1375s - loss: 0.1089 - accuracy: 0.9654 - val_loss: 0.1024 - val_accuracy: 0.9670\n",
      "Epoch 16/150\n",
      "1095480/1095480 - 1423s - loss: 0.1075 - accuracy: 0.9656 - val_loss: 0.1049 - val_accuracy: 0.9700\n",
      "Epoch 17/150\n",
      "1095480/1095480 - 1419s - loss: 0.1075 - accuracy: 0.9660 - val_loss: 0.1079 - val_accuracy: 0.9703\n",
      "Epoch 18/150\n",
      "1095480/1095480 - 1431s - loss: 0.1063 - accuracy: 0.9662 - val_loss: 0.1020 - val_accuracy: 0.9694\n",
      "Epoch 19/150\n",
      "1095480/1095480 - 1422s - loss: 0.1041 - accuracy: 0.9667 - val_loss: 0.1010 - val_accuracy: 0.9721\n",
      "Epoch 20/150\n",
      "1095480/1095480 - 1443s - loss: 0.1041 - accuracy: 0.9670 - val_loss: 0.1065 - val_accuracy: 0.9694\n",
      "Epoch 21/150\n",
      "1095480/1095480 - 1462s - loss: 0.1035 - accuracy: 0.9670 - val_loss: 0.0872 - val_accuracy: 0.9768\n",
      "Epoch 22/150\n",
      "1095480/1095480 - 1414s - loss: 0.1017 - accuracy: 0.9676 - val_loss: 0.1066 - val_accuracy: 0.9712\n",
      "Epoch 23/150\n",
      "1095480/1095480 - 1397s - loss: 0.1016 - accuracy: 0.9676 - val_loss: 0.1129 - val_accuracy: 0.9676\n",
      "Epoch 24/150\n",
      "1095480/1095480 - 1401s - loss: 0.1004 - accuracy: 0.9680 - val_loss: 0.0993 - val_accuracy: 0.9706\n",
      "Epoch 25/150\n",
      "1095480/1095480 - 1400s - loss: 0.0997 - accuracy: 0.9682 - val_loss: 0.0989 - val_accuracy: 0.9745\n",
      "Epoch 26/150\n",
      "1095480/1095480 - 1384s - loss: 0.0995 - accuracy: 0.9683 - val_loss: 0.0947 - val_accuracy: 0.9706\n",
      "Epoch 27/150\n",
      "1095480/1095480 - 1384s - loss: 0.0987 - accuracy: 0.9685 - val_loss: 0.0953 - val_accuracy: 0.9700\n",
      "Epoch 28/150\n",
      "1095480/1095480 - 1400s - loss: 0.0997 - accuracy: 0.9681 - val_loss: 0.0801 - val_accuracy: 0.9768\n",
      "Epoch 29/150\n",
      "1095480/1095480 - 1377s - loss: 0.0987 - accuracy: 0.9683 - val_loss: 0.0973 - val_accuracy: 0.9703\n",
      "Epoch 30/150\n",
      "1095480/1095480 - 1383s - loss: 0.0989 - accuracy: 0.9685 - val_loss: 0.0849 - val_accuracy: 0.9739\n",
      "Epoch 31/150\n",
      "1095480/1095480 - 1385s - loss: 0.0982 - accuracy: 0.9684 - val_loss: 0.0888 - val_accuracy: 0.9730\n",
      "Epoch 32/150\n",
      "1095480/1095480 - 1373s - loss: 0.0976 - accuracy: 0.9689 - val_loss: 0.0978 - val_accuracy: 0.9727\n",
      "Epoch 33/150\n",
      "1095480/1095480 - 1385s - loss: 0.0972 - accuracy: 0.9689 - val_loss: 0.1062 - val_accuracy: 0.9709\n",
      "Epoch 34/150\n",
      "1095480/1095480 - 1357s - loss: 0.0969 - accuracy: 0.9689 - val_loss: 0.0956 - val_accuracy: 0.9718\n",
      "Epoch 35/150\n",
      "1095480/1095480 - 1359s - loss: 0.0972 - accuracy: 0.9690 - val_loss: 0.0845 - val_accuracy: 0.9777\n",
      "Epoch 36/150\n",
      "1095480/1095480 - 1368s - loss: 0.0961 - accuracy: 0.9693 - val_loss: 0.0901 - val_accuracy: 0.9751\n",
      "Epoch 37/150\n",
      "1095480/1095480 - 1440s - loss: 0.0969 - accuracy: 0.9692 - val_loss: 0.0871 - val_accuracy: 0.9730\n",
      "Epoch 38/150\n",
      "1095480/1095480 - 1428s - loss: 0.0971 - accuracy: 0.9689 - val_loss: 0.0993 - val_accuracy: 0.9715\n",
      "Epoch 39/150\n",
      "1095480/1095480 - 1543s - loss: 0.0977 - accuracy: 0.9687 - val_loss: 0.1029 - val_accuracy: 0.9727\n",
      "Epoch 40/150\n",
      "1095480/1095480 - 1549s - loss: 0.0975 - accuracy: 0.9687 - val_loss: 0.1020 - val_accuracy: 0.9718\n",
      "Epoch 41/150\n",
      "1095480/1095480 - 1543s - loss: 0.0975 - accuracy: 0.9688 - val_loss: 0.0901 - val_accuracy: 0.9739\n",
      "Epoch 42/150\n",
      "1095480/1095480 - 1492s - loss: 0.0987 - accuracy: 0.9684 - val_loss: 0.0847 - val_accuracy: 0.9748\n",
      "Epoch 43/150\n",
      "1095480/1095480 - 1528s - loss: 0.0972 - accuracy: 0.9689 - val_loss: 0.0921 - val_accuracy: 0.9718\n",
      "Epoch 44/150\n",
      "1095480/1095480 - 1553s - loss: 0.0974 - accuracy: 0.9687 - val_loss: 0.0923 - val_accuracy: 0.9724\n",
      "Epoch 45/150\n",
      "1095480/1095480 - 1500s - loss: 0.0966 - accuracy: 0.9690 - val_loss: 0.0883 - val_accuracy: 0.9760\n",
      "Epoch 46/150\n",
      "1095480/1095480 - 1798s - loss: 0.0971 - accuracy: 0.9690 - val_loss: 0.0973 - val_accuracy: 0.9721\n",
      "Epoch 47/150\n",
      "1095480/1095480 - 1844s - loss: 0.0962 - accuracy: 0.9691 - val_loss: 0.0916 - val_accuracy: 0.9730\n",
      "Epoch 48/150\n",
      "1095480/1095480 - 1828s - loss: 0.0969 - accuracy: 0.9689 - val_loss: 0.0977 - val_accuracy: 0.9703\n",
      "Epoch 49/150\n",
      "1095480/1095480 - 1833s - loss: 0.0962 - accuracy: 0.9690 - val_loss: 0.0911 - val_accuracy: 0.9745\n",
      "Epoch 50/150\n",
      "1095480/1095480 - 1812s - loss: 0.0969 - accuracy: 0.9692 - val_loss: 0.0949 - val_accuracy: 0.9715\n",
      "Epoch 51/150\n",
      "1095480/1095480 - 1823s - loss: 0.0964 - accuracy: 0.9693 - val_loss: 0.1053 - val_accuracy: 0.9691\n",
      "Epoch 52/150\n",
      "1095480/1095480 - 1803s - loss: 0.0960 - accuracy: 0.9692 - val_loss: 0.0915 - val_accuracy: 0.9733\n",
      "Epoch 53/150\n",
      "Restoring model weights from the end of the best epoch.\n",
      "1095480/1095480 - 1813s - loss: 0.0962 - accuracy: 0.9692 - val_loss: 0.0940 - val_accuracy: 0.9724\n",
      "Epoch 00053: early stopping\n"
     ]
    }
   ],
   "source": [
    "model = keras.Sequential()\n",
    "model.add(keras.layers.LSTM(32, return_sequences=True, unroll=True, input_shape=(49,13)))\n",
    "model.add(keras.layers.Dropout(0.2))\n",
    "model.add(keras.layers.LSTM(32, return_sequences=True, unroll=True))\n",
    "model.add(keras.layers.Dropout(0.2))\n",
    "model.add(keras.layers.LSTM(32, unroll=True))\n",
    "model.add(keras.layers.Dropout(0.2))\n",
    "model.add(keras.layers.Dense(12, activation='softmax'))\n",
    "\n",
    "model.summary()\n",
    "\n",
    "model.compile(loss=keras.losses.categorical_crossentropy,\n",
    "              optimizer=keras.optimizers.Adam(),\n",
    "              metrics=['accuracy'])\n",
    "\n",
    "early_stopping = keras.callbacks.EarlyStopping(\n",
    "        monitor='val_loss',\n",
    "        mode='min',\n",
    "        verbose=1,\n",
    "        patience=25,\n",
    "        restore_best_weights=True)\n",
    "\n",
    "history = model.fit(x_train_3d,\n",
    "                    keras.utils.to_categorical(dset['y_train']),\n",
    "                    validation_data=(x_valid_3d, keras.utils.to_categorical(dset['y_valid'])),\n",
    "                    callbacks=[early_stopping],\n",
    "                    verbose=2,\n",
    "                    epochs=150)"
   ]
  },
  {
   "cell_type": "code",
   "execution_count": 9,
   "metadata": {
    "colab": {
     "base_uri": "https://localhost:8080/",
     "height": 238
    },
    "colab_type": "code",
    "executionInfo": {
     "elapsed": 1406,
     "status": "error",
     "timestamp": 1577942121787,
     "user": {
      "displayName": "Oleg Mazko",
      "photoUrl": "",
      "userId": "15659249211060430752"
     },
     "user_tz": -120
    },
    "id": "PRNTkY9zZlUA",
    "outputId": "1e7af9c6-eeb9-47aa-84e2-0edbd703f146"
   },
   "outputs": [
    {
     "name": "stdout",
     "output_type": "stream",
     "text": [
      "train loss, train acc: [0.05820419872268596, 0.9808367]\n",
      "test loss, test acc: [0.12940239246784913, 0.96236414]\n",
      "valid loss, valid acc: [0.08010162045812301, 0.97684085]\n"
     ]
    }
   ],
   "source": [
    "results = model.evaluate(x_train_3d, keras.utils.to_categorical(dset['y_train']), verbose=0)\n",
    "print('train loss, train acc:', results)\n",
    "\n",
    "results = model.evaluate(x_test_3d, keras.utils.to_categorical(dset['y_test']), verbose=0)\n",
    "print('test loss, test acc:', results)\n",
    "\n",
    "results = model.evaluate(x_valid_3d, keras.utils.to_categorical(dset['y_valid']), verbose=0)\n",
    "print('valid loss, valid acc:', results)"
   ]
  },
  {
   "cell_type": "code",
   "execution_count": 10,
   "metadata": {
    "colab": {},
    "colab_type": "code",
    "id": "7JE3mAdnX8MW",
    "scrolled": true
   },
   "outputs": [
    {
     "name": "stdout",
     "output_type": "stream",
     "text": [
      "142 3773\n",
      "78 3368\n"
     ]
    }
   ],
   "source": [
    "assert(len(x_test_3d) + len(x_valid_3d) == 7141)\n",
    "pred = model.predict_classes(x_test_3d)\n",
    "print(np.sum(pred != dset['y_test']), len(pred))\n",
    "pred = model.predict_classes(x_valid_3d)\n",
    "print(np.sum(pred != dset['y_valid']), len(pred))"
   ]
  },
  {
   "cell_type": "code",
   "execution_count": 11,
   "metadata": {
    "colab": {},
    "colab_type": "code",
    "id": "MpFpu5bZeYj4"
   },
   "outputs": [
    {
     "name": "stdout",
     "output_type": "stream",
     "text": [
      "dict_keys(['loss', 'accuracy', 'val_loss', 'val_accuracy'])\n"
     ]
    },
    {
     "data": {
      "image/png": "[encoded data removed]",
      "text/plain": [
       "<Figure size 432x288 with 1 Axes>"
      ]
     },
     "metadata": {
      "needs_background": "light"
     },
     "output_type": "display_data"
    },
    {
     "data": {
      "image/png": "[encoded data removed]",
      "text/plain": [
       "<Figure size 432x288 with 1 Axes>"
      ]
     },
     "metadata": {
      "needs_background": "light"
     },
     "output_type": "display_data"
    }
   ],
   "source": [
    "print(history.history.keys())\n",
    "\n",
    "%matplotlib inline\n",
    "\n",
    "import matplotlib.pyplot as plt\n",
    "\n",
    "# Plot training & validation accuracy values\n",
    "plt.plot(history.history['accuracy'])\n",
    "plt.plot(history.history['val_accuracy'])\n",
    "plt.title('Model accuracy')\n",
    "plt.ylabel('Accuracy')\n",
    "plt.xlabel('Epoch')\n",
    "plt.legend(['Train', 'Valid'], loc='lower right')\n",
    "plt.show()\n",
    "\n",
    "# Plot training & validation loss values\n",
    "plt.plot(history.history['loss'])\n",
    "plt.plot(history.history['val_loss'])\n",
    "plt.title('Model loss')\n",
    "plt.ylabel('Loss')\n",
    "plt.xlabel('Epoch')\n",
    "plt.legend(['Train', 'Valid'], loc='upper right')\n",
    "plt.show()"
   ]
  },
  {
   "cell_type": "code",
   "execution_count": 12,
   "metadata": {
    "colab": {},
    "colab_type": "code",
    "id": "mZIW5naa6_vB"
   },
   "outputs": [
    {
     "name": "stdout",
     "output_type": "stream",
     "text": [
      "2.1.0\n"
     ]
    }
   ],
   "source": [
    "import tensorflow as tf\n",
    "print(tf.__version__)\n",
    "\n",
    "# Convert the model to the TensorFlow Lite format without quantization\n",
    "converter = tf.lite.TFLiteConverter.from_keras_model(model)\n",
    "tflite_model = converter.convert()"
   ]
  },
  {
   "cell_type": "code",
   "execution_count": 13,
   "metadata": {
    "colab": {},
    "colab_type": "code",
    "id": "kqQTwS1xfutn"
   },
   "outputs": [
    {
     "name": "stdout",
     "output_type": "stream",
     "text": [
      "f421cfd0b9f2599f89980c608383b2d9  ./models/rnn.tflite\r\n"
     ]
    }
   ],
   "source": [
    "!mkdir -p './models'\n",
    "with open(\"./models/rnn.tflite\", \"wb\") as f:\n",
    "  f.write(tflite_model)\n",
    "!md5sum ./models/rnn.tflite"
   ]
  }
 ],
 "metadata": {
  "colab": {
   "collapsed_sections": [],
   "machine_shape": "hm",
   "name": "rnn.ipynb",
   "provenance": [
    {
     "file_id": "16AjIBb7qb3F01QnAeEM3qHLU0mw5qFfN",
     "timestamp": 1576226746260
    }
   ]
  },
  "kernelspec": {
   "display_name": "Python 3",
   "language": "python",
   "name": "python3"
  },
  "language_info": {
   "codemirror_mode": {
    "name": "ipython",
    "version": 3
   },
   "file_extension": ".py",
   "mimetype": "text/x-python",
   "name": "python",
   "nbconvert_exporter": "python",
   "pygments_lexer": "ipython3",
   "version": "3.6.9"
  }
 },
 "nbformat": 4,
 "nbformat_minor": 4
}
