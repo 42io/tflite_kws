{
  "nbformat": 4,
  "nbformat_minor": 0,
  "metadata": {
    "accelerator": "GPU",
    "colab": {
      "name": "edcnn47.ipynb",
      "provenance": [],
      "collapsed_sections": [],
      "machine_shape": "hm"
    },
    "kernelspec": {
      "display_name": "Python 3",
      "name": "python3"
    }
  },
  "cells": [
    {
      "cell_type": "code",
      "metadata": {
        "id": "qwY3lBm83jqO",
        "colab": {
          "base_uri": "https://localhost:8080/"
        },
        "outputId": "73bf49f6-4a9a-4618-bd64-b30c708ac2b3"
      },
      "source": [
        "!nvidia-smi"
      ],
      "execution_count": 3,
      "outputs": [
        {
          "output_type": "stream",
          "text": [
            "Sat May 15 06:32:14 2021       \n",
            "+-----------------------------------------------------------------------------+\n",
            "| NVIDIA-SMI 465.19.01    Driver Version: 460.32.03    CUDA Version: 11.2     |\n",
            "|-------------------------------+----------------------+----------------------+\n",
            "| GPU  Name        Persistence-M| Bus-Id        Disp.A | Volatile Uncorr. ECC |\n",
            "| Fan  Temp  Perf  Pwr:Usage/Cap|         Memory-Usage | GPU-Util  Compute M. |\n",
            "|                               |                      |               MIG M. |\n",
            "|===============================+======================+======================|\n",
            "|   0  Tesla T4            Off  | 00000000:00:04.0 Off |                    0 |\n",
            "| N/A   62C    P8    11W /  70W |      0MiB / 15109MiB |      0%      Default |\n",
            "|                               |                      |                  N/A |\n",
            "+-------------------------------+----------------------+----------------------+\n",
            "                                                                               \n",
            "+-----------------------------------------------------------------------------+\n",
            "| Processes:                                                                  |\n",
            "|  GPU   GI   CI        PID   Type   Process name                  GPU Memory |\n",
            "|        ID   ID                                                   Usage      |\n",
            "|=============================================================================|\n",
            "|  No running processes found                                                 |\n",
            "+-----------------------------------------------------------------------------+\n"
          ],
          "name": "stdout"
        }
      ]
    },
    {
      "cell_type": "code",
      "metadata": {
        "id": "5T3UOLCpGUmg",
        "colab": {
          "base_uri": "https://localhost:8080/"
        },
        "outputId": "6d9dc9a7-c2d8-49ee-d8a5-34407e8fa9d7"
      },
      "source": [
        "%tensorflow_version 2.x\n",
        "import matplotlib.pyplot as plt\n",
        "import numpy as np\n",
        "from tensorflow import keras\n",
        "import tensorflow as tf\n",
        "print(tf.__version__)\n",
        "plt.rc('figure', figsize=(13, 4))"
      ],
      "execution_count": 4,
      "outputs": [
        {
          "output_type": "stream",
          "text": [
            "2.4.1\n"
          ],
          "name": "stdout"
        }
      ]
    },
    {
      "cell_type": "code",
      "metadata": {
        "id": "l_6NYiKJ7qzN"
      },
      "source": [
        "# https://github.com/42io/dataset/tree/master/google_speech_commands\n",
        "# zero one two three four five six seven eight nine #unk# #pub#\n",
        "DATASET_FILE = '1NgIw6JrdjDcRhnAxbheqtAcV5Fr-wUJu'"
      ],
      "execution_count": 5,
      "outputs": []
    },
    {
      "cell_type": "code",
      "metadata": {
        "id": "J4KjyC2X_ZyQ",
        "colab": {
          "base_uri": "https://localhost:8080/"
        },
        "outputId": "146a603e-4bf0-4466-fbac-50e033fc8573"
      },
      "source": [
        "!test -f \"$DATASET_FILE\" || gdown --id \"$DATASET_FILE\" -O \"$DATASET_FILE\""
      ],
      "execution_count": 6,
      "outputs": [
        {
          "output_type": "stream",
          "text": [
            "Downloading...\n",
            "From: https://drive.google.com/uc?id=1NgIw6JrdjDcRhnAxbheqtAcV5Fr-wUJu\n",
            "To: /content/1NgIw6JrdjDcRhnAxbheqtAcV5Fr-wUJu\n",
            "2.59GB [00:37, 69.2MB/s]\n"
          ],
          "name": "stdout"
        }
      ]
    },
    {
      "cell_type": "code",
      "metadata": {
        "id": "kIdWKJAOu_p9"
      },
      "source": [
        "md5 = !md5sum \"$DATASET_FILE\"\n",
        "assert '54821a74684e7bbb9b3acd853960d9cd' == md5[0].split()[0]"
      ],
      "execution_count": 7,
      "outputs": []
    },
    {
      "cell_type": "code",
      "metadata": {
        "id": "b7CYwmbKGb0h",
        "colab": {
          "base_uri": "https://localhost:8080/"
        },
        "outputId": "e0f1d63c-9156-4eee-ffbe-996fb5e9d8c0"
      },
      "source": [
        "dset = np.load(DATASET_FILE)\n",
        "print(dset['x_train'].shape)"
      ],
      "execution_count": 8,
      "outputs": [
        {
          "output_type": "stream",
          "text": [
            "(1095480, 637)\n"
          ],
          "name": "stdout"
        }
      ]
    },
    {
      "cell_type": "code",
      "metadata": {
        "id": "tus9FNQ1pYnO"
      },
      "source": [
        "def create_ds(t):\n",
        "  x = 'x_' + t\n",
        "  y = 'y_' + t\n",
        "  d = tf.data.Dataset.from_tensor_slices((dset[x], dset[y]))\n",
        "  d = d.map(lambda x, y: [tf.cast(x, tf.float32), y])\n",
        "  d = d.map(lambda x, y: [x, tf.cast(y, tf.int8)])\n",
        "  d = d.map(lambda x, y: [tf.reshape(x, (49, 13))[1:-1], y])\n",
        "  return d"
      ],
      "execution_count": 9,
      "outputs": []
    },
    {
      "cell_type": "code",
      "metadata": {
        "id": "oL2-YVKZYpK2",
        "colab": {
          "base_uri": "https://localhost:8080/"
        },
        "outputId": "74367d9b-9e6c-4ff0-cc41-b778d09b32dd"
      },
      "source": [
        "train_dataset = create_ds('train')\n",
        "test_dataset  = create_ds('test')\n",
        "valid_dataset = create_ds('valid')\n",
        "train_dataset.cardinality().numpy()"
      ],
      "execution_count": 10,
      "outputs": [
        {
          "output_type": "execute_result",
          "data": {
            "text/plain": [
              "1095480"
            ]
          },
          "metadata": {
            "tags": []
          },
          "execution_count": 10
        }
      ]
    },
    {
      "cell_type": "code",
      "metadata": {
        "id": "Xcj5MHTAKYwv"
      },
      "source": [
        "def spectrogram_masking(spectrogram, dim=1, masks_number=2, mask_max_size=5):\n",
        "  \"\"\"Spectrogram masking on frequency or time dimension.\n",
        "  Args:\n",
        "    spectrogram: Input spectrum [batch, time, frequency]\n",
        "    dim: dimension on which masking will be applied: 1 - time; 2 - frequency\n",
        "    masks_number: number of masks\n",
        "    mask_max_size: mask max size\n",
        "  Returns:\n",
        "    masked spectrogram\n",
        "  \"\"\"\n",
        "  if dim not in (1, 2):\n",
        "    raise ValueError('Wrong dim value: %d' % dim)\n",
        "  input_shape = spectrogram.shape\n",
        "  time_size, frequency_size = input_shape[1:3]\n",
        "  dim_size = input_shape[dim]  # size of dimension on which mask is applied\n",
        "  stripe_shape = [1, time_size, frequency_size]\n",
        "  for _ in range(masks_number):\n",
        "    mask_end = tf.random.uniform([], 0, mask_max_size, tf.int32)\n",
        "    mask_start = tf.random.uniform([], 0, dim_size - mask_end, tf.int32)\n",
        "\n",
        "    # initialize stripes with stripe_shape\n",
        "    stripe_ones_left = list(stripe_shape)\n",
        "    stripe_zeros_center = list(stripe_shape)\n",
        "    stripe_ones_right = list(stripe_shape)\n",
        "\n",
        "    # update stripes dim\n",
        "    stripe_ones_left[dim] = dim_size - mask_start - mask_end\n",
        "    stripe_zeros_center[dim] = mask_end\n",
        "    stripe_ones_right[dim] = mask_start\n",
        "\n",
        "    # generate mask\n",
        "    mask = tf.concat((\n",
        "        tf.ones(stripe_ones_left, spectrogram.dtype),\n",
        "        tf.zeros(stripe_zeros_center, spectrogram.dtype),\n",
        "        tf.ones(stripe_ones_right, spectrogram.dtype),\n",
        "    ), dim)\n",
        "    spectrogram = spectrogram * mask\n",
        "  return spectrogram"
      ],
      "execution_count": 11,
      "outputs": []
    },
    {
      "cell_type": "code",
      "metadata": {
        "id": "O1qBLgZrFhOa"
      },
      "source": [
        "apply_batch   = lambda d: d.batch(128)\n",
        "train_dataset = train_dataset.shuffle(train_dataset.cardinality())\n",
        "train_dataset = apply_batch(train_dataset)\n",
        "train_dataset = train_dataset.map(lambda x, y: (spectrogram_masking(x, 1, 3, 3), y))\n",
        "train_dataset = train_dataset.map(lambda x, y: (spectrogram_masking(x, 2, 2, 2), y))\n",
        "train_dataset = train_dataset.prefetch(tf.data.AUTOTUNE)\n",
        "test_dataset  = apply_batch(test_dataset)\n",
        "valid_dataset = apply_batch(valid_dataset)"
      ],
      "execution_count": 13,
      "outputs": []
    },
    {
      "cell_type": "code",
      "metadata": {
        "id": "9GoK51NeEWQ6",
        "colab": {
          "base_uri": "https://localhost:8080/",
          "height": 267
        },
        "outputId": "9948dc35-45cc-45af-ab7b-c22091170660"
      },
      "source": [
        "plt.imshow(list(train_dataset.take(1))[0][0][0].numpy().T)"
      ],
      "execution_count": 27,
      "outputs": [
        {
          "output_type": "execute_result",
          "data": {
            "text/plain": [
              "<matplotlib.image.AxesImage at 0x7f8aa61a5210>"
            ]
          },
          "metadata": {
            "tags": []
          },
          "execution_count": 27
        },
        {
          "output_type": "display_data",
          "data": {
            "image/png": "[encoded data removed]",
            "text/plain": [
              "<Figure size 936x288 with 1 Axes>"
            ]
          },
          "metadata": {
            "tags": [],
            "needs_background": "light"
          }
        }
      ]
    },
    {
      "cell_type": "code",
      "metadata": {
        "id": "D2_JekfZr3LZ"
      },
      "source": [
        "def first_ensemble(x_in):\n",
        "  x = keras.layers.Conv1D(128, 1, use_bias=False)(x_in)\n",
        "  x = keras.layers.BatchNormalization()(x)\n",
        "  x = keras.layers.ReLU()(x)\n",
        "  x = keras.layers.SpatialDropout1D(0.1)(x)\n",
        "\n",
        "  for i in range(4):\n",
        "    x = keras.layers.SeparableConv1D(x.shape[-1], 2, dilation_rate=2**i,\n",
        "                                     use_bias=False)(x)\n",
        "    x = keras.layers.BatchNormalization()(x)\n",
        "    x = keras.layers.ReLU()(x)\n",
        "    x = keras.layers.SpatialDropout1D(0.1)(x)\n",
        "\n",
        "  x = keras.layers.AveragePooling1D(x.shape[1])(x)\n",
        "  x = keras.layers.Flatten()(x)\n",
        "\n",
        "  x = keras.layers.Dense(x.shape[-1], use_bias=False)(x)\n",
        "  x = keras.layers.BatchNormalization()(x)\n",
        "  x = keras.layers.ReLU()(x)\n",
        "  x = keras.layers.Dropout(0.1)(x)\n",
        "\n",
        "  x = keras.layers.Dense(12)(x)\n",
        "  x = keras.layers.Softmax()(x)\n",
        "  return x"
      ],
      "execution_count": 14,
      "outputs": []
    },
    {
      "cell_type": "code",
      "metadata": {
        "id": "UERRmtZZsHN7"
      },
      "source": [
        "def second_ensemble(x_in):\n",
        "  x = keras.layers.Conv1D(128, 1, use_bias=False)(x_in)\n",
        "  x = keras.layers.BatchNormalization()(x)\n",
        "  x = keras.layers.ReLU()(x)\n",
        "  x = keras.layers.SpatialDropout1D(0.1)(x)\n",
        "\n",
        "  for i in range(4)[::-1]:\n",
        "    x = keras.layers.SeparableConv1D(x.shape[-1], 3, padding=\"same\",\n",
        "                                     use_bias=False)(x)\n",
        "    x = keras.layers.BatchNormalization()(x)\n",
        "    x = keras.layers.ReLU()(x)\n",
        "    x = keras.layers.SpatialDropout1D(0.1)(x)\n",
        "    x = keras.layers.MaxPooling1D(2 if i else x.shape[1], padding=\"same\")(x)\n",
        "\n",
        "  x = keras.layers.Flatten()(x)\n",
        "\n",
        "  x = keras.layers.Dense(x.shape[-1], use_bias=False)(x)\n",
        "  x = keras.layers.BatchNormalization()(x)\n",
        "  x = keras.layers.ReLU()(x)\n",
        "  x = keras.layers.Dropout(0.1)(x)\n",
        "\n",
        "  x = keras.layers.Dense(12)(x)\n",
        "  x = keras.layers.Softmax()(x)\n",
        "  return x"
      ],
      "execution_count": 15,
      "outputs": []
    },
    {
      "cell_type": "code",
      "metadata": {
        "id": "E84wnQt1s_VY"
      },
      "source": [
        "def decode(x):\n",
        "  first, second = [tf.argmax(i, -1) for i in x]\n",
        "  x = tf.equal(first, second)\n",
        "  x = tf.where(x, first, 10)\n",
        "  x = tf.one_hot(x, 12)\n",
        "  return x\n",
        "\n",
        "def build_model(inference=False):\n",
        "\n",
        "  # resetting the layer name generation counter\n",
        "  keras.backend.clear_session()\n",
        "\n",
        "  x_in = keras.Input(shape=(47, 13))\n",
        "  x = [first_ensemble(x_in), second_ensemble(x_in)]\n",
        "\n",
        "  return keras.Model(x_in, keras.layers.Lambda(decode)(x) if inference else x)"
      ],
      "execution_count": 16,
      "outputs": []
    },
    {
      "cell_type": "code",
      "metadata": {
        "id": "hP5H5d2z_SpG",
        "colab": {
          "base_uri": "https://localhost:8080/"
        },
        "outputId": "51d785ee-b8e6-41f1-eaee-1cdb4f3cdda1"
      },
      "source": [
        "model = build_model()\n",
        "model.summary()\n",
        "\n",
        "model.compile(loss=keras.losses.sparse_categorical_crossentropy,\n",
        "              optimizer=keras.optimizers.Adam(),\n",
        "              metrics=['accuracy'])"
      ],
      "execution_count": 17,
      "outputs": [
        {
          "output_type": "stream",
          "text": [
            "Model: \"model\"\n",
            "__________________________________________________________________________________________________\n",
            "Layer (type)                    Output Shape         Param #     Connected to                     \n",
            "==================================================================================================\n",
            "input_1 (InputLayer)            [(None, 47, 13)]     0                                            \n",
            "__________________________________________________________________________________________________\n",
            "conv1d_1 (Conv1D)               (None, 47, 128)      1664        input_1[0][0]                    \n",
            "__________________________________________________________________________________________________\n",
            "batch_normalization_6 (BatchNor (None, 47, 128)      512         conv1d_1[0][0]                   \n",
            "__________________________________________________________________________________________________\n",
            "re_lu_6 (ReLU)                  (None, 47, 128)      0           batch_normalization_6[0][0]      \n",
            "__________________________________________________________________________________________________\n",
            "conv1d (Conv1D)                 (None, 47, 128)      1664        input_1[0][0]                    \n",
            "__________________________________________________________________________________________________\n",
            "spatial_dropout1d_5 (SpatialDro (None, 47, 128)      0           re_lu_6[0][0]                    \n",
            "__________________________________________________________________________________________________\n",
            "batch_normalization (BatchNorma (None, 47, 128)      512         conv1d[0][0]                     \n",
            "__________________________________________________________________________________________________\n",
            "separable_conv1d_4 (SeparableCo (None, 47, 128)      16768       spatial_dropout1d_5[0][0]        \n",
            "__________________________________________________________________________________________________\n",
            "re_lu (ReLU)                    (None, 47, 128)      0           batch_normalization[0][0]        \n",
            "__________________________________________________________________________________________________\n",
            "batch_normalization_7 (BatchNor (None, 47, 128)      512         separable_conv1d_4[0][0]         \n",
            "__________________________________________________________________________________________________\n",
            "spatial_dropout1d (SpatialDropo (None, 47, 128)      0           re_lu[0][0]                      \n",
            "__________________________________________________________________________________________________\n",
            "re_lu_7 (ReLU)                  (None, 47, 128)      0           batch_normalization_7[0][0]      \n",
            "__________________________________________________________________________________________________\n",
            "separable_conv1d (SeparableConv (None, 46, 128)      16640       spatial_dropout1d[0][0]          \n",
            "__________________________________________________________________________________________________\n",
            "spatial_dropout1d_6 (SpatialDro (None, 47, 128)      0           re_lu_7[0][0]                    \n",
            "__________________________________________________________________________________________________\n",
            "batch_normalization_1 (BatchNor (None, 46, 128)      512         separable_conv1d[0][0]           \n",
            "__________________________________________________________________________________________________\n",
            "max_pooling1d (MaxPooling1D)    (None, 24, 128)      0           spatial_dropout1d_6[0][0]        \n",
            "__________________________________________________________________________________________________\n",
            "re_lu_1 (ReLU)                  (None, 46, 128)      0           batch_normalization_1[0][0]      \n",
            "__________________________________________________________________________________________________\n",
            "separable_conv1d_5 (SeparableCo (None, 24, 128)      16768       max_pooling1d[0][0]              \n",
            "__________________________________________________________________________________________________\n",
            "spatial_dropout1d_1 (SpatialDro (None, 46, 128)      0           re_lu_1[0][0]                    \n",
            "__________________________________________________________________________________________________\n",
            "batch_normalization_8 (BatchNor (None, 24, 128)      512         separable_conv1d_5[0][0]         \n",
            "__________________________________________________________________________________________________\n",
            "separable_conv1d_1 (SeparableCo (None, 44, 128)      16640       spatial_dropout1d_1[0][0]        \n",
            "__________________________________________________________________________________________________\n",
            "re_lu_8 (ReLU)                  (None, 24, 128)      0           batch_normalization_8[0][0]      \n",
            "__________________________________________________________________________________________________\n",
            "batch_normalization_2 (BatchNor (None, 44, 128)      512         separable_conv1d_1[0][0]         \n",
            "__________________________________________________________________________________________________\n",
            "spatial_dropout1d_7 (SpatialDro (None, 24, 128)      0           re_lu_8[0][0]                    \n",
            "__________________________________________________________________________________________________\n",
            "re_lu_2 (ReLU)                  (None, 44, 128)      0           batch_normalization_2[0][0]      \n",
            "__________________________________________________________________________________________________\n",
            "max_pooling1d_1 (MaxPooling1D)  (None, 12, 128)      0           spatial_dropout1d_7[0][0]        \n",
            "__________________________________________________________________________________________________\n",
            "spatial_dropout1d_2 (SpatialDro (None, 44, 128)      0           re_lu_2[0][0]                    \n",
            "__________________________________________________________________________________________________\n",
            "separable_conv1d_6 (SeparableCo (None, 12, 128)      16768       max_pooling1d_1[0][0]            \n",
            "__________________________________________________________________________________________________\n",
            "separable_conv1d_2 (SeparableCo (None, 40, 128)      16640       spatial_dropout1d_2[0][0]        \n",
            "__________________________________________________________________________________________________\n",
            "batch_normalization_9 (BatchNor (None, 12, 128)      512         separable_conv1d_6[0][0]         \n",
            "__________________________________________________________________________________________________\n",
            "batch_normalization_3 (BatchNor (None, 40, 128)      512         separable_conv1d_2[0][0]         \n",
            "__________________________________________________________________________________________________\n",
            "re_lu_9 (ReLU)                  (None, 12, 128)      0           batch_normalization_9[0][0]      \n",
            "__________________________________________________________________________________________________\n",
            "re_lu_3 (ReLU)                  (None, 40, 128)      0           batch_normalization_3[0][0]      \n",
            "__________________________________________________________________________________________________\n",
            "spatial_dropout1d_8 (SpatialDro (None, 12, 128)      0           re_lu_9[0][0]                    \n",
            "__________________________________________________________________________________________________\n",
            "spatial_dropout1d_3 (SpatialDro (None, 40, 128)      0           re_lu_3[0][0]                    \n",
            "__________________________________________________________________________________________________\n",
            "max_pooling1d_2 (MaxPooling1D)  (None, 6, 128)       0           spatial_dropout1d_8[0][0]        \n",
            "__________________________________________________________________________________________________\n",
            "separable_conv1d_3 (SeparableCo (None, 32, 128)      16640       spatial_dropout1d_3[0][0]        \n",
            "__________________________________________________________________________________________________\n",
            "separable_conv1d_7 (SeparableCo (None, 6, 128)       16768       max_pooling1d_2[0][0]            \n",
            "__________________________________________________________________________________________________\n",
            "batch_normalization_4 (BatchNor (None, 32, 128)      512         separable_conv1d_3[0][0]         \n",
            "__________________________________________________________________________________________________\n",
            "batch_normalization_10 (BatchNo (None, 6, 128)       512         separable_conv1d_7[0][0]         \n",
            "__________________________________________________________________________________________________\n",
            "re_lu_4 (ReLU)                  (None, 32, 128)      0           batch_normalization_4[0][0]      \n",
            "__________________________________________________________________________________________________\n",
            "re_lu_10 (ReLU)                 (None, 6, 128)       0           batch_normalization_10[0][0]     \n",
            "__________________________________________________________________________________________________\n",
            "spatial_dropout1d_4 (SpatialDro (None, 32, 128)      0           re_lu_4[0][0]                    \n",
            "__________________________________________________________________________________________________\n",
            "spatial_dropout1d_9 (SpatialDro (None, 6, 128)       0           re_lu_10[0][0]                   \n",
            "__________________________________________________________________________________________________\n",
            "average_pooling1d (AveragePooli (None, 1, 128)       0           spatial_dropout1d_4[0][0]        \n",
            "__________________________________________________________________________________________________\n",
            "max_pooling1d_3 (MaxPooling1D)  (None, 1, 128)       0           spatial_dropout1d_9[0][0]        \n",
            "__________________________________________________________________________________________________\n",
            "flatten (Flatten)               (None, 128)          0           average_pooling1d[0][0]          \n",
            "__________________________________________________________________________________________________\n",
            "flatten_1 (Flatten)             (None, 128)          0           max_pooling1d_3[0][0]            \n",
            "__________________________________________________________________________________________________\n",
            "dense (Dense)                   (None, 128)          16384       flatten[0][0]                    \n",
            "__________________________________________________________________________________________________\n",
            "dense_2 (Dense)                 (None, 128)          16384       flatten_1[0][0]                  \n",
            "__________________________________________________________________________________________________\n",
            "batch_normalization_5 (BatchNor (None, 128)          512         dense[0][0]                      \n",
            "__________________________________________________________________________________________________\n",
            "batch_normalization_11 (BatchNo (None, 128)          512         dense_2[0][0]                    \n",
            "__________________________________________________________________________________________________\n",
            "re_lu_5 (ReLU)                  (None, 128)          0           batch_normalization_5[0][0]      \n",
            "__________________________________________________________________________________________________\n",
            "re_lu_11 (ReLU)                 (None, 128)          0           batch_normalization_11[0][0]     \n",
            "__________________________________________________________________________________________________\n",
            "dropout (Dropout)               (None, 128)          0           re_lu_5[0][0]                    \n",
            "__________________________________________________________________________________________________\n",
            "dropout_1 (Dropout)             (None, 128)          0           re_lu_11[0][0]                   \n",
            "__________________________________________________________________________________________________\n",
            "dense_1 (Dense)                 (None, 12)           1548        dropout[0][0]                    \n",
            "__________________________________________________________________________________________________\n",
            "dense_3 (Dense)                 (None, 12)           1548        dropout_1[0][0]                  \n",
            "__________________________________________________________________________________________________\n",
            "softmax (Softmax)               (None, 12)           0           dense_1[0][0]                    \n",
            "__________________________________________________________________________________________________\n",
            "softmax_1 (Softmax)             (None, 12)           0           dense_3[0][0]                    \n",
            "==================================================================================================\n",
            "Total params: 178,968\n",
            "Trainable params: 175,896\n",
            "Non-trainable params: 3,072\n",
            "__________________________________________________________________________________________________\n"
          ],
          "name": "stdout"
        }
      ]
    },
    {
      "cell_type": "code",
      "metadata": {
        "id": "2mZMarEqIHF1",
        "colab": {
          "base_uri": "https://localhost:8080/"
        },
        "outputId": "85540cd3-40b0-4233-951d-94c42cb0f985"
      },
      "source": [
        "early_stopping = keras.callbacks.EarlyStopping(\n",
        "        monitor='val_loss',\n",
        "        mode='min',\n",
        "        verbose=1,\n",
        "        patience=50,\n",
        "        restore_best_weights=True)\n",
        "\n",
        "history = model.fit(train_dataset,\n",
        "                    validation_data=valid_dataset,\n",
        "                    callbacks=[early_stopping],\n",
        "                    verbose=2,\n",
        "                    epochs=100500)"
      ],
      "execution_count": 18,
      "outputs": [
        {
          "output_type": "stream",
          "text": [
            "Epoch 1/100500\n",
            "8559/8559 - 258s - loss: 0.6568 - softmax_loss: 0.3325 - softmax_1_loss: 0.3243 - softmax_accuracy: 0.8934 - softmax_1_accuracy: 0.8957 - val_loss: 0.1577 - val_softmax_loss: 0.0691 - val_softmax_1_loss: 0.0886 - val_softmax_accuracy: 0.9780 - val_softmax_1_accuracy: 0.9760\n",
            "Epoch 2/100500\n",
            "8559/8559 - 226s - loss: 0.3522 - softmax_loss: 0.1777 - softmax_1_loss: 0.1745 - softmax_accuracy: 0.9430 - softmax_1_accuracy: 0.9438 - val_loss: 0.1275 - val_softmax_loss: 0.0546 - val_softmax_1_loss: 0.0728 - val_softmax_accuracy: 0.9822 - val_softmax_1_accuracy: 0.9786\n",
            "Epoch 3/100500\n",
            "8559/8559 - 226s - loss: 0.3005 - softmax_loss: 0.1522 - softmax_1_loss: 0.1483 - softmax_accuracy: 0.9512 - softmax_1_accuracy: 0.9524 - val_loss: 0.1046 - val_softmax_loss: 0.0464 - val_softmax_1_loss: 0.0582 - val_softmax_accuracy: 0.9855 - val_softmax_1_accuracy: 0.9822\n",
            "Epoch 4/100500\n",
            "8559/8559 - 220s - loss: 0.2709 - softmax_loss: 0.1368 - softmax_1_loss: 0.1341 - softmax_accuracy: 0.9558 - softmax_1_accuracy: 0.9567 - val_loss: 0.1095 - val_softmax_loss: 0.0521 - val_softmax_1_loss: 0.0575 - val_softmax_accuracy: 0.9840 - val_softmax_1_accuracy: 0.9846\n",
            "Epoch 5/100500\n",
            "8559/8559 - 220s - loss: 0.2559 - softmax_loss: 0.1298 - softmax_1_loss: 0.1262 - softmax_accuracy: 0.9581 - softmax_1_accuracy: 0.9589 - val_loss: 0.0913 - val_softmax_loss: 0.0437 - val_softmax_1_loss: 0.0476 - val_softmax_accuracy: 0.9872 - val_softmax_1_accuracy: 0.9866\n",
            "Epoch 6/100500\n",
            "8559/8559 - 222s - loss: 0.2427 - softmax_loss: 0.1233 - softmax_1_loss: 0.1195 - softmax_accuracy: 0.9601 - softmax_1_accuracy: 0.9611 - val_loss: 0.0941 - val_softmax_loss: 0.0449 - val_softmax_1_loss: 0.0492 - val_softmax_accuracy: 0.9866 - val_softmax_1_accuracy: 0.9849\n",
            "Epoch 7/100500\n",
            "8559/8559 - 222s - loss: 0.2296 - softmax_loss: 0.1168 - softmax_1_loss: 0.1128 - softmax_accuracy: 0.9621 - softmax_1_accuracy: 0.9631 - val_loss: 0.0917 - val_softmax_loss: 0.0434 - val_softmax_1_loss: 0.0483 - val_softmax_accuracy: 0.9881 - val_softmax_1_accuracy: 0.9855\n",
            "Epoch 8/100500\n",
            "8559/8559 - 223s - loss: 0.2228 - softmax_loss: 0.1134 - softmax_1_loss: 0.1094 - softmax_accuracy: 0.9633 - softmax_1_accuracy: 0.9643 - val_loss: 0.0961 - val_softmax_loss: 0.0468 - val_softmax_1_loss: 0.0493 - val_softmax_accuracy: 0.9849 - val_softmax_1_accuracy: 0.9855\n",
            "Epoch 9/100500\n",
            "8559/8559 - 222s - loss: 0.2170 - softmax_loss: 0.1105 - softmax_1_loss: 0.1065 - softmax_accuracy: 0.9642 - softmax_1_accuracy: 0.9653 - val_loss: 0.0850 - val_softmax_loss: 0.0393 - val_softmax_1_loss: 0.0457 - val_softmax_accuracy: 0.9872 - val_softmax_1_accuracy: 0.9869\n",
            "Epoch 10/100500\n",
            "8559/8559 - 223s - loss: 0.2107 - softmax_loss: 0.1070 - softmax_1_loss: 0.1036 - softmax_accuracy: 0.9652 - softmax_1_accuracy: 0.9661 - val_loss: 0.0902 - val_softmax_loss: 0.0406 - val_softmax_1_loss: 0.0496 - val_softmax_accuracy: 0.9881 - val_softmax_1_accuracy: 0.9857\n",
            "Epoch 11/100500\n",
            "8559/8559 - 220s - loss: 0.2075 - softmax_loss: 0.1057 - softmax_1_loss: 0.1018 - softmax_accuracy: 0.9656 - softmax_1_accuracy: 0.9668 - val_loss: 0.0894 - val_softmax_loss: 0.0434 - val_softmax_1_loss: 0.0461 - val_softmax_accuracy: 0.9872 - val_softmax_1_accuracy: 0.9872\n",
            "Epoch 12/100500\n",
            "8559/8559 - 219s - loss: 0.2023 - softmax_loss: 0.1031 - softmax_1_loss: 0.0992 - softmax_accuracy: 0.9664 - softmax_1_accuracy: 0.9675 - val_loss: 0.0930 - val_softmax_loss: 0.0445 - val_softmax_1_loss: 0.0485 - val_softmax_accuracy: 0.9857 - val_softmax_1_accuracy: 0.9869\n",
            "Epoch 13/100500\n",
            "8559/8559 - 222s - loss: 0.1997 - softmax_loss: 0.1012 - softmax_1_loss: 0.0985 - softmax_accuracy: 0.9673 - softmax_1_accuracy: 0.9681 - val_loss: 0.0830 - val_softmax_loss: 0.0400 - val_softmax_1_loss: 0.0430 - val_softmax_accuracy: 0.9881 - val_softmax_1_accuracy: 0.9884\n",
            "Epoch 14/100500\n",
            "8559/8559 - 220s - loss: 0.1974 - softmax_loss: 0.1007 - softmax_1_loss: 0.0967 - softmax_accuracy: 0.9674 - softmax_1_accuracy: 0.9686 - val_loss: 0.0879 - val_softmax_loss: 0.0417 - val_softmax_1_loss: 0.0462 - val_softmax_accuracy: 0.9887 - val_softmax_1_accuracy: 0.9860\n",
            "Epoch 15/100500\n",
            "8559/8559 - 217s - loss: 0.1933 - softmax_loss: 0.0989 - softmax_1_loss: 0.0944 - softmax_accuracy: 0.9680 - softmax_1_accuracy: 0.9692 - val_loss: 0.0974 - val_softmax_loss: 0.0450 - val_softmax_1_loss: 0.0523 - val_softmax_accuracy: 0.9866 - val_softmax_1_accuracy: 0.9840\n",
            "Epoch 16/100500\n",
            "8559/8559 - 218s - loss: 0.1903 - softmax_loss: 0.0967 - softmax_1_loss: 0.0936 - softmax_accuracy: 0.9684 - softmax_1_accuracy: 0.9694 - val_loss: 0.0908 - val_softmax_loss: 0.0416 - val_softmax_1_loss: 0.0492 - val_softmax_accuracy: 0.9872 - val_softmax_1_accuracy: 0.9866\n",
            "Epoch 17/100500\n",
            "8559/8559 - 219s - loss: 0.1866 - softmax_loss: 0.0948 - softmax_1_loss: 0.0919 - softmax_accuracy: 0.9691 - softmax_1_accuracy: 0.9700 - val_loss: 0.0880 - val_softmax_loss: 0.0432 - val_softmax_1_loss: 0.0448 - val_softmax_accuracy: 0.9866 - val_softmax_1_accuracy: 0.9857\n",
            "Epoch 18/100500\n",
            "8559/8559 - 219s - loss: 0.1851 - softmax_loss: 0.0940 - softmax_1_loss: 0.0910 - softmax_accuracy: 0.9694 - softmax_1_accuracy: 0.9704 - val_loss: 0.0854 - val_softmax_loss: 0.0412 - val_softmax_1_loss: 0.0442 - val_softmax_accuracy: 0.9869 - val_softmax_1_accuracy: 0.9860\n",
            "Epoch 19/100500\n",
            "8559/8559 - 216s - loss: 0.1838 - softmax_loss: 0.0934 - softmax_1_loss: 0.0904 - softmax_accuracy: 0.9696 - softmax_1_accuracy: 0.9706 - val_loss: 0.0876 - val_softmax_loss: 0.0407 - val_softmax_1_loss: 0.0468 - val_softmax_accuracy: 0.9896 - val_softmax_1_accuracy: 0.9881\n",
            "Epoch 20/100500\n",
            "8559/8559 - 218s - loss: 0.1831 - softmax_loss: 0.0934 - softmax_1_loss: 0.0896 - softmax_accuracy: 0.9697 - softmax_1_accuracy: 0.9710 - val_loss: 0.0924 - val_softmax_loss: 0.0409 - val_softmax_1_loss: 0.0514 - val_softmax_accuracy: 0.9878 - val_softmax_1_accuracy: 0.9869\n",
            "Epoch 21/100500\n",
            "8559/8559 - 220s - loss: 0.1792 - softmax_loss: 0.0912 - softmax_1_loss: 0.0880 - softmax_accuracy: 0.9702 - softmax_1_accuracy: 0.9712 - val_loss: 0.0879 - val_softmax_loss: 0.0401 - val_softmax_1_loss: 0.0478 - val_softmax_accuracy: 0.9884 - val_softmax_1_accuracy: 0.9843\n",
            "Epoch 22/100500\n",
            "8559/8559 - 220s - loss: 0.1794 - softmax_loss: 0.0912 - softmax_1_loss: 0.0882 - softmax_accuracy: 0.9701 - softmax_1_accuracy: 0.9711 - val_loss: 0.0893 - val_softmax_loss: 0.0419 - val_softmax_1_loss: 0.0474 - val_softmax_accuracy: 0.9872 - val_softmax_1_accuracy: 0.9849\n",
            "Epoch 23/100500\n",
            "8559/8559 - 221s - loss: 0.1785 - softmax_loss: 0.0909 - softmax_1_loss: 0.0876 - softmax_accuracy: 0.9706 - softmax_1_accuracy: 0.9714 - val_loss: 0.0855 - val_softmax_loss: 0.0415 - val_softmax_1_loss: 0.0441 - val_softmax_accuracy: 0.9887 - val_softmax_1_accuracy: 0.9875\n",
            "Epoch 24/100500\n",
            "8559/8559 - 222s - loss: 0.1758 - softmax_loss: 0.0897 - softmax_1_loss: 0.0861 - softmax_accuracy: 0.9709 - softmax_1_accuracy: 0.9719 - val_loss: 0.0914 - val_softmax_loss: 0.0392 - val_softmax_1_loss: 0.0523 - val_softmax_accuracy: 0.9896 - val_softmax_1_accuracy: 0.9849\n",
            "Epoch 25/100500\n",
            "8559/8559 - 216s - loss: 0.1738 - softmax_loss: 0.0885 - softmax_1_loss: 0.0852 - softmax_accuracy: 0.9710 - softmax_1_accuracy: 0.9723 - val_loss: 0.0836 - val_softmax_loss: 0.0353 - val_softmax_1_loss: 0.0484 - val_softmax_accuracy: 0.9905 - val_softmax_1_accuracy: 0.9863\n",
            "Epoch 26/100500\n",
            "8559/8559 - 218s - loss: 0.1735 - softmax_loss: 0.0885 - softmax_1_loss: 0.0850 - softmax_accuracy: 0.9712 - softmax_1_accuracy: 0.9724 - val_loss: 0.0868 - val_softmax_loss: 0.0407 - val_softmax_1_loss: 0.0461 - val_softmax_accuracy: 0.9887 - val_softmax_1_accuracy: 0.9866\n",
            "Epoch 27/100500\n",
            "8559/8559 - 222s - loss: 0.1706 - softmax_loss: 0.0868 - softmax_1_loss: 0.0838 - softmax_accuracy: 0.9717 - softmax_1_accuracy: 0.9728 - val_loss: 0.0792 - val_softmax_loss: 0.0357 - val_softmax_1_loss: 0.0435 - val_softmax_accuracy: 0.9917 - val_softmax_1_accuracy: 0.9875\n",
            "Epoch 28/100500\n",
            "8559/8559 - 220s - loss: 0.1703 - softmax_loss: 0.0869 - softmax_1_loss: 0.0835 - softmax_accuracy: 0.9717 - softmax_1_accuracy: 0.9730 - val_loss: 0.0791 - val_softmax_loss: 0.0367 - val_softmax_1_loss: 0.0424 - val_softmax_accuracy: 0.9896 - val_softmax_1_accuracy: 0.9872\n",
            "Epoch 29/100500\n",
            "8559/8559 - 220s - loss: 0.1677 - softmax_loss: 0.0853 - softmax_1_loss: 0.0824 - softmax_accuracy: 0.9721 - softmax_1_accuracy: 0.9730 - val_loss: 0.0843 - val_softmax_loss: 0.0391 - val_softmax_1_loss: 0.0452 - val_softmax_accuracy: 0.9872 - val_softmax_1_accuracy: 0.9884\n",
            "Epoch 30/100500\n",
            "8559/8559 - 217s - loss: 0.1674 - softmax_loss: 0.0854 - softmax_1_loss: 0.0820 - softmax_accuracy: 0.9721 - softmax_1_accuracy: 0.9734 - val_loss: 0.0877 - val_softmax_loss: 0.0420 - val_softmax_1_loss: 0.0458 - val_softmax_accuracy: 0.9887 - val_softmax_1_accuracy: 0.9866\n",
            "Epoch 31/100500\n",
            "8559/8559 - 218s - loss: 0.1667 - softmax_loss: 0.0850 - softmax_1_loss: 0.0816 - softmax_accuracy: 0.9723 - softmax_1_accuracy: 0.9732 - val_loss: 0.0853 - val_softmax_loss: 0.0366 - val_softmax_1_loss: 0.0486 - val_softmax_accuracy: 0.9908 - val_softmax_1_accuracy: 0.9857\n",
            "Epoch 32/100500\n",
            "8559/8559 - 218s - loss: 0.1660 - softmax_loss: 0.0843 - softmax_1_loss: 0.0817 - softmax_accuracy: 0.9725 - softmax_1_accuracy: 0.9734 - val_loss: 0.0846 - val_softmax_loss: 0.0381 - val_softmax_1_loss: 0.0465 - val_softmax_accuracy: 0.9902 - val_softmax_1_accuracy: 0.9875\n",
            "Epoch 33/100500\n",
            "8559/8559 - 222s - loss: 0.1640 - softmax_loss: 0.0834 - softmax_1_loss: 0.0806 - softmax_accuracy: 0.9728 - softmax_1_accuracy: 0.9737 - val_loss: 0.0893 - val_softmax_loss: 0.0424 - val_softmax_1_loss: 0.0469 - val_softmax_accuracy: 0.9878 - val_softmax_1_accuracy: 0.9872\n",
            "Epoch 34/100500\n",
            "8559/8559 - 220s - loss: 0.1640 - softmax_loss: 0.0841 - softmax_1_loss: 0.0799 - softmax_accuracy: 0.9725 - softmax_1_accuracy: 0.9739 - val_loss: 0.0871 - val_softmax_loss: 0.0368 - val_softmax_1_loss: 0.0502 - val_softmax_accuracy: 0.9896 - val_softmax_1_accuracy: 0.9881\n",
            "Epoch 35/100500\n",
            "8559/8559 - 220s - loss: 0.1637 - softmax_loss: 0.0835 - softmax_1_loss: 0.0801 - softmax_accuracy: 0.9728 - softmax_1_accuracy: 0.9739 - val_loss: 0.0846 - val_softmax_loss: 0.0377 - val_softmax_1_loss: 0.0468 - val_softmax_accuracy: 0.9905 - val_softmax_1_accuracy: 0.9878\n",
            "Epoch 36/100500\n",
            "8559/8559 - 217s - loss: 0.1631 - softmax_loss: 0.0830 - softmax_1_loss: 0.0801 - softmax_accuracy: 0.9728 - softmax_1_accuracy: 0.9738 - val_loss: 0.0853 - val_softmax_loss: 0.0385 - val_softmax_1_loss: 0.0468 - val_softmax_accuracy: 0.9893 - val_softmax_1_accuracy: 0.9869\n",
            "Epoch 37/100500\n",
            "8559/8559 - 218s - loss: 0.1613 - softmax_loss: 0.0823 - softmax_1_loss: 0.0790 - softmax_accuracy: 0.9732 - softmax_1_accuracy: 0.9743 - val_loss: 0.0846 - val_softmax_loss: 0.0403 - val_softmax_1_loss: 0.0443 - val_softmax_accuracy: 0.9899 - val_softmax_1_accuracy: 0.9872\n",
            "Epoch 38/100500\n",
            "8559/8559 - 216s - loss: 0.1607 - softmax_loss: 0.0825 - softmax_1_loss: 0.0782 - softmax_accuracy: 0.9731 - softmax_1_accuracy: 0.9745 - val_loss: 0.0926 - val_softmax_loss: 0.0423 - val_softmax_1_loss: 0.0503 - val_softmax_accuracy: 0.9881 - val_softmax_1_accuracy: 0.9863\n",
            "Epoch 39/100500\n",
            "8559/8559 - 214s - loss: 0.1605 - softmax_loss: 0.0821 - softmax_1_loss: 0.0784 - softmax_accuracy: 0.9732 - softmax_1_accuracy: 0.9744 - val_loss: 0.0868 - val_softmax_loss: 0.0372 - val_softmax_1_loss: 0.0496 - val_softmax_accuracy: 0.9905 - val_softmax_1_accuracy: 0.9860\n",
            "Epoch 40/100500\n",
            "8559/8559 - 217s - loss: 0.1593 - softmax_loss: 0.0813 - softmax_1_loss: 0.0779 - softmax_accuracy: 0.9735 - softmax_1_accuracy: 0.9746 - val_loss: 0.0836 - val_softmax_loss: 0.0410 - val_softmax_1_loss: 0.0426 - val_softmax_accuracy: 0.9899 - val_softmax_1_accuracy: 0.9890\n",
            "Epoch 41/100500\n",
            "8559/8559 - 220s - loss: 0.1600 - softmax_loss: 0.0815 - softmax_1_loss: 0.0786 - softmax_accuracy: 0.9734 - softmax_1_accuracy: 0.9743 - val_loss: 0.0828 - val_softmax_loss: 0.0387 - val_softmax_1_loss: 0.0441 - val_softmax_accuracy: 0.9893 - val_softmax_1_accuracy: 0.9872\n",
            "Epoch 42/100500\n",
            "8559/8559 - 219s - loss: 0.1586 - softmax_loss: 0.0812 - softmax_1_loss: 0.0774 - softmax_accuracy: 0.9736 - softmax_1_accuracy: 0.9748 - val_loss: 0.0816 - val_softmax_loss: 0.0358 - val_softmax_1_loss: 0.0458 - val_softmax_accuracy: 0.9893 - val_softmax_1_accuracy: 0.9875\n",
            "Epoch 43/100500\n",
            "8559/8559 - 219s - loss: 0.1564 - softmax_loss: 0.0800 - softmax_1_loss: 0.0765 - softmax_accuracy: 0.9738 - softmax_1_accuracy: 0.9751 - val_loss: 0.0845 - val_softmax_loss: 0.0365 - val_softmax_1_loss: 0.0480 - val_softmax_accuracy: 0.9899 - val_softmax_1_accuracy: 0.9860\n",
            "Epoch 44/100500\n",
            "8559/8559 - 217s - loss: 0.1584 - softmax_loss: 0.0811 - softmax_1_loss: 0.0773 - softmax_accuracy: 0.9735 - softmax_1_accuracy: 0.9748 - val_loss: 0.0831 - val_softmax_loss: 0.0373 - val_softmax_1_loss: 0.0459 - val_softmax_accuracy: 0.9893 - val_softmax_1_accuracy: 0.9872\n",
            "Epoch 45/100500\n",
            "8559/8559 - 217s - loss: 0.1564 - softmax_loss: 0.0794 - softmax_1_loss: 0.0770 - softmax_accuracy: 0.9740 - softmax_1_accuracy: 0.9750 - val_loss: 0.0868 - val_softmax_loss: 0.0390 - val_softmax_1_loss: 0.0478 - val_softmax_accuracy: 0.9887 - val_softmax_1_accuracy: 0.9866\n",
            "Epoch 46/100500\n",
            "8559/8559 - 217s - loss: 0.1569 - softmax_loss: 0.0803 - softmax_1_loss: 0.0766 - softmax_accuracy: 0.9739 - softmax_1_accuracy: 0.9752 - val_loss: 0.0761 - val_softmax_loss: 0.0331 - val_softmax_1_loss: 0.0430 - val_softmax_accuracy: 0.9899 - val_softmax_1_accuracy: 0.9869\n",
            "Epoch 47/100500\n",
            "8559/8559 - 216s - loss: 0.1557 - softmax_loss: 0.0795 - softmax_1_loss: 0.0762 - softmax_accuracy: 0.9742 - softmax_1_accuracy: 0.9750 - val_loss: 0.0775 - val_softmax_loss: 0.0360 - val_softmax_1_loss: 0.0415 - val_softmax_accuracy: 0.9911 - val_softmax_1_accuracy: 0.9899\n",
            "Epoch 48/100500\n",
            "8559/8559 - 218s - loss: 0.1540 - softmax_loss: 0.0788 - softmax_1_loss: 0.0752 - softmax_accuracy: 0.9744 - softmax_1_accuracy: 0.9755 - val_loss: 0.0755 - val_softmax_loss: 0.0323 - val_softmax_1_loss: 0.0432 - val_softmax_accuracy: 0.9890 - val_softmax_1_accuracy: 0.9881\n",
            "Epoch 49/100500\n",
            "8559/8559 - 217s - loss: 0.1556 - softmax_loss: 0.0795 - softmax_1_loss: 0.0761 - softmax_accuracy: 0.9740 - softmax_1_accuracy: 0.9751 - val_loss: 0.0781 - val_softmax_loss: 0.0376 - val_softmax_1_loss: 0.0405 - val_softmax_accuracy: 0.9890 - val_softmax_1_accuracy: 0.9887\n",
            "Epoch 50/100500\n",
            "8559/8559 - 217s - loss: 0.1528 - softmax_loss: 0.0785 - softmax_1_loss: 0.0743 - softmax_accuracy: 0.9743 - softmax_1_accuracy: 0.9758 - val_loss: 0.0800 - val_softmax_loss: 0.0345 - val_softmax_1_loss: 0.0455 - val_softmax_accuracy: 0.9899 - val_softmax_1_accuracy: 0.9872\n",
            "Epoch 51/100500\n",
            "8559/8559 - 220s - loss: 0.1538 - softmax_loss: 0.0786 - softmax_1_loss: 0.0752 - softmax_accuracy: 0.9743 - softmax_1_accuracy: 0.9756 - val_loss: 0.0827 - val_softmax_loss: 0.0360 - val_softmax_1_loss: 0.0467 - val_softmax_accuracy: 0.9890 - val_softmax_1_accuracy: 0.9872\n",
            "Epoch 52/100500\n",
            "8559/8559 - 217s - loss: 0.1538 - softmax_loss: 0.0784 - softmax_1_loss: 0.0754 - softmax_accuracy: 0.9745 - softmax_1_accuracy: 0.9755 - val_loss: 0.0852 - val_softmax_loss: 0.0371 - val_softmax_1_loss: 0.0480 - val_softmax_accuracy: 0.9899 - val_softmax_1_accuracy: 0.9881\n",
            "Epoch 53/100500\n",
            "8559/8559 - 218s - loss: 0.1523 - softmax_loss: 0.0774 - softmax_1_loss: 0.0748 - softmax_accuracy: 0.9749 - softmax_1_accuracy: 0.9757 - val_loss: 0.0801 - val_softmax_loss: 0.0353 - val_softmax_1_loss: 0.0448 - val_softmax_accuracy: 0.9902 - val_softmax_1_accuracy: 0.9860\n",
            "Epoch 54/100500\n",
            "8559/8559 - 217s - loss: 0.1512 - softmax_loss: 0.0771 - softmax_1_loss: 0.0741 - softmax_accuracy: 0.9748 - softmax_1_accuracy: 0.9758 - val_loss: 0.0788 - val_softmax_loss: 0.0375 - val_softmax_1_loss: 0.0413 - val_softmax_accuracy: 0.9890 - val_softmax_1_accuracy: 0.9887\n",
            "Epoch 55/100500\n",
            "8559/8559 - 219s - loss: 0.1514 - softmax_loss: 0.0777 - softmax_1_loss: 0.0736 - softmax_accuracy: 0.9747 - softmax_1_accuracy: 0.9760 - val_loss: 0.0833 - val_softmax_loss: 0.0374 - val_softmax_1_loss: 0.0459 - val_softmax_accuracy: 0.9905 - val_softmax_1_accuracy: 0.9887\n",
            "Epoch 56/100500\n",
            "8559/8559 - 216s - loss: 0.1509 - softmax_loss: 0.0772 - softmax_1_loss: 0.0737 - softmax_accuracy: 0.9749 - softmax_1_accuracy: 0.9758 - val_loss: 0.0826 - val_softmax_loss: 0.0375 - val_softmax_1_loss: 0.0451 - val_softmax_accuracy: 0.9905 - val_softmax_1_accuracy: 0.9881\n",
            "Epoch 57/100500\n",
            "8559/8559 - 219s - loss: 0.1505 - softmax_loss: 0.0768 - softmax_1_loss: 0.0736 - softmax_accuracy: 0.9750 - softmax_1_accuracy: 0.9760 - val_loss: 0.0811 - val_softmax_loss: 0.0396 - val_softmax_1_loss: 0.0415 - val_softmax_accuracy: 0.9878 - val_softmax_1_accuracy: 0.9884\n",
            "Epoch 58/100500\n",
            "8559/8559 - 218s - loss: 0.1524 - softmax_loss: 0.0778 - softmax_1_loss: 0.0746 - softmax_accuracy: 0.9745 - softmax_1_accuracy: 0.9755 - val_loss: 0.0776 - val_softmax_loss: 0.0341 - val_softmax_1_loss: 0.0436 - val_softmax_accuracy: 0.9905 - val_softmax_1_accuracy: 0.9878\n",
            "Epoch 59/100500\n",
            "8559/8559 - 219s - loss: 0.1501 - softmax_loss: 0.0764 - softmax_1_loss: 0.0737 - softmax_accuracy: 0.9751 - softmax_1_accuracy: 0.9760 - val_loss: 0.0937 - val_softmax_loss: 0.0415 - val_softmax_1_loss: 0.0523 - val_softmax_accuracy: 0.9890 - val_softmax_1_accuracy: 0.9866\n",
            "Epoch 60/100500\n",
            "8559/8559 - 219s - loss: 0.1482 - softmax_loss: 0.0756 - softmax_1_loss: 0.0726 - softmax_accuracy: 0.9753 - softmax_1_accuracy: 0.9764 - val_loss: 0.0809 - val_softmax_loss: 0.0347 - val_softmax_1_loss: 0.0462 - val_softmax_accuracy: 0.9911 - val_softmax_1_accuracy: 0.9869\n",
            "Epoch 61/100500\n",
            "8559/8559 - 218s - loss: 0.1496 - softmax_loss: 0.0766 - softmax_1_loss: 0.0730 - softmax_accuracy: 0.9750 - softmax_1_accuracy: 0.9761 - val_loss: 0.0826 - val_softmax_loss: 0.0375 - val_softmax_1_loss: 0.0451 - val_softmax_accuracy: 0.9893 - val_softmax_1_accuracy: 0.9875\n",
            "Epoch 62/100500\n",
            "8559/8559 - 220s - loss: 0.1497 - softmax_loss: 0.0766 - softmax_1_loss: 0.0731 - softmax_accuracy: 0.9751 - softmax_1_accuracy: 0.9762 - val_loss: 0.0804 - val_softmax_loss: 0.0335 - val_softmax_1_loss: 0.0469 - val_softmax_accuracy: 0.9908 - val_softmax_1_accuracy: 0.9872\n",
            "Epoch 63/100500\n",
            "8559/8559 - 216s - loss: 0.1476 - softmax_loss: 0.0755 - softmax_1_loss: 0.0721 - softmax_accuracy: 0.9753 - softmax_1_accuracy: 0.9764 - val_loss: 0.0785 - val_softmax_loss: 0.0353 - val_softmax_1_loss: 0.0432 - val_softmax_accuracy: 0.9902 - val_softmax_1_accuracy: 0.9881\n",
            "Epoch 64/100500\n",
            "8559/8559 - 217s - loss: 0.1469 - softmax_loss: 0.0753 - softmax_1_loss: 0.0716 - softmax_accuracy: 0.9755 - softmax_1_accuracy: 0.9766 - val_loss: 0.0803 - val_softmax_loss: 0.0326 - val_softmax_1_loss: 0.0477 - val_softmax_accuracy: 0.9905 - val_softmax_1_accuracy: 0.9866\n",
            "Epoch 65/100500\n",
            "8559/8559 - 217s - loss: 0.1488 - softmax_loss: 0.0756 - softmax_1_loss: 0.0732 - softmax_accuracy: 0.9754 - softmax_1_accuracy: 0.9761 - val_loss: 0.0767 - val_softmax_loss: 0.0329 - val_softmax_1_loss: 0.0437 - val_softmax_accuracy: 0.9902 - val_softmax_1_accuracy: 0.9878\n",
            "Epoch 66/100500\n",
            "8559/8559 - 220s - loss: 0.1466 - softmax_loss: 0.0750 - softmax_1_loss: 0.0716 - softmax_accuracy: 0.9754 - softmax_1_accuracy: 0.9767 - val_loss: 0.0813 - val_softmax_loss: 0.0351 - val_softmax_1_loss: 0.0462 - val_softmax_accuracy: 0.9905 - val_softmax_1_accuracy: 0.9872\n",
            "Epoch 67/100500\n",
            "8559/8559 - 219s - loss: 0.1487 - softmax_loss: 0.0762 - softmax_1_loss: 0.0725 - softmax_accuracy: 0.9752 - softmax_1_accuracy: 0.9764 - val_loss: 0.0791 - val_softmax_loss: 0.0360 - val_softmax_1_loss: 0.0431 - val_softmax_accuracy: 0.9896 - val_softmax_1_accuracy: 0.9878\n",
            "Epoch 68/100500\n",
            "8559/8559 - 219s - loss: 0.1479 - softmax_loss: 0.0757 - softmax_1_loss: 0.0723 - softmax_accuracy: 0.9755 - softmax_1_accuracy: 0.9765 - val_loss: 0.0816 - val_softmax_loss: 0.0361 - val_softmax_1_loss: 0.0455 - val_softmax_accuracy: 0.9896 - val_softmax_1_accuracy: 0.9884\n",
            "Epoch 69/100500\n",
            "8559/8559 - 213s - loss: 0.1468 - softmax_loss: 0.0751 - softmax_1_loss: 0.0718 - softmax_accuracy: 0.9755 - softmax_1_accuracy: 0.9767 - val_loss: 0.0819 - val_softmax_loss: 0.0359 - val_softmax_1_loss: 0.0460 - val_softmax_accuracy: 0.9911 - val_softmax_1_accuracy: 0.9869\n",
            "Epoch 70/100500\n",
            "8559/8559 - 220s - loss: 0.1469 - softmax_loss: 0.0750 - softmax_1_loss: 0.0719 - softmax_accuracy: 0.9755 - softmax_1_accuracy: 0.9765 - val_loss: 0.0748 - val_softmax_loss: 0.0321 - val_softmax_1_loss: 0.0427 - val_softmax_accuracy: 0.9929 - val_softmax_1_accuracy: 0.9884\n",
            "Epoch 71/100500\n",
            "8559/8559 - 216s - loss: 0.1471 - softmax_loss: 0.0756 - softmax_1_loss: 0.0715 - softmax_accuracy: 0.9752 - softmax_1_accuracy: 0.9767 - val_loss: 0.0804 - val_softmax_loss: 0.0346 - val_softmax_1_loss: 0.0458 - val_softmax_accuracy: 0.9896 - val_softmax_1_accuracy: 0.9869\n",
            "Epoch 72/100500\n",
            "8559/8559 - 217s - loss: 0.1459 - softmax_loss: 0.0748 - softmax_1_loss: 0.0711 - softmax_accuracy: 0.9757 - softmax_1_accuracy: 0.9768 - val_loss: 0.0819 - val_softmax_loss: 0.0348 - val_softmax_1_loss: 0.0471 - val_softmax_accuracy: 0.9896 - val_softmax_1_accuracy: 0.9884\n",
            "Epoch 73/100500\n",
            "8559/8559 - 217s - loss: 0.1457 - softmax_loss: 0.0744 - softmax_1_loss: 0.0712 - softmax_accuracy: 0.9757 - softmax_1_accuracy: 0.9768 - val_loss: 0.0757 - val_softmax_loss: 0.0329 - val_softmax_1_loss: 0.0428 - val_softmax_accuracy: 0.9911 - val_softmax_1_accuracy: 0.9887\n",
            "Epoch 74/100500\n",
            "8559/8559 - 218s - loss: 0.1442 - softmax_loss: 0.0736 - softmax_1_loss: 0.0706 - softmax_accuracy: 0.9760 - softmax_1_accuracy: 0.9770 - val_loss: 0.0796 - val_softmax_loss: 0.0360 - val_softmax_1_loss: 0.0436 - val_softmax_accuracy: 0.9896 - val_softmax_1_accuracy: 0.9875\n",
            "Epoch 75/100500\n",
            "8559/8559 - 222s - loss: 0.1455 - softmax_loss: 0.0743 - softmax_1_loss: 0.0712 - softmax_accuracy: 0.9756 - softmax_1_accuracy: 0.9765 - val_loss: 0.0830 - val_softmax_loss: 0.0355 - val_softmax_1_loss: 0.0475 - val_softmax_accuracy: 0.9917 - val_softmax_1_accuracy: 0.9881\n",
            "Epoch 76/100500\n",
            "8559/8559 - 220s - loss: 0.1446 - softmax_loss: 0.0740 - softmax_1_loss: 0.0706 - softmax_accuracy: 0.9757 - softmax_1_accuracy: 0.9770 - val_loss: 0.0809 - val_softmax_loss: 0.0360 - val_softmax_1_loss: 0.0448 - val_softmax_accuracy: 0.9902 - val_softmax_1_accuracy: 0.9890\n",
            "Epoch 77/100500\n",
            "8559/8559 - 220s - loss: 0.1449 - softmax_loss: 0.0742 - softmax_1_loss: 0.0706 - softmax_accuracy: 0.9758 - softmax_1_accuracy: 0.9769 - val_loss: 0.0788 - val_softmax_loss: 0.0365 - val_softmax_1_loss: 0.0423 - val_softmax_accuracy: 0.9899 - val_softmax_1_accuracy: 0.9881\n",
            "Epoch 78/100500\n",
            "8559/8559 - 216s - loss: 0.1448 - softmax_loss: 0.0742 - softmax_1_loss: 0.0707 - softmax_accuracy: 0.9758 - softmax_1_accuracy: 0.9770 - val_loss: 0.0730 - val_softmax_loss: 0.0335 - val_softmax_1_loss: 0.0395 - val_softmax_accuracy: 0.9917 - val_softmax_1_accuracy: 0.9881\n",
            "Epoch 79/100500\n",
            "8559/8559 - 219s - loss: 0.1443 - softmax_loss: 0.0738 - softmax_1_loss: 0.0705 - softmax_accuracy: 0.9759 - softmax_1_accuracy: 0.9771 - val_loss: 0.0754 - val_softmax_loss: 0.0341 - val_softmax_1_loss: 0.0413 - val_softmax_accuracy: 0.9908 - val_softmax_1_accuracy: 0.9878\n",
            "Epoch 80/100500\n",
            "8559/8559 - 219s - loss: 0.1426 - softmax_loss: 0.0729 - softmax_1_loss: 0.0697 - softmax_accuracy: 0.9761 - softmax_1_accuracy: 0.9772 - val_loss: 0.0770 - val_softmax_loss: 0.0331 - val_softmax_1_loss: 0.0439 - val_softmax_accuracy: 0.9908 - val_softmax_1_accuracy: 0.9878\n",
            "Epoch 81/100500\n",
            "8559/8559 - 217s - loss: 0.1420 - softmax_loss: 0.0725 - softmax_1_loss: 0.0695 - softmax_accuracy: 0.9763 - softmax_1_accuracy: 0.9773 - val_loss: 0.0738 - val_softmax_loss: 0.0323 - val_softmax_1_loss: 0.0416 - val_softmax_accuracy: 0.9911 - val_softmax_1_accuracy: 0.9884\n",
            "Epoch 82/100500\n",
            "8559/8559 - 216s - loss: 0.1440 - softmax_loss: 0.0736 - softmax_1_loss: 0.0704 - softmax_accuracy: 0.9762 - softmax_1_accuracy: 0.9770 - val_loss: 0.0753 - val_softmax_loss: 0.0327 - val_softmax_1_loss: 0.0427 - val_softmax_accuracy: 0.9905 - val_softmax_1_accuracy: 0.9884\n",
            "Epoch 83/100500\n",
            "8559/8559 - 221s - loss: 0.1439 - softmax_loss: 0.0740 - softmax_1_loss: 0.0699 - softmax_accuracy: 0.9757 - softmax_1_accuracy: 0.9772 - val_loss: 0.0768 - val_softmax_loss: 0.0338 - val_softmax_1_loss: 0.0430 - val_softmax_accuracy: 0.9902 - val_softmax_1_accuracy: 0.9872\n",
            "Epoch 84/100500\n",
            "8559/8559 - 220s - loss: 0.1423 - softmax_loss: 0.0728 - softmax_1_loss: 0.0695 - softmax_accuracy: 0.9763 - softmax_1_accuracy: 0.9773 - val_loss: 0.0819 - val_softmax_loss: 0.0338 - val_softmax_1_loss: 0.0481 - val_softmax_accuracy: 0.9908 - val_softmax_1_accuracy: 0.9881\n",
            "Epoch 85/100500\n",
            "8559/8559 - 217s - loss: 0.1441 - softmax_loss: 0.0737 - softmax_1_loss: 0.0704 - softmax_accuracy: 0.9760 - softmax_1_accuracy: 0.9771 - val_loss: 0.0795 - val_softmax_loss: 0.0326 - val_softmax_1_loss: 0.0469 - val_softmax_accuracy: 0.9905 - val_softmax_1_accuracy: 0.9872\n",
            "Epoch 86/100500\n",
            "8559/8559 - 216s - loss: 0.1421 - softmax_loss: 0.0726 - softmax_1_loss: 0.0696 - softmax_accuracy: 0.9763 - softmax_1_accuracy: 0.9772 - val_loss: 0.0810 - val_softmax_loss: 0.0343 - val_softmax_1_loss: 0.0467 - val_softmax_accuracy: 0.9902 - val_softmax_1_accuracy: 0.9878\n",
            "Epoch 87/100500\n",
            "8559/8559 - 216s - loss: 0.1405 - softmax_loss: 0.0722 - softmax_1_loss: 0.0683 - softmax_accuracy: 0.9765 - softmax_1_accuracy: 0.9776 - val_loss: 0.0781 - val_softmax_loss: 0.0344 - val_softmax_1_loss: 0.0436 - val_softmax_accuracy: 0.9905 - val_softmax_1_accuracy: 0.9884\n",
            "Epoch 88/100500\n",
            "8559/8559 - 216s - loss: 0.1424 - softmax_loss: 0.0727 - softmax_1_loss: 0.0696 - softmax_accuracy: 0.9762 - softmax_1_accuracy: 0.9774 - val_loss: 0.0802 - val_softmax_loss: 0.0363 - val_softmax_1_loss: 0.0438 - val_softmax_accuracy: 0.9908 - val_softmax_1_accuracy: 0.9887\n",
            "Epoch 89/100500\n",
            "8559/8559 - 223s - loss: 0.1403 - softmax_loss: 0.0718 - softmax_1_loss: 0.0684 - softmax_accuracy: 0.9765 - softmax_1_accuracy: 0.9777 - val_loss: 0.0780 - val_softmax_loss: 0.0338 - val_softmax_1_loss: 0.0442 - val_softmax_accuracy: 0.9905 - val_softmax_1_accuracy: 0.9872\n",
            "Epoch 90/100500\n",
            "8559/8559 - 219s - loss: 0.1416 - softmax_loss: 0.0728 - softmax_1_loss: 0.0688 - softmax_accuracy: 0.9762 - softmax_1_accuracy: 0.9776 - val_loss: 0.0795 - val_softmax_loss: 0.0348 - val_softmax_1_loss: 0.0447 - val_softmax_accuracy: 0.9902 - val_softmax_1_accuracy: 0.9884\n",
            "Epoch 91/100500\n",
            "8559/8559 - 220s - loss: 0.1410 - softmax_loss: 0.0720 - softmax_1_loss: 0.0689 - softmax_accuracy: 0.9767 - softmax_1_accuracy: 0.9774 - val_loss: 0.0812 - val_softmax_loss: 0.0338 - val_softmax_1_loss: 0.0474 - val_softmax_accuracy: 0.9908 - val_softmax_1_accuracy: 0.9869\n",
            "Epoch 92/100500\n",
            "8559/8559 - 220s - loss: 0.1403 - softmax_loss: 0.0716 - softmax_1_loss: 0.0687 - softmax_accuracy: 0.9767 - softmax_1_accuracy: 0.9776 - val_loss: 0.0858 - val_softmax_loss: 0.0358 - val_softmax_1_loss: 0.0500 - val_softmax_accuracy: 0.9890 - val_softmax_1_accuracy: 0.9872\n",
            "Epoch 93/100500\n",
            "8559/8559 - 218s - loss: 0.1399 - softmax_loss: 0.0722 - softmax_1_loss: 0.0677 - softmax_accuracy: 0.9765 - softmax_1_accuracy: 0.9778 - val_loss: 0.0854 - val_softmax_loss: 0.0386 - val_softmax_1_loss: 0.0468 - val_softmax_accuracy: 0.9890 - val_softmax_1_accuracy: 0.9872\n",
            "Epoch 94/100500\n",
            "8559/8559 - 220s - loss: 0.1397 - softmax_loss: 0.0714 - softmax_1_loss: 0.0682 - softmax_accuracy: 0.9766 - softmax_1_accuracy: 0.9776 - val_loss: 0.0802 - val_softmax_loss: 0.0349 - val_softmax_1_loss: 0.0453 - val_softmax_accuracy: 0.9908 - val_softmax_1_accuracy: 0.9875\n",
            "Epoch 95/100500\n",
            "8559/8559 - 219s - loss: 0.1387 - softmax_loss: 0.0711 - softmax_1_loss: 0.0676 - softmax_accuracy: 0.9768 - softmax_1_accuracy: 0.9780 - val_loss: 0.0783 - val_softmax_loss: 0.0322 - val_softmax_1_loss: 0.0460 - val_softmax_accuracy: 0.9905 - val_softmax_1_accuracy: 0.9884\n",
            "Epoch 96/100500\n",
            "8559/8559 - 217s - loss: 0.1412 - softmax_loss: 0.0724 - softmax_1_loss: 0.0688 - softmax_accuracy: 0.9763 - softmax_1_accuracy: 0.9775 - val_loss: 0.0866 - val_softmax_loss: 0.0380 - val_softmax_1_loss: 0.0486 - val_softmax_accuracy: 0.9890 - val_softmax_1_accuracy: 0.9869\n",
            "Epoch 97/100500\n",
            "8559/8559 - 217s - loss: 0.1396 - softmax_loss: 0.0717 - softmax_1_loss: 0.0679 - softmax_accuracy: 0.9766 - softmax_1_accuracy: 0.9777 - val_loss: 0.0813 - val_softmax_loss: 0.0351 - val_softmax_1_loss: 0.0461 - val_softmax_accuracy: 0.9902 - val_softmax_1_accuracy: 0.9872\n",
            "Epoch 98/100500\n",
            "8559/8559 - 219s - loss: 0.1397 - softmax_loss: 0.0712 - softmax_1_loss: 0.0684 - softmax_accuracy: 0.9768 - softmax_1_accuracy: 0.9777 - val_loss: 0.0781 - val_softmax_loss: 0.0321 - val_softmax_1_loss: 0.0461 - val_softmax_accuracy: 0.9914 - val_softmax_1_accuracy: 0.9875\n",
            "Epoch 99/100500\n",
            "8559/8559 - 215s - loss: 0.1393 - softmax_loss: 0.0711 - softmax_1_loss: 0.0682 - softmax_accuracy: 0.9767 - softmax_1_accuracy: 0.9777 - val_loss: 0.0807 - val_softmax_loss: 0.0338 - val_softmax_1_loss: 0.0469 - val_softmax_accuracy: 0.9905 - val_softmax_1_accuracy: 0.9881\n",
            "Epoch 100/100500\n",
            "8559/8559 - 216s - loss: 0.1388 - softmax_loss: 0.0710 - softmax_1_loss: 0.0678 - softmax_accuracy: 0.9768 - softmax_1_accuracy: 0.9779 - val_loss: 0.0746 - val_softmax_loss: 0.0320 - val_softmax_1_loss: 0.0425 - val_softmax_accuracy: 0.9914 - val_softmax_1_accuracy: 0.9893\n",
            "Epoch 101/100500\n",
            "8559/8559 - 213s - loss: 0.1390 - softmax_loss: 0.0711 - softmax_1_loss: 0.0680 - softmax_accuracy: 0.9769 - softmax_1_accuracy: 0.9780 - val_loss: 0.0795 - val_softmax_loss: 0.0330 - val_softmax_1_loss: 0.0465 - val_softmax_accuracy: 0.9899 - val_softmax_1_accuracy: 0.9881\n",
            "Epoch 102/100500\n",
            "8559/8559 - 217s - loss: 0.1387 - softmax_loss: 0.0713 - softmax_1_loss: 0.0674 - softmax_accuracy: 0.9768 - softmax_1_accuracy: 0.9780 - val_loss: 0.0796 - val_softmax_loss: 0.0349 - val_softmax_1_loss: 0.0446 - val_softmax_accuracy: 0.9893 - val_softmax_1_accuracy: 0.9887\n",
            "Epoch 103/100500\n",
            "8559/8559 - 219s - loss: 0.1378 - softmax_loss: 0.0709 - softmax_1_loss: 0.0669 - softmax_accuracy: 0.9769 - softmax_1_accuracy: 0.9781 - val_loss: 0.0778 - val_softmax_loss: 0.0334 - val_softmax_1_loss: 0.0443 - val_softmax_accuracy: 0.9911 - val_softmax_1_accuracy: 0.9893\n",
            "Epoch 104/100500\n",
            "8559/8559 - 222s - loss: 0.1406 - softmax_loss: 0.0723 - softmax_1_loss: 0.0683 - softmax_accuracy: 0.9766 - softmax_1_accuracy: 0.9776 - val_loss: 0.0802 - val_softmax_loss: 0.0340 - val_softmax_1_loss: 0.0462 - val_softmax_accuracy: 0.9896 - val_softmax_1_accuracy: 0.9896\n",
            "Epoch 105/100500\n",
            "8559/8559 - 216s - loss: 0.1379 - softmax_loss: 0.0707 - softmax_1_loss: 0.0671 - softmax_accuracy: 0.9769 - softmax_1_accuracy: 0.9784 - val_loss: 0.0828 - val_softmax_loss: 0.0360 - val_softmax_1_loss: 0.0468 - val_softmax_accuracy: 0.9899 - val_softmax_1_accuracy: 0.9881\n",
            "Epoch 106/100500\n",
            "8559/8559 - 218s - loss: 0.1384 - softmax_loss: 0.0712 - softmax_1_loss: 0.0672 - softmax_accuracy: 0.9767 - softmax_1_accuracy: 0.9780 - val_loss: 0.0811 - val_softmax_loss: 0.0364 - val_softmax_1_loss: 0.0447 - val_softmax_accuracy: 0.9896 - val_softmax_1_accuracy: 0.9887\n",
            "Epoch 107/100500\n",
            "8559/8559 - 218s - loss: 0.1384 - softmax_loss: 0.0709 - softmax_1_loss: 0.0675 - softmax_accuracy: 0.9769 - softmax_1_accuracy: 0.9781 - val_loss: 0.0799 - val_softmax_loss: 0.0328 - val_softmax_1_loss: 0.0471 - val_softmax_accuracy: 0.9905 - val_softmax_1_accuracy: 0.9875\n",
            "Epoch 108/100500\n",
            "8559/8559 - 218s - loss: 0.1356 - softmax_loss: 0.0696 - softmax_1_loss: 0.0660 - softmax_accuracy: 0.9773 - softmax_1_accuracy: 0.9784 - val_loss: 0.0799 - val_softmax_loss: 0.0333 - val_softmax_1_loss: 0.0466 - val_softmax_accuracy: 0.9908 - val_softmax_1_accuracy: 0.9887\n",
            "Epoch 109/100500\n",
            "8559/8559 - 220s - loss: 0.1374 - softmax_loss: 0.0704 - softmax_1_loss: 0.0670 - softmax_accuracy: 0.9770 - softmax_1_accuracy: 0.9781 - val_loss: 0.0828 - val_softmax_loss: 0.0347 - val_softmax_1_loss: 0.0481 - val_softmax_accuracy: 0.9908 - val_softmax_1_accuracy: 0.9872\n",
            "Epoch 110/100500\n",
            "8559/8559 - 221s - loss: 0.1388 - softmax_loss: 0.0713 - softmax_1_loss: 0.0675 - softmax_accuracy: 0.9768 - softmax_1_accuracy: 0.9779 - val_loss: 0.0752 - val_softmax_loss: 0.0327 - val_softmax_1_loss: 0.0425 - val_softmax_accuracy: 0.9905 - val_softmax_1_accuracy: 0.9890\n",
            "Epoch 111/100500\n",
            "8559/8559 - 216s - loss: 0.1364 - softmax_loss: 0.0698 - softmax_1_loss: 0.0666 - softmax_accuracy: 0.9771 - softmax_1_accuracy: 0.9783 - val_loss: 0.0810 - val_softmax_loss: 0.0370 - val_softmax_1_loss: 0.0440 - val_softmax_accuracy: 0.9902 - val_softmax_1_accuracy: 0.9887\n",
            "Epoch 112/100500\n",
            "8559/8559 - 219s - loss: 0.1372 - softmax_loss: 0.0702 - softmax_1_loss: 0.0670 - softmax_accuracy: 0.9771 - softmax_1_accuracy: 0.9781 - val_loss: 0.0767 - val_softmax_loss: 0.0350 - val_softmax_1_loss: 0.0417 - val_softmax_accuracy: 0.9896 - val_softmax_1_accuracy: 0.9899\n",
            "Epoch 113/100500\n",
            "8559/8559 - 218s - loss: 0.1379 - softmax_loss: 0.0709 - softmax_1_loss: 0.0670 - softmax_accuracy: 0.9769 - softmax_1_accuracy: 0.9782 - val_loss: 0.0761 - val_softmax_loss: 0.0338 - val_softmax_1_loss: 0.0423 - val_softmax_accuracy: 0.9917 - val_softmax_1_accuracy: 0.9896\n",
            "Epoch 114/100500\n",
            "8559/8559 - 218s - loss: 0.1374 - softmax_loss: 0.0706 - softmax_1_loss: 0.0668 - softmax_accuracy: 0.9769 - softmax_1_accuracy: 0.9782 - val_loss: 0.0800 - val_softmax_loss: 0.0349 - val_softmax_1_loss: 0.0451 - val_softmax_accuracy: 0.9902 - val_softmax_1_accuracy: 0.9890\n",
            "Epoch 115/100500\n",
            "8559/8559 - 214s - loss: 0.1348 - softmax_loss: 0.0692 - softmax_1_loss: 0.0656 - softmax_accuracy: 0.9774 - softmax_1_accuracy: 0.9785 - val_loss: 0.0836 - val_softmax_loss: 0.0380 - val_softmax_1_loss: 0.0456 - val_softmax_accuracy: 0.9890 - val_softmax_1_accuracy: 0.9896\n",
            "Epoch 116/100500\n",
            "8559/8559 - 215s - loss: 0.1353 - softmax_loss: 0.0691 - softmax_1_loss: 0.0662 - softmax_accuracy: 0.9774 - softmax_1_accuracy: 0.9783 - val_loss: 0.0792 - val_softmax_loss: 0.0367 - val_softmax_1_loss: 0.0425 - val_softmax_accuracy: 0.9905 - val_softmax_1_accuracy: 0.9896\n",
            "Epoch 117/100500\n",
            "8559/8559 - 218s - loss: 0.1371 - softmax_loss: 0.0705 - softmax_1_loss: 0.0665 - softmax_accuracy: 0.9770 - softmax_1_accuracy: 0.9783 - val_loss: 0.0803 - val_softmax_loss: 0.0356 - val_softmax_1_loss: 0.0447 - val_softmax_accuracy: 0.9908 - val_softmax_1_accuracy: 0.9893\n",
            "Epoch 118/100500\n",
            "8559/8559 - 218s - loss: 0.1375 - softmax_loss: 0.0704 - softmax_1_loss: 0.0671 - softmax_accuracy: 0.9769 - softmax_1_accuracy: 0.9780 - val_loss: 0.0754 - val_softmax_loss: 0.0321 - val_softmax_1_loss: 0.0433 - val_softmax_accuracy: 0.9911 - val_softmax_1_accuracy: 0.9890\n",
            "Epoch 119/100500\n",
            "8559/8559 - 217s - loss: 0.1352 - softmax_loss: 0.0690 - softmax_1_loss: 0.0662 - softmax_accuracy: 0.9774 - softmax_1_accuracy: 0.9784 - val_loss: 0.0837 - val_softmax_loss: 0.0353 - val_softmax_1_loss: 0.0484 - val_softmax_accuracy: 0.9905 - val_softmax_1_accuracy: 0.9887\n",
            "Epoch 120/100500\n",
            "8559/8559 - 218s - loss: 0.1360 - softmax_loss: 0.0695 - softmax_1_loss: 0.0665 - softmax_accuracy: 0.9772 - softmax_1_accuracy: 0.9784 - val_loss: 0.0828 - val_softmax_loss: 0.0361 - val_softmax_1_loss: 0.0467 - val_softmax_accuracy: 0.9899 - val_softmax_1_accuracy: 0.9887\n",
            "Epoch 121/100500\n",
            "8559/8559 - 215s - loss: 0.1364 - softmax_loss: 0.0701 - softmax_1_loss: 0.0662 - softmax_accuracy: 0.9771 - softmax_1_accuracy: 0.9782 - val_loss: 0.0821 - val_softmax_loss: 0.0341 - val_softmax_1_loss: 0.0480 - val_softmax_accuracy: 0.9911 - val_softmax_1_accuracy: 0.9866\n",
            "Epoch 122/100500\n",
            "8559/8559 - 224s - loss: 0.1345 - softmax_loss: 0.0691 - softmax_1_loss: 0.0655 - softmax_accuracy: 0.9774 - softmax_1_accuracy: 0.9787 - val_loss: 0.0777 - val_softmax_loss: 0.0322 - val_softmax_1_loss: 0.0455 - val_softmax_accuracy: 0.9890 - val_softmax_1_accuracy: 0.9878\n",
            "Epoch 123/100500\n",
            "8559/8559 - 218s - loss: 0.1375 - softmax_loss: 0.0708 - softmax_1_loss: 0.0667 - softmax_accuracy: 0.9771 - softmax_1_accuracy: 0.9782 - val_loss: 0.0751 - val_softmax_loss: 0.0319 - val_softmax_1_loss: 0.0431 - val_softmax_accuracy: 0.9911 - val_softmax_1_accuracy: 0.9890\n",
            "Epoch 124/100500\n",
            "8559/8559 - 215s - loss: 0.1351 - softmax_loss: 0.0690 - softmax_1_loss: 0.0661 - softmax_accuracy: 0.9773 - softmax_1_accuracy: 0.9785 - val_loss: 0.0767 - val_softmax_loss: 0.0352 - val_softmax_1_loss: 0.0415 - val_softmax_accuracy: 0.9905 - val_softmax_1_accuracy: 0.9905\n",
            "Epoch 125/100500\n",
            "8559/8559 - 215s - loss: 0.1345 - softmax_loss: 0.0687 - softmax_1_loss: 0.0658 - softmax_accuracy: 0.9777 - softmax_1_accuracy: 0.9785 - val_loss: 0.0821 - val_softmax_loss: 0.0365 - val_softmax_1_loss: 0.0456 - val_softmax_accuracy: 0.9914 - val_softmax_1_accuracy: 0.9893\n",
            "Epoch 126/100500\n",
            "8559/8559 - 219s - loss: 0.1338 - softmax_loss: 0.0689 - softmax_1_loss: 0.0649 - softmax_accuracy: 0.9775 - softmax_1_accuracy: 0.9788 - val_loss: 0.0858 - val_softmax_loss: 0.0368 - val_softmax_1_loss: 0.0489 - val_softmax_accuracy: 0.9911 - val_softmax_1_accuracy: 0.9878\n",
            "Epoch 127/100500\n",
            "8559/8559 - 215s - loss: 0.1344 - softmax_loss: 0.0690 - softmax_1_loss: 0.0654 - softmax_accuracy: 0.9775 - softmax_1_accuracy: 0.9787 - val_loss: 0.0796 - val_softmax_loss: 0.0352 - val_softmax_1_loss: 0.0444 - val_softmax_accuracy: 0.9902 - val_softmax_1_accuracy: 0.9887\n",
            "Epoch 128/100500\n",
            "8559/8559 - 219s - loss: 0.1358 - softmax_loss: 0.0697 - softmax_1_loss: 0.0661 - softmax_accuracy: 0.9773 - softmax_1_accuracy: 0.9784 - val_loss: 0.0783 - val_softmax_loss: 0.0365 - val_softmax_1_loss: 0.0418 - val_softmax_accuracy: 0.9902 - val_softmax_1_accuracy: 0.9896\n",
            "Restoring model weights from the end of the best epoch.\n",
            "Epoch 00128: early stopping\n"
          ],
          "name": "stdout"
        }
      ]
    },
    {
      "cell_type": "code",
      "metadata": {
        "id": "MpFpu5bZeYj4",
        "colab": {
          "base_uri": "https://localhost:8080/",
          "height": 573
        },
        "outputId": "daf45b95-41c4-4e85-903d-b01c38639d93"
      },
      "source": [
        "l = [k for k in history.history.keys() if k.endswith('accuracy')]\n",
        "for k in l:\n",
        "  plt.plot(history.history[k])\n",
        "plt.title('Model accuracy')\n",
        "plt.ylabel('Accuracy')\n",
        "plt.xlabel('Epoch')\n",
        "plt.legend(l, loc='lower right')\n",
        "plt.show()\n",
        "\n",
        "l = [k for k in history.history.keys() if k.endswith('loss')]\n",
        "for k in l:\n",
        "  plt.plot(history.history[k])\n",
        "plt.title('Model loss')\n",
        "plt.ylabel('Loss')\n",
        "plt.xlabel('Epoch')\n",
        "plt.legend(l, loc='upper right')\n",
        "plt.show()"
      ],
      "execution_count": 19,
      "outputs": [
        {
          "output_type": "display_data",
          "data": {
            "image/png": "[encoded data removed]",
            "text/plain": [
              "<Figure size 936x288 with 1 Axes>"
            ]
          },
          "metadata": {
            "tags": [],
            "needs_background": "light"
          }
        },
        {
          "output_type": "display_data",
          "data": {
            "image/png": "[encoded data removed]",
            "text/plain": [
              "<Figure size 936x288 with 1 Axes>"
            ]
          },
          "metadata": {
            "tags": [],
            "needs_background": "light"
          }
        }
      ]
    },
    {
      "cell_type": "code",
      "metadata": {
        "id": "PRNTkY9zZlUA",
        "colab": {
          "base_uri": "https://localhost:8080/"
        },
        "outputId": "54b551d0-2529-4acb-dd73-b52edb5c140a"
      },
      "source": [
        "results = model.evaluate(train_dataset, verbose=0)\n",
        "print('train loss, train acc:', results)\n",
        "\n",
        "results = model.evaluate(test_dataset, verbose=0)\n",
        "print('test loss, test acc:', results)\n",
        "\n",
        "results = model.evaluate(valid_dataset, verbose=0)\n",
        "print('valid loss, valid acc:', results)"
      ],
      "execution_count": 20,
      "outputs": [
        {
          "output_type": "stream",
          "text": [
            "train loss, train acc: [0.07900462299585342, 0.0404452420771122, 0.03855929523706436, 0.986760139465332, 0.9873964190483093]\n",
            "test loss, test acc: [0.1129082441329956, 0.052630480378866196, 0.06027777120471001, 0.9819772243499756, 0.9848926663398743]\n",
            "valid loss, valid acc: [0.07299594581127167, 0.03348136693239212, 0.03951457887887955, 0.9916864633560181, 0.9881235361099243]\n"
          ],
          "name": "stdout"
        }
      ]
    },
    {
      "cell_type": "code",
      "metadata": {
        "id": "eEHbBoAn80GD"
      },
      "source": [
        "def transfer_weights(dest, src):\n",
        "  for layer in dest.layers:\n",
        "    if layer.get_weights():\n",
        "      layer.set_weights(src.get_layer(name=layer.name).get_weights())"
      ],
      "execution_count": 21,
      "outputs": []
    },
    {
      "cell_type": "code",
      "metadata": {
        "id": "qoxh6ZXIt7Yl"
      },
      "source": [
        "ensamble_model = build_model(True)\n",
        "transfer_weights(ensamble_model, model)"
      ],
      "execution_count": 22,
      "outputs": []
    },
    {
      "cell_type": "code",
      "metadata": {
        "id": "82FeO4px4htt",
        "colab": {
          "base_uri": "https://localhost:8080/"
        },
        "outputId": "17f61e63-be51-4a90-895f-2fe7f3311aa5"
      },
      "source": [
        "conf_ds = test_dataset.concatenate(valid_dataset)\n",
        "matrix = tf.math.confusion_matrix(\n",
        "  list(conf_ds.unbatch().map(lambda x, y: y).as_numpy_iterator()),\n",
        "  ensamble_model.predict(conf_ds).argmax(axis=-1)).numpy()\n",
        "for r in matrix:\n",
        "  l = np.sum(r)\n",
        "  for i in r:\n",
        "    print(('%.2f' % (i / l)).replace('0.00', ' .  '), end = ' ')\n",
        "  print(\"|\", l)"
      ],
      "execution_count": 23,
      "outputs": [
        {
          "output_type": "stream",
          "text": [
            "0.98  .    .    .    .    .    .    .    .    .   0.01  .   | 603\n",
            " .   0.98  .    .    .    .    .    .    .   0.01 0.02  .   | 575\n",
            " .    .   0.98  .    .    .    .    .    .    .   0.02  .   | 564\n",
            " .    .    .   0.97  .    .   0.01  .    .    .   0.03  .   | 548\n",
            " .    .    .    .   0.97  .    .    .    .    .   0.03  .   | 605\n",
            " .    .    .    .    .   0.98  .    .    .    .   0.01  .   | 607\n",
            " .    .    .    .    .    .   0.99  .    .    .   0.01  .   | 462\n",
            " .    .    .    .    .    .    .   0.99  .    .   0.01  .   | 574\n",
            " .    .    .    .    .    .    .    .   1.00  .    .    .   | 547\n",
            " .    .    .    .    .    .    .    .    .   0.99 0.01  .   | 596\n",
            " .   0.01  .    .    .    .    .    .    .    .   0.98  .   | 730\n",
            " .    .    .    .    .    .    .    .    .    .    .   1.00 | 730\n"
          ],
          "name": "stdout"
        }
      ]
    },
    {
      "cell_type": "code",
      "metadata": {
        "id": "mZIW5naa6_vB",
        "colab": {
          "base_uri": "https://localhost:8080/"
        },
        "outputId": "57b5c006-461e-44cc-c91d-3ea471b26e8e"
      },
      "source": [
        "converter = tf.lite.TFLiteConverter.from_keras_model(ensamble_model)\n",
        "tflite_model = converter.convert()\n",
        "with open(\"dcnn.tflite\", \"wb\") as f:\n",
        "  f.write(tflite_model)"
      ],
      "execution_count": 24,
      "outputs": [
        {
          "output_type": "stream",
          "text": [
            "INFO:tensorflow:Assets written to: /tmp/tmpzuclyz6w/assets\n"
          ],
          "name": "stdout"
        }
      ]
    },
    {
      "cell_type": "code",
      "metadata": {
        "id": "poOpt-k7ftvy"
      },
      "source": [
        "from google.colab import drive\n",
        "drive.mount('/content/gdrive')"
      ],
      "execution_count": null,
      "outputs": []
    },
    {
      "cell_type": "code",
      "metadata": {
        "id": "kqQTwS1xfutn",
        "colab": {
          "base_uri": "https://localhost:8080/"
        },
        "outputId": "d46c6534-562c-43b6-ee6e-8fd99547ecbd"
      },
      "source": [
        "!md5sum 'dcnn.tflite'\n",
        "!mv 'dcnn.tflite' '/content/gdrive/My Drive/0-9.edcnn.47.tflite'"
      ],
      "execution_count": 26,
      "outputs": [
        {
          "output_type": "stream",
          "text": [
            "aef413dee414573c8f8fe0ecb5ad3c0b  dcnn.tflite\n"
          ],
          "name": "stdout"
        }
      ]
    }
  ]
}