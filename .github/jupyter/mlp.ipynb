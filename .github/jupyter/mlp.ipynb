{
 "cells": [
  {
   "cell_type": "code",
   "execution_count": 27,
   "metadata": {
    "colab": {},
    "colab_type": "code",
    "id": "l_6NYiKJ7qzN"
   },
   "outputs": [],
   "source": [
    "# https://github.com/42io/dataset/tree/master/google_speech_commands#numpy-example\n",
    "DATASET_FILE = '1gmnWx2we0I-RNiWSvIRN7RzUrJrSp_uQ' # 0-9up.npz"
   ]
  },
  {
   "cell_type": "code",
   "execution_count": 28,
   "metadata": {},
   "outputs": [],
   "source": [
    "!test -f \"$DATASET_FILE\" || sudo pip install gdown"
   ]
  },
  {
   "cell_type": "code",
   "execution_count": 29,
   "metadata": {
    "colab": {
     "base_uri": "https://localhost:8080/",
     "height": 88
    },
    "colab_type": "code",
    "executionInfo": {
     "elapsed": 170068,
     "status": "ok",
     "timestamp": 1577980982385,
     "user": {
      "displayName": "Oleg Mazko",
      "photoUrl": "",
      "userId": "15659249211060430752"
     },
     "user_tz": -120
    },
    "id": "J4KjyC2X_ZyQ",
    "outputId": "42b11e5d-203d-4414-8c9e-1279a7382e7d"
   },
   "outputs": [],
   "source": [
    "!test -f \"$DATASET_FILE\" || gdown --id \"$DATASET_FILE\" -O \"$DATASET_FILE\""
   ]
  },
  {
   "cell_type": "code",
   "execution_count": 30,
   "metadata": {
    "colab": {},
    "colab_type": "code",
    "id": "kIdWKJAOu_p9"
   },
   "outputs": [],
   "source": [
    "import subprocess\n",
    "assert(b'cb126d837b86b1f6baf5c8268804877a' == subprocess.run(['md5sum', DATASET_FILE], stdout=subprocess.PIPE).stdout.split()[0])"
   ]
  },
  {
   "cell_type": "code",
   "execution_count": 31,
   "metadata": {
    "colab": {
     "base_uri": "https://localhost:8080/",
     "height": 70
    },
    "colab_type": "code",
    "executionInfo": {
     "elapsed": 194396,
     "status": "ok",
     "timestamp": 1577981006871,
     "user": {
      "displayName": "Oleg Mazko",
      "photoUrl": "",
      "userId": "15659249211060430752"
     },
     "user_tz": -120
    },
    "id": "5T3UOLCpGUmg",
    "outputId": "3700201b-e7b9-4885-e7e9-e4c61ab1071e"
   },
   "outputs": [],
   "source": [
    "import numpy as np\n",
    "from tensorflow import keras as keras"
   ]
  },
  {
   "cell_type": "code",
   "execution_count": 32,
   "metadata": {
    "colab": {
     "base_uri": "https://localhost:8080/",
     "height": 35
    },
    "colab_type": "code",
    "executionInfo": {
     "elapsed": 10394,
     "status": "ok",
     "timestamp": 1577981017275,
     "user": {
      "displayName": "Oleg Mazko",
      "photoUrl": "",
      "userId": "15659249211060430752"
     },
     "user_tz": -120
    },
    "id": "b7CYwmbKGb0h",
    "outputId": "7d8d773c-1818-4b19-a639-f0104b35cac3"
   },
   "outputs": [
    {
     "name": "stdout",
     "output_type": "stream",
     "text": [
      "(1095480, 637)\n"
     ]
    }
   ],
   "source": [
    "dset = np.load(DATASET_FILE)\n",
    "print(dset['x_train'].shape)"
   ]
  },
  {
   "cell_type": "code",
   "execution_count": 33,
   "metadata": {
    "colab": {
     "base_uri": "https://localhost:8080/",
     "height": 1000
    },
    "colab_type": "code",
    "id": "2mZMarEqIHF1",
    "outputId": "95f5995a-6b6a-4f0e-f870-39b282a1b5f4",
    "scrolled": false
   },
   "outputs": [
    {
     "name": "stdout",
     "output_type": "stream",
     "text": [
      "Model: \"sequential_2\"\n",
      "_________________________________________________________________\n",
      "Layer (type)                 Output Shape              Param #   \n",
      "=================================================================\n",
      "dense_6 (Dense)              (None, 64)                40832     \n",
      "_________________________________________________________________\n",
      "dropout_2 (Dropout)          (None, 64)                0         \n",
      "_________________________________________________________________\n",
      "dense_7 (Dense)              (None, 128)               8320      \n",
      "_________________________________________________________________\n",
      "dropout_3 (Dropout)          (None, 128)               0         \n",
      "_________________________________________________________________\n",
      "dense_8 (Dense)              (None, 12)                1548      \n",
      "=================================================================\n",
      "Total params: 50,700\n",
      "Trainable params: 50,700\n",
      "Non-trainable params: 0\n",
      "_________________________________________________________________\n",
      "Train on 1095480 samples, validate on 3368 samples\n",
      "Epoch 1/150\n",
      "1095480/1095480 - 75s - loss: 0.8066 - accuracy: 0.7452 - val_loss: 0.4723 - val_accuracy: 0.8575\n",
      "Epoch 2/150\n",
      "1095480/1095480 - 75s - loss: 0.6091 - accuracy: 0.8089 - val_loss: 0.4414 - val_accuracy: 0.8631\n",
      "Epoch 3/150\n",
      "1095480/1095480 - 75s - loss: 0.5791 - accuracy: 0.8194 - val_loss: 0.4425 - val_accuracy: 0.8631\n",
      "Epoch 4/150\n",
      "1095480/1095480 - 74s - loss: 0.5633 - accuracy: 0.8252 - val_loss: 0.4491 - val_accuracy: 0.8679\n",
      "Epoch 5/150\n",
      "1095480/1095480 - 74s - loss: 0.5543 - accuracy: 0.8284 - val_loss: 0.4509 - val_accuracy: 0.8631\n",
      "Epoch 6/150\n",
      "1095480/1095480 - 75s - loss: 0.5461 - accuracy: 0.8313 - val_loss: 0.4488 - val_accuracy: 0.8655\n",
      "Epoch 7/150\n",
      "1095480/1095480 - 75s - loss: 0.5398 - accuracy: 0.8339 - val_loss: 0.4495 - val_accuracy: 0.8649\n",
      "Epoch 8/150\n",
      "1095480/1095480 - 74s - loss: 0.5359 - accuracy: 0.8353 - val_loss: 0.4312 - val_accuracy: 0.8637\n",
      "Epoch 9/150\n",
      "1095480/1095480 - 74s - loss: 0.5326 - accuracy: 0.8361 - val_loss: 0.5052 - val_accuracy: 0.8602\n",
      "Epoch 10/150\n",
      "1095480/1095480 - 74s - loss: 0.5295 - accuracy: 0.8375 - val_loss: 0.4690 - val_accuracy: 0.8587\n",
      "Epoch 11/150\n",
      "1095480/1095480 - 76s - loss: 0.5260 - accuracy: 0.8392 - val_loss: 0.4790 - val_accuracy: 0.8590\n",
      "Epoch 12/150\n",
      "1095480/1095480 - 74s - loss: 0.5228 - accuracy: 0.8398 - val_loss: 0.4636 - val_accuracy: 0.8691\n",
      "Epoch 13/150\n",
      "1095480/1095480 - 74s - loss: 0.5202 - accuracy: 0.8410 - val_loss: 0.4569 - val_accuracy: 0.8613\n",
      "Epoch 14/150\n",
      "1095480/1095480 - 74s - loss: 0.5200 - accuracy: 0.8414 - val_loss: 0.4699 - val_accuracy: 0.8640\n",
      "Epoch 15/150\n",
      "1095480/1095480 - 75s - loss: 0.5177 - accuracy: 0.8415 - val_loss: 0.4532 - val_accuracy: 0.8607\n",
      "Epoch 16/150\n",
      "1095480/1095480 - 73s - loss: 0.5174 - accuracy: 0.8422 - val_loss: 0.4382 - val_accuracy: 0.8679\n",
      "Epoch 17/150\n",
      "1095480/1095480 - 74s - loss: 0.5147 - accuracy: 0.8428 - val_loss: 0.4415 - val_accuracy: 0.8697\n",
      "Epoch 18/150\n",
      "1095480/1095480 - 74s - loss: 0.5148 - accuracy: 0.8432 - val_loss: 0.4768 - val_accuracy: 0.8572\n",
      "Epoch 19/150\n",
      "1095480/1095480 - 76s - loss: 0.5148 - accuracy: 0.8437 - val_loss: 0.4754 - val_accuracy: 0.8605\n",
      "Epoch 20/150\n",
      "1095480/1095480 - 74s - loss: 0.5130 - accuracy: 0.8438 - val_loss: 0.4751 - val_accuracy: 0.8637\n",
      "Epoch 21/150\n",
      "1095480/1095480 - 74s - loss: 0.5110 - accuracy: 0.8452 - val_loss: 0.4565 - val_accuracy: 0.8637\n",
      "Epoch 22/150\n",
      "1095480/1095480 - 74s - loss: 0.5111 - accuracy: 0.8446 - val_loss: 0.4710 - val_accuracy: 0.8673\n",
      "Epoch 23/150\n",
      "1095480/1095480 - 74s - loss: 0.5100 - accuracy: 0.8449 - val_loss: 0.5120 - val_accuracy: 0.8504\n",
      "Epoch 24/150\n",
      "1095480/1095480 - 75s - loss: 0.5085 - accuracy: 0.8456 - val_loss: 0.4836 - val_accuracy: 0.8625\n",
      "Epoch 25/150\n",
      "1095480/1095480 - 74s - loss: 0.5087 - accuracy: 0.8460 - val_loss: 0.4823 - val_accuracy: 0.8625\n",
      "Epoch 26/150\n",
      "1095480/1095480 - 74s - loss: 0.5082 - accuracy: 0.8462 - val_loss: 0.4603 - val_accuracy: 0.8720\n",
      "Epoch 27/150\n",
      "1095480/1095480 - 84s - loss: 0.5088 - accuracy: 0.8460 - val_loss: 0.4949 - val_accuracy: 0.8610\n",
      "Epoch 28/150\n",
      "1095480/1095480 - 75s - loss: 0.5066 - accuracy: 0.8468 - val_loss: 0.4705 - val_accuracy: 0.8596\n",
      "Epoch 29/150\n",
      "1095480/1095480 - 74s - loss: 0.5070 - accuracy: 0.8470 - val_loss: 0.4959 - val_accuracy: 0.8610\n",
      "Epoch 30/150\n",
      "1095480/1095480 - 74s - loss: 0.5066 - accuracy: 0.8472 - val_loss: 0.4875 - val_accuracy: 0.8661\n",
      "Epoch 31/150\n",
      "1095480/1095480 - 75s - loss: 0.5046 - accuracy: 0.8479 - val_loss: 0.4883 - val_accuracy: 0.8682\n",
      "Epoch 32/150\n",
      "1095480/1095480 - 75s - loss: 0.5044 - accuracy: 0.8479 - val_loss: 0.4648 - val_accuracy: 0.8652\n",
      "Epoch 33/150\n",
      "Restoring model weights from the end of the best epoch.\n",
      "1095480/1095480 - 74s - loss: 0.5042 - accuracy: 0.8480 - val_loss: 0.4795 - val_accuracy: 0.8637\n",
      "Epoch 00033: early stopping\n"
     ]
    }
   ],
   "source": [
    "model = keras.Sequential()\n",
    "model.add(keras.layers.Dense(64, activation='relu', input_shape=(637,)))\n",
    "model.add(keras.layers.Dropout(0.1))\n",
    "model.add(keras.layers.Dense(128, activation='relu'))\n",
    "model.add(keras.layers.Dropout(0.1))\n",
    "model.add(keras.layers.Dense(12, activation='softmax'))\n",
    "\n",
    "model.summary()\n",
    "\n",
    "model.compile(loss=keras.losses.categorical_crossentropy,\n",
    "              optimizer=keras.optimizers.Adam(),\n",
    "              metrics=['accuracy'])\n",
    "\n",
    "early_stopping = keras.callbacks.EarlyStopping(\n",
    "        monitor='val_loss',\n",
    "        mode='min',\n",
    "        verbose=1,\n",
    "        patience=25,\n",
    "        restore_best_weights=True)\n",
    "\n",
    "history = model.fit(dset['x_train'],\n",
    "                    keras.utils.to_categorical(dset['y_train']),\n",
    "                    validation_data=(dset['x_valid'], keras.utils.to_categorical(dset['y_valid'])),\n",
    "                    callbacks=[early_stopping],\n",
    "                    verbose=2,\n",
    "                    epochs=150)"
   ]
  },
  {
   "cell_type": "code",
   "execution_count": 34,
   "metadata": {
    "colab": {
     "base_uri": "https://localhost:8080/",
     "height": 238
    },
    "colab_type": "code",
    "executionInfo": {
     "elapsed": 1406,
     "status": "error",
     "timestamp": 1577942121787,
     "user": {
      "displayName": "Oleg Mazko",
      "photoUrl": "",
      "userId": "15659249211060430752"
     },
     "user_tz": -120
    },
    "id": "PRNTkY9zZlUA",
    "outputId": "1e7af9c6-eeb9-47aa-84e2-0edbd703f146"
   },
   "outputs": [
    {
     "name": "stdout",
     "output_type": "stream",
     "text": [
      "train loss, train acc: [0.3647801303122064, 0.88563824]\n",
      "test loss, test acc: [0.4835639501929978, 0.8489266]\n",
      "valid loss, valid acc: [0.431150280009964, 0.8637173]\n"
     ]
    }
   ],
   "source": [
    "results = model.evaluate(dset['x_train'], keras.utils.to_categorical(dset['y_train']), verbose=0)\n",
    "print('train loss, train acc:', results)\n",
    "\n",
    "results = model.evaluate(dset['x_test'], keras.utils.to_categorical(dset['y_test']), verbose=0)\n",
    "print('test loss, test acc:', results)\n",
    "\n",
    "results = model.evaluate(dset['x_valid'], keras.utils.to_categorical(dset['y_valid']), verbose=0)\n",
    "print('valid loss, valid acc:', results)"
   ]
  },
  {
   "cell_type": "code",
   "execution_count": 35,
   "metadata": {
    "colab": {},
    "colab_type": "code",
    "id": "7JE3mAdnX8MW",
    "scrolled": true
   },
   "outputs": [
    {
     "name": "stdout",
     "output_type": "stream",
     "text": [
      "570 3773\n",
      "459 3368\n"
     ]
    }
   ],
   "source": [
    "assert(len(dset['x_test']) + len(dset['x_valid']) == 7141)\n",
    "pred = model.predict_classes(dset['x_test'])\n",
    "print(np.sum(pred != dset['y_test']), len(pred))\n",
    "pred = model.predict_classes(dset['x_valid'])\n",
    "print(np.sum(pred != dset['y_valid']), len(pred))"
   ]
  },
  {
   "cell_type": "code",
   "execution_count": 36,
   "metadata": {
    "colab": {},
    "colab_type": "code",
    "id": "MpFpu5bZeYj4"
   },
   "outputs": [
    {
     "name": "stdout",
     "output_type": "stream",
     "text": [
      "dict_keys(['loss', 'accuracy', 'val_loss', 'val_accuracy'])\n"
     ]
    },
    {
     "data": {
      "image/png": "[encoded data removed]",
      "text/plain": [
       "<Figure size 432x288 with 1 Axes>"
      ]
     },
     "metadata": {
      "needs_background": "light"
     },
     "output_type": "display_data"
    },
    {
     "data": {
      "image/png": "[encoded data removed]",
      "text/plain": [
       "<Figure size 432x288 with 1 Axes>"
      ]
     },
     "metadata": {
      "needs_background": "light"
     },
     "output_type": "display_data"
    }
   ],
   "source": [
    "print(history.history.keys())\n",
    "\n",
    "%matplotlib inline\n",
    "\n",
    "import matplotlib.pyplot as plt\n",
    "\n",
    "# Plot training & validation accuracy values\n",
    "plt.plot(history.history['accuracy'])\n",
    "plt.plot(history.history['val_accuracy'])\n",
    "plt.title('Model accuracy')\n",
    "plt.ylabel('Accuracy')\n",
    "plt.xlabel('Epoch')\n",
    "plt.legend(['Train', 'Valid'], loc='lower right')\n",
    "plt.show()\n",
    "\n",
    "# Plot training & validation loss values\n",
    "plt.plot(history.history['loss'])\n",
    "plt.plot(history.history['val_loss'])\n",
    "plt.title('Model loss')\n",
    "plt.ylabel('Loss')\n",
    "plt.xlabel('Epoch')\n",
    "plt.legend(['Train', 'Valid'], loc='upper right')\n",
    "plt.show()"
   ]
  },
  {
   "cell_type": "code",
   "execution_count": 37,
   "metadata": {
    "colab": {},
    "colab_type": "code",
    "id": "mZIW5naa6_vB"
   },
   "outputs": [
    {
     "name": "stdout",
     "output_type": "stream",
     "text": [
      "2.1.0\n"
     ]
    }
   ],
   "source": [
    "import tensorflow as tf\n",
    "print(tf.__version__)\n",
    "\n",
    "# Convert the model to the TensorFlow Lite format without quantization\n",
    "converter = tf.lite.TFLiteConverter.from_keras_model(model)\n",
    "tflite_model = converter.convert()"
   ]
  },
  {
   "cell_type": "code",
   "execution_count": 38,
   "metadata": {
    "colab": {},
    "colab_type": "code",
    "id": "kqQTwS1xfutn"
   },
   "outputs": [
    {
     "name": "stdout",
     "output_type": "stream",
     "text": [
      "de9427f39dfe73b1b02b215eee8c7506  ./models/mlp.tflite\r\n"
     ]
    }
   ],
   "source": [
    "!mkdir -p './models'\n",
    "with open(\"./models/mlp.tflite\", \"wb\") as f:\n",
    "  f.write(tflite_model)\n",
    "!md5sum ./models/mlp.tflite"
   ]
  }
 ],
 "metadata": {
  "colab": {
   "collapsed_sections": [],
   "machine_shape": "hm",
   "name": "rnn.ipynb",
   "provenance": [
    {
     "file_id": "16AjIBb7qb3F01QnAeEM3qHLU0mw5qFfN",
     "timestamp": 1576226746260
    }
   ]
  },
  "kernelspec": {
   "display_name": "Python 3",
   "language": "python",
   "name": "python3"
  },
  "language_info": {
   "codemirror_mode": {
    "name": "ipython",
    "version": 3
   },
   "file_extension": ".py",
   "mimetype": "text/x-python",
   "name": "python",
   "nbconvert_exporter": "python",
   "pygments_lexer": "ipython3",
   "version": "3.6.9"
  }
 },
 "nbformat": 4,
 "nbformat_minor": 4
}
