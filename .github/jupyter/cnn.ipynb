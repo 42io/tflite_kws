{
 "cells": [
  {
   "cell_type": "code",
   "execution_count": 1,
   "metadata": {
    "colab": {},
    "colab_type": "code",
    "id": "l_6NYiKJ7qzN"
   },
   "outputs": [],
   "source": [
    "# https://github.com/42io/dataset/tree/master/google_speech_commands#numpy-example\n",
    "DATASET_FILE = '1gmnWx2we0I-RNiWSvIRN7RzUrJrSp_uQ' # 0-9up.npz"
   ]
  },
  {
   "cell_type": "code",
   "execution_count": 2,
   "metadata": {},
   "outputs": [],
   "source": [
    "!test -f \"$DATASET_FILE\" || sudo pip install gdown"
   ]
  },
  {
   "cell_type": "code",
   "execution_count": 3,
   "metadata": {
    "colab": {
     "base_uri": "https://localhost:8080/",
     "height": 88
    },
    "colab_type": "code",
    "executionInfo": {
     "elapsed": 170068,
     "status": "ok",
     "timestamp": 1577980982385,
     "user": {
      "displayName": "Oleg Mazko",
      "photoUrl": "",
      "userId": "15659249211060430752"
     },
     "user_tz": -120
    },
    "id": "J4KjyC2X_ZyQ",
    "outputId": "42b11e5d-203d-4414-8c9e-1279a7382e7d"
   },
   "outputs": [],
   "source": [
    "!test -f \"$DATASET_FILE\" || gdown --id \"$DATASET_FILE\" -O \"$DATASET_FILE\""
   ]
  },
  {
   "cell_type": "code",
   "execution_count": 4,
   "metadata": {
    "colab": {},
    "colab_type": "code",
    "id": "kIdWKJAOu_p9"
   },
   "outputs": [],
   "source": [
    "import subprocess\n",
    "assert(b'cb126d837b86b1f6baf5c8268804877a' == subprocess.run(['md5sum', DATASET_FILE], stdout=subprocess.PIPE).stdout.split()[0])"
   ]
  },
  {
   "cell_type": "code",
   "execution_count": 5,
   "metadata": {
    "colab": {
     "base_uri": "https://localhost:8080/",
     "height": 70
    },
    "colab_type": "code",
    "executionInfo": {
     "elapsed": 194396,
     "status": "ok",
     "timestamp": 1577981006871,
     "user": {
      "displayName": "Oleg Mazko",
      "photoUrl": "",
      "userId": "15659249211060430752"
     },
     "user_tz": -120
    },
    "id": "5T3UOLCpGUmg",
    "outputId": "3700201b-e7b9-4885-e7e9-e4c61ab1071e"
   },
   "outputs": [],
   "source": [
    "import numpy as np\n",
    "from tensorflow import keras as keras"
   ]
  },
  {
   "cell_type": "code",
   "execution_count": 6,
   "metadata": {
    "colab": {
     "base_uri": "https://localhost:8080/",
     "height": 35
    },
    "colab_type": "code",
    "executionInfo": {
     "elapsed": 10394,
     "status": "ok",
     "timestamp": 1577981017275,
     "user": {
      "displayName": "Oleg Mazko",
      "photoUrl": "",
      "userId": "15659249211060430752"
     },
     "user_tz": -120
    },
    "id": "b7CYwmbKGb0h",
    "outputId": "7d8d773c-1818-4b19-a639-f0104b35cac3"
   },
   "outputs": [
    {
     "name": "stdout",
     "output_type": "stream",
     "text": [
      "(1095480, 637)\n"
     ]
    }
   ],
   "source": [
    "dset = np.load(DATASET_FILE)\n",
    "print(dset['x_train'].shape)"
   ]
  },
  {
   "cell_type": "code",
   "execution_count": 7,
   "metadata": {
    "colab": {},
    "colab_type": "code",
    "id": "tus9FNQ1pYnO"
   },
   "outputs": [],
   "source": [
    "x_train_4d = dset['x_train'].reshape(len(dset['x_train']), 49, 13, 1)\n",
    "x_test_4d = dset['x_test'].reshape(len(dset['x_test']), 49, 13, 1)\n",
    "x_valid_4d = dset['x_valid'].reshape(len(dset['x_valid']), 49, 13, 1)"
   ]
  },
  {
   "cell_type": "code",
   "execution_count": 8,
   "metadata": {
    "colab": {
     "base_uri": "https://localhost:8080/",
     "height": 1000
    },
    "colab_type": "code",
    "id": "2mZMarEqIHF1",
    "outputId": "95f5995a-6b6a-4f0e-f870-39b282a1b5f4"
   },
   "outputs": [
    {
     "name": "stdout",
     "output_type": "stream",
     "text": [
      "Model: \"sequential\"\n",
      "_________________________________________________________________\n",
      "Layer (type)                 Output Shape              Param #   \n",
      "=================================================================\n",
      "conv2d (Conv2D)              (None, 37, 6, 32)         3360      \n",
      "_________________________________________________________________\n",
      "dropout (Dropout)            (None, 37, 6, 32)         0         \n",
      "_________________________________________________________________\n",
      "conv2d_1 (Conv2D)            (None, 30, 1, 64)         98368     \n",
      "_________________________________________________________________\n",
      "max_pooling2d (MaxPooling2D) (None, 15, 1, 64)         0         \n",
      "_________________________________________________________________\n",
      "flatten (Flatten)            (None, 960)               0         \n",
      "_________________________________________________________________\n",
      "dense (Dense)                (None, 128)               123008    \n",
      "_________________________________________________________________\n",
      "dropout_1 (Dropout)          (None, 128)               0         \n",
      "_________________________________________________________________\n",
      "dense_1 (Dense)              (None, 12)                1548      \n",
      "=================================================================\n",
      "Total params: 226,284\n",
      "Trainable params: 226,284\n",
      "Non-trainable params: 0\n",
      "_________________________________________________________________\n",
      "Train on 1095480 samples, validate on 3368 samples\n",
      "Epoch 1/250\n",
      "1095480/1095480 - 402s - loss: 1.8584 - accuracy: 0.3898 - val_loss: 1.1768 - val_accuracy: 0.6348\n",
      "Epoch 2/250\n",
      "1095480/1095480 - 405s - loss: 1.2268 - accuracy: 0.5988 - val_loss: 0.8088 - val_accuracy: 0.7530\n",
      "Epoch 3/250\n",
      "1095480/1095480 - 406s - loss: 0.9477 - accuracy: 0.6957 - val_loss: 0.6083 - val_accuracy: 0.8174\n",
      "Epoch 4/250\n",
      "1095480/1095480 - 408s - loss: 0.7720 - accuracy: 0.7531 - val_loss: 0.5037 - val_accuracy: 0.8456\n",
      "Epoch 5/250\n",
      "1095480/1095480 - 408s - loss: 0.6611 - accuracy: 0.7892 - val_loss: 0.4401 - val_accuracy: 0.8625\n",
      "Epoch 6/250\n",
      "1095480/1095480 - 414s - loss: 0.5846 - accuracy: 0.8142 - val_loss: 0.3974 - val_accuracy: 0.8765\n",
      "Epoch 7/250\n",
      "1095480/1095480 - 412s - loss: 0.5297 - accuracy: 0.8322 - val_loss: 0.3665 - val_accuracy: 0.8878\n",
      "Epoch 8/250\n",
      "1095480/1095480 - 408s - loss: 0.4867 - accuracy: 0.8460 - val_loss: 0.3444 - val_accuracy: 0.8931\n",
      "Epoch 9/250\n",
      "1095480/1095480 - 428s - loss: 0.4527 - accuracy: 0.8569 - val_loss: 0.3265 - val_accuracy: 0.8996\n",
      "Epoch 10/250\n",
      "1095480/1095480 - 407s - loss: 0.4251 - accuracy: 0.8658 - val_loss: 0.3101 - val_accuracy: 0.9038\n",
      "Epoch 11/250\n",
      "1095480/1095480 - 408s - loss: 0.4015 - accuracy: 0.8734 - val_loss: 0.2959 - val_accuracy: 0.9077\n",
      "Epoch 12/250\n",
      "1095480/1095480 - 410s - loss: 0.3815 - accuracy: 0.8795 - val_loss: 0.2868 - val_accuracy: 0.9100\n",
      "Epoch 13/250\n",
      "1095480/1095480 - 416s - loss: 0.3640 - accuracy: 0.8850 - val_loss: 0.2782 - val_accuracy: 0.9118\n",
      "Epoch 14/250\n",
      "1095480/1095480 - 407s - loss: 0.3489 - accuracy: 0.8898 - val_loss: 0.2717 - val_accuracy: 0.9127\n",
      "Epoch 15/250\n",
      "1095480/1095480 - 409s - loss: 0.3352 - accuracy: 0.8940 - val_loss: 0.2648 - val_accuracy: 0.9145\n",
      "Epoch 16/250\n",
      "1095480/1095480 - 407s - loss: 0.3230 - accuracy: 0.8978 - val_loss: 0.2582 - val_accuracy: 0.9157\n",
      "Epoch 17/250\n",
      "1095480/1095480 - 409s - loss: 0.3111 - accuracy: 0.9015 - val_loss: 0.2518 - val_accuracy: 0.9183\n",
      "Epoch 18/250\n",
      "1095480/1095480 - 421s - loss: 0.3012 - accuracy: 0.9046 - val_loss: 0.2492 - val_accuracy: 0.9201\n",
      "Epoch 19/250\n",
      "1095480/1095480 - 409s - loss: 0.2921 - accuracy: 0.9071 - val_loss: 0.2448 - val_accuracy: 0.9216\n",
      "Epoch 20/250\n",
      "1095480/1095480 - 407s - loss: 0.2836 - accuracy: 0.9097 - val_loss: 0.2386 - val_accuracy: 0.9243\n",
      "Epoch 21/250\n",
      "1095480/1095480 - 407s - loss: 0.2756 - accuracy: 0.9126 - val_loss: 0.2359 - val_accuracy: 0.9246\n",
      "Epoch 22/250\n",
      "1095480/1095480 - 415s - loss: 0.2685 - accuracy: 0.9147 - val_loss: 0.2315 - val_accuracy: 0.9252\n",
      "Epoch 23/250\n",
      "1095480/1095480 - 408s - loss: 0.2611 - accuracy: 0.9167 - val_loss: 0.2278 - val_accuracy: 0.9267\n",
      "Epoch 24/250\n",
      "1095480/1095480 - 408s - loss: 0.2555 - accuracy: 0.9188 - val_loss: 0.2275 - val_accuracy: 0.9258\n",
      "Epoch 25/250\n",
      "1095480/1095480 - 408s - loss: 0.2493 - accuracy: 0.9207 - val_loss: 0.2247 - val_accuracy: 0.9273\n",
      "Epoch 26/250\n",
      "1095480/1095480 - 417s - loss: 0.2437 - accuracy: 0.9222 - val_loss: 0.2214 - val_accuracy: 0.9302\n",
      "Epoch 27/250\n",
      "1095480/1095480 - 410s - loss: 0.2384 - accuracy: 0.9242 - val_loss: 0.2179 - val_accuracy: 0.9299\n",
      "Epoch 28/250\n",
      "1095480/1095480 - 410s - loss: 0.2330 - accuracy: 0.9256 - val_loss: 0.2178 - val_accuracy: 0.9311\n",
      "Epoch 29/250\n",
      "1095480/1095480 - 409s - loss: 0.2285 - accuracy: 0.9271 - val_loss: 0.2149 - val_accuracy: 0.9308\n",
      "Epoch 30/250\n",
      "1095480/1095480 - 417s - loss: 0.2239 - accuracy: 0.9285 - val_loss: 0.2135 - val_accuracy: 0.9314\n",
      "Epoch 31/250\n",
      "1095480/1095480 - 412s - loss: 0.2202 - accuracy: 0.9298 - val_loss: 0.2127 - val_accuracy: 0.9320\n",
      "Epoch 32/250\n",
      "1095480/1095480 - 417s - loss: 0.2158 - accuracy: 0.9310 - val_loss: 0.2124 - val_accuracy: 0.9317\n",
      "Epoch 33/250\n",
      "1095480/1095480 - 414s - loss: 0.2119 - accuracy: 0.9321 - val_loss: 0.2124 - val_accuracy: 0.9311\n",
      "Epoch 34/250\n",
      "1095480/1095480 - 418s - loss: 0.2084 - accuracy: 0.9332 - val_loss: 0.2085 - val_accuracy: 0.9338\n",
      "Epoch 35/250\n",
      "1095480/1095480 - 408s - loss: 0.2051 - accuracy: 0.9344 - val_loss: 0.2057 - val_accuracy: 0.9341\n",
      "Epoch 36/250\n",
      "1095480/1095480 - 408s - loss: 0.2014 - accuracy: 0.9355 - val_loss: 0.2077 - val_accuracy: 0.9335\n",
      "Epoch 37/250\n",
      "1095480/1095480 - 409s - loss: 0.1987 - accuracy: 0.9365 - val_loss: 0.2075 - val_accuracy: 0.9332\n",
      "Epoch 38/250\n",
      "1095480/1095480 - 418s - loss: 0.1952 - accuracy: 0.9374 - val_loss: 0.2044 - val_accuracy: 0.9347\n",
      "Epoch 39/250\n",
      "1095480/1095480 - 411s - loss: 0.1923 - accuracy: 0.9384 - val_loss: 0.2045 - val_accuracy: 0.9365\n",
      "Epoch 40/250\n",
      "1095480/1095480 - 410s - loss: 0.1895 - accuracy: 0.9391 - val_loss: 0.2060 - val_accuracy: 0.9347\n",
      "Epoch 41/250\n",
      "1095480/1095480 - 410s - loss: 0.1862 - accuracy: 0.9403 - val_loss: 0.2082 - val_accuracy: 0.9365\n",
      "Epoch 42/250\n",
      "1095480/1095480 - 419s - loss: 0.1839 - accuracy: 0.9410 - val_loss: 0.2041 - val_accuracy: 0.9382\n",
      "Epoch 43/250\n",
      "1095480/1095480 - 412s - loss: 0.1814 - accuracy: 0.9418 - val_loss: 0.2002 - val_accuracy: 0.9376\n",
      "Epoch 44/250\n",
      "1095480/1095480 - 413s - loss: 0.1791 - accuracy: 0.9424 - val_loss: 0.1997 - val_accuracy: 0.9388\n",
      "Epoch 45/250\n",
      "1095480/1095480 - 500s - loss: 0.1766 - accuracy: 0.9432 - val_loss: 0.1992 - val_accuracy: 0.9403\n",
      "Epoch 46/250\n",
      "1095480/1095480 - 574s - loss: 0.1747 - accuracy: 0.9439 - val_loss: 0.1995 - val_accuracy: 0.9391\n",
      "Epoch 47/250\n",
      "1095480/1095480 - 530s - loss: 0.1728 - accuracy: 0.9445 - val_loss: 0.2002 - val_accuracy: 0.9391\n",
      "Epoch 48/250\n",
      "1095480/1095480 - 531s - loss: 0.1705 - accuracy: 0.9452 - val_loss: 0.1982 - val_accuracy: 0.9391\n",
      "Epoch 49/250\n",
      "1095480/1095480 - 531s - loss: 0.1685 - accuracy: 0.9462 - val_loss: 0.1974 - val_accuracy: 0.9394\n",
      "Epoch 50/250\n",
      "1095480/1095480 - 530s - loss: 0.1660 - accuracy: 0.9468 - val_loss: 0.1983 - val_accuracy: 0.9385\n",
      "Epoch 51/250\n",
      "1095480/1095480 - 530s - loss: 0.1648 - accuracy: 0.9472 - val_loss: 0.1977 - val_accuracy: 0.9397\n",
      "Epoch 52/250\n",
      "1095480/1095480 - 543s - loss: 0.1628 - accuracy: 0.9476 - val_loss: 0.1971 - val_accuracy: 0.9403\n",
      "Epoch 53/250\n",
      "1095480/1095480 - 529s - loss: 0.1610 - accuracy: 0.9482 - val_loss: 0.1994 - val_accuracy: 0.9406\n",
      "Epoch 54/250\n",
      "1095480/1095480 - 530s - loss: 0.1595 - accuracy: 0.9488 - val_loss: 0.2001 - val_accuracy: 0.9400\n",
      "Epoch 55/250\n",
      "1095480/1095480 - 533s - loss: 0.1579 - accuracy: 0.9491 - val_loss: 0.1974 - val_accuracy: 0.9406\n",
      "Epoch 56/250\n",
      "1095480/1095480 - 530s - loss: 0.1562 - accuracy: 0.9498 - val_loss: 0.1996 - val_accuracy: 0.9406\n",
      "Epoch 57/250\n",
      "1095480/1095480 - 532s - loss: 0.1542 - accuracy: 0.9504 - val_loss: 0.2001 - val_accuracy: 0.9403\n",
      "Epoch 58/250\n",
      "1095480/1095480 - 547s - loss: 0.1535 - accuracy: 0.9507 - val_loss: 0.2020 - val_accuracy: 0.9403\n",
      "Epoch 59/250\n",
      "1095480/1095480 - 532s - loss: 0.1512 - accuracy: 0.9515 - val_loss: 0.1976 - val_accuracy: 0.9415\n",
      "Epoch 60/250\n",
      "1095480/1095480 - 532s - loss: 0.1497 - accuracy: 0.9518 - val_loss: 0.1999 - val_accuracy: 0.9409\n",
      "Epoch 61/250\n",
      "1095480/1095480 - 531s - loss: 0.1484 - accuracy: 0.9523 - val_loss: 0.1965 - val_accuracy: 0.9433\n",
      "Epoch 62/250\n",
      "1095480/1095480 - 547s - loss: 0.1469 - accuracy: 0.9528 - val_loss: 0.2013 - val_accuracy: 0.9403\n",
      "Epoch 63/250\n",
      "1095480/1095480 - 531s - loss: 0.1457 - accuracy: 0.9533 - val_loss: 0.2054 - val_accuracy: 0.9415\n",
      "Epoch 64/250\n",
      "1095480/1095480 - 531s - loss: 0.1446 - accuracy: 0.9535 - val_loss: 0.2019 - val_accuracy: 0.9427\n",
      "Epoch 65/250\n",
      "1095480/1095480 - 547s - loss: 0.1433 - accuracy: 0.9540 - val_loss: 0.2032 - val_accuracy: 0.9412\n",
      "Epoch 66/250\n",
      "1095480/1095480 - 534s - loss: 0.1416 - accuracy: 0.9545 - val_loss: 0.2004 - val_accuracy: 0.9427\n",
      "Epoch 67/250\n",
      "1095480/1095480 - 530s - loss: 0.1411 - accuracy: 0.9546 - val_loss: 0.2032 - val_accuracy: 0.9403\n",
      "Epoch 68/250\n",
      "1095480/1095480 - 529s - loss: 0.1398 - accuracy: 0.9549 - val_loss: 0.1962 - val_accuracy: 0.9424\n",
      "Epoch 69/250\n",
      "1095480/1095480 - 541s - loss: 0.1387 - accuracy: 0.9555 - val_loss: 0.2005 - val_accuracy: 0.9430\n",
      "Epoch 70/250\n",
      "1095480/1095480 - 521s - loss: 0.1371 - accuracy: 0.9560 - val_loss: 0.1956 - val_accuracy: 0.9442\n",
      "Epoch 71/250\n",
      "1095480/1095480 - 521s - loss: 0.1366 - accuracy: 0.9560 - val_loss: 0.2002 - val_accuracy: 0.9436\n",
      "Epoch 72/250\n",
      "1095480/1095480 - 521s - loss: 0.1355 - accuracy: 0.9564 - val_loss: 0.2005 - val_accuracy: 0.9427\n",
      "Epoch 73/250\n",
      "1095480/1095480 - 540s - loss: 0.1341 - accuracy: 0.9570 - val_loss: 0.2024 - val_accuracy: 0.9424\n",
      "Epoch 74/250\n",
      "1095480/1095480 - 522s - loss: 0.1331 - accuracy: 0.9572 - val_loss: 0.2025 - val_accuracy: 0.9421\n",
      "Epoch 75/250\n",
      "1095480/1095480 - 521s - loss: 0.1318 - accuracy: 0.9577 - val_loss: 0.2024 - val_accuracy: 0.9412\n",
      "Epoch 76/250\n",
      "1095480/1095480 - 538s - loss: 0.1309 - accuracy: 0.9580 - val_loss: 0.2028 - val_accuracy: 0.9418\n",
      "Epoch 77/250\n",
      "1095480/1095480 - 525s - loss: 0.1305 - accuracy: 0.9581 - val_loss: 0.2019 - val_accuracy: 0.9421\n",
      "Epoch 78/250\n",
      "1095480/1095480 - 525s - loss: 0.1295 - accuracy: 0.9583 - val_loss: 0.1999 - val_accuracy: 0.9430\n",
      "Epoch 79/250\n",
      "1095480/1095480 - 524s - loss: 0.1286 - accuracy: 0.9587 - val_loss: 0.1980 - val_accuracy: 0.9427\n",
      "Epoch 80/250\n",
      "1095480/1095480 - 535s - loss: 0.1283 - accuracy: 0.9587 - val_loss: 0.1996 - val_accuracy: 0.9427\n",
      "Epoch 81/250\n",
      "1095480/1095480 - 523s - loss: 0.1271 - accuracy: 0.9593 - val_loss: 0.2026 - val_accuracy: 0.9421\n",
      "Epoch 82/250\n",
      "1095480/1095480 - 523s - loss: 0.1261 - accuracy: 0.9596 - val_loss: 0.2015 - val_accuracy: 0.9409\n",
      "Epoch 83/250\n",
      "1095480/1095480 - 523s - loss: 0.1257 - accuracy: 0.9599 - val_loss: 0.2054 - val_accuracy: 0.9406\n",
      "Epoch 84/250\n",
      "1095480/1095480 - 538s - loss: 0.1244 - accuracy: 0.9601 - val_loss: 0.2028 - val_accuracy: 0.9412\n",
      "Epoch 85/250\n",
      "1095480/1095480 - 523s - loss: 0.1236 - accuracy: 0.9604 - val_loss: 0.2030 - val_accuracy: 0.9412\n",
      "Epoch 86/250\n",
      "1095480/1095480 - 522s - loss: 0.1230 - accuracy: 0.9605 - val_loss: 0.2029 - val_accuracy: 0.9418\n",
      "Epoch 87/250\n",
      "1095480/1095480 - 538s - loss: 0.1220 - accuracy: 0.9607 - val_loss: 0.2040 - val_accuracy: 0.9412\n",
      "Epoch 88/250\n",
      "1095480/1095480 - 529s - loss: 0.1213 - accuracy: 0.9612 - val_loss: 0.2024 - val_accuracy: 0.9415\n",
      "Epoch 89/250\n",
      "1095480/1095480 - 527s - loss: 0.1207 - accuracy: 0.9612 - val_loss: 0.2032 - val_accuracy: 0.9418\n",
      "Epoch 90/250\n",
      "1095480/1095480 - 528s - loss: 0.1198 - accuracy: 0.9616 - val_loss: 0.2073 - val_accuracy: 0.9409\n",
      "Epoch 91/250\n",
      "1095480/1095480 - 540s - loss: 0.1193 - accuracy: 0.9616 - val_loss: 0.2103 - val_accuracy: 0.9406\n",
      "Epoch 92/250\n",
      "1095480/1095480 - 535s - loss: 0.1186 - accuracy: 0.9619 - val_loss: 0.2019 - val_accuracy: 0.9409\n",
      "Epoch 93/250\n",
      "1095480/1095480 - 527s - loss: 0.1180 - accuracy: 0.9621 - val_loss: 0.2042 - val_accuracy: 0.9403\n",
      "Epoch 94/250\n",
      "1095480/1095480 - 524s - loss: 0.1174 - accuracy: 0.9624 - val_loss: 0.2070 - val_accuracy: 0.9406\n",
      "Epoch 95/250\n",
      "Restoring model weights from the end of the best epoch.\n",
      "1095480/1095480 - 541s - loss: 0.1165 - accuracy: 0.9626 - val_loss: 0.2097 - val_accuracy: 0.9415\n",
      "Epoch 00095: early stopping\n"
     ]
    }
   ],
   "source": [
    "model = keras.Sequential()\n",
    "model.add(keras.layers.Conv2D(32, kernel_size=(13, 8),\n",
    "                 activation='relu',\n",
    "                 input_shape=(49,13,1)))\n",
    "model.add(keras.layers.Dropout(0.15))\n",
    "model.add(keras.layers.Conv2D(64, kernel_size=(8, 6), activation='relu'))\n",
    "model.add(keras.layers.MaxPooling2D(pool_size=(2, 1), strides=(2, 1)))\n",
    "model.add(keras.layers.Flatten())\n",
    "model.add(keras.layers.Dense(128, activation='relu'))\n",
    "model.add(keras.layers.Dropout(0.15))\n",
    "model.add(keras.layers.Dense(12, activation='softmax'))\n",
    "\n",
    "model.summary()\n",
    "\n",
    "model.compile(loss=keras.losses.categorical_crossentropy,\n",
    "              optimizer=keras.optimizers.Adadelta(),\n",
    "              metrics=['accuracy'])\n",
    "\n",
    "early_stopping = keras.callbacks.EarlyStopping(\n",
    "        monitor='val_loss',\n",
    "        mode='min',\n",
    "        verbose=1,\n",
    "        patience=25,\n",
    "        restore_best_weights=True)\n",
    "\n",
    "history = model.fit(x_train_4d,\n",
    "                    keras.utils.to_categorical(dset['y_train']),\n",
    "                    validation_data=(x_valid_4d, keras.utils.to_categorical(dset['y_valid'])),\n",
    "                    callbacks=[early_stopping],\n",
    "                    verbose=2,\n",
    "                    epochs=250)"
   ]
  },
  {
   "cell_type": "code",
   "execution_count": 9,
   "metadata": {
    "colab": {
     "base_uri": "https://localhost:8080/",
     "height": 238
    },
    "colab_type": "code",
    "executionInfo": {
     "elapsed": 1406,
     "status": "error",
     "timestamp": 1577942121787,
     "user": {
      "displayName": "Oleg Mazko",
      "photoUrl": "",
      "userId": "15659249211060430752"
     },
     "user_tz": -120
    },
    "id": "PRNTkY9zZlUA",
    "outputId": "1e7af9c6-eeb9-47aa-84e2-0edbd703f146"
   },
   "outputs": [
    {
     "name": "stdout",
     "output_type": "stream",
     "text": [
      "train loss, train acc: [0.09822728020052991, 0.9705828]\n",
      "test loss, test acc: [0.19696684957504382, 0.93665516]\n",
      "valid loss, valid acc: [0.19558901481182178, 0.94418055]\n"
     ]
    }
   ],
   "source": [
    "results = model.evaluate(x_train_4d, keras.utils.to_categorical(dset['y_train']), verbose=0)\n",
    "print('train loss, train acc:', results)\n",
    "\n",
    "results = model.evaluate(x_test_4d, keras.utils.to_categorical(dset['y_test']), verbose=0)\n",
    "print('test loss, test acc:', results)\n",
    "\n",
    "results = model.evaluate(x_valid_4d, keras.utils.to_categorical(dset['y_valid']), verbose=0)\n",
    "print('valid loss, valid acc:', results)"
   ]
  },
  {
   "cell_type": "code",
   "execution_count": 10,
   "metadata": {
    "colab": {},
    "colab_type": "code",
    "id": "7JE3mAdnX8MW",
    "scrolled": true
   },
   "outputs": [
    {
     "name": "stdout",
     "output_type": "stream",
     "text": [
      "239 3773\n",
      "188 3368\n"
     ]
    }
   ],
   "source": [
    "assert(len(x_test_4d) + len(x_valid_4d) == 7141)\n",
    "pred = model.predict_classes(x_test_4d)\n",
    "print(np.sum(pred != dset['y_test']), len(pred))\n",
    "pred = model.predict_classes(x_valid_4d)\n",
    "print(np.sum(pred != dset['y_valid']), len(pred))"
   ]
  },
  {
   "cell_type": "code",
   "execution_count": 11,
   "metadata": {
    "colab": {},
    "colab_type": "code",
    "id": "MpFpu5bZeYj4"
   },
   "outputs": [
    {
     "name": "stdout",
     "output_type": "stream",
     "text": [
      "dict_keys(['loss', 'accuracy', 'val_loss', 'val_accuracy'])\n"
     ]
    },
    {
     "data": {
      "image/png": "[encoded data removed]",
      "text/plain": [
       "<Figure size 432x288 with 1 Axes>"
      ]
     },
     "metadata": {
      "needs_background": "light"
     },
     "output_type": "display_data"
    },
    {
     "data": {
      "image/png": "[encoded data removed]",
      "text/plain": [
       "<Figure size 432x288 with 1 Axes>"
      ]
     },
     "metadata": {
      "needs_background": "light"
     },
     "output_type": "display_data"
    }
   ],
   "source": [
    "print(history.history.keys())\n",
    "\n",
    "%matplotlib inline\n",
    "\n",
    "import matplotlib.pyplot as plt\n",
    "\n",
    "# Plot training & validation accuracy values\n",
    "plt.plot(history.history['accuracy'])\n",
    "plt.plot(history.history['val_accuracy'])\n",
    "plt.title('Model accuracy')\n",
    "plt.ylabel('Accuracy')\n",
    "plt.xlabel('Epoch')\n",
    "plt.legend(['Train', 'Valid'], loc='lower right')\n",
    "plt.show()\n",
    "\n",
    "# Plot training & validation loss values\n",
    "plt.plot(history.history['loss'])\n",
    "plt.plot(history.history['val_loss'])\n",
    "plt.title('Model loss')\n",
    "plt.ylabel('Loss')\n",
    "plt.xlabel('Epoch')\n",
    "plt.legend(['Train', 'Valid'], loc='upper right')\n",
    "plt.show()"
   ]
  },
  {
   "cell_type": "code",
   "execution_count": 12,
   "metadata": {
    "colab": {},
    "colab_type": "code",
    "id": "mZIW5naa6_vB"
   },
   "outputs": [
    {
     "name": "stdout",
     "output_type": "stream",
     "text": [
      "2.1.0\n"
     ]
    }
   ],
   "source": [
    "import tensorflow as tf\n",
    "print(tf.__version__)\n",
    "\n",
    "# Convert the model to the TensorFlow Lite format without quantization\n",
    "converter = tf.lite.TFLiteConverter.from_keras_model(model)\n",
    "tflite_model = converter.convert()"
   ]
  },
  {
   "cell_type": "code",
   "execution_count": 13,
   "metadata": {
    "colab": {},
    "colab_type": "code",
    "id": "kqQTwS1xfutn"
   },
   "outputs": [
    {
     "name": "stdout",
     "output_type": "stream",
     "text": [
      "bd66c04f03faf475bbb381928978c3e5  ./models/cnn.tflite\r\n"
     ]
    }
   ],
   "source": [
    "!mkdir -p './models'\n",
    "with open(\"./models/cnn.tflite\", \"wb\") as f:\n",
    "  f.write(tflite_model)\n",
    "!md5sum ./models/cnn.tflite"
   ]
  }
 ],
 "metadata": {
  "colab": {
   "collapsed_sections": [],
   "machine_shape": "hm",
   "name": "rnn.ipynb",
   "provenance": [
    {
     "file_id": "16AjIBb7qb3F01QnAeEM3qHLU0mw5qFfN",
     "timestamp": 1576226746260
    }
   ]
  },
  "kernelspec": {
   "display_name": "Python 3",
   "language": "python",
   "name": "python3"
  },
  "language_info": {
   "codemirror_mode": {
    "name": "ipython",
    "version": 3
   },
   "file_extension": ".py",
   "mimetype": "text/x-python",
   "name": "python",
   "nbconvert_exporter": "python",
   "pygments_lexer": "ipython3",
   "version": "3.6.9"
  }
 },
 "nbformat": 4,
 "nbformat_minor": 4
}
