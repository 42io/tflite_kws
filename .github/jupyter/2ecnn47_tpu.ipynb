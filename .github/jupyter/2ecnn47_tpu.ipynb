{
  "nbformat": 4,
  "nbformat_minor": 0,
  "metadata": {
    "accelerator": "TPU",
    "colab": {
      "name": "2ecnn47.tpu.ipynb",
      "provenance": [],
      "collapsed_sections": [],
      "machine_shape": "hm"
    },
    "kernelspec": {
      "display_name": "Python 3",
      "name": "python3"
    }
  },
  "cells": [
    {
      "cell_type": "code",
      "metadata": {
        "id": "M09OlPRpDRSh"
      },
      "source": [
        "KERAS_MODELS_ABSOLUTE_PATH = '/content/gdrive/My Drive/2ecnn47'"
      ],
      "execution_count": 1,
      "outputs": []
    },
    {
      "cell_type": "code",
      "metadata": {
        "id": "nKHNt4dNhRMF",
        "colab": {
          "base_uri": "https://localhost:8080/"
        },
        "outputId": "753ade07-aa01-478e-ca1c-ed3b00e48940"
      },
      "source": [
        "from google.colab import drive\n",
        "drive.mount('/content/gdrive')"
      ],
      "execution_count": 2,
      "outputs": [
        {
          "output_type": "stream",
          "name": "stdout",
          "text": [
            "Mounted at /content/gdrive\n"
          ]
        }
      ]
    },
    {
      "cell_type": "code",
      "metadata": {
        "colab": {
          "base_uri": "https://localhost:8080/"
        },
        "id": "8UutF8PBu-oO",
        "outputId": "f79c80d7-ab76-4191-d438-a969b6313392"
      },
      "source": [
        "!pip install -qq tensorflow-datasets -U\n",
        "!tfds --version"
      ],
      "execution_count": 3,
      "outputs": [
        {
          "output_type": "stream",
          "name": "stdout",
          "text": [
            "\u001b[K     |████████████████████████████████| 4.0 MB 5.3 MB/s \n",
            "\u001b[?25hTensorFlow Datasets: 4.4.0\n"
          ]
        }
      ]
    },
    {
      "cell_type": "code",
      "metadata": {
        "colab": {
          "base_uri": "https://localhost:8080/"
        },
        "id": "5T3UOLCpGUmg",
        "outputId": "bfce71ed-e765-4ac7-b289-b9fb3f025495"
      },
      "source": [
        "import matplotlib.pyplot as plt\n",
        "import numpy as np\n",
        "from tensorflow import keras\n",
        "import tensorflow as tf\n",
        "import tensorflow_datasets as tfds\n",
        "print(tf.__version__)\n",
        "plt.rc('figure', figsize=(13, 4))"
      ],
      "execution_count": 4,
      "outputs": [
        {
          "output_type": "stream",
          "name": "stdout",
          "text": [
            "2.6.0\n"
          ]
        }
      ]
    },
    {
      "cell_type": "code",
      "metadata": {
        "id": "Fubso462-iVr"
      },
      "source": [
        "if not tf.io.gfile.exists(KERAS_MODELS_ABSOLUTE_PATH):\n",
        "  print('You should create', KERAS_MODELS_ABSOLUTE_PATH, 'directory manually')\n",
        "  assert False"
      ],
      "execution_count": 5,
      "outputs": []
    },
    {
      "cell_type": "code",
      "metadata": {
        "id": "yOHEB5T2mMg1",
        "colab": {
          "base_uri": "https://localhost:8080/"
        },
        "outputId": "0ee16fe3-174c-4c49-e158-ca92fc09d4f0"
      },
      "source": [
        "resolver = tf.distribute.cluster_resolver.TPUClusterResolver(tpu='')\n",
        "tf.config.experimental_connect_to_cluster(resolver)\n",
        "# This is the TPU initialization code that has to be at the beginning.\n",
        "tf.tpu.experimental.initialize_tpu_system(resolver)\n",
        "print(\"All devices: \", tf.config.list_logical_devices('TPU'))\n",
        "strategy = tf.distribute.TPUStrategy(resolver)"
      ],
      "execution_count": 6,
      "outputs": [
        {
          "output_type": "stream",
          "name": "stdout",
          "text": [
            "INFO:tensorflow:Clearing out eager caches\n"
          ]
        },
        {
          "output_type": "stream",
          "name": "stderr",
          "text": [
            "INFO:tensorflow:Clearing out eager caches\n"
          ]
        },
        {
          "output_type": "stream",
          "name": "stdout",
          "text": [
            "INFO:tensorflow:Initializing the TPU system: grpc://10.20.145.50:8470\n"
          ]
        },
        {
          "output_type": "stream",
          "name": "stderr",
          "text": [
            "INFO:tensorflow:Initializing the TPU system: grpc://10.20.145.50:8470\n"
          ]
        },
        {
          "output_type": "stream",
          "name": "stdout",
          "text": [
            "INFO:tensorflow:Finished initializing TPU system.\n"
          ]
        },
        {
          "output_type": "stream",
          "name": "stderr",
          "text": [
            "INFO:tensorflow:Finished initializing TPU system.\n"
          ]
        },
        {
          "output_type": "stream",
          "name": "stdout",
          "text": [
            "All devices:  [LogicalDevice(name='/job:worker/replica:0/task:0/device:TPU:0', device_type='TPU'), LogicalDevice(name='/job:worker/replica:0/task:0/device:TPU:1', device_type='TPU'), LogicalDevice(name='/job:worker/replica:0/task:0/device:TPU:2', device_type='TPU'), LogicalDevice(name='/job:worker/replica:0/task:0/device:TPU:3', device_type='TPU'), LogicalDevice(name='/job:worker/replica:0/task:0/device:TPU:4', device_type='TPU'), LogicalDevice(name='/job:worker/replica:0/task:0/device:TPU:5', device_type='TPU'), LogicalDevice(name='/job:worker/replica:0/task:0/device:TPU:6', device_type='TPU'), LogicalDevice(name='/job:worker/replica:0/task:0/device:TPU:7', device_type='TPU')]\n",
            "INFO:tensorflow:Found TPU system:\n"
          ]
        },
        {
          "output_type": "stream",
          "name": "stderr",
          "text": [
            "INFO:tensorflow:Found TPU system:\n"
          ]
        },
        {
          "output_type": "stream",
          "name": "stdout",
          "text": [
            "INFO:tensorflow:*** Num TPU Cores: 8\n"
          ]
        },
        {
          "output_type": "stream",
          "name": "stderr",
          "text": [
            "INFO:tensorflow:*** Num TPU Cores: 8\n"
          ]
        },
        {
          "output_type": "stream",
          "name": "stdout",
          "text": [
            "INFO:tensorflow:*** Num TPU Workers: 1\n"
          ]
        },
        {
          "output_type": "stream",
          "name": "stderr",
          "text": [
            "INFO:tensorflow:*** Num TPU Workers: 1\n"
          ]
        },
        {
          "output_type": "stream",
          "name": "stdout",
          "text": [
            "INFO:tensorflow:*** Num TPU Cores Per Worker: 8\n"
          ]
        },
        {
          "output_type": "stream",
          "name": "stderr",
          "text": [
            "INFO:tensorflow:*** Num TPU Cores Per Worker: 8\n"
          ]
        },
        {
          "output_type": "stream",
          "name": "stdout",
          "text": [
            "INFO:tensorflow:*** Available Device: _DeviceAttributes(/job:localhost/replica:0/task:0/device:CPU:0, CPU, 0, 0)\n"
          ]
        },
        {
          "output_type": "stream",
          "name": "stderr",
          "text": [
            "INFO:tensorflow:*** Available Device: _DeviceAttributes(/job:localhost/replica:0/task:0/device:CPU:0, CPU, 0, 0)\n"
          ]
        },
        {
          "output_type": "stream",
          "name": "stdout",
          "text": [
            "INFO:tensorflow:*** Available Device: _DeviceAttributes(/job:worker/replica:0/task:0/device:CPU:0, CPU, 0, 0)\n"
          ]
        },
        {
          "output_type": "stream",
          "name": "stderr",
          "text": [
            "INFO:tensorflow:*** Available Device: _DeviceAttributes(/job:worker/replica:0/task:0/device:CPU:0, CPU, 0, 0)\n"
          ]
        },
        {
          "output_type": "stream",
          "name": "stdout",
          "text": [
            "INFO:tensorflow:*** Available Device: _DeviceAttributes(/job:worker/replica:0/task:0/device:TPU:0, TPU, 0, 0)\n"
          ]
        },
        {
          "output_type": "stream",
          "name": "stderr",
          "text": [
            "INFO:tensorflow:*** Available Device: _DeviceAttributes(/job:worker/replica:0/task:0/device:TPU:0, TPU, 0, 0)\n"
          ]
        },
        {
          "output_type": "stream",
          "name": "stdout",
          "text": [
            "INFO:tensorflow:*** Available Device: _DeviceAttributes(/job:worker/replica:0/task:0/device:TPU:1, TPU, 0, 0)\n"
          ]
        },
        {
          "output_type": "stream",
          "name": "stderr",
          "text": [
            "INFO:tensorflow:*** Available Device: _DeviceAttributes(/job:worker/replica:0/task:0/device:TPU:1, TPU, 0, 0)\n"
          ]
        },
        {
          "output_type": "stream",
          "name": "stdout",
          "text": [
            "INFO:tensorflow:*** Available Device: _DeviceAttributes(/job:worker/replica:0/task:0/device:TPU:2, TPU, 0, 0)\n"
          ]
        },
        {
          "output_type": "stream",
          "name": "stderr",
          "text": [
            "INFO:tensorflow:*** Available Device: _DeviceAttributes(/job:worker/replica:0/task:0/device:TPU:2, TPU, 0, 0)\n"
          ]
        },
        {
          "output_type": "stream",
          "name": "stdout",
          "text": [
            "INFO:tensorflow:*** Available Device: _DeviceAttributes(/job:worker/replica:0/task:0/device:TPU:3, TPU, 0, 0)\n"
          ]
        },
        {
          "output_type": "stream",
          "name": "stderr",
          "text": [
            "INFO:tensorflow:*** Available Device: _DeviceAttributes(/job:worker/replica:0/task:0/device:TPU:3, TPU, 0, 0)\n"
          ]
        },
        {
          "output_type": "stream",
          "name": "stdout",
          "text": [
            "INFO:tensorflow:*** Available Device: _DeviceAttributes(/job:worker/replica:0/task:0/device:TPU:4, TPU, 0, 0)\n"
          ]
        },
        {
          "output_type": "stream",
          "name": "stderr",
          "text": [
            "INFO:tensorflow:*** Available Device: _DeviceAttributes(/job:worker/replica:0/task:0/device:TPU:4, TPU, 0, 0)\n"
          ]
        },
        {
          "output_type": "stream",
          "name": "stdout",
          "text": [
            "INFO:tensorflow:*** Available Device: _DeviceAttributes(/job:worker/replica:0/task:0/device:TPU:5, TPU, 0, 0)\n"
          ]
        },
        {
          "output_type": "stream",
          "name": "stderr",
          "text": [
            "INFO:tensorflow:*** Available Device: _DeviceAttributes(/job:worker/replica:0/task:0/device:TPU:5, TPU, 0, 0)\n"
          ]
        },
        {
          "output_type": "stream",
          "name": "stdout",
          "text": [
            "INFO:tensorflow:*** Available Device: _DeviceAttributes(/job:worker/replica:0/task:0/device:TPU:6, TPU, 0, 0)\n"
          ]
        },
        {
          "output_type": "stream",
          "name": "stderr",
          "text": [
            "INFO:tensorflow:*** Available Device: _DeviceAttributes(/job:worker/replica:0/task:0/device:TPU:6, TPU, 0, 0)\n"
          ]
        },
        {
          "output_type": "stream",
          "name": "stdout",
          "text": [
            "INFO:tensorflow:*** Available Device: _DeviceAttributes(/job:worker/replica:0/task:0/device:TPU:7, TPU, 0, 0)\n"
          ]
        },
        {
          "output_type": "stream",
          "name": "stderr",
          "text": [
            "INFO:tensorflow:*** Available Device: _DeviceAttributes(/job:worker/replica:0/task:0/device:TPU:7, TPU, 0, 0)\n"
          ]
        },
        {
          "output_type": "stream",
          "name": "stdout",
          "text": [
            "INFO:tensorflow:*** Available Device: _DeviceAttributes(/job:worker/replica:0/task:0/device:TPU_SYSTEM:0, TPU_SYSTEM, 0, 0)\n"
          ]
        },
        {
          "output_type": "stream",
          "name": "stderr",
          "text": [
            "INFO:tensorflow:*** Available Device: _DeviceAttributes(/job:worker/replica:0/task:0/device:TPU_SYSTEM:0, TPU_SYSTEM, 0, 0)\n"
          ]
        },
        {
          "output_type": "stream",
          "name": "stdout",
          "text": [
            "INFO:tensorflow:*** Available Device: _DeviceAttributes(/job:worker/replica:0/task:0/device:XLA_CPU:0, XLA_CPU, 0, 0)\n"
          ]
        },
        {
          "output_type": "stream",
          "name": "stderr",
          "text": [
            "INFO:tensorflow:*** Available Device: _DeviceAttributes(/job:worker/replica:0/task:0/device:XLA_CPU:0, XLA_CPU, 0, 0)\n"
          ]
        }
      ]
    },
    {
      "cell_type": "code",
      "metadata": {
        "colab": {
          "base_uri": "https://localhost:8080/"
        },
        "id": "KQC5dJmvnlm0",
        "outputId": "4b6fdc09-c44d-4853-f01c-6420981045ca"
      },
      "source": [
        "train_dataset, test_dataset, valid_dataset = tfds.load(\n",
        "    name='my_dataset', split=['train', 'test', 'valid'],\n",
        "    data_dir='gs://tfds-musan-1.appspot.com',\n",
        "    as_supervised=True, try_gcs=True)\n",
        "train_dataset.cardinality().numpy()"
      ],
      "execution_count": 7,
      "outputs": [
        {
          "output_type": "execute_result",
          "data": {
            "text/plain": [
              "1825800"
            ]
          },
          "metadata": {},
          "execution_count": 7
        }
      ]
    },
    {
      "cell_type": "code",
      "metadata": {
        "id": "AODNDf4J-fVh"
      },
      "source": [
        "train_dataset = train_dataset.map(lambda x, y: (x[1:-1], y))\n",
        "test_dataset  = test_dataset.map(lambda x, y:  (x[1:-1], y))\n",
        "valid_dataset = valid_dataset.map(lambda x, y: (x[1:-1], y))"
      ],
      "execution_count": 8,
      "outputs": []
    },
    {
      "cell_type": "code",
      "metadata": {
        "id": "Xcj5MHTAKYwv"
      },
      "source": [
        "def spectrogram_masking(spectrogram, dim=1, masks_number=2, mask_max_size=5):\n",
        "  \"\"\"Spectrogram masking on frequency or time dimension.\n",
        "  Args:\n",
        "    spectrogram: Input spectrum [batch, time, frequency]\n",
        "    dim: dimension on which masking will be applied: 1 - time; 2 - frequency\n",
        "    masks_number: number of masks\n",
        "    mask_max_size: mask max size\n",
        "  Returns:\n",
        "    masked spectrogram\n",
        "  \"\"\"\n",
        "  if dim not in (1, 2):\n",
        "    raise ValueError('Wrong dim value: %d' % dim)\n",
        "  input_shape = spectrogram.shape\n",
        "  time_size, frequency_size = input_shape[1:3]\n",
        "  dim_size = input_shape[dim]  # size of dimension on which mask is applied\n",
        "  stripe_shape = [1, time_size, frequency_size]\n",
        "  for _ in range(masks_number):\n",
        "    mask_end = tf.random.uniform([], 0, mask_max_size, tf.int32)\n",
        "    mask_start = tf.random.uniform([], 0, dim_size - mask_end, tf.int32)\n",
        "\n",
        "    # initialize stripes with stripe_shape\n",
        "    stripe_ones_left = list(stripe_shape)\n",
        "    stripe_zeros_center = list(stripe_shape)\n",
        "    stripe_ones_right = list(stripe_shape)\n",
        "\n",
        "    # update stripes dim\n",
        "    stripe_ones_left[dim] = dim_size - mask_start - mask_end\n",
        "    stripe_zeros_center[dim] = mask_end\n",
        "    stripe_ones_right[dim] = mask_start\n",
        "\n",
        "    # generate mask\n",
        "    mask = tf.concat((\n",
        "        tf.ones(stripe_ones_left, spectrogram.dtype),\n",
        "        tf.zeros(stripe_zeros_center, spectrogram.dtype),\n",
        "        tf.ones(stripe_ones_right, spectrogram.dtype),\n",
        "    ), dim)\n",
        "    spectrogram = spectrogram * mask\n",
        "  return spectrogram"
      ],
      "execution_count": 9,
      "outputs": []
    },
    {
      "cell_type": "code",
      "metadata": {
        "id": "vP5AfeDYPYK4"
      },
      "source": [
        "def build_model(in_shape, activation, pooling, out_shape, *in_steps):\n",
        "\n",
        "  # resetting the layer name generation counter\n",
        "  keras.backend.clear_session()\n",
        "\n",
        "  x_in = keras.Input(shape=in_shape)\n",
        "\n",
        "  x = x_in = keras.Input(shape=in_shape)\n",
        "\n",
        "  for i in in_steps:\n",
        "    x = keras.layers.Conv1D(i, 1, use_bias=False)(x)\n",
        "    x = keras.layers.BatchNormalization()(x)\n",
        "    x = activation()(x)\n",
        "    x = keras.layers.SpatialDropout1D(i / 640)(x)\n",
        "\n",
        "  for i in range(4)[::-1]:\n",
        "    r = keras.layers.Conv1D(x.shape[-1], 3, padding='same', use_bias=False)(x)\n",
        "    r = keras.layers.BatchNormalization()(r)\n",
        "    r = activation()(r)\n",
        "    r = keras.layers.SpatialDropout1D(0.2)(r)\n",
        "    r = keras.layers.Conv1D(x.shape[-1], 2, padding='same', use_bias=False)(r)\n",
        "    r = keras.layers.BatchNormalization()(r)\n",
        "    x = keras.layers.add([r, x])\n",
        "    x = activation()(x)\n",
        "    x = keras.layers.SpatialDropout1D(0.2)(x)\n",
        "    x = pooling(2 if i else x.shape[1], padding='same')(x)\n",
        "\n",
        "  x = keras.layers.Flatten()(x)\n",
        "\n",
        "  for i in x.shape[-1] * np.array([2, 1]):\n",
        "    x = keras.layers.Dense(i, use_bias=False)(x)\n",
        "    x = keras.layers.BatchNormalization()(x)\n",
        "    x = activation()(x)\n",
        "    x = keras.layers.Dropout(0.2)(x)\n",
        "\n",
        "  x = keras.layers.Dense(out_shape)(x)\n",
        "  return keras.Model(inputs=x_in, outputs=x, name='first_ensemble')"
      ],
      "execution_count": 10,
      "outputs": []
    },
    {
      "cell_type": "code",
      "metadata": {
        "id": "E84wnQt1s_VY"
      },
      "source": [
        "def build_ensemble(builders=None, models=None, activation=None):\n",
        "  in_shape = (47, 13)\n",
        "  if models:\n",
        "    x_in = keras.Input(shape=in_shape)\n",
        "    x = [keras.Model(m.inputs, m.outputs) for m in models]\n",
        "    x = [e(x_in) for e in x]\n",
        "    if activation:\n",
        "      x = [keras.layers.Activation(activation)(e) for e in x]\n",
        "      x = keras.layers.Average()(x)\n",
        "    else:\n",
        "      b, c = x\n",
        "      b = tf.squeeze(b, -1)\n",
        "      b = tf.greater(b, 2) # threshold\n",
        "      u = tf.greater(c[:,10], c[:,11])\n",
        "      u = tf.where(u, 10, 11)\n",
        "      x = tf.where(b, tf.argmax(c, -1, u.dtype), u)\n",
        "      x = tf.one_hot(x, 12)\n",
        "    return keras.Model(x_in, x)\n",
        "  else:\n",
        "    return tuple(b(in_shape, *a) for b, *a in builders)"
      ],
      "execution_count": 11,
      "outputs": []
    },
    {
      "cell_type": "code",
      "metadata": {
        "id": "R6Nk8XnPozIq"
      },
      "source": [
        "ensemble_models = (\n",
        "  (build_model, keras.layers.LeakyReLU, keras.layers.MaxPool1D, 1,     128),\n",
        "  (build_model, keras.layers.ReLU,      keras.layers.AvgPool1D, 1,     128),\n",
        "  (build_model, keras.layers.PReLU,     keras.layers.MaxPool1D, 1, 64, 128),\n",
        "  (build_model, keras.layers.ELU,       keras.layers.AvgPool1D, 1, 64, 128),\n",
        ")\n",
        "ensemble_models = build_ensemble(builders=ensemble_models)"
      ],
      "execution_count": 12,
      "outputs": []
    },
    {
      "cell_type": "code",
      "metadata": {
        "id": "x5m9wOJwCxxA"
      },
      "source": [
        "def train_model(model, loss, train_dataset, valid_dataset):\n",
        "\n",
        "  with strategy.scope():\n",
        "    tpu_model = keras.Model.from_config(model.get_config())\n",
        "    tpu_model.compile(\n",
        "      loss=loss(from_logits=True),\n",
        "      optimizer=keras.optimizers.Adam(),\n",
        "      metrics=['accuracy'])\n",
        "\n",
        "  early_stopping = keras.callbacks.EarlyStopping(\n",
        "        monitor='val_loss',\n",
        "        mode='min',\n",
        "        verbose=1,\n",
        "        patience=100,\n",
        "        restore_best_weights=True)\n",
        "\n",
        "  train_batch = train_dataset.shuffle(train_dataset.cardinality())\n",
        "  train_batch = train_batch.batch(128)\n",
        "  train_batch = train_batch.map(lambda x, y: (spectrogram_masking(x, 1, 3, 5), y))\n",
        "  train_batch = train_batch.map(lambda x, y: (spectrogram_masking(x, 2, 2, 2), y))\n",
        "  train_batch = train_batch.prefetch(tf.data.AUTOTUNE)\n",
        "\n",
        "  valid_batch = valid_dataset.batch(128)\n",
        "  valid_batch = valid_batch.prefetch(tf.data.AUTOTUNE)\n",
        "\n",
        "  # plt.imshow(list(train_batch.take(1))[0][0][0].numpy().T)\n",
        "  # plt.show()\n",
        "\n",
        "  history = tpu_model.fit(train_batch,\n",
        "                          validation_data=valid_batch,\n",
        "                          callbacks=[early_stopping],\n",
        "                          verbose=2,\n",
        "                          epochs=1000) # play with google colab time limit\n",
        "\n",
        "  model.set_weights(early_stopping.best_weights)\n",
        "  return history"
      ],
      "execution_count": 13,
      "outputs": []
    },
    {
      "cell_type": "code",
      "metadata": {
        "id": "UDdJ8Q2Tx49J"
      },
      "source": [
        "def train_ensemble(ensemble_models, loss, train_dataset, valid_dataset):\n",
        "\n",
        "  for model in ensemble_models:\n",
        "    md5 = str(model.get_config())\n",
        "    md5 = !echo \"$md5\" | md5sum\n",
        "    md5 = md5[0].split()[0]\n",
        "    weights_file = \"%s/%s.h5\" % (KERAS_MODELS_ABSOLUTE_PATH, md5)\n",
        "\n",
        "    if tf.io.gfile.exists(weights_file):\n",
        "      print('Restoring model weights from', md5)\n",
        "      model.load_weights(weights_file)\n",
        "    else:\n",
        "      history = train_model(model, loss, train_dataset, valid_dataset)\n",
        "      model.save_weights(weights_file)\n",
        "      plt.plot(history.history['loss'])\n",
        "      plt.plot(history.history['val_loss'])\n",
        "      plt.ylabel('Loss')\n",
        "      plt.xlabel('Epoch')\n",
        "      plt.legend(['Train', 'Valid'], loc='upper right')\n",
        "      plt.show() "
      ],
      "execution_count": 14,
      "outputs": []
    },
    {
      "cell_type": "code",
      "metadata": {
        "colab": {
          "base_uri": "https://localhost:8080/"
        },
        "id": "MpFpu5bZeYj4",
        "outputId": "ec5b31cf-1ddc-48e9-b8de-ce9bf2475c62"
      },
      "source": [
        "train_ensemble(ensemble_models, keras.losses.BinaryCrossentropy,\n",
        "               train_dataset, valid_dataset)"
      ],
      "execution_count": 15,
      "outputs": [
        {
          "output_type": "stream",
          "name": "stderr",
          "text": [
            "/usr/local/lib/python3.7/dist-packages/keras/utils/generic_utils.py:497: CustomMaskWarning: Custom mask layers require a config and must override get_config. When loading, the custom mask layer must be passed to the custom_objects argument.\n",
            "  category=CustomMaskWarning)\n"
          ]
        },
        {
          "output_type": "stream",
          "name": "stdout",
          "text": [
            "Restoring model weights from 6c62c8bcce28ca06d951fdc974e8c7d7\n",
            "Restoring model weights from d6398db4cb0419f13315b683b4325eec\n",
            "Restoring model weights from e05cda2ec85d099f10e2939f3053e7f1\n",
            "Restoring model weights from 2d08d55de5e80b233b36f07382e6255a\n"
          ]
        }
      ]
    },
    {
      "cell_type": "code",
      "metadata": {
        "id": "pqEEKnoNq2eL"
      },
      "source": [
        "bin_ens = build_ensemble(models=ensemble_models, activation='linear')"
      ],
      "execution_count": 16,
      "outputs": []
    },
    {
      "cell_type": "code",
      "metadata": {
        "id": "9dtmhSipt8iJ"
      },
      "source": [
        "def evaluate_ensemble(models, test_dataset, valid_dataset):\n",
        "  history = []\n",
        "  for model in models:\n",
        "    o = model.output_shape[-1]   \n",
        "    d = lambda x: np.argmax(x, -1) if o > 1 else x.squeeze(-1) > 0\n",
        "    pred = d(model.predict(test_dataset.batch(512)))\n",
        "    history.append(np.sum(pred != list(test_dataset.map(lambda x, y: y))))\n",
        "    pred = d(model.predict(valid_dataset.batch(512)))\n",
        "    history.append(np.sum(pred != list(valid_dataset.map(lambda x, y: y))))\n",
        "  plt.xlim(-0.6, len(history)/2 - 0.4)\n",
        "  plt.bar(np.arange(len(history)/2) - 0.2, history[::2], 0.4)\n",
        "  plt.bar(np.arange(len(history)/2) + 0.2, history[1::2], 0.4)\n",
        "  return np.array(history).reshape(-1, 2).tolist()"
      ],
      "execution_count": 17,
      "outputs": []
    },
    {
      "cell_type": "code",
      "metadata": {
        "id": "cF0bF7Ro6Jg4",
        "colab": {
          "base_uri": "https://localhost:8080/",
          "height": 283
        },
        "outputId": "eb5d9915-c7db-446a-b5b2-28024e4f8809"
      },
      "source": [
        "evaluate_ensemble(ensemble_models + (bin_ens,), test_dataset, valid_dataset)"
      ],
      "execution_count": 18,
      "outputs": [
        {
          "output_type": "execute_result",
          "data": {
            "text/plain": [
              "[[15, 9], [12, 10], [19, 9], [12, 7], [12, 6]]"
            ]
          },
          "metadata": {},
          "execution_count": 18
        },
        {
          "output_type": "display_data",
          "data": {
            "image/png": "[encoded data removed]",
            "text/plain": [
              "<Figure size 936x288 with 1 Axes>"
            ]
          },
          "metadata": {
            "needs_background": "light"
          }
        }
      ]
    },
    {
      "cell_type": "code",
      "metadata": {
        "id": "qSCsLW7940Og",
        "colab": {
          "base_uri": "https://localhost:8080/"
        },
        "outputId": "d83da3a4-1f8b-4aba-ec00-98b4f3a18e3b"
      },
      "source": [
        "train_dataset, test_dataset, valid_dataset = tfds.load(\n",
        "    name='my_dataset', split=['train', 'test', 'valid'],\n",
        "    data_dir='gs://tfds-gsc-1.appspot.com',\n",
        "    as_supervised=True, try_gcs=True)\n",
        "train_dataset.cardinality().numpy()"
      ],
      "execution_count": 19,
      "outputs": [
        {
          "output_type": "execute_result",
          "data": {
            "text/plain": [
              "1095480"
            ]
          },
          "metadata": {},
          "execution_count": 19
        }
      ]
    },
    {
      "cell_type": "code",
      "metadata": {
        "id": "4Ll-WLEB0yGj"
      },
      "source": [
        "train_dataset = train_dataset.map(lambda x, y: (x[1:-1], y))\n",
        "test_dataset  = test_dataset.map(lambda x, y:  (x[1:-1], y))\n",
        "valid_dataset = valid_dataset.map(lambda x, y: (x[1:-1], y))"
      ],
      "execution_count": 20,
      "outputs": []
    },
    {
      "cell_type": "code",
      "metadata": {
        "id": "RBdK_jqApFOa",
        "colab": {
          "base_uri": "https://localhost:8080/",
          "height": 283
        },
        "outputId": "3e11c807-52b1-4cfc-fe89-4717c342fe1c"
      },
      "source": [
        "evaluate_ensemble(ensemble_models + (bin_ens,),\n",
        "                  test_dataset.map(lambda x, y: [x, y < 10]),\n",
        "                  valid_dataset.map(lambda x, y: [x, y < 10]))"
      ],
      "execution_count": 21,
      "outputs": [
        {
          "output_type": "execute_result",
          "data": {
            "text/plain": [
              "[[320, 295], [301, 289], [308, 299], [296, 290], [307, 293]]"
            ]
          },
          "metadata": {},
          "execution_count": 21
        },
        {
          "output_type": "display_data",
          "data": {
            "image/png": "[encoded data removed]",
            "text/plain": [
              "<Figure size 936x288 with 1 Axes>"
            ]
          },
          "metadata": {
            "needs_background": "light"
          }
        }
      ]
    },
    {
      "cell_type": "code",
      "metadata": {
        "id": "sq1S896nzwsY"
      },
      "source": [
        "ensemble_models = (\n",
        "  (build_model, keras.layers.LeakyReLU, keras.layers.MaxPool1D, 12,     128),\n",
        "  (build_model, keras.layers.ReLU,      keras.layers.AvgPool1D, 12,     128),\n",
        "  (build_model, keras.layers.PReLU,     keras.layers.MaxPool1D, 12, 64, 128),\n",
        "  (build_model, keras.layers.ELU,       keras.layers.AvgPool1D, 12, 64, 128),\n",
        ")\n",
        "ensemble_models = build_ensemble(builders=ensemble_models)"
      ],
      "execution_count": 22,
      "outputs": []
    },
    {
      "cell_type": "code",
      "metadata": {
        "id": "5_Ky6M9bzwsZ",
        "colab": {
          "base_uri": "https://localhost:8080/"
        },
        "outputId": "e86ee803-e22a-4938-e534-9894286b5c75"
      },
      "source": [
        "train_ensemble(ensemble_models, keras.losses.SparseCategoricalCrossentropy,\n",
        "               train_dataset, valid_dataset)"
      ],
      "execution_count": 23,
      "outputs": [
        {
          "output_type": "stream",
          "name": "stderr",
          "text": [
            "/usr/local/lib/python3.7/dist-packages/keras/utils/generic_utils.py:497: CustomMaskWarning: Custom mask layers require a config and must override get_config. When loading, the custom mask layer must be passed to the custom_objects argument.\n",
            "  category=CustomMaskWarning)\n"
          ]
        },
        {
          "output_type": "stream",
          "name": "stdout",
          "text": [
            "Restoring model weights from 0330999035caff0857c7998701b3fb4f\n",
            "Restoring model weights from 5c210ca4ea1921f02d4affec252ff827\n",
            "Restoring model weights from 1f045c237a777366069d76eea98f072b\n",
            "Restoring model weights from c5337e7f05c48df078a4c33b49a897e4\n"
          ]
        }
      ]
    },
    {
      "cell_type": "code",
      "metadata": {
        "id": "dOSh6sFK_rJM"
      },
      "source": [
        "cat_ens = build_ensemble(models=ensemble_models, activation='softmax')"
      ],
      "execution_count": 24,
      "outputs": []
    },
    {
      "cell_type": "code",
      "metadata": {
        "id": "AyFS6NeSK3jq",
        "outputId": "a33c5be4-5b07-4afb-f750-66fe2d834879",
        "colab": {
          "base_uri": "https://localhost:8080/"
        }
      },
      "source": [
        "ensemble = build_ensemble(models=[bin_ens, cat_ens])\n",
        "ensemble.summary()"
      ],
      "execution_count": 25,
      "outputs": [
        {
          "output_type": "stream",
          "name": "stdout",
          "text": [
            "Model: \"model_7\"\n",
            "__________________________________________________________________________________________________\n",
            "Layer (type)                    Output Shape         Param #     Connected to                     \n",
            "==================================================================================================\n",
            "input_4 (InputLayer)            [(None, 47, 13)]     0                                            \n",
            "__________________________________________________________________________________________________\n",
            "model_6 (Functional)            (None, 12)           1657712     input_4[0][0]                    \n",
            "__________________________________________________________________________________________________\n",
            "model_5 (Functional)            (None, 1)            1652036     input_4[0][0]                    \n",
            "__________________________________________________________________________________________________\n",
            "tf.__operators__.getitem (Slici (None,)              0           model_6[0][0]                    \n",
            "__________________________________________________________________________________________________\n",
            "tf.__operators__.getitem_1 (Sli (None,)              0           model_6[0][0]                    \n",
            "__________________________________________________________________________________________________\n",
            "tf.compat.v1.squeeze (TFOpLambd (None,)              0           model_5[0][0]                    \n",
            "__________________________________________________________________________________________________\n",
            "tf.math.greater_1 (TFOpLambda)  (None,)              0           tf.__operators__.getitem[0][0]   \n",
            "                                                                 tf.__operators__.getitem_1[0][0] \n",
            "__________________________________________________________________________________________________\n",
            "tf.math.greater (TFOpLambda)    (None,)              0           tf.compat.v1.squeeze[0][0]       \n",
            "__________________________________________________________________________________________________\n",
            "tf.math.argmax (TFOpLambda)     (None,)              0           model_6[0][0]                    \n",
            "__________________________________________________________________________________________________\n",
            "tf.where (TFOpLambda)           (None,)              0           tf.math.greater_1[0][0]          \n",
            "__________________________________________________________________________________________________\n",
            "tf.where_1 (TFOpLambda)         (None,)              0           tf.math.greater[0][0]            \n",
            "                                                                 tf.math.argmax[0][0]             \n",
            "                                                                 tf.where[0][0]                   \n",
            "__________________________________________________________________________________________________\n",
            "tf.one_hot (TFOpLambda)         (None, 12)           0           tf.where_1[0][0]                 \n",
            "==================================================================================================\n",
            "Total params: 3,309,748\n",
            "Trainable params: 3,284,660\n",
            "Non-trainable params: 25,088\n",
            "__________________________________________________________________________________________________\n"
          ]
        }
      ]
    },
    {
      "cell_type": "code",
      "metadata": {
        "id": "Q_ADol7Qo07G",
        "outputId": "a7690601-c24b-40fd-86c8-a174d57ffcc5",
        "colab": {
          "base_uri": "https://localhost:8080/",
          "height": 283
        }
      },
      "source": [
        "evaluate_ensemble(ensemble_models + (cat_ens, ensemble,),\n",
        "                  test_dataset, valid_dataset)"
      ],
      "execution_count": 26,
      "outputs": [
        {
          "output_type": "execute_result",
          "data": {
            "text/plain": [
              "[[49, 28], [59, 23], [69, 26], [48, 20], [48, 19], [63, 30]]"
            ]
          },
          "metadata": {},
          "execution_count": 26
        },
        {
          "output_type": "display_data",
          "data": {
            "image/png": "[encoded data removed]",
            "text/plain": [
              "<Figure size 936x288 with 1 Axes>"
            ]
          },
          "metadata": {
            "needs_background": "light"
          }
        }
      ]
    },
    {
      "cell_type": "code",
      "metadata": {
        "id": "82FeO4px4htt",
        "outputId": "2c8318c0-7510-420f-8c20-1146c0d2d46f",
        "colab": {
          "base_uri": "https://localhost:8080/"
        }
      },
      "source": [
        "matrix = tf.math.confusion_matrix(\n",
        "  list(test_dataset.map(lambda x, y: y)),\n",
        "  ensemble.predict(test_dataset.batch(4096)).argmax(axis=-1)).numpy()\n",
        "for r in matrix:\n",
        "  l = np.sum(r)\n",
        "  for i in r:\n",
        "    print(('%.2f' % (i / l)).replace('0.00', ' .  '), end = ' ')\n",
        "  print(\"|\", l)"
      ],
      "execution_count": 27,
      "outputs": [
        {
          "output_type": "stream",
          "name": "stdout",
          "text": [
            "0.99  .    .    .    .    .    .    .    .    .    .    .   | 315\n",
            " .   0.97  .    .    .    .    .    .    .   0.01 0.01  .   | 309\n",
            " .    .   0.99  .    .    .    .    .    .    .   0.01  .   | 304\n",
            " .    .    .   0.96  .    .    .    .   0.01  .   0.03  .   | 304\n",
            " .    .    .    .   0.98  .    .    .    .    .   0.02  .   | 310\n",
            " .    .    .    .    .   0.98  .    .    .    .   0.02  .   | 336\n",
            " .    .    .    .    .    .   0.99  .    .    .    .    .   | 249\n",
            " .    .    .    .    .    .    .   1.00  .    .    .    .   | 306\n",
            " .    .    .    .    .    .    .    .   0.99  .   0.01  .   | 298\n",
            " .    .    .    .    .    .    .    .    .   0.99 0.01  .   | 312\n",
            " .   0.01  .   0.01 0.01  .    .    .    .   0.01 0.96 0.01 | 365\n",
            " .    .    .    .    .    .    .    .    .    .    .   1.00 | 365\n"
          ]
        }
      ]
    },
    {
      "cell_type": "code",
      "metadata": {
        "id": "Y9xA2CduCZNh",
        "outputId": "e69791a4-0bf3-4bad-8ff0-65a5bc367f8d",
        "colab": {
          "base_uri": "https://localhost:8080/"
        }
      },
      "source": [
        "converter = tf.lite.TFLiteConverter.from_keras_model(ensemble)\n",
        "tflite_model = converter.convert()\n",
        "with open(\"2ecnn47.tflite\", \"wb\") as f:\n",
        "  f.write(tflite_model)"
      ],
      "execution_count": 28,
      "outputs": [
        {
          "output_type": "stream",
          "name": "stdout",
          "text": [
            "WARNING:tensorflow:Compiled the loaded model, but the compiled metrics have yet to be built. `model.compile_metrics` will be empty until you train or evaluate the model.\n"
          ]
        },
        {
          "output_type": "stream",
          "name": "stderr",
          "text": [
            "WARNING:tensorflow:Compiled the loaded model, but the compiled metrics have yet to be built. `model.compile_metrics` will be empty until you train or evaluate the model.\n"
          ]
        },
        {
          "output_type": "stream",
          "name": "stdout",
          "text": [
            "INFO:tensorflow:Assets written to: /tmp/tmpa_tnp_ic/assets\n"
          ]
        },
        {
          "output_type": "stream",
          "name": "stderr",
          "text": [
            "INFO:tensorflow:Assets written to: /tmp/tmpa_tnp_ic/assets\n"
          ]
        }
      ]
    },
    {
      "cell_type": "code",
      "metadata": {
        "id": "u3bNp1IZCZ_v",
        "outputId": "8d330d47-4979-4a5b-9032-3743e6e904af",
        "colab": {
          "base_uri": "https://localhost:8080/"
        }
      },
      "source": [
        "!md5sum '2ecnn47.tflite'\n",
        "!mv '2ecnn47.tflite' \"$KERAS_MODELS_ABSOLUTE_PATH\""
      ],
      "execution_count": 29,
      "outputs": [
        {
          "output_type": "stream",
          "name": "stdout",
          "text": [
            "f69790f8c8ebcffacc14564f63a11490  2ecnn47.tflite\n"
          ]
        }
      ]
    }
  ]
}