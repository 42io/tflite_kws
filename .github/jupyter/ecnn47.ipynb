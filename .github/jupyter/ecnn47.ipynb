{
  "nbformat": 4,
  "nbformat_minor": 0,
  "metadata": {
    "colab": {
      "name": "ecnn47.ipynb",
      "provenance": [],
      "collapsed_sections": [],
      "machine_shape": "hm"
    },
    "kernelspec": {
      "display_name": "Python 3",
      "name": "python3"
    },
    "accelerator": "GPU"
  },
  "cells": [
    {
      "cell_type": "code",
      "metadata": {
        "colab": {
          "base_uri": "https://localhost:8080/"
        },
        "id": "G7i7efokt9Tx",
        "outputId": "14e64e20-cd73-45f5-8827-35a984b315c8"
      },
      "source": [
        "!nvidia-smi"
      ],
      "execution_count": 1,
      "outputs": [
        {
          "output_type": "stream",
          "name": "stdout",
          "text": [
            "Sat Sep 18 05:08:31 2021       \n",
            "+-----------------------------------------------------------------------------+\n",
            "| NVIDIA-SMI 470.63.01    Driver Version: 460.32.03    CUDA Version: 11.2     |\n",
            "|-------------------------------+----------------------+----------------------+\n",
            "| GPU  Name        Persistence-M| Bus-Id        Disp.A | Volatile Uncorr. ECC |\n",
            "| Fan  Temp  Perf  Pwr:Usage/Cap|         Memory-Usage | GPU-Util  Compute M. |\n",
            "|                               |                      |               MIG M. |\n",
            "|===============================+======================+======================|\n",
            "|   0  Tesla K80           Off  | 00000000:00:04.0 Off |                    0 |\n",
            "| N/A   64C    P8    31W / 149W |      0MiB / 11441MiB |      0%      Default |\n",
            "|                               |                      |                  N/A |\n",
            "+-------------------------------+----------------------+----------------------+\n",
            "                                                                               \n",
            "+-----------------------------------------------------------------------------+\n",
            "| Processes:                                                                  |\n",
            "|  GPU   GI   CI        PID   Type   Process name                  GPU Memory |\n",
            "|        ID   ID                                                   Usage      |\n",
            "|=============================================================================|\n",
            "|  No running processes found                                                 |\n",
            "+-----------------------------------------------------------------------------+\n"
          ]
        }
      ]
    },
    {
      "cell_type": "code",
      "metadata": {
        "id": "M09OlPRpDRSh"
      },
      "source": [
        "KERAS_MODELS_ABSOLUTE_PATH = '/content/gdrive/My Drive/ecnn47'"
      ],
      "execution_count": 2,
      "outputs": []
    },
    {
      "cell_type": "code",
      "metadata": {
        "id": "nKHNt4dNhRMF",
        "colab": {
          "base_uri": "https://localhost:8080/"
        },
        "outputId": "3d20153b-6251-46a9-f37c-62020bc53eb5"
      },
      "source": [
        "from google.colab import drive\n",
        "drive.mount('/content/gdrive')"
      ],
      "execution_count": 3,
      "outputs": [
        {
          "output_type": "stream",
          "name": "stdout",
          "text": [
            "Mounted at /content/gdrive\n"
          ]
        }
      ]
    },
    {
      "cell_type": "code",
      "metadata": {
        "colab": {
          "base_uri": "https://localhost:8080/"
        },
        "id": "5T3UOLCpGUmg",
        "outputId": "a2f964a3-d60b-48bc-d672-55eb2437aa62"
      },
      "source": [
        "import matplotlib.pyplot as plt\n",
        "import numpy as np\n",
        "from tensorflow import keras\n",
        "import tensorflow as tf\n",
        "print(tf.__version__)\n",
        "plt.rc('figure', figsize=(13, 4))"
      ],
      "execution_count": 4,
      "outputs": [
        {
          "output_type": "stream",
          "name": "stdout",
          "text": [
            "2.6.0\n"
          ]
        }
      ]
    },
    {
      "cell_type": "code",
      "metadata": {
        "id": "Fubso462-iVr"
      },
      "source": [
        "if not tf.io.gfile.exists(KERAS_MODELS_ABSOLUTE_PATH):\n",
        "  print('You should create', KERAS_MODELS_ABSOLUTE_PATH, 'directory manually')\n",
        "  assert False"
      ],
      "execution_count": 5,
      "outputs": []
    },
    {
      "cell_type": "code",
      "metadata": {
        "id": "l_6NYiKJ7qzN"
      },
      "source": [
        "# https://github.com/42io/dataset/tree/master/google_speech_commands\n",
        "# zero one two three four five six seven eight nine #unk# #pub#\n",
        "DATASET_FILE = '1NgIw6JrdjDcRhnAxbheqtAcV5Fr-wUJu'"
      ],
      "execution_count": 6,
      "outputs": []
    },
    {
      "cell_type": "code",
      "metadata": {
        "id": "J4KjyC2X_ZyQ",
        "colab": {
          "base_uri": "https://localhost:8080/"
        },
        "outputId": "6b36ba3e-a66b-4b5e-a372-eaba2af0a282"
      },
      "source": [
        "!pip install -qq gdown\n",
        "!test -f \"$DATASET_FILE\" || gdown --id \"$DATASET_FILE\" -O \"$DATASET_FILE\""
      ],
      "execution_count": 7,
      "outputs": [
        {
          "output_type": "stream",
          "name": "stdout",
          "text": [
            "Downloading...\n",
            "From: https://drive.google.com/uc?id=1NgIw6JrdjDcRhnAxbheqtAcV5Fr-wUJu\n",
            "To: /content/1NgIw6JrdjDcRhnAxbheqtAcV5Fr-wUJu\n",
            "2.59GB [00:31, 81.7MB/s]\n"
          ]
        }
      ]
    },
    {
      "cell_type": "code",
      "metadata": {
        "id": "kIdWKJAOu_p9"
      },
      "source": [
        "md5 = !md5sum \"$DATASET_FILE\"\n",
        "assert '54821a74684e7bbb9b3acd853960d9cd' == md5[0].split()[0]"
      ],
      "execution_count": 8,
      "outputs": []
    },
    {
      "cell_type": "code",
      "metadata": {
        "id": "zjcgSo1ahoz9",
        "colab": {
          "base_uri": "https://localhost:8080/"
        },
        "outputId": "46e3ca8b-ef05-4653-edbb-217e06bce921"
      },
      "source": [
        "dset = np.load(DATASET_FILE)\n",
        "print(dset['x_train'].shape)"
      ],
      "execution_count": 9,
      "outputs": [
        {
          "output_type": "stream",
          "name": "stdout",
          "text": [
            "(1095480, 637)\n"
          ]
        }
      ]
    },
    {
      "cell_type": "code",
      "metadata": {
        "id": "tus9FNQ1pYnO"
      },
      "source": [
        "def create_ds(t):\n",
        "  x = 'x_' + t\n",
        "  y = 'y_' + t\n",
        "  d = tf.data.Dataset.from_tensor_slices((dset[x], dset[y]))\n",
        "  d = d.map(lambda x, y: [tf.cast(x, tf.float32), y])\n",
        "  d = d.map(lambda x, y: [x, tf.cast(y, tf.int8)])\n",
        "  d = d.map(lambda x, y: [tf.reshape(x, (49, 13))[1:-1], y])\n",
        "  d = d.cache()\n",
        "  return d"
      ],
      "execution_count": 10,
      "outputs": []
    },
    {
      "cell_type": "code",
      "metadata": {
        "id": "oL2-YVKZYpK2",
        "colab": {
          "base_uri": "https://localhost:8080/"
        },
        "outputId": "db7d1996-683a-4529-aba1-c281cc5108f2"
      },
      "source": [
        "train_dataset = create_ds('train')\n",
        "test_dataset  = create_ds('test')\n",
        "valid_dataset = create_ds('valid')\n",
        "train_dataset.cardinality().numpy()"
      ],
      "execution_count": 11,
      "outputs": [
        {
          "output_type": "execute_result",
          "data": {
            "text/plain": [
              "1095480"
            ]
          },
          "metadata": {},
          "execution_count": 11
        }
      ]
    },
    {
      "cell_type": "code",
      "metadata": {
        "id": "Xcj5MHTAKYwv"
      },
      "source": [
        "def spectrogram_masking(spectrogram, dim=1, masks_number=2, mask_max_size=5):\n",
        "  \"\"\"Spectrogram masking on frequency or time dimension.\n",
        "  Args:\n",
        "    spectrogram: Input spectrum [batch, time, frequency]\n",
        "    dim: dimension on which masking will be applied: 1 - time; 2 - frequency\n",
        "    masks_number: number of masks\n",
        "    mask_max_size: mask max size\n",
        "  Returns:\n",
        "    masked spectrogram\n",
        "  \"\"\"\n",
        "  if dim not in (1, 2):\n",
        "    raise ValueError('Wrong dim value: %d' % dim)\n",
        "  input_shape = spectrogram.shape\n",
        "  time_size, frequency_size = input_shape[1:3]\n",
        "  dim_size = input_shape[dim]  # size of dimension on which mask is applied\n",
        "  stripe_shape = [1, time_size, frequency_size]\n",
        "  for _ in range(masks_number):\n",
        "    mask_end = tf.random.uniform([], 0, mask_max_size, tf.int32)\n",
        "    mask_start = tf.random.uniform([], 0, dim_size - mask_end, tf.int32)\n",
        "\n",
        "    # initialize stripes with stripe_shape\n",
        "    stripe_ones_left = list(stripe_shape)\n",
        "    stripe_zeros_center = list(stripe_shape)\n",
        "    stripe_ones_right = list(stripe_shape)\n",
        "\n",
        "    # update stripes dim\n",
        "    stripe_ones_left[dim] = dim_size - mask_start - mask_end\n",
        "    stripe_zeros_center[dim] = mask_end\n",
        "    stripe_ones_right[dim] = mask_start\n",
        "\n",
        "    # generate mask\n",
        "    mask = tf.concat((\n",
        "        tf.ones(stripe_ones_left, spectrogram.dtype),\n",
        "        tf.zeros(stripe_zeros_center, spectrogram.dtype),\n",
        "        tf.ones(stripe_ones_right, spectrogram.dtype),\n",
        "    ), dim)\n",
        "    spectrogram = spectrogram * mask\n",
        "  return spectrogram"
      ],
      "execution_count": 12,
      "outputs": []
    },
    {
      "cell_type": "code",
      "metadata": {
        "id": "x5m9wOJwCxxA"
      },
      "source": [
        "def train_model(model, train_dataset, valid_dataset):\n",
        "\n",
        "  early_stopping = keras.callbacks.EarlyStopping(\n",
        "        monitor='val_loss',\n",
        "        mode='min',\n",
        "        verbose=1,\n",
        "        patience=100,\n",
        "        restore_best_weights=True)\n",
        "\n",
        "  train_batch = train_dataset.shuffle(train_dataset.cardinality())\n",
        "  train_batch = train_batch.batch(128)\n",
        "  train_batch = train_batch.map(lambda x, y: (spectrogram_masking(x, 1, 3, 3), y))\n",
        "  train_batch = train_batch.map(lambda x, y: (spectrogram_masking(x, 2, 2, 2), y))\n",
        "  train_batch = train_batch.prefetch(tf.data.AUTOTUNE)\n",
        "\n",
        "  valid_batch = valid_dataset.batch(512)\n",
        "  valid_batch = valid_batch.prefetch(tf.data.AUTOTUNE)\n",
        "\n",
        "  # plt.imshow(list(train_batch.take(1))[0][0][0].numpy().T)\n",
        "  # plt.show()\n",
        "\n",
        "  history = model.fit(train_batch,\n",
        "                      validation_data=valid_batch,\n",
        "                      callbacks=[early_stopping],\n",
        "                      verbose=2,\n",
        "                      epochs=500) # play with google colab time limit\n",
        "\n",
        "  model.set_weights(early_stopping.best_weights)\n",
        "  return history"
      ],
      "execution_count": 13,
      "outputs": []
    },
    {
      "cell_type": "code",
      "metadata": {
        "id": "vP5AfeDYPYK4"
      },
      "source": [
        "def build_first_ensemble(in_shape, activation, pooling):\n",
        "\n",
        "  # resetting the layer name generation counter\n",
        "  keras.backend.clear_session()\n",
        "\n",
        "  x_in = keras.Input(shape=in_shape)\n",
        "\n",
        "  x = keras.layers.Conv1D(128, 1, use_bias=False)(x_in)\n",
        "  x = keras.layers.BatchNormalization()(x)\n",
        "  x = activation()(x)\n",
        "  x = keras.layers.SpatialDropout1D(0.2)(x)\n",
        "\n",
        "  for i in range(4)[::-1]:\n",
        "    r = keras.layers.Conv1D(x.shape[-1], 3, padding='same', use_bias=False)(x)\n",
        "    r = keras.layers.BatchNormalization()(r)\n",
        "    r = activation()(r)\n",
        "    r = keras.layers.SpatialDropout1D(0.2)(r)\n",
        "    r = keras.layers.Conv1D(x.shape[-1], 2, padding='same', use_bias=False)(r)\n",
        "    r = keras.layers.BatchNormalization()(r)\n",
        "    x = keras.layers.add([r, x])\n",
        "    x = activation()(x)\n",
        "    x = keras.layers.SpatialDropout1D(0.2)(x)\n",
        "    x = pooling(2 if i else x.shape[1], padding='same')(x)\n",
        "\n",
        "  x = keras.layers.Flatten()(x)\n",
        "\n",
        "  for i in x.shape[-1] * np.array([2, 1]):\n",
        "    x = keras.layers.Dense(i, use_bias=False)(x)\n",
        "    x = keras.layers.BatchNormalization()(x)\n",
        "    x = activation()(x)\n",
        "    x = keras.layers.Dropout(0.2)(x)\n",
        "\n",
        "  x = keras.layers.Dense(12)(x)\n",
        "  return keras.Model(inputs=x_in, outputs=x, name='first_ensemble')"
      ],
      "execution_count": 14,
      "outputs": []
    },
    {
      "cell_type": "code",
      "metadata": {
        "id": "zbLWMOGgVqhv"
      },
      "source": [
        "def build_second_ensemble(in_shape, activation, pooling, *in_steps):\n",
        "\n",
        "  # resetting the layer name generation counter\n",
        "  keras.backend.clear_session()\n",
        "\n",
        "  x = x_in = keras.Input(shape=in_shape)\n",
        "\n",
        "  for i in in_steps:\n",
        "    x = keras.layers.Conv1D(i, 1, use_bias=False)(x)\n",
        "    x = keras.layers.BatchNormalization()(x)\n",
        "    x = activation()(x)\n",
        "    x = keras.layers.SpatialDropout1D(i / 640)(x)\n",
        "\n",
        "  for i in range(4):\n",
        "    x = keras.layers.Conv1D(x.shape[-1], 2,\n",
        "                            dilation_rate=2**i, use_bias=False)(x)\n",
        "    x = keras.layers.BatchNormalization()(x)\n",
        "    x = activation()(x)\n",
        "    x = keras.layers.SpatialDropout1D(0.2)(x)\n",
        "\n",
        "  x = pooling(x.shape[1])(x)\n",
        "  x = keras.layers.Flatten()(x)\n",
        "\n",
        "  for i in x.shape[-1] * np.array([2, 1]):\n",
        "    x = keras.layers.Dense(i, use_bias=False)(x)\n",
        "    x = keras.layers.BatchNormalization()(x)\n",
        "    x = activation()(x)\n",
        "    x = keras.layers.Dropout(0.2)(x)\n",
        "\n",
        "  x = keras.layers.Dense(12)(x)\n",
        "  return keras.Model(inputs=x_in, outputs=x, name='second_ensemble')"
      ],
      "execution_count": 15,
      "outputs": []
    },
    {
      "cell_type": "code",
      "metadata": {
        "id": "E84wnQt1s_VY"
      },
      "source": [
        "def build_ensemble(builders=None, models=None):\n",
        "  in_shape = (47, 13)\n",
        "  if models:\n",
        "    x_in = keras.Input(shape=in_shape)\n",
        "    x  = [keras.Model(m.inputs, m.outputs) for m in models]\n",
        "    x  = [e(x_in) for e in x]\n",
        "    x  = [keras.layers.Softmax()(e) for e in x]\n",
        "    x  = keras.layers.Average()(x)\n",
        "    return keras.Model(x_in, x)\n",
        "  else:\n",
        "    return tuple(b(in_shape, *a) for b, *a in builders)"
      ],
      "execution_count": 16,
      "outputs": []
    },
    {
      "cell_type": "code",
      "metadata": {
        "id": "hP5H5d2z_SpG"
      },
      "source": [
        "ensemble_models = (\n",
        "  (build_first_ensemble,  keras.layers.LeakyReLU, keras.layers.MaxPool1D),\n",
        "  (build_first_ensemble,  keras.layers.ReLU,      keras.layers.AvgPool1D),\n",
        "  (build_second_ensemble, keras.layers.PReLU,     keras.layers.MaxPool1D, 128),\n",
        "  (build_second_ensemble, keras.layers.ELU,       keras.layers.AvgPool1D, 64, 128),\n",
        ")\n",
        "ensemble_models = build_ensemble(ensemble_models)"
      ],
      "execution_count": 17,
      "outputs": []
    },
    {
      "cell_type": "code",
      "metadata": {
        "id": "sszGLEztjm_f",
        "colab": {
          "base_uri": "https://localhost:8080/"
        },
        "outputId": "38828cac-74ba-410d-9b23-015b4fe50174"
      },
      "source": [
        "for model in ensemble_models:\n",
        "  if model is not ensemble_models[0]:\n",
        "    print(\"\\n\")\n",
        "  model.summary()"
      ],
      "execution_count": 18,
      "outputs": [
        {
          "output_type": "stream",
          "name": "stdout",
          "text": [
            "Model: \"first_ensemble\"\n",
            "__________________________________________________________________________________________________\n",
            "Layer (type)                    Output Shape         Param #     Connected to                     \n",
            "==================================================================================================\n",
            "input_1 (InputLayer)            [(None, 47, 13)]     0                                            \n",
            "__________________________________________________________________________________________________\n",
            "conv1d (Conv1D)                 (None, 47, 128)      1664        input_1[0][0]                    \n",
            "__________________________________________________________________________________________________\n",
            "batch_normalization (BatchNorma (None, 47, 128)      512         conv1d[0][0]                     \n",
            "__________________________________________________________________________________________________\n",
            "leaky_re_lu (LeakyReLU)         (None, 47, 128)      0           batch_normalization[0][0]        \n",
            "__________________________________________________________________________________________________\n",
            "spatial_dropout1d (SpatialDropo (None, 47, 128)      0           leaky_re_lu[0][0]                \n",
            "__________________________________________________________________________________________________\n",
            "conv1d_1 (Conv1D)               (None, 47, 128)      49152       spatial_dropout1d[0][0]          \n",
            "__________________________________________________________________________________________________\n",
            "batch_normalization_1 (BatchNor (None, 47, 128)      512         conv1d_1[0][0]                   \n",
            "__________________________________________________________________________________________________\n",
            "leaky_re_lu_1 (LeakyReLU)       (None, 47, 128)      0           batch_normalization_1[0][0]      \n",
            "__________________________________________________________________________________________________\n",
            "spatial_dropout1d_1 (SpatialDro (None, 47, 128)      0           leaky_re_lu_1[0][0]              \n",
            "__________________________________________________________________________________________________\n",
            "conv1d_2 (Conv1D)               (None, 47, 128)      32768       spatial_dropout1d_1[0][0]        \n",
            "__________________________________________________________________________________________________\n",
            "batch_normalization_2 (BatchNor (None, 47, 128)      512         conv1d_2[0][0]                   \n",
            "__________________________________________________________________________________________________\n",
            "add (Add)                       (None, 47, 128)      0           batch_normalization_2[0][0]      \n",
            "                                                                 spatial_dropout1d[0][0]          \n",
            "__________________________________________________________________________________________________\n",
            "leaky_re_lu_2 (LeakyReLU)       (None, 47, 128)      0           add[0][0]                        \n",
            "__________________________________________________________________________________________________\n",
            "spatial_dropout1d_2 (SpatialDro (None, 47, 128)      0           leaky_re_lu_2[0][0]              \n",
            "__________________________________________________________________________________________________\n",
            "max_pooling1d (MaxPooling1D)    (None, 24, 128)      0           spatial_dropout1d_2[0][0]        \n",
            "__________________________________________________________________________________________________\n",
            "conv1d_3 (Conv1D)               (None, 24, 128)      49152       max_pooling1d[0][0]              \n",
            "__________________________________________________________________________________________________\n",
            "batch_normalization_3 (BatchNor (None, 24, 128)      512         conv1d_3[0][0]                   \n",
            "__________________________________________________________________________________________________\n",
            "leaky_re_lu_3 (LeakyReLU)       (None, 24, 128)      0           batch_normalization_3[0][0]      \n",
            "__________________________________________________________________________________________________\n",
            "spatial_dropout1d_3 (SpatialDro (None, 24, 128)      0           leaky_re_lu_3[0][0]              \n",
            "__________________________________________________________________________________________________\n",
            "conv1d_4 (Conv1D)               (None, 24, 128)      32768       spatial_dropout1d_3[0][0]        \n",
            "__________________________________________________________________________________________________\n",
            "batch_normalization_4 (BatchNor (None, 24, 128)      512         conv1d_4[0][0]                   \n",
            "__________________________________________________________________________________________________\n",
            "add_1 (Add)                     (None, 24, 128)      0           batch_normalization_4[0][0]      \n",
            "                                                                 max_pooling1d[0][0]              \n",
            "__________________________________________________________________________________________________\n",
            "leaky_re_lu_4 (LeakyReLU)       (None, 24, 128)      0           add_1[0][0]                      \n",
            "__________________________________________________________________________________________________\n",
            "spatial_dropout1d_4 (SpatialDro (None, 24, 128)      0           leaky_re_lu_4[0][0]              \n",
            "__________________________________________________________________________________________________\n",
            "max_pooling1d_1 (MaxPooling1D)  (None, 12, 128)      0           spatial_dropout1d_4[0][0]        \n",
            "__________________________________________________________________________________________________\n",
            "conv1d_5 (Conv1D)               (None, 12, 128)      49152       max_pooling1d_1[0][0]            \n",
            "__________________________________________________________________________________________________\n",
            "batch_normalization_5 (BatchNor (None, 12, 128)      512         conv1d_5[0][0]                   \n",
            "__________________________________________________________________________________________________\n",
            "leaky_re_lu_5 (LeakyReLU)       (None, 12, 128)      0           batch_normalization_5[0][0]      \n",
            "__________________________________________________________________________________________________\n",
            "spatial_dropout1d_5 (SpatialDro (None, 12, 128)      0           leaky_re_lu_5[0][0]              \n",
            "__________________________________________________________________________________________________\n",
            "conv1d_6 (Conv1D)               (None, 12, 128)      32768       spatial_dropout1d_5[0][0]        \n",
            "__________________________________________________________________________________________________\n",
            "batch_normalization_6 (BatchNor (None, 12, 128)      512         conv1d_6[0][0]                   \n",
            "__________________________________________________________________________________________________\n",
            "add_2 (Add)                     (None, 12, 128)      0           batch_normalization_6[0][0]      \n",
            "                                                                 max_pooling1d_1[0][0]            \n",
            "__________________________________________________________________________________________________\n",
            "leaky_re_lu_6 (LeakyReLU)       (None, 12, 128)      0           add_2[0][0]                      \n",
            "__________________________________________________________________________________________________\n",
            "spatial_dropout1d_6 (SpatialDro (None, 12, 128)      0           leaky_re_lu_6[0][0]              \n",
            "__________________________________________________________________________________________________\n",
            "max_pooling1d_2 (MaxPooling1D)  (None, 6, 128)       0           spatial_dropout1d_6[0][0]        \n",
            "__________________________________________________________________________________________________\n",
            "conv1d_7 (Conv1D)               (None, 6, 128)       49152       max_pooling1d_2[0][0]            \n",
            "__________________________________________________________________________________________________\n",
            "batch_normalization_7 (BatchNor (None, 6, 128)       512         conv1d_7[0][0]                   \n",
            "__________________________________________________________________________________________________\n",
            "leaky_re_lu_7 (LeakyReLU)       (None, 6, 128)       0           batch_normalization_7[0][0]      \n",
            "__________________________________________________________________________________________________\n",
            "spatial_dropout1d_7 (SpatialDro (None, 6, 128)       0           leaky_re_lu_7[0][0]              \n",
            "__________________________________________________________________________________________________\n",
            "conv1d_8 (Conv1D)               (None, 6, 128)       32768       spatial_dropout1d_7[0][0]        \n",
            "__________________________________________________________________________________________________\n",
            "batch_normalization_8 (BatchNor (None, 6, 128)       512         conv1d_8[0][0]                   \n",
            "__________________________________________________________________________________________________\n",
            "add_3 (Add)                     (None, 6, 128)       0           batch_normalization_8[0][0]      \n",
            "                                                                 max_pooling1d_2[0][0]            \n",
            "__________________________________________________________________________________________________\n",
            "leaky_re_lu_8 (LeakyReLU)       (None, 6, 128)       0           add_3[0][0]                      \n",
            "__________________________________________________________________________________________________\n",
            "spatial_dropout1d_8 (SpatialDro (None, 6, 128)       0           leaky_re_lu_8[0][0]              \n",
            "__________________________________________________________________________________________________\n",
            "max_pooling1d_3 (MaxPooling1D)  (None, 1, 128)       0           spatial_dropout1d_8[0][0]        \n",
            "__________________________________________________________________________________________________\n",
            "flatten (Flatten)               (None, 128)          0           max_pooling1d_3[0][0]            \n",
            "__________________________________________________________________________________________________\n",
            "dense (Dense)                   (None, 256)          32768       flatten[0][0]                    \n",
            "__________________________________________________________________________________________________\n",
            "batch_normalization_9 (BatchNor (None, 256)          1024        dense[0][0]                      \n",
            "__________________________________________________________________________________________________\n",
            "leaky_re_lu_9 (LeakyReLU)       (None, 256)          0           batch_normalization_9[0][0]      \n",
            "__________________________________________________________________________________________________\n",
            "dropout (Dropout)               (None, 256)          0           leaky_re_lu_9[0][0]              \n",
            "__________________________________________________________________________________________________\n",
            "dense_1 (Dense)                 (None, 128)          32768       dropout[0][0]                    \n",
            "__________________________________________________________________________________________________\n",
            "batch_normalization_10 (BatchNo (None, 128)          512         dense_1[0][0]                    \n",
            "__________________________________________________________________________________________________\n",
            "leaky_re_lu_10 (LeakyReLU)      (None, 128)          0           batch_normalization_10[0][0]     \n",
            "__________________________________________________________________________________________________\n",
            "dropout_1 (Dropout)             (None, 128)          0           leaky_re_lu_10[0][0]             \n",
            "__________________________________________________________________________________________________\n",
            "dense_2 (Dense)                 (None, 12)           1548        dropout_1[0][0]                  \n",
            "==================================================================================================\n",
            "Total params: 402,572\n",
            "Trainable params: 399,500\n",
            "Non-trainable params: 3,072\n",
            "__________________________________________________________________________________________________\n",
            "\n",
            "\n",
            "Model: \"first_ensemble\"\n",
            "__________________________________________________________________________________________________\n",
            "Layer (type)                    Output Shape         Param #     Connected to                     \n",
            "==================================================================================================\n",
            "input_1 (InputLayer)            [(None, 47, 13)]     0                                            \n",
            "__________________________________________________________________________________________________\n",
            "conv1d (Conv1D)                 (None, 47, 128)      1664        input_1[0][0]                    \n",
            "__________________________________________________________________________________________________\n",
            "batch_normalization (BatchNorma (None, 47, 128)      512         conv1d[0][0]                     \n",
            "__________________________________________________________________________________________________\n",
            "re_lu (ReLU)                    (None, 47, 128)      0           batch_normalization[0][0]        \n",
            "__________________________________________________________________________________________________\n",
            "spatial_dropout1d (SpatialDropo (None, 47, 128)      0           re_lu[0][0]                      \n",
            "__________________________________________________________________________________________________\n",
            "conv1d_1 (Conv1D)               (None, 47, 128)      49152       spatial_dropout1d[0][0]          \n",
            "__________________________________________________________________________________________________\n",
            "batch_normalization_1 (BatchNor (None, 47, 128)      512         conv1d_1[0][0]                   \n",
            "__________________________________________________________________________________________________\n",
            "re_lu_1 (ReLU)                  (None, 47, 128)      0           batch_normalization_1[0][0]      \n",
            "__________________________________________________________________________________________________\n",
            "spatial_dropout1d_1 (SpatialDro (None, 47, 128)      0           re_lu_1[0][0]                    \n",
            "__________________________________________________________________________________________________\n",
            "conv1d_2 (Conv1D)               (None, 47, 128)      32768       spatial_dropout1d_1[0][0]        \n",
            "__________________________________________________________________________________________________\n",
            "batch_normalization_2 (BatchNor (None, 47, 128)      512         conv1d_2[0][0]                   \n",
            "__________________________________________________________________________________________________\n",
            "add (Add)                       (None, 47, 128)      0           batch_normalization_2[0][0]      \n",
            "                                                                 spatial_dropout1d[0][0]          \n",
            "__________________________________________________________________________________________________\n",
            "re_lu_2 (ReLU)                  (None, 47, 128)      0           add[0][0]                        \n",
            "__________________________________________________________________________________________________\n",
            "spatial_dropout1d_2 (SpatialDro (None, 47, 128)      0           re_lu_2[0][0]                    \n",
            "__________________________________________________________________________________________________\n",
            "average_pooling1d (AveragePooli (None, 24, 128)      0           spatial_dropout1d_2[0][0]        \n",
            "__________________________________________________________________________________________________\n",
            "conv1d_3 (Conv1D)               (None, 24, 128)      49152       average_pooling1d[0][0]          \n",
            "__________________________________________________________________________________________________\n",
            "batch_normalization_3 (BatchNor (None, 24, 128)      512         conv1d_3[0][0]                   \n",
            "__________________________________________________________________________________________________\n",
            "re_lu_3 (ReLU)                  (None, 24, 128)      0           batch_normalization_3[0][0]      \n",
            "__________________________________________________________________________________________________\n",
            "spatial_dropout1d_3 (SpatialDro (None, 24, 128)      0           re_lu_3[0][0]                    \n",
            "__________________________________________________________________________________________________\n",
            "conv1d_4 (Conv1D)               (None, 24, 128)      32768       spatial_dropout1d_3[0][0]        \n",
            "__________________________________________________________________________________________________\n",
            "batch_normalization_4 (BatchNor (None, 24, 128)      512         conv1d_4[0][0]                   \n",
            "__________________________________________________________________________________________________\n",
            "add_1 (Add)                     (None, 24, 128)      0           batch_normalization_4[0][0]      \n",
            "                                                                 average_pooling1d[0][0]          \n",
            "__________________________________________________________________________________________________\n",
            "re_lu_4 (ReLU)                  (None, 24, 128)      0           add_1[0][0]                      \n",
            "__________________________________________________________________________________________________\n",
            "spatial_dropout1d_4 (SpatialDro (None, 24, 128)      0           re_lu_4[0][0]                    \n",
            "__________________________________________________________________________________________________\n",
            "average_pooling1d_1 (AveragePoo (None, 12, 128)      0           spatial_dropout1d_4[0][0]        \n",
            "__________________________________________________________________________________________________\n",
            "conv1d_5 (Conv1D)               (None, 12, 128)      49152       average_pooling1d_1[0][0]        \n",
            "__________________________________________________________________________________________________\n",
            "batch_normalization_5 (BatchNor (None, 12, 128)      512         conv1d_5[0][0]                   \n",
            "__________________________________________________________________________________________________\n",
            "re_lu_5 (ReLU)                  (None, 12, 128)      0           batch_normalization_5[0][0]      \n",
            "__________________________________________________________________________________________________\n",
            "spatial_dropout1d_5 (SpatialDro (None, 12, 128)      0           re_lu_5[0][0]                    \n",
            "__________________________________________________________________________________________________\n",
            "conv1d_6 (Conv1D)               (None, 12, 128)      32768       spatial_dropout1d_5[0][0]        \n",
            "__________________________________________________________________________________________________\n",
            "batch_normalization_6 (BatchNor (None, 12, 128)      512         conv1d_6[0][0]                   \n",
            "__________________________________________________________________________________________________\n",
            "add_2 (Add)                     (None, 12, 128)      0           batch_normalization_6[0][0]      \n",
            "                                                                 average_pooling1d_1[0][0]        \n",
            "__________________________________________________________________________________________________\n",
            "re_lu_6 (ReLU)                  (None, 12, 128)      0           add_2[0][0]                      \n",
            "__________________________________________________________________________________________________\n",
            "spatial_dropout1d_6 (SpatialDro (None, 12, 128)      0           re_lu_6[0][0]                    \n",
            "__________________________________________________________________________________________________\n",
            "average_pooling1d_2 (AveragePoo (None, 6, 128)       0           spatial_dropout1d_6[0][0]        \n",
            "__________________________________________________________________________________________________\n",
            "conv1d_7 (Conv1D)               (None, 6, 128)       49152       average_pooling1d_2[0][0]        \n",
            "__________________________________________________________________________________________________\n",
            "batch_normalization_7 (BatchNor (None, 6, 128)       512         conv1d_7[0][0]                   \n",
            "__________________________________________________________________________________________________\n",
            "re_lu_7 (ReLU)                  (None, 6, 128)       0           batch_normalization_7[0][0]      \n",
            "__________________________________________________________________________________________________\n",
            "spatial_dropout1d_7 (SpatialDro (None, 6, 128)       0           re_lu_7[0][0]                    \n",
            "__________________________________________________________________________________________________\n",
            "conv1d_8 (Conv1D)               (None, 6, 128)       32768       spatial_dropout1d_7[0][0]        \n",
            "__________________________________________________________________________________________________\n",
            "batch_normalization_8 (BatchNor (None, 6, 128)       512         conv1d_8[0][0]                   \n",
            "__________________________________________________________________________________________________\n",
            "add_3 (Add)                     (None, 6, 128)       0           batch_normalization_8[0][0]      \n",
            "                                                                 average_pooling1d_2[0][0]        \n",
            "__________________________________________________________________________________________________\n",
            "re_lu_8 (ReLU)                  (None, 6, 128)       0           add_3[0][0]                      \n",
            "__________________________________________________________________________________________________\n",
            "spatial_dropout1d_8 (SpatialDro (None, 6, 128)       0           re_lu_8[0][0]                    \n",
            "__________________________________________________________________________________________________\n",
            "average_pooling1d_3 (AveragePoo (None, 1, 128)       0           spatial_dropout1d_8[0][0]        \n",
            "__________________________________________________________________________________________________\n",
            "flatten (Flatten)               (None, 128)          0           average_pooling1d_3[0][0]        \n",
            "__________________________________________________________________________________________________\n",
            "dense (Dense)                   (None, 256)          32768       flatten[0][0]                    \n",
            "__________________________________________________________________________________________________\n",
            "batch_normalization_9 (BatchNor (None, 256)          1024        dense[0][0]                      \n",
            "__________________________________________________________________________________________________\n",
            "re_lu_9 (ReLU)                  (None, 256)          0           batch_normalization_9[0][0]      \n",
            "__________________________________________________________________________________________________\n",
            "dropout (Dropout)               (None, 256)          0           re_lu_9[0][0]                    \n",
            "__________________________________________________________________________________________________\n",
            "dense_1 (Dense)                 (None, 128)          32768       dropout[0][0]                    \n",
            "__________________________________________________________________________________________________\n",
            "batch_normalization_10 (BatchNo (None, 128)          512         dense_1[0][0]                    \n",
            "__________________________________________________________________________________________________\n",
            "re_lu_10 (ReLU)                 (None, 128)          0           batch_normalization_10[0][0]     \n",
            "__________________________________________________________________________________________________\n",
            "dropout_1 (Dropout)             (None, 128)          0           re_lu_10[0][0]                   \n",
            "__________________________________________________________________________________________________\n",
            "dense_2 (Dense)                 (None, 12)           1548        dropout_1[0][0]                  \n",
            "==================================================================================================\n",
            "Total params: 402,572\n",
            "Trainable params: 399,500\n",
            "Non-trainable params: 3,072\n",
            "__________________________________________________________________________________________________\n",
            "\n",
            "\n",
            "Model: \"second_ensemble\"\n",
            "_________________________________________________________________\n",
            "Layer (type)                 Output Shape              Param #   \n",
            "=================================================================\n",
            "input_1 (InputLayer)         [(None, 47, 13)]          0         \n",
            "_________________________________________________________________\n",
            "conv1d (Conv1D)              (None, 47, 128)           1664      \n",
            "_________________________________________________________________\n",
            "batch_normalization (BatchNo (None, 47, 128)           512       \n",
            "_________________________________________________________________\n",
            "p_re_lu (PReLU)              (None, 47, 128)           6016      \n",
            "_________________________________________________________________\n",
            "spatial_dropout1d (SpatialDr (None, 47, 128)           0         \n",
            "_________________________________________________________________\n",
            "conv1d_1 (Conv1D)            (None, 46, 128)           32768     \n",
            "_________________________________________________________________\n",
            "batch_normalization_1 (Batch (None, 46, 128)           512       \n",
            "_________________________________________________________________\n",
            "p_re_lu_1 (PReLU)            (None, 46, 128)           5888      \n",
            "_________________________________________________________________\n",
            "spatial_dropout1d_1 (Spatial (None, 46, 128)           0         \n",
            "_________________________________________________________________\n",
            "conv1d_2 (Conv1D)            (None, 44, 128)           32768     \n",
            "_________________________________________________________________\n",
            "batch_normalization_2 (Batch (None, 44, 128)           512       \n",
            "_________________________________________________________________\n",
            "p_re_lu_2 (PReLU)            (None, 44, 128)           5632      \n",
            "_________________________________________________________________\n",
            "spatial_dropout1d_2 (Spatial (None, 44, 128)           0         \n",
            "_________________________________________________________________\n",
            "conv1d_3 (Conv1D)            (None, 40, 128)           32768     \n",
            "_________________________________________________________________\n",
            "batch_normalization_3 (Batch (None, 40, 128)           512       \n",
            "_________________________________________________________________\n",
            "p_re_lu_3 (PReLU)            (None, 40, 128)           5120      \n",
            "_________________________________________________________________\n",
            "spatial_dropout1d_3 (Spatial (None, 40, 128)           0         \n",
            "_________________________________________________________________\n",
            "conv1d_4 (Conv1D)            (None, 32, 128)           32768     \n",
            "_________________________________________________________________\n",
            "batch_normalization_4 (Batch (None, 32, 128)           512       \n",
            "_________________________________________________________________\n",
            "p_re_lu_4 (PReLU)            (None, 32, 128)           4096      \n",
            "_________________________________________________________________\n",
            "spatial_dropout1d_4 (Spatial (None, 32, 128)           0         \n",
            "_________________________________________________________________\n",
            "max_pooling1d (MaxPooling1D) (None, 1, 128)            0         \n",
            "_________________________________________________________________\n",
            "flatten (Flatten)            (None, 128)               0         \n",
            "_________________________________________________________________\n",
            "dense (Dense)                (None, 256)               32768     \n",
            "_________________________________________________________________\n",
            "batch_normalization_5 (Batch (None, 256)               1024      \n",
            "_________________________________________________________________\n",
            "p_re_lu_5 (PReLU)            (None, 256)               256       \n",
            "_________________________________________________________________\n",
            "dropout (Dropout)            (None, 256)               0         \n",
            "_________________________________________________________________\n",
            "dense_1 (Dense)              (None, 128)               32768     \n",
            "_________________________________________________________________\n",
            "batch_normalization_6 (Batch (None, 128)               512       \n",
            "_________________________________________________________________\n",
            "p_re_lu_6 (PReLU)            (None, 128)               128       \n",
            "_________________________________________________________________\n",
            "dropout_1 (Dropout)          (None, 128)               0         \n",
            "_________________________________________________________________\n",
            "dense_2 (Dense)              (None, 12)                1548      \n",
            "=================================================================\n",
            "Total params: 231,052\n",
            "Trainable params: 229,004\n",
            "Non-trainable params: 2,048\n",
            "_________________________________________________________________\n",
            "\n",
            "\n",
            "Model: \"second_ensemble\"\n",
            "_________________________________________________________________\n",
            "Layer (type)                 Output Shape              Param #   \n",
            "=================================================================\n",
            "input_1 (InputLayer)         [(None, 47, 13)]          0         \n",
            "_________________________________________________________________\n",
            "conv1d (Conv1D)              (None, 47, 64)            832       \n",
            "_________________________________________________________________\n",
            "batch_normalization (BatchNo (None, 47, 64)            256       \n",
            "_________________________________________________________________\n",
            "elu (ELU)                    (None, 47, 64)            0         \n",
            "_________________________________________________________________\n",
            "spatial_dropout1d (SpatialDr (None, 47, 64)            0         \n",
            "_________________________________________________________________\n",
            "conv1d_1 (Conv1D)            (None, 47, 128)           8192      \n",
            "_________________________________________________________________\n",
            "batch_normalization_1 (Batch (None, 47, 128)           512       \n",
            "_________________________________________________________________\n",
            "elu_1 (ELU)                  (None, 47, 128)           0         \n",
            "_________________________________________________________________\n",
            "spatial_dropout1d_1 (Spatial (None, 47, 128)           0         \n",
            "_________________________________________________________________\n",
            "conv1d_2 (Conv1D)            (None, 46, 128)           32768     \n",
            "_________________________________________________________________\n",
            "batch_normalization_2 (Batch (None, 46, 128)           512       \n",
            "_________________________________________________________________\n",
            "elu_2 (ELU)                  (None, 46, 128)           0         \n",
            "_________________________________________________________________\n",
            "spatial_dropout1d_2 (Spatial (None, 46, 128)           0         \n",
            "_________________________________________________________________\n",
            "conv1d_3 (Conv1D)            (None, 44, 128)           32768     \n",
            "_________________________________________________________________\n",
            "batch_normalization_3 (Batch (None, 44, 128)           512       \n",
            "_________________________________________________________________\n",
            "elu_3 (ELU)                  (None, 44, 128)           0         \n",
            "_________________________________________________________________\n",
            "spatial_dropout1d_3 (Spatial (None, 44, 128)           0         \n",
            "_________________________________________________________________\n",
            "conv1d_4 (Conv1D)            (None, 40, 128)           32768     \n",
            "_________________________________________________________________\n",
            "batch_normalization_4 (Batch (None, 40, 128)           512       \n",
            "_________________________________________________________________\n",
            "elu_4 (ELU)                  (None, 40, 128)           0         \n",
            "_________________________________________________________________\n",
            "spatial_dropout1d_4 (Spatial (None, 40, 128)           0         \n",
            "_________________________________________________________________\n",
            "conv1d_5 (Conv1D)            (None, 32, 128)           32768     \n",
            "_________________________________________________________________\n",
            "batch_normalization_5 (Batch (None, 32, 128)           512       \n",
            "_________________________________________________________________\n",
            "elu_5 (ELU)                  (None, 32, 128)           0         \n",
            "_________________________________________________________________\n",
            "spatial_dropout1d_5 (Spatial (None, 32, 128)           0         \n",
            "_________________________________________________________________\n",
            "average_pooling1d (AveragePo (None, 1, 128)            0         \n",
            "_________________________________________________________________\n",
            "flatten (Flatten)            (None, 128)               0         \n",
            "_________________________________________________________________\n",
            "dense (Dense)                (None, 256)               32768     \n",
            "_________________________________________________________________\n",
            "batch_normalization_6 (Batch (None, 256)               1024      \n",
            "_________________________________________________________________\n",
            "elu_6 (ELU)                  (None, 256)               0         \n",
            "_________________________________________________________________\n",
            "dropout (Dropout)            (None, 256)               0         \n",
            "_________________________________________________________________\n",
            "dense_1 (Dense)              (None, 128)               32768     \n",
            "_________________________________________________________________\n",
            "batch_normalization_7 (Batch (None, 128)               512       \n",
            "_________________________________________________________________\n",
            "elu_7 (ELU)                  (None, 128)               0         \n",
            "_________________________________________________________________\n",
            "dropout_1 (Dropout)          (None, 128)               0         \n",
            "_________________________________________________________________\n",
            "dense_2 (Dense)              (None, 12)                1548      \n",
            "=================================================================\n",
            "Total params: 211,532\n",
            "Trainable params: 209,356\n",
            "Non-trainable params: 2,176\n",
            "_________________________________________________________________\n"
          ]
        }
      ]
    },
    {
      "cell_type": "code",
      "metadata": {
        "id": "MpFpu5bZeYj4",
        "colab": {
          "base_uri": "https://localhost:8080/"
        },
        "outputId": "6b1b9425-8964-4c7c-e66e-045f8b45be8d"
      },
      "source": [
        "for model in ensemble_models:\n",
        "  model.compile(\n",
        "    loss=keras.losses.SparseCategoricalCrossentropy(from_logits=True),\n",
        "    optimizer=keras.optimizers.Adam(),\n",
        "    metrics=['accuracy']\n",
        "  )\n",
        "  md5 = str(model.get_config())\n",
        "  md5 = !echo \"$md5\" | md5sum\n",
        "  md5 = md5[0].split()[0]\n",
        "  weights_file = \"%s/%s.h5\" % (KERAS_MODELS_ABSOLUTE_PATH, md5)\n",
        "  if tf.io.gfile.exists(weights_file):\n",
        "    print('Restoring model weights from', md5)\n",
        "    model.load_weights(weights_file)\n",
        "  else:\n",
        "    history = train_model(model, train_dataset, valid_dataset)\n",
        "    model.save_weights(weights_file)\n",
        "    plt.plot(history.history['loss'])\n",
        "    plt.plot(history.history['val_loss'])\n",
        "    plt.ylabel('Loss')\n",
        "    plt.xlabel('Epoch')\n",
        "    plt.legend(['Train', 'Valid'], loc='upper right')\n",
        "    plt.show()"
      ],
      "execution_count": 19,
      "outputs": [
        {
          "output_type": "stream",
          "name": "stderr",
          "text": [
            "/usr/local/lib/python3.7/dist-packages/keras/utils/generic_utils.py:497: CustomMaskWarning: Custom mask layers require a config and must override get_config. When loading, the custom mask layer must be passed to the custom_objects argument.\n",
            "  category=CustomMaskWarning)\n"
          ]
        },
        {
          "output_type": "stream",
          "name": "stdout",
          "text": [
            "Restoring model weights from e79cdaab005e8e3f5d4b279da0303ad0\n",
            "Restoring model weights from c1f32401a2158eff6a5df2f16224b6e9\n",
            "Restoring model weights from 95d3760c8cd90013bd074f2847cd1c80\n",
            "Restoring model weights from 949a46be51a14342e6eef429cde2179f\n"
          ]
        }
      ]
    },
    {
      "cell_type": "code",
      "metadata": {
        "id": "3I8fIWqYsTTT",
        "colab": {
          "base_uri": "https://localhost:8080/"
        },
        "outputId": "72fd369e-7402-4bce-e360-093fd3e7b619"
      },
      "source": [
        "for model in ensemble_models:\n",
        "  if not model is ensemble_models[0]:\n",
        "    print(\"\")\n",
        "  results = model.evaluate(train_dataset.batch(8192), verbose=0)\n",
        "  print('train loss, train acc:', results)\n",
        "  results = model.evaluate(test_dataset.batch(512), verbose=0)\n",
        "  print('test loss, test acc:', results)\n",
        "  results = model.evaluate(valid_dataset.batch(512), verbose=0)\n",
        "  print('valid loss, valid acc:', results)"
      ],
      "execution_count": 20,
      "outputs": [
        {
          "output_type": "stream",
          "name": "stdout",
          "text": [
            "train loss, train acc: [0.012060952372848988, 0.9961350560188293]\n",
            "test loss, test acc: [0.04674791917204857, 0.985687792301178]\n",
            "valid loss, valid acc: [0.02573339268565178, 0.9910926222801208]\n",
            "\n",
            "train loss, train acc: [0.010657472535967827, 0.9966891407966614]\n",
            "test loss, test acc: [0.05282493680715561, 0.9859527945518494]\n",
            "valid loss, valid acc: [0.024905672296881676, 0.9931710362434387]\n",
            "\n",
            "train loss, train acc: [0.010551303625106812, 0.9966690540313721]\n",
            "test loss, test acc: [0.05545267090201378, 0.983567476272583]\n",
            "valid loss, valid acc: [0.026950230821967125, 0.9904988408088684]\n",
            "\n",
            "train loss, train acc: [0.010406920686364174, 0.9966307282447815]\n",
            "test loss, test acc: [0.04353712499141693, 0.9867479205131531]\n",
            "valid loss, valid acc: [0.02554340846836567, 0.9937648177146912]\n"
          ]
        }
      ]
    },
    {
      "cell_type": "code",
      "metadata": {
        "id": "AyFS6NeSK3jq"
      },
      "source": [
        "ensemble = build_ensemble(models=ensemble_models)"
      ],
      "execution_count": 21,
      "outputs": []
    },
    {
      "cell_type": "code",
      "metadata": {
        "id": "Wd5xtx0jw4gU",
        "colab": {
          "base_uri": "https://localhost:8080/"
        },
        "outputId": "b70cea42-a0ae-4359-e939-7bbc54b4532d"
      },
      "source": [
        "for model in ensemble_models + (ensemble,):\n",
        "  if not model is ensemble_models[0]:\n",
        "    print(\"\")\n",
        "  pred = model.predict(test_dataset.batch(512)).argmax(axis=-1)\n",
        "  print(np.sum(pred != list(test_dataset.map(lambda x, y: y))), len(pred))\n",
        "  pred = model.predict(valid_dataset.batch(512)).argmax(axis=-1)\n",
        "  print(np.sum(pred != list(valid_dataset.map(lambda x, y: y))), len(pred))"
      ],
      "execution_count": 22,
      "outputs": [
        {
          "output_type": "stream",
          "name": "stdout",
          "text": [
            "54 3773\n",
            "30 3368\n",
            "\n",
            "53 3773\n",
            "23 3368\n",
            "\n",
            "62 3773\n",
            "32 3368\n",
            "\n",
            "50 3773\n",
            "21 3368\n",
            "\n",
            "45 3773\n",
            "18 3368\n"
          ]
        }
      ]
    },
    {
      "cell_type": "code",
      "metadata": {
        "id": "82FeO4px4htt",
        "colab": {
          "base_uri": "https://localhost:8080/"
        },
        "outputId": "24aa7f6d-46d4-402e-9633-7262b8c041b9"
      },
      "source": [
        "matrix = tf.math.confusion_matrix(\n",
        "  list(test_dataset.map(lambda x, y: y)),\n",
        "  ensemble.predict(test_dataset.batch(4096)).argmax(axis=-1)).numpy()\n",
        "for r in matrix:\n",
        "  l = np.sum(r)\n",
        "  for i in r:\n",
        "    print(('%.2f' % (i / l)).replace('0.00', ' .  '), end = ' ')\n",
        "  print(\"|\", l)"
      ],
      "execution_count": 23,
      "outputs": [
        {
          "output_type": "stream",
          "name": "stdout",
          "text": [
            "0.99  .   0.01  .    .    .    .    .    .    .    .    .   | 315\n",
            " .   0.98  .    .    .    .    .    .    .   0.01  .    .   | 309\n",
            " .    .   0.99  .    .    .    .    .    .    .    .    .   | 304\n",
            " .    .    .   0.98  .    .    .    .    .    .   0.01  .   | 304\n",
            " .    .    .    .   0.99  .    .    .    .    .   0.01  .   | 310\n",
            " .    .    .    .    .   0.99  .    .    .    .    .    .   | 336\n",
            " .    .    .    .    .    .   1.00  .    .    .    .    .   | 249\n",
            " .    .    .    .    .    .    .   1.00  .    .    .    .   | 306\n",
            " .    .    .    .    .    .    .    .   0.99  .    .    .   | 298\n",
            " .    .    .    .    .   0.01  .    .    .   0.99  .    .   | 312\n",
            " .   0.01  .   0.01 0.01  .    .    .    .   0.01 0.96  .   | 365\n",
            " .    .    .    .    .    .    .    .    .    .    .   0.99 | 365\n"
          ]
        }
      ]
    },
    {
      "cell_type": "code",
      "metadata": {
        "id": "Y9xA2CduCZNh",
        "colab": {
          "base_uri": "https://localhost:8080/"
        },
        "outputId": "48f75589-aade-4805-8851-bcae00c2d004"
      },
      "source": [
        "converter = tf.lite.TFLiteConverter.from_keras_model(ensemble)\n",
        "tflite_model = converter.convert()\n",
        "with open(\"ecnn47.tflite\", \"wb\") as f:\n",
        "  f.write(tflite_model)"
      ],
      "execution_count": 24,
      "outputs": [
        {
          "output_type": "stream",
          "name": "stdout",
          "text": [
            "WARNING:tensorflow:Compiled the loaded model, but the compiled metrics have yet to be built. `model.compile_metrics` will be empty until you train or evaluate the model.\n",
            "INFO:tensorflow:Assets written to: /tmp/tmpx8__l2xy/assets\n"
          ]
        },
        {
          "output_type": "stream",
          "name": "stderr",
          "text": [
            "/usr/local/lib/python3.7/dist-packages/keras/utils/generic_utils.py:497: CustomMaskWarning: Custom mask layers require a config and must override get_config. When loading, the custom mask layer must be passed to the custom_objects argument.\n",
            "  category=CustomMaskWarning)\n"
          ]
        }
      ]
    },
    {
      "cell_type": "code",
      "metadata": {
        "id": "u3bNp1IZCZ_v",
        "colab": {
          "base_uri": "https://localhost:8080/"
        },
        "outputId": "40ab57de-1fa8-4805-8ce9-78c1417e10c5"
      },
      "source": [
        "!md5sum 'ecnn47.tflite'\n",
        "!mv 'ecnn47.tflite' \"$KERAS_MODELS_ABSOLUTE_PATH\""
      ],
      "execution_count": 25,
      "outputs": [
        {
          "output_type": "stream",
          "name": "stdout",
          "text": [
            "7c58aa40956b4945c3ed4c13ee7232ab  ecnn47.tflite\n"
          ]
        }
      ]
    }
  ]
}