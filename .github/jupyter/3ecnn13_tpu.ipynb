{
  "cells": [
    {
      "cell_type": "code",
      "execution_count": 1,
      "metadata": {
        "id": "M09OlPRpDRSh"
      },
      "outputs": [],
      "source": [
        "KERAS_MODELS_ABSOLUTE_PATH = '/content/gdrive/My Drive/3ecnn13'"
      ]
    },
    {
      "cell_type": "code",
      "execution_count": 2,
      "metadata": {
        "colab": {
          "base_uri": "https://localhost:8080/"
        },
        "id": "nKHNt4dNhRMF",
        "outputId": "68ced09d-c295-4906-cd25-0cec8cf67d71"
      },
      "outputs": [
        {
          "output_type": "stream",
          "name": "stdout",
          "text": [
            "Drive already mounted at /content/gdrive; to attempt to forcibly remount, call drive.mount(\"/content/gdrive\", force_remount=True).\n"
          ]
        }
      ],
      "source": [
        "from google.colab import drive\n",
        "drive.mount('/content/gdrive')"
      ]
    },
    {
      "cell_type": "code",
      "execution_count": 3,
      "metadata": {
        "colab": {
          "base_uri": "https://localhost:8080/"
        },
        "id": "8UutF8PBu-oO",
        "outputId": "1a79be72-45b0-4473-ad7d-8d38c665805b"
      },
      "outputs": [
        {
          "output_type": "stream",
          "name": "stdout",
          "text": [
            "TensorFlow Datasets: 4.4.0\n"
          ]
        }
      ],
      "source": [
        "!pip install -qq tensorflow-datasets -U\n",
        "!tfds --version"
      ]
    },
    {
      "cell_type": "code",
      "execution_count": 4,
      "metadata": {
        "colab": {
          "base_uri": "https://localhost:8080/"
        },
        "id": "5T3UOLCpGUmg",
        "outputId": "b51b731f-9883-4e87-91b9-ca23608bf8de"
      },
      "outputs": [
        {
          "output_type": "stream",
          "name": "stdout",
          "text": [
            "2.7.0\n"
          ]
        }
      ],
      "source": [
        "import matplotlib.pyplot as plt\n",
        "import numpy as np\n",
        "from tensorflow import keras\n",
        "import tensorflow as tf\n",
        "import tensorflow_datasets as tfds\n",
        "print(tf.__version__)\n",
        "plt.rc('figure', figsize=(13, 4))"
      ]
    },
    {
      "cell_type": "code",
      "execution_count": 5,
      "metadata": {
        "id": "Fubso462-iVr"
      },
      "outputs": [],
      "source": [
        "if not tf.io.gfile.exists(KERAS_MODELS_ABSOLUTE_PATH):\n",
        "  print('You should create', KERAS_MODELS_ABSOLUTE_PATH, 'directory manually')\n",
        "  assert False"
      ]
    },
    {
      "cell_type": "code",
      "execution_count": 6,
      "metadata": {
        "colab": {
          "base_uri": "https://localhost:8080/"
        },
        "id": "vFFScd8fBIKk",
        "outputId": "73d53a8e-614e-400e-9ef4-8e061145530d"
      },
      "outputs": [
        {
          "output_type": "stream",
          "name": "stdout",
          "text": [
            "INFO:tensorflow:Deallocate tpu buffers before initializing tpu system.\n"
          ]
        },
        {
          "output_type": "stream",
          "name": "stderr",
          "text": [
            "INFO:tensorflow:Deallocate tpu buffers before initializing tpu system.\n"
          ]
        },
        {
          "output_type": "stream",
          "name": "stdout",
          "text": [
            "INFO:tensorflow:Initializing the TPU system: grpc://10.9.156.106:8470\n"
          ]
        },
        {
          "output_type": "stream",
          "name": "stderr",
          "text": [
            "INFO:tensorflow:Initializing the TPU system: grpc://10.9.156.106:8470\n"
          ]
        },
        {
          "output_type": "stream",
          "name": "stdout",
          "text": [
            "INFO:tensorflow:Finished initializing TPU system.\n"
          ]
        },
        {
          "output_type": "stream",
          "name": "stderr",
          "text": [
            "INFO:tensorflow:Finished initializing TPU system.\n"
          ]
        },
        {
          "output_type": "stream",
          "name": "stdout",
          "text": [
            "All devices:  [LogicalDevice(name='/job:worker/replica:0/task:0/device:TPU:0', device_type='TPU'), LogicalDevice(name='/job:worker/replica:0/task:0/device:TPU:1', device_type='TPU'), LogicalDevice(name='/job:worker/replica:0/task:0/device:TPU:2', device_type='TPU'), LogicalDevice(name='/job:worker/replica:0/task:0/device:TPU:3', device_type='TPU'), LogicalDevice(name='/job:worker/replica:0/task:0/device:TPU:4', device_type='TPU'), LogicalDevice(name='/job:worker/replica:0/task:0/device:TPU:5', device_type='TPU'), LogicalDevice(name='/job:worker/replica:0/task:0/device:TPU:6', device_type='TPU'), LogicalDevice(name='/job:worker/replica:0/task:0/device:TPU:7', device_type='TPU')]\n",
            "INFO:tensorflow:Found TPU system:\n"
          ]
        },
        {
          "output_type": "stream",
          "name": "stderr",
          "text": [
            "INFO:tensorflow:Found TPU system:\n"
          ]
        },
        {
          "output_type": "stream",
          "name": "stdout",
          "text": [
            "INFO:tensorflow:*** Num TPU Cores: 8\n"
          ]
        },
        {
          "output_type": "stream",
          "name": "stderr",
          "text": [
            "INFO:tensorflow:*** Num TPU Cores: 8\n"
          ]
        },
        {
          "output_type": "stream",
          "name": "stdout",
          "text": [
            "INFO:tensorflow:*** Num TPU Workers: 1\n"
          ]
        },
        {
          "output_type": "stream",
          "name": "stderr",
          "text": [
            "INFO:tensorflow:*** Num TPU Workers: 1\n"
          ]
        },
        {
          "output_type": "stream",
          "name": "stdout",
          "text": [
            "INFO:tensorflow:*** Num TPU Cores Per Worker: 8\n"
          ]
        },
        {
          "output_type": "stream",
          "name": "stderr",
          "text": [
            "INFO:tensorflow:*** Num TPU Cores Per Worker: 8\n"
          ]
        },
        {
          "output_type": "stream",
          "name": "stdout",
          "text": [
            "INFO:tensorflow:*** Available Device: _DeviceAttributes(/job:localhost/replica:0/task:0/device:CPU:0, CPU, 0, 0)\n"
          ]
        },
        {
          "output_type": "stream",
          "name": "stderr",
          "text": [
            "INFO:tensorflow:*** Available Device: _DeviceAttributes(/job:localhost/replica:0/task:0/device:CPU:0, CPU, 0, 0)\n"
          ]
        },
        {
          "output_type": "stream",
          "name": "stdout",
          "text": [
            "INFO:tensorflow:*** Available Device: _DeviceAttributes(/job:worker/replica:0/task:0/device:CPU:0, CPU, 0, 0)\n"
          ]
        },
        {
          "output_type": "stream",
          "name": "stderr",
          "text": [
            "INFO:tensorflow:*** Available Device: _DeviceAttributes(/job:worker/replica:0/task:0/device:CPU:0, CPU, 0, 0)\n"
          ]
        },
        {
          "output_type": "stream",
          "name": "stdout",
          "text": [
            "INFO:tensorflow:*** Available Device: _DeviceAttributes(/job:worker/replica:0/task:0/device:TPU:0, TPU, 0, 0)\n"
          ]
        },
        {
          "output_type": "stream",
          "name": "stderr",
          "text": [
            "INFO:tensorflow:*** Available Device: _DeviceAttributes(/job:worker/replica:0/task:0/device:TPU:0, TPU, 0, 0)\n"
          ]
        },
        {
          "output_type": "stream",
          "name": "stdout",
          "text": [
            "INFO:tensorflow:*** Available Device: _DeviceAttributes(/job:worker/replica:0/task:0/device:TPU:1, TPU, 0, 0)\n"
          ]
        },
        {
          "output_type": "stream",
          "name": "stderr",
          "text": [
            "INFO:tensorflow:*** Available Device: _DeviceAttributes(/job:worker/replica:0/task:0/device:TPU:1, TPU, 0, 0)\n"
          ]
        },
        {
          "output_type": "stream",
          "name": "stdout",
          "text": [
            "INFO:tensorflow:*** Available Device: _DeviceAttributes(/job:worker/replica:0/task:0/device:TPU:2, TPU, 0, 0)\n"
          ]
        },
        {
          "output_type": "stream",
          "name": "stderr",
          "text": [
            "INFO:tensorflow:*** Available Device: _DeviceAttributes(/job:worker/replica:0/task:0/device:TPU:2, TPU, 0, 0)\n"
          ]
        },
        {
          "output_type": "stream",
          "name": "stdout",
          "text": [
            "INFO:tensorflow:*** Available Device: _DeviceAttributes(/job:worker/replica:0/task:0/device:TPU:3, TPU, 0, 0)\n"
          ]
        },
        {
          "output_type": "stream",
          "name": "stderr",
          "text": [
            "INFO:tensorflow:*** Available Device: _DeviceAttributes(/job:worker/replica:0/task:0/device:TPU:3, TPU, 0, 0)\n"
          ]
        },
        {
          "output_type": "stream",
          "name": "stdout",
          "text": [
            "INFO:tensorflow:*** Available Device: _DeviceAttributes(/job:worker/replica:0/task:0/device:TPU:4, TPU, 0, 0)\n"
          ]
        },
        {
          "output_type": "stream",
          "name": "stderr",
          "text": [
            "INFO:tensorflow:*** Available Device: _DeviceAttributes(/job:worker/replica:0/task:0/device:TPU:4, TPU, 0, 0)\n"
          ]
        },
        {
          "output_type": "stream",
          "name": "stdout",
          "text": [
            "INFO:tensorflow:*** Available Device: _DeviceAttributes(/job:worker/replica:0/task:0/device:TPU:5, TPU, 0, 0)\n"
          ]
        },
        {
          "output_type": "stream",
          "name": "stderr",
          "text": [
            "INFO:tensorflow:*** Available Device: _DeviceAttributes(/job:worker/replica:0/task:0/device:TPU:5, TPU, 0, 0)\n"
          ]
        },
        {
          "output_type": "stream",
          "name": "stdout",
          "text": [
            "INFO:tensorflow:*** Available Device: _DeviceAttributes(/job:worker/replica:0/task:0/device:TPU:6, TPU, 0, 0)\n"
          ]
        },
        {
          "output_type": "stream",
          "name": "stderr",
          "text": [
            "INFO:tensorflow:*** Available Device: _DeviceAttributes(/job:worker/replica:0/task:0/device:TPU:6, TPU, 0, 0)\n"
          ]
        },
        {
          "output_type": "stream",
          "name": "stdout",
          "text": [
            "INFO:tensorflow:*** Available Device: _DeviceAttributes(/job:worker/replica:0/task:0/device:TPU:7, TPU, 0, 0)\n"
          ]
        },
        {
          "output_type": "stream",
          "name": "stderr",
          "text": [
            "INFO:tensorflow:*** Available Device: _DeviceAttributes(/job:worker/replica:0/task:0/device:TPU:7, TPU, 0, 0)\n"
          ]
        },
        {
          "output_type": "stream",
          "name": "stdout",
          "text": [
            "INFO:tensorflow:*** Available Device: _DeviceAttributes(/job:worker/replica:0/task:0/device:TPU_SYSTEM:0, TPU_SYSTEM, 0, 0)\n"
          ]
        },
        {
          "output_type": "stream",
          "name": "stderr",
          "text": [
            "INFO:tensorflow:*** Available Device: _DeviceAttributes(/job:worker/replica:0/task:0/device:TPU_SYSTEM:0, TPU_SYSTEM, 0, 0)\n"
          ]
        },
        {
          "output_type": "stream",
          "name": "stdout",
          "text": [
            "INFO:tensorflow:*** Available Device: _DeviceAttributes(/job:worker/replica:0/task:0/device:XLA_CPU:0, XLA_CPU, 0, 0)\n"
          ]
        },
        {
          "output_type": "stream",
          "name": "stderr",
          "text": [
            "INFO:tensorflow:*** Available Device: _DeviceAttributes(/job:worker/replica:0/task:0/device:XLA_CPU:0, XLA_CPU, 0, 0)\n"
          ]
        }
      ],
      "source": [
        "resolver = tf.distribute.cluster_resolver.TPUClusterResolver()\n",
        "tf.config.experimental_connect_to_cluster(resolver)\n",
        "# This is the TPU initialization code that has to be at the beginning.\n",
        "tf.tpu.experimental.initialize_tpu_system(resolver)\n",
        "print(\"All devices: \", tf.config.list_logical_devices('TPU'))\n",
        "strategy = tf.distribute.TPUStrategy(resolver)"
      ]
    },
    {
      "cell_type": "code",
      "execution_count": 7,
      "metadata": {
        "id": "Xcj5MHTAKYwv"
      },
      "outputs": [],
      "source": [
        "def spectrogram_masking(spectrogram, dim=1, masks_number=2, mask_max_size=5):\n",
        "  \"\"\"Spectrogram masking on frequency or time dimension.\n",
        "  Args:\n",
        "    spectrogram: Input spectrum [batch, time, frequency]\n",
        "    dim: dimension on which masking will be applied: 1 - time; 2 - frequency\n",
        "    masks_number: number of masks\n",
        "    mask_max_size: mask max size\n",
        "  Returns:\n",
        "    masked spectrogram\n",
        "  \"\"\"\n",
        "  if dim not in (1, 2):\n",
        "    raise ValueError('Wrong dim value: %d' % dim)\n",
        "  input_shape = spectrogram.shape\n",
        "  time_size, frequency_size = input_shape[1:3]\n",
        "  dim_size = input_shape[dim]  # size of dimension on which mask is applied\n",
        "  stripe_shape = [1, time_size, frequency_size]\n",
        "  for _ in range(masks_number):\n",
        "    mask_end = tf.random.uniform([], 0, mask_max_size, tf.int32)\n",
        "    mask_start = tf.random.uniform([], 0, dim_size - mask_end, tf.int32)\n",
        "\n",
        "    # initialize stripes with stripe_shape\n",
        "    stripe_ones_left = list(stripe_shape)\n",
        "    stripe_zeros_center = list(stripe_shape)\n",
        "    stripe_ones_right = list(stripe_shape)\n",
        "\n",
        "    # update stripes dim\n",
        "    stripe_ones_left[dim] = dim_size - mask_start - mask_end\n",
        "    stripe_zeros_center[dim] = mask_end\n",
        "    stripe_ones_right[dim] = mask_start\n",
        "\n",
        "    # generate mask\n",
        "    mask = tf.concat((\n",
        "        tf.ones(stripe_ones_left, spectrogram.dtype),\n",
        "        tf.zeros(stripe_zeros_center, spectrogram.dtype),\n",
        "        tf.ones(stripe_ones_right, spectrogram.dtype),\n",
        "    ), dim)\n",
        "    spectrogram = spectrogram * mask\n",
        "  return spectrogram"
      ]
    },
    {
      "cell_type": "code",
      "execution_count": 8,
      "metadata": {
        "id": "-WXRm7NyAtks"
      },
      "outputs": [],
      "source": [
        "def streaming_input_output(streaming, t, inputs, otputs, x):\n",
        "  if streaming:\n",
        "    otputs.append(x)\n",
        "    x = keras.Input(shape=[t] + x.shape[2:])\n",
        "    inputs.append(x)\n",
        "  return x"
      ]
    },
    {
      "cell_type": "code",
      "execution_count": 9,
      "metadata": {
        "id": "vP5AfeDYPYK4"
      },
      "outputs": [],
      "source": [
        "def build_model(name, in_shape, activation, pooling, out_shape, *in_steps):\n",
        "\n",
        "  # resetting the layer name generation counter\n",
        "  keras.backend.clear_session()\n",
        "\n",
        "  inputs, outputs = [], []\n",
        "  streaming = in_shape[0] == 1\n",
        "\n",
        "  x = x_in = keras.Input(shape=in_shape)\n",
        "\n",
        "  for i in in_steps:\n",
        "    x = keras.layers.Conv1D(i, 1, use_bias=False)(x)\n",
        "    x = keras.layers.BatchNormalization()(x)\n",
        "    x = keras.layers.Activation(activation)(x)\n",
        "    x = keras.layers.SpatialDropout1D(i / 1280.0)(x)\n",
        "\n",
        "  for i in range(4):\n",
        "    x = streaming_input_output(streaming, 1 + 2**i, inputs, outputs, x)\n",
        "    x = keras.layers.Conv1D(x.shape[-1], 2,\n",
        "                            dilation_rate=2**i, use_bias=False)(x)\n",
        "    x = keras.layers.BatchNormalization()(x)\n",
        "    x = keras.layers.Activation(activation)(x)\n",
        "    x = keras.layers.SpatialDropout1D(x.shape[-1] / 1280.0)(x)\n",
        "\n",
        "  x = streaming_input_output(streaming, 32, inputs, outputs, x)\n",
        "  x = pooling(x.shape[1])(x)\n",
        "  x = keras.layers.Flatten()(x)\n",
        "\n",
        "  for i in x.shape[-1] * np.array([2, 1]):\n",
        "    x = keras.layers.Dense(i, use_bias=False)(x)\n",
        "    x = keras.layers.BatchNormalization()(x)\n",
        "    x = keras.layers.Activation(activation)(x)\n",
        "    x = keras.layers.Dropout(i / 1280.0)(x)\n",
        "\n",
        "  x = keras.layers.Dense(out_shape)(x)\n",
        "  return keras.Model([x_in] + inputs, [x] + outputs, name=name)"
      ]
    },
    {
      "cell_type": "code",
      "execution_count": 10,
      "metadata": {
        "id": "E84wnQt1s_VY"
      },
      "outputs": [],
      "source": [
        "def build_ensemble(name='second_ensemble', builders=None,\n",
        "                   models=None, activation=None, streaming=False):\n",
        "  in_shape = (1 if streaming else 47, 13)\n",
        "  if models:\n",
        "    x_in = keras.Input(shape=in_shape)\n",
        "    x = [keras.Model(m.inputs, m.outputs) for m in models]\n",
        "    if streaming:\n",
        "      inputs = [[keras.Input(e.shape[1:]) for e in m.inputs[1:]] for m in x]\n",
        "      x = [e([x_in] + i) for e, i in zip(x, inputs)]\n",
        "      inputs = [i for e in inputs for i in e]\n",
        "      outputs = [i for e in x for i in e[1:]]\n",
        "      x = [e[0] for e in x]\n",
        "    else:\n",
        "      inputs, outputs = [], []\n",
        "      x = [e(x_in) for e in x]\n",
        "    if activation:\n",
        "      x = [keras.layers.Activation(activation)(e) for e in x]\n",
        "      x = keras.layers.Average()(x)\n",
        "    else:\n",
        "      b, c = x\n",
        "      b = tf.squeeze(b, -1)\n",
        "      b = tf.greater(b, 2) # threshold\n",
        "      u = tf.greater(c[:,10], c[:,11])\n",
        "      u = tf.where(u, 10, 11)\n",
        "      x = tf.where(b, tf.argmax(c, -1, u.dtype), u)\n",
        "      x = tf.one_hot(x, 12)\n",
        "    return keras.Model([x_in] + inputs, [x] + outputs)\n",
        "  else:\n",
        "    return tuple(b(name, in_shape, *a) for b, *a in builders)"
      ]
    },
    {
      "cell_type": "code",
      "execution_count": 11,
      "metadata": {
        "id": "R6Nk8XnPozIq"
      },
      "outputs": [],
      "source": [
        "models_builders_bin = (\n",
        "  (build_model, 'leaky_relu', keras.layers.MaxPool1D, 1,     128),\n",
        "  (build_model, 'relu',       keras.layers.AvgPool1D, 1,     128),\n",
        "  (build_model, 'relu6',      keras.layers.MaxPool1D, 1, 64, 128),\n",
        "  (build_model, 'elu',        keras.layers.AvgPool1D, 1, 64, 128),\n",
        ")\n",
        "models_bin_1 = build_ensemble(builders=models_builders_bin)\n",
        "models_bin_2 = build_ensemble('third_ensemble', models_builders_bin)"
      ]
    },
    {
      "cell_type": "code",
      "execution_count": 12,
      "metadata": {
        "id": "x5m9wOJwCxxA"
      },
      "outputs": [],
      "source": [
        "def train_model(model, loss, train_dataset, valid_dataset):\n",
        "\n",
        "  with strategy.scope():\n",
        "    tpu_model = keras.Model.from_config(model.get_config())\n",
        "    tpu_model.compile(\n",
        "      loss=loss(from_logits=True),\n",
        "      optimizer=keras.optimizers.Adam(),\n",
        "      metrics=['accuracy'])\n",
        "\n",
        "  early_stopping = keras.callbacks.EarlyStopping(\n",
        "        monitor='val_loss',\n",
        "        mode='min',\n",
        "        verbose=1,\n",
        "        patience=100,\n",
        "        restore_best_weights=True)\n",
        "\n",
        "  tpu_num_cores = resolver.get_tpu_system_metadata().num_cores\n",
        "\n",
        "  train_batch = train_dataset.shuffle(train_dataset.cardinality())\n",
        "  train_batch = train_batch.batch(tpu_num_cores * 64, drop_remainder=True)\n",
        "  train_batch = train_batch.map(lambda x, y: (spectrogram_masking(x, 1, 3, 5), y))\n",
        "  train_batch = train_batch.map(lambda x, y: (spectrogram_masking(x, 2, 2, 2), y))\n",
        "  train_batch = train_batch.prefetch(tf.data.AUTOTUNE)\n",
        "\n",
        "  valid_batch = valid_dataset.batch(8, drop_remainder=True)\n",
        "  valid_batch = valid_batch.prefetch(tf.data.AUTOTUNE)\n",
        "\n",
        "  # plt.imshow(list(train_batch.take(1))[0][0][0].numpy().T)\n",
        "  # plt.show()\n",
        "\n",
        "  history = tpu_model.fit(train_batch,\n",
        "                          validation_data=valid_batch,\n",
        "                          callbacks=[early_stopping],\n",
        "                          verbose=2,\n",
        "                          epochs=1000) # play with google colab time limit\n",
        "\n",
        "  model.set_weights(early_stopping.best_weights)\n",
        "  return history"
      ]
    },
    {
      "cell_type": "code",
      "execution_count": 13,
      "metadata": {
        "id": "UDdJ8Q2Tx49J"
      },
      "outputs": [],
      "source": [
        "def train_ensemble(ensemble_models, loss, train_dataset, valid_dataset):\n",
        "\n",
        "  for model in ensemble_models:\n",
        "    md5 = str(model.get_config())\n",
        "    md5 = !echo \"$md5\" | md5sum\n",
        "    md5 = md5[0].split()[0]\n",
        "    weights_file = \"%s/%s.h5\" % (KERAS_MODELS_ABSOLUTE_PATH, md5)\n",
        "\n",
        "    if tf.io.gfile.exists(weights_file):\n",
        "      print('Restoring model weights from', md5)\n",
        "      model.load_weights(weights_file)\n",
        "    else:\n",
        "      history = train_model(model, loss, train_dataset, valid_dataset)\n",
        "      model.save_weights(weights_file)\n",
        "      plt.plot(history.history['loss'])\n",
        "      plt.plot(history.history['val_loss'])\n",
        "      plt.ylabel('Loss')\n",
        "      plt.xlabel('Epoch')\n",
        "      plt.legend(['Train', 'Valid'], loc='upper right')\n",
        "      plt.show() "
      ]
    },
    {
      "cell_type": "code",
      "execution_count": 14,
      "metadata": {
        "id": "9dtmhSipt8iJ"
      },
      "outputs": [],
      "source": [
        "def evaluate_ensemble(models, test_dataset, valid_dataset):\n",
        "  history = []\n",
        "  for model in models:\n",
        "    o = model.output_shape[-1]   \n",
        "    d = lambda x: np.argmax(x, -1) if o > 1 else x.squeeze(-1) > 0\n",
        "    pred = d(model.predict(test_dataset.batch(512)))\n",
        "    history.append(np.sum(pred != list(test_dataset.map(lambda x, y: y))))\n",
        "    pred = d(model.predict(valid_dataset.batch(512)))\n",
        "    history.append(np.sum(pred != list(valid_dataset.map(lambda x, y: y))))\n",
        "  plt.xlim(-0.6, len(history)/2 - 0.4)\n",
        "  plt.bar(np.arange(len(history)/2) - 0.2, history[::2], 0.4)\n",
        "  plt.bar(np.arange(len(history)/2) + 0.2, history[1::2], 0.4)\n",
        "  return np.array(history).reshape(-1, 2).tolist()"
      ]
    },
    {
      "cell_type": "code",
      "execution_count": 15,
      "metadata": {
        "colab": {
          "base_uri": "https://localhost:8080/"
        },
        "id": "KQC5dJmvnlm0",
        "outputId": "237850d4-aee9-4fda-a0e8-b1f63e65dd8f"
      },
      "outputs": [
        {
          "output_type": "execute_result",
          "data": {
            "text/plain": [
              "1825800"
            ]
          },
          "metadata": {},
          "execution_count": 15
        }
      ],
      "source": [
        "(train_dataset, test_dataset, valid_dataset), info = tfds.load(\n",
        "    name='my_dataset', split=['train', 'test', 'valid'],\n",
        "    data_dir='gs://tfds-musan-1.appspot.com',\n",
        "    as_supervised=True, try_gcs=True, with_info=True)\n",
        "assert info.homepage == 'https://github.com/42io/dataset/tree/master/openslr_musan'\n",
        "train_dataset.cardinality().numpy()"
      ]
    },
    {
      "cell_type": "code",
      "execution_count": 16,
      "metadata": {
        "id": "AODNDf4J-fVh"
      },
      "outputs": [],
      "source": [
        "train_dataset = train_dataset.map(lambda x, y: (x[1:-1], y))\n",
        "test_dataset  = test_dataset.map(lambda x, y:  (x[1:-1], y))\n",
        "valid_dataset = valid_dataset.map(lambda x, y: (x[1:-1], y))"
      ]
    },
    {
      "cell_type": "code",
      "execution_count": 17,
      "metadata": {
        "colab": {
          "base_uri": "https://localhost:8080/"
        },
        "id": "MpFpu5bZeYj4",
        "outputId": "e31ed1ff-8cd2-40f2-fd62-7528a93e7f8a"
      },
      "outputs": [
        {
          "output_type": "stream",
          "name": "stdout",
          "text": [
            "Restoring model weights from 28323f803767caeb2261fa7304685acc\n",
            "Restoring model weights from 3a120eaa0ec426481f89827dfc4a2782\n",
            "Restoring model weights from f6540761d812702d3bb4466310e20b93\n",
            "Restoring model weights from 4b4319045000911ff374050fa7882570\n"
          ]
        }
      ],
      "source": [
        "train_ensemble(models_bin_1, keras.losses.BinaryCrossentropy,\n",
        "               train_dataset, valid_dataset)"
      ]
    },
    {
      "cell_type": "code",
      "execution_count": 18,
      "metadata": {
        "id": "pqEEKnoNq2eL"
      },
      "outputs": [],
      "source": [
        "bin_ens = build_ensemble(models=models_bin_1, activation='linear')"
      ]
    },
    {
      "cell_type": "code",
      "execution_count": 19,
      "metadata": {
        "colab": {
          "base_uri": "https://localhost:8080/",
          "height": 283
        },
        "id": "Dtu_dH7nHDux",
        "outputId": "4d20fa22-2d41-4079-d6ce-fac13c1c63c6"
      },
      "outputs": [
        {
          "output_type": "execute_result",
          "data": {
            "text/plain": [
              "[[15, 12], [17, 10], [17, 10], [14, 7], [11, 9]]"
            ]
          },
          "metadata": {},
          "execution_count": 19
        },
        {
          "output_type": "display_data",
          "data": {
            "image/png": "[encoded data removed]",
            "text/plain": [
              "<Figure size 936x288 with 1 Axes>"
            ]
          },
          "metadata": {
            "needs_background": "light"
          }
        }
      ],
      "source": [
        "evaluate_ensemble(models_bin_1 + (bin_ens,), test_dataset, valid_dataset)"
      ]
    },
    {
      "cell_type": "code",
      "execution_count": 20,
      "metadata": {
        "colab": {
          "base_uri": "https://localhost:8080/"
        },
        "id": "vprCFCk6GYvD",
        "outputId": "2520eb8f-9295-4e03-a6c8-f708aaf603aa"
      },
      "outputs": [
        {
          "output_type": "execute_result",
          "data": {
            "text/plain": [
              "1825800"
            ]
          },
          "metadata": {},
          "execution_count": 20
        }
      ],
      "source": [
        "(train_dataset, test_dataset, valid_dataset), info = tfds.load(\n",
        "    name='my_dataset', split=['train', 'test', 'valid'],\n",
        "    data_dir='gs://tfds-libri-1.appspot.com',\n",
        "    as_supervised=True, try_gcs=True, with_info=True)\n",
        "assert info.homepage == 'https://github.com/42io/dataset/tree/master/openslr_libri'\n",
        "train_dataset.cardinality().numpy()"
      ]
    },
    {
      "cell_type": "code",
      "execution_count": 21,
      "metadata": {
        "id": "-15DPRVX8TDA"
      },
      "outputs": [],
      "source": [
        "train_dataset = train_dataset.map(lambda x, y: (x[1:-1], y))\n",
        "test_dataset  = test_dataset.map(lambda x, y:  (x[1:-1], y))\n",
        "valid_dataset = valid_dataset.map(lambda x, y: (x[1:-1], y))"
      ]
    },
    {
      "cell_type": "code",
      "execution_count": 22,
      "metadata": {
        "colab": {
          "base_uri": "https://localhost:8080/"
        },
        "id": "hCSw-N-_Gnjo",
        "outputId": "25bb1386-c8e0-4d5b-f1c7-028cc60aef00"
      },
      "outputs": [
        {
          "output_type": "stream",
          "name": "stdout",
          "text": [
            "Restoring model weights from 4b65b86fea1e055801112be26e5f0b56\n",
            "Restoring model weights from fff40393ef87e68fa02c4cfd150f963e\n",
            "Restoring model weights from 79a5564878f3fabe69c4efd2471c5211\n",
            "Restoring model weights from 2743c293aaab27294d461206e5b2b0da\n"
          ]
        }
      ],
      "source": [
        "train_ensemble(models_bin_2, keras.losses.BinaryCrossentropy,\n",
        "               train_dataset, valid_dataset)"
      ]
    },
    {
      "cell_type": "code",
      "execution_count": 23,
      "metadata": {
        "id": "0Ryn9v8dNdJs"
      },
      "outputs": [],
      "source": [
        "bin_ens = build_ensemble(models=models_bin_2, activation='linear')"
      ]
    },
    {
      "cell_type": "code",
      "execution_count": 24,
      "metadata": {
        "id": "xBHI-MGXNdJt",
        "colab": {
          "base_uri": "https://localhost:8080/",
          "height": 283
        },
        "outputId": "6b55f0be-1ae5-43c7-8783-9bdc29068a13"
      },
      "outputs": [
        {
          "output_type": "execute_result",
          "data": {
            "text/plain": [
              "[[26, 18], [26, 14], [20, 16], [28, 17], [22, 15]]"
            ]
          },
          "metadata": {},
          "execution_count": 24
        },
        {
          "output_type": "display_data",
          "data": {
            "image/png": "[encoded data removed]",
            "text/plain": [
              "<Figure size 936x288 with 1 Axes>"
            ]
          },
          "metadata": {
            "needs_background": "light"
          }
        }
      ],
      "source": [
        "evaluate_ensemble(models_bin_2 + (bin_ens,), test_dataset, valid_dataset)"
      ]
    },
    {
      "cell_type": "code",
      "execution_count": 25,
      "metadata": {
        "id": "qSCsLW7940Og",
        "colab": {
          "base_uri": "https://localhost:8080/"
        },
        "outputId": "b5734c6f-ab7c-4a5d-8e98-cf5eddba9024"
      },
      "outputs": [
        {
          "output_type": "execute_result",
          "data": {
            "text/plain": [
              "1095480"
            ]
          },
          "metadata": {},
          "execution_count": 25
        }
      ],
      "source": [
        "(train_dataset, test_dataset, valid_dataset), info = tfds.load(\n",
        "    name='my_dataset', split=['train', 'test', 'valid'],\n",
        "    data_dir='gs://tfds-gsc-1.appspot.com',\n",
        "    as_supervised=True, try_gcs=True, with_info=True)\n",
        "assert info.homepage == 'https://github.com/42io/dataset/tree/master/google_speech_commands'\n",
        "train_dataset.cardinality().numpy()"
      ]
    },
    {
      "cell_type": "code",
      "execution_count": 26,
      "metadata": {
        "id": "4Ll-WLEB0yGj"
      },
      "outputs": [],
      "source": [
        "train_dataset = train_dataset.map(lambda x, y: (x[1:-1], y))\n",
        "test_dataset  = test_dataset.map(lambda x, y:  (x[1:-1], y))\n",
        "valid_dataset = valid_dataset.map(lambda x, y: (x[1:-1], y))"
      ]
    },
    {
      "cell_type": "code",
      "execution_count": 27,
      "metadata": {
        "id": "VjgLpU0nRYDA"
      },
      "outputs": [],
      "source": [
        "bin_ens = build_ensemble(models=models_bin_1 + models_bin_2, activation='linear')"
      ]
    },
    {
      "cell_type": "code",
      "execution_count": 28,
      "metadata": {
        "id": "RBdK_jqApFOa",
        "colab": {
          "base_uri": "https://localhost:8080/",
          "height": 428
        },
        "outputId": "f60ca22a-c303-4571-96bc-4962d4668e23"
      },
      "outputs": [
        {
          "output_type": "execute_result",
          "data": {
            "text/plain": [
              "[[312, 303],\n",
              " [299, 287],\n",
              " [316, 295],\n",
              " [315, 298],\n",
              " [285, 271],\n",
              " [273, 245],\n",
              " [265, 246],\n",
              " [307, 278],\n",
              " [289, 278]]"
            ]
          },
          "metadata": {},
          "execution_count": 28
        },
        {
          "output_type": "display_data",
          "data": {
            "image/png": "[encoded data removed]",
            "text/plain": [
              "<Figure size 936x288 with 1 Axes>"
            ]
          },
          "metadata": {
            "needs_background": "light"
          }
        }
      ],
      "source": [
        "evaluate_ensemble(models_bin_1 + models_bin_2 + (bin_ens,),\n",
        "                  test_dataset.map(lambda x, y: [x, y < 10]),\n",
        "                  valid_dataset.map(lambda x, y: [x, y < 10]))"
      ]
    },
    {
      "cell_type": "code",
      "execution_count": 29,
      "metadata": {
        "id": "sq1S896nzwsY"
      },
      "outputs": [],
      "source": [
        "models_builders_cat = (\n",
        "  (build_model, 'leaky_relu', keras.layers.MaxPool1D, 12,     128),\n",
        "  (build_model, 'relu',       keras.layers.AvgPool1D, 12,     128),\n",
        "  (build_model, 'relu6',      keras.layers.MaxPool1D, 12, 64, 128),\n",
        "  (build_model, 'elu',        keras.layers.AvgPool1D, 12, 64, 128),\n",
        ")\n",
        "models_cat = build_ensemble(builders=models_builders_cat)"
      ]
    },
    {
      "cell_type": "code",
      "execution_count": 30,
      "metadata": {
        "id": "5_Ky6M9bzwsZ",
        "colab": {
          "base_uri": "https://localhost:8080/"
        },
        "outputId": "a9fe6ac0-3f90-4ef9-dc84-8c906766d604"
      },
      "outputs": [
        {
          "output_type": "stream",
          "name": "stdout",
          "text": [
            "Restoring model weights from e7e8bec4019f75b50021d0976ccd6c38\n",
            "Restoring model weights from 77ea91aa526708b463ab0a466befa487\n",
            "Restoring model weights from b86d75d1480db917ab133cc6027564c0\n",
            "Restoring model weights from 76ae1b4ae2ff082f3154066d5e36578e\n"
          ]
        }
      ],
      "source": [
        "train_ensemble(models_cat, keras.losses.SparseCategoricalCrossentropy,\n",
        "               train_dataset, valid_dataset)"
      ]
    },
    {
      "cell_type": "code",
      "execution_count": 31,
      "metadata": {
        "id": "dOSh6sFK_rJM"
      },
      "outputs": [],
      "source": [
        "cat_ens = build_ensemble(models=models_cat, activation='softmax')"
      ]
    },
    {
      "cell_type": "code",
      "execution_count": 32,
      "metadata": {
        "id": "AyFS6NeSK3jq",
        "colab": {
          "base_uri": "https://localhost:8080/"
        },
        "outputId": "f57357e7-14da-4914-b5f1-de0c72bf202e"
      },
      "outputs": [
        {
          "output_type": "stream",
          "name": "stdout",
          "text": [
            "Model: \"model_7\"\n",
            "__________________________________________________________________________________________________\n",
            " Layer (type)                   Output Shape         Param #     Connected to                     \n",
            "==================================================================================================\n",
            " input_3 (InputLayer)           [(None, 47, 13)]     0           []                               \n",
            "                                                                                                  \n",
            " model_6 (Functional)           (None, 12)           830896      ['input_3[0][0]']                \n",
            "                                                                                                  \n",
            " model_5 (Functional)           (None, 1)            1650440     ['input_3[0][0]']                \n",
            "                                                                                                  \n",
            " tf.__operators__.getitem (Slic  (None,)             0           ['model_6[0][0]']                \n",
            " ingOpLambda)                                                                                     \n",
            "                                                                                                  \n",
            " tf.__operators__.getitem_1 (Sl  (None,)             0           ['model_6[0][0]']                \n",
            " icingOpLambda)                                                                                   \n",
            "                                                                                                  \n",
            " tf.compat.v1.squeeze (TFOpLamb  (None,)             0           ['model_5[0][0]']                \n",
            " da)                                                                                              \n",
            "                                                                                                  \n",
            " tf.math.greater_1 (TFOpLambda)  (None,)             0           ['tf.__operators__.getitem[0][0]'\n",
            "                                                                 , 'tf.__operators__.getitem_1[0][\n",
            "                                                                 0]']                             \n",
            "                                                                                                  \n",
            " tf.math.greater (TFOpLambda)   (None,)              0           ['tf.compat.v1.squeeze[0][0]']   \n",
            "                                                                                                  \n",
            " tf.math.argmax (TFOpLambda)    (None,)              0           ['model_6[0][0]']                \n",
            "                                                                                                  \n",
            " tf.where (TFOpLambda)          (None,)              0           ['tf.math.greater_1[0][0]']      \n",
            "                                                                                                  \n",
            " tf.where_1 (TFOpLambda)        (None,)              0           ['tf.math.greater[0][0]',        \n",
            "                                                                  'tf.math.argmax[0][0]',         \n",
            "                                                                  'tf.where[0][0]']               \n",
            "                                                                                                  \n",
            " tf.one_hot (TFOpLambda)        (None, 12)           0           ['tf.where_1[0][0]']             \n",
            "                                                                                                  \n",
            "==================================================================================================\n",
            "Total params: 2,481,336\n",
            "Trainable params: 2,455,992\n",
            "Non-trainable params: 25,344\n",
            "__________________________________________________________________________________________________\n"
          ]
        }
      ],
      "source": [
        "ens = build_ensemble(models=[bin_ens, cat_ens])\n",
        "ens.summary()"
      ]
    },
    {
      "cell_type": "code",
      "execution_count": 33,
      "metadata": {
        "id": "Q_ADol7Qo07G",
        "colab": {
          "base_uri": "https://localhost:8080/",
          "height": 283
        },
        "outputId": "91428c4c-4bd7-4927-bde4-146e218d7ade"
      },
      "outputs": [
        {
          "output_type": "execute_result",
          "data": {
            "text/plain": [
              "[[45, 27], [48, 27], [51, 23], [42, 30], [40, 27], [55, 33]]"
            ]
          },
          "metadata": {},
          "execution_count": 33
        },
        {
          "output_type": "display_data",
          "data": {
            "image/png": "[encoded data removed]",
            "text/plain": [
              "<Figure size 936x288 with 1 Axes>"
            ]
          },
          "metadata": {
            "needs_background": "light"
          }
        }
      ],
      "source": [
        "evaluate_ensemble(models_cat + (cat_ens, ens,),\n",
        "                  test_dataset, valid_dataset)"
      ]
    },
    {
      "cell_type": "code",
      "execution_count": 34,
      "metadata": {
        "id": "82FeO4px4htt",
        "colab": {
          "base_uri": "https://localhost:8080/"
        },
        "outputId": "99af996d-a625-49c6-e92f-37fadd0aa3d0"
      },
      "outputs": [
        {
          "output_type": "stream",
          "name": "stdout",
          "text": [
            "0.99  .    .    .    .    .    .   0.01  .    .    .    .   | 315\n",
            " .   0.97  .    .    .    .    .    .    .   0.01 0.01  .   | 309\n",
            " .    .   0.99  .    .    .    .    .    .    .   0.01  .   | 304\n",
            " .    .    .   0.98  .    .    .    .    .    .   0.02  .   | 304\n",
            " .    .    .    .   0.99  .    .    .    .    .   0.01  .   | 310\n",
            " .    .    .    .    .   0.98  .    .    .    .   0.01  .   | 336\n",
            " .    .    .    .    .    .   0.99  .    .    .    .    .   | 249\n",
            " .    .    .    .    .    .    .   1.00  .    .    .    .   | 306\n",
            " .    .    .    .    .    .    .    .   0.99  .   0.01  .   | 298\n",
            " .    .    .    .    .   0.01  .    .    .   0.98 0.01  .   | 312\n",
            " .   0.01  .   0.01 0.01  .    .    .    .    .   0.97  .   | 365\n",
            " .    .    .    .    .    .    .    .    .    .    .   1.00 | 365\n"
          ]
        }
      ],
      "source": [
        "matrix = tf.math.confusion_matrix(\n",
        "  list(test_dataset.map(lambda x, y: y)),\n",
        "  ens.predict(test_dataset.batch(4096)).argmax(axis=-1)).numpy()\n",
        "for r in matrix:\n",
        "  l = np.sum(r)\n",
        "  for i in r:\n",
        "    print(('%.2f' % (i / l)).replace('0.00', ' .  '), end = ' ')\n",
        "  print(\"|\", l)"
      ]
    },
    {
      "cell_type": "code",
      "execution_count": 35,
      "metadata": {
        "id": "Y9xA2CduCZNh",
        "colab": {
          "base_uri": "https://localhost:8080/"
        },
        "outputId": "7e7ff627-6624-43ca-ba94-2801f2c03139"
      },
      "outputs": [
        {
          "output_type": "stream",
          "name": "stdout",
          "text": [
            "INFO:tensorflow:Assets written to: /tmp/tmp83fxtjih/assets\n"
          ]
        },
        {
          "output_type": "stream",
          "name": "stderr",
          "text": [
            "INFO:tensorflow:Assets written to: /tmp/tmp83fxtjih/assets\n",
            "WARNING:absl:Buffer deduplication procedure will be skipped when flatbuffer library is not properly loaded\n"
          ]
        }
      ],
      "source": [
        "converter = tf.lite.TFLiteConverter.from_keras_model(ens)\n",
        "tflite_model = converter.convert()\n",
        "with open(\"_3ecnn47.tflite\", \"wb\") as f:\n",
        "  f.write(tflite_model)"
      ]
    },
    {
      "cell_type": "code",
      "execution_count": 36,
      "metadata": {
        "id": "u3bNp1IZCZ_v",
        "colab": {
          "base_uri": "https://localhost:8080/"
        },
        "outputId": "8cbeaf4e-0f80-420d-d559-819e7a8df6a8"
      },
      "outputs": [
        {
          "output_type": "stream",
          "name": "stdout",
          "text": [
            "abd1f8c35fcdedf08d2ed662e4066afd  _3ecnn47.tflite\n"
          ]
        }
      ],
      "source": [
        "!md5sum '_3ecnn47.tflite'\n",
        "!mv '_3ecnn47.tflite' \"$KERAS_MODELS_ABSOLUTE_PATH\""
      ]
    },
    {
      "cell_type": "code",
      "execution_count": 37,
      "metadata": {
        "id": "ffiCBasYWAs9"
      },
      "outputs": [],
      "source": [
        "def transfer_weights(dest, src):\n",
        "  for dest, src in zip(dest, src):\n",
        "    for layer in dest.layers:\n",
        "      if layer.get_weights():\n",
        "        print(\"Transfer weights for layer {}\".format(layer.name))\n",
        "        layer.set_weights(src.get_layer(name=layer.name).get_weights())"
      ]
    },
    {
      "cell_type": "code",
      "execution_count": 38,
      "metadata": {
        "id": "HfQIakeYV6oD",
        "colab": {
          "base_uri": "https://localhost:8080/"
        },
        "outputId": "53972134-90c5-4f78-dc2a-53e4f6b64ea7"
      },
      "outputs": [
        {
          "output_type": "stream",
          "name": "stdout",
          "text": [
            "Transfer weights for layer dense\n",
            "Transfer weights for layer batch_normalization_5\n",
            "Transfer weights for layer dense_1\n",
            "Transfer weights for layer batch_normalization_6\n",
            "Transfer weights for layer conv1d\n",
            "Transfer weights for layer conv1d_1\n",
            "Transfer weights for layer conv1d_2\n",
            "Transfer weights for layer conv1d_3\n",
            "Transfer weights for layer conv1d_4\n",
            "Transfer weights for layer batch_normalization\n",
            "Transfer weights for layer batch_normalization_1\n",
            "Transfer weights for layer batch_normalization_2\n",
            "Transfer weights for layer batch_normalization_3\n",
            "Transfer weights for layer batch_normalization_4\n",
            "Transfer weights for layer dense_2\n",
            "Transfer weights for layer dense\n",
            "Transfer weights for layer batch_normalization_5\n",
            "Transfer weights for layer dense_1\n",
            "Transfer weights for layer batch_normalization_6\n",
            "Transfer weights for layer conv1d\n",
            "Transfer weights for layer conv1d_1\n",
            "Transfer weights for layer conv1d_2\n",
            "Transfer weights for layer conv1d_3\n",
            "Transfer weights for layer conv1d_4\n",
            "Transfer weights for layer batch_normalization\n",
            "Transfer weights for layer batch_normalization_1\n",
            "Transfer weights for layer batch_normalization_2\n",
            "Transfer weights for layer batch_normalization_3\n",
            "Transfer weights for layer batch_normalization_4\n",
            "Transfer weights for layer dense_2\n",
            "Transfer weights for layer dense\n",
            "Transfer weights for layer batch_normalization_6\n",
            "Transfer weights for layer conv1d\n",
            "Transfer weights for layer batch_normalization\n",
            "Transfer weights for layer dense_1\n",
            "Transfer weights for layer batch_normalization_7\n",
            "Transfer weights for layer conv1d_1\n",
            "Transfer weights for layer conv1d_2\n",
            "Transfer weights for layer conv1d_3\n",
            "Transfer weights for layer conv1d_4\n",
            "Transfer weights for layer conv1d_5\n",
            "Transfer weights for layer batch_normalization_1\n",
            "Transfer weights for layer batch_normalization_2\n",
            "Transfer weights for layer batch_normalization_3\n",
            "Transfer weights for layer batch_normalization_4\n",
            "Transfer weights for layer batch_normalization_5\n",
            "Transfer weights for layer dense_2\n",
            "Transfer weights for layer dense\n",
            "Transfer weights for layer batch_normalization_6\n",
            "Transfer weights for layer conv1d\n",
            "Transfer weights for layer batch_normalization\n",
            "Transfer weights for layer dense_1\n",
            "Transfer weights for layer batch_normalization_7\n",
            "Transfer weights for layer conv1d_1\n",
            "Transfer weights for layer conv1d_2\n",
            "Transfer weights for layer conv1d_3\n",
            "Transfer weights for layer conv1d_4\n",
            "Transfer weights for layer conv1d_5\n",
            "Transfer weights for layer batch_normalization_1\n",
            "Transfer weights for layer batch_normalization_2\n",
            "Transfer weights for layer batch_normalization_3\n",
            "Transfer weights for layer batch_normalization_4\n",
            "Transfer weights for layer batch_normalization_5\n",
            "Transfer weights for layer dense_2\n",
            "Transfer weights for layer dense\n",
            "Transfer weights for layer batch_normalization_5\n",
            "Transfer weights for layer dense_1\n",
            "Transfer weights for layer batch_normalization_6\n",
            "Transfer weights for layer conv1d\n",
            "Transfer weights for layer conv1d_1\n",
            "Transfer weights for layer conv1d_2\n",
            "Transfer weights for layer conv1d_3\n",
            "Transfer weights for layer conv1d_4\n",
            "Transfer weights for layer batch_normalization\n",
            "Transfer weights for layer batch_normalization_1\n",
            "Transfer weights for layer batch_normalization_2\n",
            "Transfer weights for layer batch_normalization_3\n",
            "Transfer weights for layer batch_normalization_4\n",
            "Transfer weights for layer dense_2\n",
            "Transfer weights for layer dense\n",
            "Transfer weights for layer batch_normalization_5\n",
            "Transfer weights for layer dense_1\n",
            "Transfer weights for layer batch_normalization_6\n",
            "Transfer weights for layer conv1d\n",
            "Transfer weights for layer conv1d_1\n",
            "Transfer weights for layer conv1d_2\n",
            "Transfer weights for layer conv1d_3\n",
            "Transfer weights for layer conv1d_4\n",
            "Transfer weights for layer batch_normalization\n",
            "Transfer weights for layer batch_normalization_1\n",
            "Transfer weights for layer batch_normalization_2\n",
            "Transfer weights for layer batch_normalization_3\n",
            "Transfer weights for layer batch_normalization_4\n",
            "Transfer weights for layer dense_2\n",
            "Transfer weights for layer dense\n",
            "Transfer weights for layer batch_normalization_6\n",
            "Transfer weights for layer conv1d\n",
            "Transfer weights for layer batch_normalization\n",
            "Transfer weights for layer dense_1\n",
            "Transfer weights for layer batch_normalization_7\n",
            "Transfer weights for layer conv1d_1\n",
            "Transfer weights for layer conv1d_2\n",
            "Transfer weights for layer conv1d_3\n",
            "Transfer weights for layer conv1d_4\n",
            "Transfer weights for layer conv1d_5\n",
            "Transfer weights for layer batch_normalization_1\n",
            "Transfer weights for layer batch_normalization_2\n",
            "Transfer weights for layer batch_normalization_3\n",
            "Transfer weights for layer batch_normalization_4\n",
            "Transfer weights for layer batch_normalization_5\n",
            "Transfer weights for layer dense_2\n",
            "Transfer weights for layer dense\n",
            "Transfer weights for layer batch_normalization_6\n",
            "Transfer weights for layer conv1d\n",
            "Transfer weights for layer batch_normalization\n",
            "Transfer weights for layer dense_1\n",
            "Transfer weights for layer batch_normalization_7\n",
            "Transfer weights for layer conv1d_1\n",
            "Transfer weights for layer conv1d_2\n",
            "Transfer weights for layer conv1d_3\n",
            "Transfer weights for layer conv1d_4\n",
            "Transfer weights for layer conv1d_5\n",
            "Transfer weights for layer batch_normalization_1\n",
            "Transfer weights for layer batch_normalization_2\n",
            "Transfer weights for layer batch_normalization_3\n",
            "Transfer weights for layer batch_normalization_4\n",
            "Transfer weights for layer batch_normalization_5\n",
            "Transfer weights for layer dense_2\n"
          ]
        }
      ],
      "source": [
        "models_bin_str = build_ensemble(builders=models_builders_bin, streaming=True)\n",
        "models_bin_str += build_ensemble(builders=models_builders_bin, streaming=True)\n",
        "transfer_weights(models_bin_str, models_bin_1 + models_bin_2)"
      ]
    },
    {
      "cell_type": "code",
      "execution_count": 39,
      "metadata": {
        "id": "5C51RqntYPEx",
        "colab": {
          "base_uri": "https://localhost:8080/"
        },
        "outputId": "a7ca9a3b-4ab6-44d0-f6c4-df5eab545d7a"
      },
      "outputs": [
        {
          "output_type": "stream",
          "name": "stdout",
          "text": [
            "Transfer weights for layer dense\n",
            "Transfer weights for layer batch_normalization_5\n",
            "Transfer weights for layer dense_1\n",
            "Transfer weights for layer batch_normalization_6\n",
            "Transfer weights for layer conv1d\n",
            "Transfer weights for layer conv1d_1\n",
            "Transfer weights for layer conv1d_2\n",
            "Transfer weights for layer conv1d_3\n",
            "Transfer weights for layer conv1d_4\n",
            "Transfer weights for layer batch_normalization\n",
            "Transfer weights for layer batch_normalization_1\n",
            "Transfer weights for layer batch_normalization_2\n",
            "Transfer weights for layer batch_normalization_3\n",
            "Transfer weights for layer batch_normalization_4\n",
            "Transfer weights for layer dense_2\n",
            "Transfer weights for layer dense\n",
            "Transfer weights for layer batch_normalization_5\n",
            "Transfer weights for layer dense_1\n",
            "Transfer weights for layer batch_normalization_6\n",
            "Transfer weights for layer conv1d\n",
            "Transfer weights for layer conv1d_1\n",
            "Transfer weights for layer conv1d_2\n",
            "Transfer weights for layer conv1d_3\n",
            "Transfer weights for layer conv1d_4\n",
            "Transfer weights for layer batch_normalization\n",
            "Transfer weights for layer batch_normalization_1\n",
            "Transfer weights for layer batch_normalization_2\n",
            "Transfer weights for layer batch_normalization_3\n",
            "Transfer weights for layer batch_normalization_4\n",
            "Transfer weights for layer dense_2\n",
            "Transfer weights for layer dense\n",
            "Transfer weights for layer batch_normalization_6\n",
            "Transfer weights for layer conv1d\n",
            "Transfer weights for layer batch_normalization\n",
            "Transfer weights for layer dense_1\n",
            "Transfer weights for layer batch_normalization_7\n",
            "Transfer weights for layer conv1d_1\n",
            "Transfer weights for layer conv1d_2\n",
            "Transfer weights for layer conv1d_3\n",
            "Transfer weights for layer conv1d_4\n",
            "Transfer weights for layer conv1d_5\n",
            "Transfer weights for layer batch_normalization_1\n",
            "Transfer weights for layer batch_normalization_2\n",
            "Transfer weights for layer batch_normalization_3\n",
            "Transfer weights for layer batch_normalization_4\n",
            "Transfer weights for layer batch_normalization_5\n",
            "Transfer weights for layer dense_2\n",
            "Transfer weights for layer dense\n",
            "Transfer weights for layer batch_normalization_6\n",
            "Transfer weights for layer conv1d\n",
            "Transfer weights for layer batch_normalization\n",
            "Transfer weights for layer dense_1\n",
            "Transfer weights for layer batch_normalization_7\n",
            "Transfer weights for layer conv1d_1\n",
            "Transfer weights for layer conv1d_2\n",
            "Transfer weights for layer conv1d_3\n",
            "Transfer weights for layer conv1d_4\n",
            "Transfer weights for layer conv1d_5\n",
            "Transfer weights for layer batch_normalization_1\n",
            "Transfer weights for layer batch_normalization_2\n",
            "Transfer weights for layer batch_normalization_3\n",
            "Transfer weights for layer batch_normalization_4\n",
            "Transfer weights for layer batch_normalization_5\n",
            "Transfer weights for layer dense_2\n"
          ]
        }
      ],
      "source": [
        "models_cat_str = build_ensemble(builders=models_builders_cat, streaming=True)\n",
        "transfer_weights(models_cat_str, models_cat)"
      ]
    },
    {
      "cell_type": "code",
      "execution_count": 40,
      "metadata": {
        "id": "cMf3QNgCEYwc",
        "colab": {
          "base_uri": "https://localhost:8080/"
        },
        "outputId": "1adf3c2d-cb77-48fc-acc3-da521f7888d1"
      },
      "outputs": [
        {
          "output_type": "stream",
          "name": "stdout",
          "text": [
            "Model: \"model_16\"\n",
            "__________________________________________________________________________________________________\n",
            " Layer (type)                   Output Shape         Param #     Connected to                     \n",
            "==================================================================================================\n",
            " input_69 (InputLayer)          [(None, 1, 13)]      0           []                               \n",
            "                                                                                                  \n",
            " input_110 (InputLayer)         [(None, 2, 128)]     0           []                               \n",
            "                                                                                                  \n",
            " input_111 (InputLayer)         [(None, 3, 128)]     0           []                               \n",
            "                                                                                                  \n",
            " input_112 (InputLayer)         [(None, 5, 128)]     0           []                               \n",
            "                                                                                                  \n",
            " input_113 (InputLayer)         [(None, 9, 128)]     0           []                               \n",
            "                                                                                                  \n",
            " input_114 (InputLayer)         [(None, 32, 128)]    0           []                               \n",
            "                                                                                                  \n",
            " input_115 (InputLayer)         [(None, 2, 128)]     0           []                               \n",
            "                                                                                                  \n",
            " input_116 (InputLayer)         [(None, 3, 128)]     0           []                               \n",
            "                                                                                                  \n",
            " input_117 (InputLayer)         [(None, 5, 128)]     0           []                               \n",
            "                                                                                                  \n",
            " input_118 (InputLayer)         [(None, 9, 128)]     0           []                               \n",
            "                                                                                                  \n",
            " input_119 (InputLayer)         [(None, 32, 128)]    0           []                               \n",
            "                                                                                                  \n",
            " input_120 (InputLayer)         [(None, 2, 128)]     0           []                               \n",
            "                                                                                                  \n",
            " input_121 (InputLayer)         [(None, 3, 128)]     0           []                               \n",
            "                                                                                                  \n",
            " input_122 (InputLayer)         [(None, 5, 128)]     0           []                               \n",
            "                                                                                                  \n",
            " input_123 (InputLayer)         [(None, 9, 128)]     0           []                               \n",
            "                                                                                                  \n",
            " input_124 (InputLayer)         [(None, 32, 128)]    0           []                               \n",
            "                                                                                                  \n",
            " input_125 (InputLayer)         [(None, 2, 128)]     0           []                               \n",
            "                                                                                                  \n",
            " input_126 (InputLayer)         [(None, 3, 128)]     0           []                               \n",
            "                                                                                                  \n",
            " input_127 (InputLayer)         [(None, 5, 128)]     0           []                               \n",
            "                                                                                                  \n",
            " input_128 (InputLayer)         [(None, 9, 128)]     0           []                               \n",
            "                                                                                                  \n",
            " input_129 (InputLayer)         [(None, 32, 128)]    0           []                               \n",
            "                                                                                                  \n",
            " input_70 (InputLayer)          [(None, 2, 128)]     0           []                               \n",
            "                                                                                                  \n",
            " input_71 (InputLayer)          [(None, 3, 128)]     0           []                               \n",
            "                                                                                                  \n",
            " input_72 (InputLayer)          [(None, 5, 128)]     0           []                               \n",
            "                                                                                                  \n",
            " input_73 (InputLayer)          [(None, 9, 128)]     0           []                               \n",
            "                                                                                                  \n",
            " input_74 (InputLayer)          [(None, 32, 128)]    0           []                               \n",
            "                                                                                                  \n",
            " input_75 (InputLayer)          [(None, 2, 128)]     0           []                               \n",
            "                                                                                                  \n",
            " input_76 (InputLayer)          [(None, 3, 128)]     0           []                               \n",
            "                                                                                                  \n",
            " input_77 (InputLayer)          [(None, 5, 128)]     0           []                               \n",
            "                                                                                                  \n",
            " input_78 (InputLayer)          [(None, 9, 128)]     0           []                               \n",
            "                                                                                                  \n",
            " input_79 (InputLayer)          [(None, 32, 128)]    0           []                               \n",
            "                                                                                                  \n",
            " input_80 (InputLayer)          [(None, 2, 128)]     0           []                               \n",
            "                                                                                                  \n",
            " input_81 (InputLayer)          [(None, 3, 128)]     0           []                               \n",
            "                                                                                                  \n",
            " input_82 (InputLayer)          [(None, 5, 128)]     0           []                               \n",
            "                                                                                                  \n",
            " input_83 (InputLayer)          [(None, 9, 128)]     0           []                               \n",
            "                                                                                                  \n",
            " input_84 (InputLayer)          [(None, 32, 128)]    0           []                               \n",
            "                                                                                                  \n",
            " input_85 (InputLayer)          [(None, 2, 128)]     0           []                               \n",
            "                                                                                                  \n",
            " input_86 (InputLayer)          [(None, 3, 128)]     0           []                               \n",
            "                                                                                                  \n",
            " input_87 (InputLayer)          [(None, 5, 128)]     0           []                               \n",
            "                                                                                                  \n",
            " input_88 (InputLayer)          [(None, 9, 128)]     0           []                               \n",
            "                                                                                                  \n",
            " input_89 (InputLayer)          [(None, 32, 128)]    0           []                               \n",
            "                                                                                                  \n",
            " input_90 (InputLayer)          [(None, 2, 128)]     0           []                               \n",
            "                                                                                                  \n",
            " input_91 (InputLayer)          [(None, 3, 128)]     0           []                               \n",
            "                                                                                                  \n",
            " input_92 (InputLayer)          [(None, 5, 128)]     0           []                               \n",
            "                                                                                                  \n",
            " input_93 (InputLayer)          [(None, 9, 128)]     0           []                               \n",
            "                                                                                                  \n",
            " input_94 (InputLayer)          [(None, 32, 128)]    0           []                               \n",
            "                                                                                                  \n",
            " input_95 (InputLayer)          [(None, 2, 128)]     0           []                               \n",
            "                                                                                                  \n",
            " input_96 (InputLayer)          [(None, 3, 128)]     0           []                               \n",
            "                                                                                                  \n",
            " input_97 (InputLayer)          [(None, 5, 128)]     0           []                               \n",
            "                                                                                                  \n",
            " input_98 (InputLayer)          [(None, 9, 128)]     0           []                               \n",
            "                                                                                                  \n",
            " input_99 (InputLayer)          [(None, 32, 128)]    0           []                               \n",
            "                                                                                                  \n",
            " input_100 (InputLayer)         [(None, 2, 128)]     0           []                               \n",
            "                                                                                                  \n",
            " input_101 (InputLayer)         [(None, 3, 128)]     0           []                               \n",
            "                                                                                                  \n",
            " input_102 (InputLayer)         [(None, 5, 128)]     0           []                               \n",
            "                                                                                                  \n",
            " input_103 (InputLayer)         [(None, 9, 128)]     0           []                               \n",
            "                                                                                                  \n",
            " input_104 (InputLayer)         [(None, 32, 128)]    0           []                               \n",
            "                                                                                                  \n",
            " input_105 (InputLayer)         [(None, 2, 128)]     0           []                               \n",
            "                                                                                                  \n",
            " input_106 (InputLayer)         [(None, 3, 128)]     0           []                               \n",
            "                                                                                                  \n",
            " input_107 (InputLayer)         [(None, 5, 128)]     0           []                               \n",
            "                                                                                                  \n",
            " input_108 (InputLayer)         [(None, 9, 128)]     0           []                               \n",
            "                                                                                                  \n",
            " input_109 (InputLayer)         [(None, 32, 128)]    0           []                               \n",
            "                                                                                                  \n",
            " model_15 (Functional)          [(None, 12),         830896      ['input_69[0][0]',               \n",
            "                                 (None, 1, 128),                  'input_110[0][0]',              \n",
            "                                 (None, 1, 128),                  'input_111[0][0]',              \n",
            "                                 (None, 1, 128),                  'input_112[0][0]',              \n",
            "                                 (None, 1, 128),                  'input_113[0][0]',              \n",
            "                                 (None, 1, 128),                  'input_114[0][0]',              \n",
            "                                 (None, 1, 128),                  'input_115[0][0]',              \n",
            "                                 (None, 1, 128),                  'input_116[0][0]',              \n",
            "                                 (None, 1, 128),                  'input_117[0][0]',              \n",
            "                                 (None, 1, 128),                  'input_118[0][0]',              \n",
            "                                 (None, 1, 128),                  'input_119[0][0]',              \n",
            "                                 (None, 1, 128),                  'input_120[0][0]',              \n",
            "                                 (None, 1, 128),                  'input_121[0][0]',              \n",
            "                                 (None, 1, 128),                  'input_122[0][0]',              \n",
            "                                 (None, 1, 128),                  'input_123[0][0]',              \n",
            "                                 (None, 1, 128),                  'input_124[0][0]',              \n",
            "                                 (None, 1, 128),                  'input_125[0][0]',              \n",
            "                                 (None, 1, 128),                  'input_126[0][0]',              \n",
            "                                 (None, 1, 128),                  'input_127[0][0]',              \n",
            "                                 (None, 1, 128),                  'input_128[0][0]',              \n",
            "                                 (None, 1, 128)]                  'input_129[0][0]']              \n",
            "                                                                                                  \n",
            " model_14 (Functional)          [(None, 1),          1650440     ['input_69[0][0]',               \n",
            "                                 (None, 1, 128),                  'input_70[0][0]',               \n",
            "                                 (None, 1, 128),                  'input_71[0][0]',               \n",
            "                                 (None, 1, 128),                  'input_72[0][0]',               \n",
            "                                 (None, 1, 128),                  'input_73[0][0]',               \n",
            "                                 (None, 1, 128),                  'input_74[0][0]',               \n",
            "                                 (None, 1, 128),                  'input_75[0][0]',               \n",
            "                                 (None, 1, 128),                  'input_76[0][0]',               \n",
            "                                 (None, 1, 128),                  'input_77[0][0]',               \n",
            "                                 (None, 1, 128),                  'input_78[0][0]',               \n",
            "                                 (None, 1, 128),                  'input_79[0][0]',               \n",
            "                                 (None, 1, 128),                  'input_80[0][0]',               \n",
            "                                 (None, 1, 128),                  'input_81[0][0]',               \n",
            "                                 (None, 1, 128),                  'input_82[0][0]',               \n",
            "                                 (None, 1, 128),                  'input_83[0][0]',               \n",
            "                                 (None, 1, 128),                  'input_84[0][0]',               \n",
            "                                 (None, 1, 128),                  'input_85[0][0]',               \n",
            "                                 (None, 1, 128),                  'input_86[0][0]',               \n",
            "                                 (None, 1, 128),                  'input_87[0][0]',               \n",
            "                                 (None, 1, 128),                  'input_88[0][0]',               \n",
            "                                 (None, 1, 128),                  'input_89[0][0]',               \n",
            "                                 (None, 1, 128),                  'input_90[0][0]',               \n",
            "                                 (None, 1, 128),                  'input_91[0][0]',               \n",
            "                                 (None, 1, 128),                  'input_92[0][0]',               \n",
            "                                 (None, 1, 128),                  'input_93[0][0]',               \n",
            "                                 (None, 1, 128),                  'input_94[0][0]',               \n",
            "                                 (None, 1, 128),                  'input_95[0][0]',               \n",
            "                                 (None, 1, 128),                  'input_96[0][0]',               \n",
            "                                 (None, 1, 128),                  'input_97[0][0]',               \n",
            "                                 (None, 1, 128),                  'input_98[0][0]',               \n",
            "                                 (None, 1, 128),                  'input_99[0][0]',               \n",
            "                                 (None, 1, 128),                  'input_100[0][0]',              \n",
            "                                 (None, 1, 128),                  'input_101[0][0]',              \n",
            "                                 (None, 1, 128),                  'input_102[0][0]',              \n",
            "                                 (None, 1, 128),                  'input_103[0][0]',              \n",
            "                                 (None, 1, 128),                  'input_104[0][0]',              \n",
            "                                 (None, 1, 128),                  'input_105[0][0]',              \n",
            "                                 (None, 1, 128),                  'input_106[0][0]',              \n",
            "                                 (None, 1, 128),                  'input_107[0][0]',              \n",
            "                                 (None, 1, 128),                  'input_108[0][0]',              \n",
            "                                 (None, 1, 128)]                  'input_109[0][0]']              \n",
            "                                                                                                  \n",
            " tf.__operators__.getitem (Slic  (None,)             0           ['model_15[0][0]']               \n",
            " ingOpLambda)                                                                                     \n",
            "                                                                                                  \n",
            " tf.__operators__.getitem_1 (Sl  (None,)             0           ['model_15[0][0]']               \n",
            " icingOpLambda)                                                                                   \n",
            "                                                                                                  \n",
            " tf.compat.v1.squeeze (TFOpLamb  (None,)             0           ['model_14[0][0]']               \n",
            " da)                                                                                              \n",
            "                                                                                                  \n",
            " tf.math.greater_1 (TFOpLambda)  (None,)             0           ['tf.__operators__.getitem[0][0]'\n",
            "                                                                 , 'tf.__operators__.getitem_1[0][\n",
            "                                                                 0]']                             \n",
            "                                                                                                  \n",
            " tf.math.greater (TFOpLambda)   (None,)              0           ['tf.compat.v1.squeeze[0][0]']   \n",
            "                                                                                                  \n",
            " tf.math.argmax (TFOpLambda)    (None,)              0           ['model_15[0][0]']               \n",
            "                                                                                                  \n",
            " tf.where (TFOpLambda)          (None,)              0           ['tf.math.greater_1[0][0]']      \n",
            "                                                                                                  \n",
            " tf.where_1 (TFOpLambda)        (None,)              0           ['tf.math.greater[0][0]',        \n",
            "                                                                  'tf.math.argmax[0][0]',         \n",
            "                                                                  'tf.where[0][0]']               \n",
            "                                                                                                  \n",
            " tf.one_hot (TFOpLambda)        (None, 12)           0           ['tf.where_1[0][0]']             \n",
            "                                                                                                  \n",
            "==================================================================================================\n",
            "Total params: 2,481,336\n",
            "Trainable params: 2,455,992\n",
            "Non-trainable params: 25,344\n",
            "__________________________________________________________________________________________________\n"
          ]
        }
      ],
      "source": [
        "bin_str_ens = build_ensemble(models=models_bin_str, activation='linear', streaming=True)\n",
        "cat_str_ens = build_ensemble(models=models_cat_str, activation='softmax', streaming=True)\n",
        "ens_str = build_ensemble(models=[bin_str_ens, cat_str_ens], streaming=True)\n",
        "ens_str.summary()"
      ]
    },
    {
      "cell_type": "code",
      "execution_count": 41,
      "metadata": {
        "id": "_osefPcMYmgD",
        "colab": {
          "base_uri": "https://localhost:8080/"
        },
        "outputId": "a6c74d69-cb34-4697-8f2f-a7ab67bf0d53"
      },
      "outputs": [
        {
          "output_type": "stream",
          "name": "stdout",
          "text": [
            "INFO:tensorflow:Assets written to: /tmp/tmpmvdi33bl/assets\n"
          ]
        },
        {
          "output_type": "stream",
          "name": "stderr",
          "text": [
            "INFO:tensorflow:Assets written to: /tmp/tmpmvdi33bl/assets\n",
            "WARNING:absl:Buffer deduplication procedure will be skipped when flatbuffer library is not properly loaded\n"
          ]
        }
      ],
      "source": [
        "converter = tf.lite.TFLiteConverter.from_keras_model(ens_str)\n",
        "tflite_model = converter.convert()\n",
        "with open(\"3ecnn13.tflite\", \"wb\") as f:\n",
        "  f.write(tflite_model)"
      ]
    },
    {
      "cell_type": "code",
      "execution_count": 42,
      "metadata": {
        "id": "YkxrCu4kYyFC",
        "colab": {
          "base_uri": "https://localhost:8080/"
        },
        "outputId": "f4aad08b-bdbb-455f-8237-648e0164fb8f"
      },
      "outputs": [
        {
          "output_type": "stream",
          "name": "stdout",
          "text": [
            "f8d577ed7f491e71e392df835677b08c  3ecnn13.tflite\n"
          ]
        }
      ],
      "source": [
        "!md5sum '3ecnn13.tflite'\n",
        "!mv '3ecnn13.tflite' \"$KERAS_MODELS_ABSOLUTE_PATH\""
      ]
    }
  ],
  "metadata": {
    "accelerator": "TPU",
    "colab": {
      "collapsed_sections": [],
      "machine_shape": "hm",
      "name": "3ecnn13.tpu.ipynb",
      "provenance": []
    },
    "kernelspec": {
      "display_name": "Python 3",
      "name": "python3"
    }
  },
  "nbformat": 4,
  "nbformat_minor": 0
}