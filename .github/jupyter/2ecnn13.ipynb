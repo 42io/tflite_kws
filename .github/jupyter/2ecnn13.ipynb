{
  "nbformat": 4,
  "nbformat_minor": 0,
  "metadata": {
    "accelerator": "GPU",
    "colab": {
      "name": "2ecnn13.ipynb",
      "provenance": [],
      "collapsed_sections": [],
      "machine_shape": "hm"
    },
    "kernelspec": {
      "display_name": "Python 3",
      "name": "python3"
    }
  },
  "cells": [
    {
      "cell_type": "code",
      "metadata": {
        "colab": {
          "base_uri": "https://localhost:8080/"
        },
        "id": "TAbOZ28BZqpE",
        "outputId": "d4ed8d4f-c92f-4a9b-fb91-0e0b15d7765b"
      },
      "source": [
        "!nvidia-smi"
      ],
      "execution_count": 1,
      "outputs": [
        {
          "output_type": "stream",
          "name": "stdout",
          "text": [
            "Wed Nov  3 11:18:22 2021       \n",
            "+-----------------------------------------------------------------------------+\n",
            "| NVIDIA-SMI 495.44       Driver Version: 460.32.03    CUDA Version: 11.2     |\n",
            "|-------------------------------+----------------------+----------------------+\n",
            "| GPU  Name        Persistence-M| Bus-Id        Disp.A | Volatile Uncorr. ECC |\n",
            "| Fan  Temp  Perf  Pwr:Usage/Cap|         Memory-Usage | GPU-Util  Compute M. |\n",
            "|                               |                      |               MIG M. |\n",
            "|===============================+======================+======================|\n",
            "|   0  Tesla K80           Off  | 00000000:00:04.0 Off |                    0 |\n",
            "| N/A   73C    P8    33W / 149W |      0MiB / 11441MiB |      0%      Default |\n",
            "|                               |                      |                  N/A |\n",
            "+-------------------------------+----------------------+----------------------+\n",
            "                                                                               \n",
            "+-----------------------------------------------------------------------------+\n",
            "| Processes:                                                                  |\n",
            "|  GPU   GI   CI        PID   Type   Process name                  GPU Memory |\n",
            "|        ID   ID                                                   Usage      |\n",
            "|=============================================================================|\n",
            "|  No running processes found                                                 |\n",
            "+-----------------------------------------------------------------------------+\n"
          ]
        }
      ]
    },
    {
      "cell_type": "code",
      "metadata": {
        "id": "M09OlPRpDRSh"
      },
      "source": [
        "KERAS_MODELS_ABSOLUTE_PATH = '/content/gdrive/My Drive/2ecnn13'"
      ],
      "execution_count": 2,
      "outputs": []
    },
    {
      "cell_type": "code",
      "metadata": {
        "id": "nKHNt4dNhRMF",
        "colab": {
          "base_uri": "https://localhost:8080/"
        },
        "outputId": "f50401a8-c11e-4b01-d674-0526c58fe1be"
      },
      "source": [
        "from google.colab import drive\n",
        "drive.mount('/content/gdrive')"
      ],
      "execution_count": 3,
      "outputs": [
        {
          "output_type": "stream",
          "name": "stdout",
          "text": [
            "Mounted at /content/gdrive\n"
          ]
        }
      ]
    },
    {
      "cell_type": "code",
      "metadata": {
        "colab": {
          "base_uri": "https://localhost:8080/"
        },
        "id": "8UutF8PBu-oO",
        "outputId": "5711dc7a-b341-4447-b739-f10ed8cc4818"
      },
      "source": [
        "!pip install -qq tensorflow-datasets -U\n",
        "!tfds --version"
      ],
      "execution_count": 4,
      "outputs": [
        {
          "output_type": "stream",
          "name": "stdout",
          "text": [
            "\u001b[K     |████████████████████████████████| 4.0 MB 4.3 MB/s \n",
            "\u001b[?25hTensorFlow Datasets: 4.4.0\n"
          ]
        }
      ]
    },
    {
      "cell_type": "code",
      "metadata": {
        "colab": {
          "base_uri": "https://localhost:8080/"
        },
        "id": "5T3UOLCpGUmg",
        "outputId": "1a0fc458-13df-47c5-99c4-980bd4901342"
      },
      "source": [
        "import matplotlib.pyplot as plt\n",
        "import numpy as np\n",
        "from tensorflow import keras\n",
        "import tensorflow as tf\n",
        "import tensorflow_datasets as tfds\n",
        "print(tf.__version__)\n",
        "plt.rc('figure', figsize=(13, 4))"
      ],
      "execution_count": 5,
      "outputs": [
        {
          "output_type": "stream",
          "name": "stdout",
          "text": [
            "2.6.0\n"
          ]
        }
      ]
    },
    {
      "cell_type": "code",
      "metadata": {
        "id": "Fubso462-iVr"
      },
      "source": [
        "if not tf.io.gfile.exists(KERAS_MODELS_ABSOLUTE_PATH):\n",
        "  print('You should create', KERAS_MODELS_ABSOLUTE_PATH, 'directory manually')\n",
        "  assert False"
      ],
      "execution_count": 6,
      "outputs": []
    },
    {
      "cell_type": "code",
      "metadata": {
        "colab": {
          "base_uri": "https://localhost:8080/"
        },
        "id": "KQC5dJmvnlm0",
        "outputId": "26b4c97f-5872-414e-b226-0008b682c3be"
      },
      "source": [
        "train_dataset, test_dataset, valid_dataset = tfds.load(\n",
        "    name='my_dataset', split=['train', 'test', 'valid'],\n",
        "    data_dir='gs://tfds-musan-1.appspot.com',\n",
        "    as_supervised=True)\n",
        "train_dataset.cardinality().numpy()"
      ],
      "execution_count": 7,
      "outputs": [
        {
          "output_type": "execute_result",
          "data": {
            "text/plain": [
              "1825800"
            ]
          },
          "metadata": {},
          "execution_count": 7
        }
      ]
    },
    {
      "cell_type": "code",
      "metadata": {
        "id": "AODNDf4J-fVh"
      },
      "source": [
        "train_dataset = train_dataset.map(lambda x, y: (x[1:-1], y)).cache()\n",
        "test_dataset  = test_dataset.map(lambda x, y:  (x[1:-1], y)).cache()\n",
        "valid_dataset = valid_dataset.map(lambda x, y: (x[1:-1], y)).cache()"
      ],
      "execution_count": 8,
      "outputs": []
    },
    {
      "cell_type": "code",
      "metadata": {
        "id": "Xcj5MHTAKYwv"
      },
      "source": [
        "def spectrogram_masking(spectrogram, dim=1, masks_number=2, mask_max_size=5):\n",
        "  \"\"\"Spectrogram masking on frequency or time dimension.\n",
        "  Args:\n",
        "    spectrogram: Input spectrum [batch, time, frequency]\n",
        "    dim: dimension on which masking will be applied: 1 - time; 2 - frequency\n",
        "    masks_number: number of masks\n",
        "    mask_max_size: mask max size\n",
        "  Returns:\n",
        "    masked spectrogram\n",
        "  \"\"\"\n",
        "  if dim not in (1, 2):\n",
        "    raise ValueError('Wrong dim value: %d' % dim)\n",
        "  input_shape = spectrogram.shape\n",
        "  time_size, frequency_size = input_shape[1:3]\n",
        "  dim_size = input_shape[dim]  # size of dimension on which mask is applied\n",
        "  stripe_shape = [1, time_size, frequency_size]\n",
        "  for _ in range(masks_number):\n",
        "    mask_end = tf.random.uniform([], 0, mask_max_size, tf.int32)\n",
        "    mask_start = tf.random.uniform([], 0, dim_size - mask_end, tf.int32)\n",
        "\n",
        "    # initialize stripes with stripe_shape\n",
        "    stripe_ones_left = list(stripe_shape)\n",
        "    stripe_zeros_center = list(stripe_shape)\n",
        "    stripe_ones_right = list(stripe_shape)\n",
        "\n",
        "    # update stripes dim\n",
        "    stripe_ones_left[dim] = dim_size - mask_start - mask_end\n",
        "    stripe_zeros_center[dim] = mask_end\n",
        "    stripe_ones_right[dim] = mask_start\n",
        "\n",
        "    # generate mask\n",
        "    mask = tf.concat((\n",
        "        tf.ones(stripe_ones_left, spectrogram.dtype),\n",
        "        tf.zeros(stripe_zeros_center, spectrogram.dtype),\n",
        "        tf.ones(stripe_ones_right, spectrogram.dtype),\n",
        "    ), dim)\n",
        "    spectrogram = spectrogram * mask\n",
        "  return spectrogram"
      ],
      "execution_count": 9,
      "outputs": []
    },
    {
      "cell_type": "code",
      "metadata": {
        "id": "-WXRm7NyAtks"
      },
      "source": [
        "def streaming_input_output(streaming, t, inputs, otputs, x):\n",
        "  if streaming:\n",
        "    otputs.append(x)\n",
        "    x = keras.Input(shape=[t] + x.shape[2:])\n",
        "    inputs.append(x)\n",
        "  return x"
      ],
      "execution_count": 10,
      "outputs": []
    },
    {
      "cell_type": "code",
      "metadata": {
        "id": "vP5AfeDYPYK4"
      },
      "source": [
        "def build_model(in_shape, activation, pooling, out_shape, *in_steps):\n",
        "\n",
        "  # resetting the layer name generation counter\n",
        "  keras.backend.clear_session()\n",
        "\n",
        "  inputs, outputs = [], []\n",
        "  streaming = in_shape[0] == 1\n",
        "\n",
        "  x = x_in = keras.Input(shape=in_shape)\n",
        "\n",
        "  for i in in_steps:\n",
        "    x = keras.layers.Conv1D(i, 1, use_bias=False)(x)\n",
        "    x = keras.layers.BatchNormalization()(x)\n",
        "    x = keras.layers.Activation(activation)(x)\n",
        "    x = keras.layers.SpatialDropout1D(i / 1280.0)(x)\n",
        "\n",
        "  for i in range(4):\n",
        "    x = streaming_input_output(streaming, 1 + 2**i, inputs, outputs, x)\n",
        "    x = keras.layers.Conv1D(x.shape[-1], 2,\n",
        "                            dilation_rate=2**i, use_bias=False)(x)\n",
        "    x = keras.layers.BatchNormalization()(x)\n",
        "    x = keras.layers.Activation(activation)(x)\n",
        "    x = keras.layers.SpatialDropout1D(0.1)(x)\n",
        "\n",
        "  x = streaming_input_output(streaming, 32, inputs, outputs, x)\n",
        "  x = pooling(x.shape[1])(x)\n",
        "  x = keras.layers.Flatten()(x)\n",
        "\n",
        "  for i in x.shape[-1] * np.array([2, 1]):\n",
        "    x = keras.layers.Dense(i, use_bias=False)(x)\n",
        "    x = keras.layers.BatchNormalization()(x)\n",
        "    x = keras.layers.Activation(activation)(x)\n",
        "    x = keras.layers.Dropout(i / 1280.0)(x)\n",
        "\n",
        "  x = keras.layers.Dense(out_shape)(x)\n",
        "  return keras.Model([x_in] + inputs, [x] + outputs, name='second_ensemble')"
      ],
      "execution_count": 11,
      "outputs": []
    },
    {
      "cell_type": "code",
      "metadata": {
        "id": "E84wnQt1s_VY"
      },
      "source": [
        "def build_ensemble(builders=None, models=None, activation=None, streaming=False):\n",
        "  in_shape = (1 if streaming else 47, 13)\n",
        "  if models:\n",
        "    x_in = keras.Input(shape=in_shape)\n",
        "    x = [keras.Model(m.inputs, m.outputs) for m in models]\n",
        "    if streaming:\n",
        "      inputs = [[keras.Input(e.shape[1:]) for e in m.inputs[1:]] for m in x]\n",
        "      x = [e([x_in] + i) for e, i in zip(x, inputs)]\n",
        "      inputs = [i for e in inputs for i in e]\n",
        "      outputs = [i for e in x for i in e[1:]]\n",
        "      x = [e[0] for e in x]\n",
        "    else:\n",
        "      inputs, outputs = [], []\n",
        "      x = [e(x_in) for e in x]\n",
        "    if activation:\n",
        "      x = [keras.layers.Activation(activation)(e) for e in x]\n",
        "      x = keras.layers.Average()(x)\n",
        "    else:\n",
        "      b, c = x\n",
        "      b = tf.squeeze(b, -1)\n",
        "      b = tf.greater(b, 2) # threshold\n",
        "      u = tf.greater(c[:,10], c[:,11])\n",
        "      u = tf.where(u, 10, 11)\n",
        "      x = tf.where(b, tf.argmax(c, -1, u.dtype), u)\n",
        "      x = tf.one_hot(x, 12)\n",
        "    return keras.Model([x_in] + inputs, [x] + outputs)\n",
        "  else:\n",
        "    return tuple(b(in_shape, *a) for b, *a in builders)"
      ],
      "execution_count": 12,
      "outputs": []
    },
    {
      "cell_type": "code",
      "metadata": {
        "id": "R6Nk8XnPozIq"
      },
      "source": [
        "models_builders_bin = (\n",
        "  (build_model, 'leaky_relu', keras.layers.MaxPool1D, 1,     128),\n",
        "  (build_model, 'relu',       keras.layers.AvgPool1D, 1,     128),\n",
        "  (build_model, 'relu6',      keras.layers.MaxPool1D, 1, 64, 128),\n",
        "  (build_model, 'elu',        keras.layers.AvgPool1D, 1, 64, 128),\n",
        ")\n",
        "models_bin = build_ensemble(builders=models_builders_bin)"
      ],
      "execution_count": 13,
      "outputs": []
    },
    {
      "cell_type": "code",
      "metadata": {
        "id": "x5m9wOJwCxxA"
      },
      "source": [
        "def train_model(model, loss, train_dataset, valid_dataset):\n",
        "\n",
        "  model.compile(\n",
        "    loss=loss(from_logits=True),\n",
        "    optimizer=keras.optimizers.Adam(),\n",
        "    metrics=['accuracy'])\n",
        "\n",
        "  early_stopping = keras.callbacks.EarlyStopping(\n",
        "        monitor='val_loss',\n",
        "        mode='min',\n",
        "        verbose=1,\n",
        "        patience=100,\n",
        "        restore_best_weights=True)\n",
        "\n",
        "  train_batch = train_dataset.shuffle(train_dataset.cardinality())\n",
        "  train_batch = train_batch.batch(128)\n",
        "  train_batch = train_batch.map(lambda x, y: (spectrogram_masking(x, 1, 3, 5), y))\n",
        "  train_batch = train_batch.map(lambda x, y: (spectrogram_masking(x, 2, 2, 2), y))\n",
        "  train_batch = train_batch.prefetch(tf.data.AUTOTUNE)\n",
        "\n",
        "  valid_batch = valid_dataset.batch(128)\n",
        "  valid_batch = valid_batch.prefetch(tf.data.AUTOTUNE)\n",
        "\n",
        "  # plt.imshow(list(train_batch.take(1))[0][0][0].numpy().T)\n",
        "  # plt.show()\n",
        "\n",
        "  history = model.fit(train_batch,\n",
        "                      validation_data=valid_batch,\n",
        "                      callbacks=[early_stopping],\n",
        "                      verbose=2,\n",
        "                      epochs=1000) # play with google colab time limit\n",
        "\n",
        "  model.set_weights(early_stopping.best_weights)\n",
        "  return history"
      ],
      "execution_count": 14,
      "outputs": []
    },
    {
      "cell_type": "code",
      "metadata": {
        "id": "UDdJ8Q2Tx49J"
      },
      "source": [
        "def train_ensemble(ensemble_models, loss, train_dataset, valid_dataset):\n",
        "\n",
        "  for model in ensemble_models:\n",
        "    md5 = str(model.get_config())\n",
        "    md5 = !echo \"$md5\" | md5sum\n",
        "    md5 = md5[0].split()[0]\n",
        "    weights_file = \"%s/%s.h5\" % (KERAS_MODELS_ABSOLUTE_PATH, md5)\n",
        "\n",
        "    if tf.io.gfile.exists(weights_file):\n",
        "      print('Restoring model weights from', md5)\n",
        "      model.load_weights(weights_file)\n",
        "    else:\n",
        "      history = train_model(model, loss, train_dataset, valid_dataset)\n",
        "      model.save_weights(weights_file)\n",
        "      plt.plot(history.history['loss'])\n",
        "      plt.plot(history.history['val_loss'])\n",
        "      plt.ylabel('Loss')\n",
        "      plt.xlabel('Epoch')\n",
        "      plt.legend(['Train', 'Valid'], loc='upper right')\n",
        "      plt.show() "
      ],
      "execution_count": 15,
      "outputs": []
    },
    {
      "cell_type": "code",
      "metadata": {
        "id": "MpFpu5bZeYj4",
        "colab": {
          "base_uri": "https://localhost:8080/"
        },
        "outputId": "44a4d016-78bf-4119-d356-a07721e06c0e"
      },
      "source": [
        "train_ensemble(models_bin, keras.losses.BinaryCrossentropy,\n",
        "               train_dataset, valid_dataset)"
      ],
      "execution_count": 16,
      "outputs": [
        {
          "output_type": "stream",
          "name": "stdout",
          "text": [
            "Restoring model weights from 28323f803767caeb2261fa7304685acc\n",
            "Restoring model weights from 3a120eaa0ec426481f89827dfc4a2782\n",
            "Restoring model weights from f6540761d812702d3bb4466310e20b93\n",
            "Restoring model weights from 4b4319045000911ff374050fa7882570\n"
          ]
        }
      ]
    },
    {
      "cell_type": "code",
      "metadata": {
        "id": "pqEEKnoNq2eL"
      },
      "source": [
        "bin_ens = build_ensemble(models=models_bin, activation='linear')"
      ],
      "execution_count": 17,
      "outputs": []
    },
    {
      "cell_type": "code",
      "metadata": {
        "id": "9dtmhSipt8iJ"
      },
      "source": [
        "def evaluate_ensemble(models, test_dataset, valid_dataset):\n",
        "  history = []\n",
        "  for model in models:\n",
        "    o = model.output_shape[-1]   \n",
        "    d = lambda x: np.argmax(x, -1) if o > 1 else x.squeeze(-1) > 0\n",
        "    pred = d(model.predict(test_dataset.batch(512)))\n",
        "    history.append(np.sum(pred != list(test_dataset.map(lambda x, y: y))))\n",
        "    pred = d(model.predict(valid_dataset.batch(512)))\n",
        "    history.append(np.sum(pred != list(valid_dataset.map(lambda x, y: y))))\n",
        "  plt.xlim(-0.6, len(history)/2 - 0.4)\n",
        "  plt.bar(np.arange(len(history)/2) - 0.2, history[::2], 0.4)\n",
        "  plt.bar(np.arange(len(history)/2) + 0.2, history[1::2], 0.4)\n",
        "  return np.array(history).reshape(-1, 2).tolist()"
      ],
      "execution_count": 18,
      "outputs": []
    },
    {
      "cell_type": "code",
      "metadata": {
        "id": "cF0bF7Ro6Jg4",
        "colab": {
          "base_uri": "https://localhost:8080/",
          "height": 282
        },
        "outputId": "4c72a764-22cc-4223-bbca-49d71bbc2aff"
      },
      "source": [
        "evaluate_ensemble(models_bin + (bin_ens,), test_dataset, valid_dataset)"
      ],
      "execution_count": 19,
      "outputs": [
        {
          "output_type": "execute_result",
          "data": {
            "text/plain": [
              "[[15, 12], [17, 10], [17, 10], [14, 7], [11, 9]]"
            ]
          },
          "metadata": {},
          "execution_count": 19
        },
        {
          "output_type": "display_data",
          "data": {
            "image/png": "[encoded data removed]",
            "text/plain": [
              "<Figure size 936x288 with 1 Axes>"
            ]
          },
          "metadata": {
            "needs_background": "light"
          }
        }
      ]
    },
    {
      "cell_type": "code",
      "metadata": {
        "id": "qSCsLW7940Og",
        "colab": {
          "base_uri": "https://localhost:8080/"
        },
        "outputId": "867ce7c6-daa9-460f-982d-ba393fd5f9f4"
      },
      "source": [
        "train_dataset, test_dataset, valid_dataset = tfds.load(\n",
        "    name='my_dataset', split=['train', 'test', 'valid'],\n",
        "    data_dir='gs://tfds-gsc-1.appspot.com',\n",
        "    as_supervised=True)\n",
        "train_dataset.cardinality().numpy()"
      ],
      "execution_count": 20,
      "outputs": [
        {
          "output_type": "execute_result",
          "data": {
            "text/plain": [
              "1095480"
            ]
          },
          "metadata": {},
          "execution_count": 20
        }
      ]
    },
    {
      "cell_type": "code",
      "metadata": {
        "id": "4Ll-WLEB0yGj"
      },
      "source": [
        "train_dataset = train_dataset.map(lambda x, y: (x[1:-1], y)).cache()\n",
        "test_dataset  = test_dataset.map(lambda x, y:  (x[1:-1], y)).cache()\n",
        "valid_dataset = valid_dataset.map(lambda x, y: (x[1:-1], y)).cache()"
      ],
      "execution_count": 21,
      "outputs": []
    },
    {
      "cell_type": "code",
      "metadata": {
        "id": "RBdK_jqApFOa",
        "colab": {
          "base_uri": "https://localhost:8080/",
          "height": 282
        },
        "outputId": "f62b11cf-d6f9-47a2-c703-47af5d75bf7f"
      },
      "source": [
        "evaluate_ensemble(models_bin + (bin_ens,),\n",
        "                  test_dataset.map(lambda x, y: [x, y < 10]),\n",
        "                  valid_dataset.map(lambda x, y: [x, y < 10]))"
      ],
      "execution_count": 22,
      "outputs": [
        {
          "output_type": "execute_result",
          "data": {
            "text/plain": [
              "[[312, 303], [299, 287], [316, 295], [315, 298], [309, 293]]"
            ]
          },
          "metadata": {},
          "execution_count": 22
        },
        {
          "output_type": "display_data",
          "data": {
            "image/png": "[encoded data removed]",
            "text/plain": [
              "<Figure size 936x288 with 1 Axes>"
            ]
          },
          "metadata": {
            "needs_background": "light"
          }
        }
      ]
    },
    {
      "cell_type": "code",
      "metadata": {
        "id": "sq1S896nzwsY"
      },
      "source": [
        "models_builders_cat = (\n",
        "  (build_model, 'leaky_relu', keras.layers.MaxPool1D, 12,     128),\n",
        "  (build_model, 'relu',       keras.layers.AvgPool1D, 12,     128),\n",
        "  (build_model, 'relu6',      keras.layers.MaxPool1D, 12, 64, 128),\n",
        "  (build_model, 'elu',        keras.layers.AvgPool1D, 12, 64, 128),\n",
        ")\n",
        "models_cat = build_ensemble(builders=models_builders_cat)"
      ],
      "execution_count": 23,
      "outputs": []
    },
    {
      "cell_type": "code",
      "metadata": {
        "id": "5_Ky6M9bzwsZ",
        "colab": {
          "base_uri": "https://localhost:8080/"
        },
        "outputId": "b3a0d73c-2863-44b5-f782-b44c225118ad"
      },
      "source": [
        "train_ensemble(models_cat, keras.losses.SparseCategoricalCrossentropy,\n",
        "               train_dataset, valid_dataset)"
      ],
      "execution_count": 24,
      "outputs": [
        {
          "output_type": "stream",
          "name": "stdout",
          "text": [
            "Restoring model weights from e7e8bec4019f75b50021d0976ccd6c38\n",
            "Restoring model weights from 77ea91aa526708b463ab0a466befa487\n",
            "Restoring model weights from b86d75d1480db917ab133cc6027564c0\n",
            "Restoring model weights from 76ae1b4ae2ff082f3154066d5e36578e\n"
          ]
        }
      ]
    },
    {
      "cell_type": "code",
      "metadata": {
        "id": "dOSh6sFK_rJM"
      },
      "source": [
        "cat_ens = build_ensemble(models=models_cat, activation='softmax')"
      ],
      "execution_count": 25,
      "outputs": []
    },
    {
      "cell_type": "code",
      "metadata": {
        "id": "AyFS6NeSK3jq",
        "colab": {
          "base_uri": "https://localhost:8080/"
        },
        "outputId": "ed45bafc-48a3-4872-b69c-6852789f3807"
      },
      "source": [
        "ens = build_ensemble(models=[bin_ens, cat_ens])\n",
        "ens.summary()"
      ],
      "execution_count": 26,
      "outputs": [
        {
          "output_type": "stream",
          "name": "stdout",
          "text": [
            "Model: \"model_7\"\n",
            "__________________________________________________________________________________________________\n",
            "Layer (type)                    Output Shape         Param #     Connected to                     \n",
            "==================================================================================================\n",
            "input_3 (InputLayer)            [(None, 47, 13)]     0                                            \n",
            "__________________________________________________________________________________________________\n",
            "model_6 (Functional)            (None, 12)           830896      input_3[0][0]                    \n",
            "__________________________________________________________________________________________________\n",
            "model_5 (Functional)            (None, 1)            825220      input_3[0][0]                    \n",
            "__________________________________________________________________________________________________\n",
            "tf.__operators__.getitem (Slici (None,)              0           model_6[0][0]                    \n",
            "__________________________________________________________________________________________________\n",
            "tf.__operators__.getitem_1 (Sli (None,)              0           model_6[0][0]                    \n",
            "__________________________________________________________________________________________________\n",
            "tf.compat.v1.squeeze (TFOpLambd (None,)              0           model_5[0][0]                    \n",
            "__________________________________________________________________________________________________\n",
            "tf.math.greater_1 (TFOpLambda)  (None,)              0           tf.__operators__.getitem[0][0]   \n",
            "                                                                 tf.__operators__.getitem_1[0][0] \n",
            "__________________________________________________________________________________________________\n",
            "tf.math.greater (TFOpLambda)    (None,)              0           tf.compat.v1.squeeze[0][0]       \n",
            "__________________________________________________________________________________________________\n",
            "tf.math.argmax (TFOpLambda)     (None,)              0           model_6[0][0]                    \n",
            "__________________________________________________________________________________________________\n",
            "tf.where (TFOpLambda)           (None,)              0           tf.math.greater_1[0][0]          \n",
            "__________________________________________________________________________________________________\n",
            "tf.where_1 (TFOpLambda)         (None,)              0           tf.math.greater[0][0]            \n",
            "                                                                 tf.math.argmax[0][0]             \n",
            "                                                                 tf.where[0][0]                   \n",
            "__________________________________________________________________________________________________\n",
            "tf.one_hot (TFOpLambda)         (None, 12)           0           tf.where_1[0][0]                 \n",
            "==================================================================================================\n",
            "Total params: 1,656,116\n",
            "Trainable params: 1,639,220\n",
            "Non-trainable params: 16,896\n",
            "__________________________________________________________________________________________________\n"
          ]
        }
      ]
    },
    {
      "cell_type": "code",
      "metadata": {
        "id": "Q_ADol7Qo07G",
        "colab": {
          "base_uri": "https://localhost:8080/",
          "height": 282
        },
        "outputId": "1e796784-4d5f-4293-a64d-64324edc2f0b"
      },
      "source": [
        "evaluate_ensemble(models_cat + (cat_ens, ens,),\n",
        "                  test_dataset, valid_dataset)"
      ],
      "execution_count": 27,
      "outputs": [
        {
          "output_type": "execute_result",
          "data": {
            "text/plain": [
              "[[45, 27], [48, 27], [51, 23], [42, 30], [40, 27], [59, 33]]"
            ]
          },
          "metadata": {},
          "execution_count": 27
        },
        {
          "output_type": "display_data",
          "data": {
            "image/png": "[encoded data removed]",
            "text/plain": [
              "<Figure size 936x288 with 1 Axes>"
            ]
          },
          "metadata": {
            "needs_background": "light"
          }
        }
      ]
    },
    {
      "cell_type": "code",
      "metadata": {
        "id": "82FeO4px4htt",
        "colab": {
          "base_uri": "https://localhost:8080/"
        },
        "outputId": "dda79a2f-2420-491f-9eeb-f762442101d8"
      },
      "source": [
        "matrix = tf.math.confusion_matrix(\n",
        "  list(test_dataset.map(lambda x, y: y)),\n",
        "  ens.predict(test_dataset.batch(4096)).argmax(axis=-1)).numpy()\n",
        "for r in matrix:\n",
        "  l = np.sum(r)\n",
        "  for i in r:\n",
        "    print(('%.2f' % (i / l)).replace('0.00', ' .  '), end = ' ')\n",
        "  print(\"|\", l)"
      ],
      "execution_count": 28,
      "outputs": [
        {
          "output_type": "stream",
          "name": "stdout",
          "text": [
            "0.99  .    .    .    .    .    .   0.01  .    .    .    .   | 315\n",
            " .   0.97  .    .    .    .    .    .    .   0.01 0.01  .   | 309\n",
            " .    .   0.99  .    .    .    .    .    .    .   0.01  .   | 304\n",
            " .    .    .   0.97  .    .    .    .    .    .   0.03  .   | 304\n",
            " .    .    .    .   0.99  .    .    .    .    .   0.01  .   | 310\n",
            " .    .    .    .    .   0.97  .    .    .    .   0.02  .   | 336\n",
            " .    .    .    .    .    .   1.00  .    .    .    .    .   | 249\n",
            " .    .    .    .    .    .    .   1.00  .    .    .    .   | 306\n",
            " .    .    .    .    .    .    .    .   1.00  .    .    .   | 298\n",
            " .    .    .    .    .   0.01  .    .    .   0.98 0.01  .   | 312\n",
            " .   0.01  .   0.01 0.01  .    .    .    .    .   0.97  .   | 365\n",
            " .    .    .    .    .    .    .    .    .    .    .   1.00 | 365\n"
          ]
        }
      ]
    },
    {
      "cell_type": "code",
      "metadata": {
        "id": "Y9xA2CduCZNh",
        "colab": {
          "base_uri": "https://localhost:8080/"
        },
        "outputId": "e37bc66f-24a6-49e3-ca53-ab61fdae606f"
      },
      "source": [
        "converter = tf.lite.TFLiteConverter.from_keras_model(ens)\n",
        "tflite_model = converter.convert()\n",
        "with open(\"_2ecnn47.tflite\", \"wb\") as f:\n",
        "  f.write(tflite_model)"
      ],
      "execution_count": 29,
      "outputs": [
        {
          "output_type": "stream",
          "name": "stdout",
          "text": [
            "WARNING:tensorflow:Compiled the loaded model, but the compiled metrics have yet to be built. `model.compile_metrics` will be empty until you train or evaluate the model.\n"
          ]
        },
        {
          "output_type": "stream",
          "name": "stderr",
          "text": [
            "WARNING:tensorflow:Compiled the loaded model, but the compiled metrics have yet to be built. `model.compile_metrics` will be empty until you train or evaluate the model.\n"
          ]
        },
        {
          "output_type": "stream",
          "name": "stdout",
          "text": [
            "INFO:tensorflow:Assets written to: /tmp/tmptnkb9rqi/assets\n"
          ]
        },
        {
          "output_type": "stream",
          "name": "stderr",
          "text": [
            "INFO:tensorflow:Assets written to: /tmp/tmptnkb9rqi/assets\n",
            "/usr/local/lib/python3.7/dist-packages/keras/utils/generic_utils.py:497: CustomMaskWarning: Custom mask layers require a config and must override get_config. When loading, the custom mask layer must be passed to the custom_objects argument.\n",
            "  category=CustomMaskWarning)\n"
          ]
        }
      ]
    },
    {
      "cell_type": "code",
      "metadata": {
        "id": "u3bNp1IZCZ_v",
        "colab": {
          "base_uri": "https://localhost:8080/"
        },
        "outputId": "ae1c44ef-26c1-4db5-cdca-f232ea801385"
      },
      "source": [
        "!md5sum '_2ecnn47.tflite'\n",
        "!mv '_2ecnn47.tflite' \"$KERAS_MODELS_ABSOLUTE_PATH\""
      ],
      "execution_count": 30,
      "outputs": [
        {
          "output_type": "stream",
          "name": "stdout",
          "text": [
            "f85c06ab82059f35b7b622c42a690247  _2ecnn47.tflite\n"
          ]
        }
      ]
    },
    {
      "cell_type": "code",
      "metadata": {
        "id": "ffiCBasYWAs9"
      },
      "source": [
        "def transfer_weights(dest, src):\n",
        "  for dest, src in zip(dest, src):\n",
        "    for layer in dest.layers:\n",
        "      if layer.get_weights():\n",
        "        print(\"Transfer weights for layer {}\".format(layer.name))\n",
        "        layer.set_weights(src.get_layer(name=layer.name).get_weights())"
      ],
      "execution_count": 31,
      "outputs": []
    },
    {
      "cell_type": "code",
      "metadata": {
        "colab": {
          "base_uri": "https://localhost:8080/"
        },
        "id": "HfQIakeYV6oD",
        "outputId": "6793fc01-37b5-47ca-8c39-347b0230e726"
      },
      "source": [
        "models_bin_str = build_ensemble(builders=models_builders_bin, streaming=True)\n",
        "transfer_weights(models_bin_str, models_bin)"
      ],
      "execution_count": 32,
      "outputs": [
        {
          "output_type": "stream",
          "name": "stdout",
          "text": [
            "Transfer weights for layer dense\n",
            "Transfer weights for layer batch_normalization_5\n",
            "Transfer weights for layer dense_1\n",
            "Transfer weights for layer batch_normalization_6\n",
            "Transfer weights for layer conv1d\n",
            "Transfer weights for layer conv1d_1\n",
            "Transfer weights for layer conv1d_2\n",
            "Transfer weights for layer conv1d_3\n",
            "Transfer weights for layer conv1d_4\n",
            "Transfer weights for layer batch_normalization\n",
            "Transfer weights for layer batch_normalization_1\n",
            "Transfer weights for layer batch_normalization_2\n",
            "Transfer weights for layer batch_normalization_3\n",
            "Transfer weights for layer batch_normalization_4\n",
            "Transfer weights for layer dense_2\n",
            "Transfer weights for layer dense\n",
            "Transfer weights for layer batch_normalization_5\n",
            "Transfer weights for layer dense_1\n",
            "Transfer weights for layer batch_normalization_6\n",
            "Transfer weights for layer conv1d\n",
            "Transfer weights for layer conv1d_1\n",
            "Transfer weights for layer conv1d_2\n",
            "Transfer weights for layer conv1d_3\n",
            "Transfer weights for layer conv1d_4\n",
            "Transfer weights for layer batch_normalization\n",
            "Transfer weights for layer batch_normalization_1\n",
            "Transfer weights for layer batch_normalization_2\n",
            "Transfer weights for layer batch_normalization_3\n",
            "Transfer weights for layer batch_normalization_4\n",
            "Transfer weights for layer dense_2\n",
            "Transfer weights for layer dense\n",
            "Transfer weights for layer batch_normalization_6\n",
            "Transfer weights for layer conv1d\n",
            "Transfer weights for layer batch_normalization\n",
            "Transfer weights for layer dense_1\n",
            "Transfer weights for layer batch_normalization_7\n",
            "Transfer weights for layer conv1d_1\n",
            "Transfer weights for layer conv1d_2\n",
            "Transfer weights for layer conv1d_3\n",
            "Transfer weights for layer conv1d_4\n",
            "Transfer weights for layer conv1d_5\n",
            "Transfer weights for layer batch_normalization_1\n",
            "Transfer weights for layer batch_normalization_2\n",
            "Transfer weights for layer batch_normalization_3\n",
            "Transfer weights for layer batch_normalization_4\n",
            "Transfer weights for layer batch_normalization_5\n",
            "Transfer weights for layer dense_2\n",
            "Transfer weights for layer dense\n",
            "Transfer weights for layer batch_normalization_6\n",
            "Transfer weights for layer conv1d\n",
            "Transfer weights for layer batch_normalization\n",
            "Transfer weights for layer dense_1\n",
            "Transfer weights for layer batch_normalization_7\n",
            "Transfer weights for layer conv1d_1\n",
            "Transfer weights for layer conv1d_2\n",
            "Transfer weights for layer conv1d_3\n",
            "Transfer weights for layer conv1d_4\n",
            "Transfer weights for layer conv1d_5\n",
            "Transfer weights for layer batch_normalization_1\n",
            "Transfer weights for layer batch_normalization_2\n",
            "Transfer weights for layer batch_normalization_3\n",
            "Transfer weights for layer batch_normalization_4\n",
            "Transfer weights for layer batch_normalization_5\n",
            "Transfer weights for layer dense_2\n"
          ]
        }
      ]
    },
    {
      "cell_type": "code",
      "metadata": {
        "colab": {
          "base_uri": "https://localhost:8080/"
        },
        "id": "5C51RqntYPEx",
        "outputId": "4f323135-aa47-4dee-9473-f7ccf236f61c"
      },
      "source": [
        "models_cat_str = build_ensemble(builders=models_builders_cat, streaming=True)\n",
        "transfer_weights(models_cat_str, models_cat)"
      ],
      "execution_count": 33,
      "outputs": [
        {
          "output_type": "stream",
          "name": "stdout",
          "text": [
            "Transfer weights for layer dense\n",
            "Transfer weights for layer batch_normalization_5\n",
            "Transfer weights for layer dense_1\n",
            "Transfer weights for layer batch_normalization_6\n",
            "Transfer weights for layer conv1d\n",
            "Transfer weights for layer conv1d_1\n",
            "Transfer weights for layer conv1d_2\n",
            "Transfer weights for layer conv1d_3\n",
            "Transfer weights for layer conv1d_4\n",
            "Transfer weights for layer batch_normalization\n",
            "Transfer weights for layer batch_normalization_1\n",
            "Transfer weights for layer batch_normalization_2\n",
            "Transfer weights for layer batch_normalization_3\n",
            "Transfer weights for layer batch_normalization_4\n",
            "Transfer weights for layer dense_2\n",
            "Transfer weights for layer dense\n",
            "Transfer weights for layer batch_normalization_5\n",
            "Transfer weights for layer dense_1\n",
            "Transfer weights for layer batch_normalization_6\n",
            "Transfer weights for layer conv1d\n",
            "Transfer weights for layer conv1d_1\n",
            "Transfer weights for layer conv1d_2\n",
            "Transfer weights for layer conv1d_3\n",
            "Transfer weights for layer conv1d_4\n",
            "Transfer weights for layer batch_normalization\n",
            "Transfer weights for layer batch_normalization_1\n",
            "Transfer weights for layer batch_normalization_2\n",
            "Transfer weights for layer batch_normalization_3\n",
            "Transfer weights for layer batch_normalization_4\n",
            "Transfer weights for layer dense_2\n",
            "Transfer weights for layer dense\n",
            "Transfer weights for layer batch_normalization_6\n",
            "Transfer weights for layer conv1d\n",
            "Transfer weights for layer batch_normalization\n",
            "Transfer weights for layer dense_1\n",
            "Transfer weights for layer batch_normalization_7\n",
            "Transfer weights for layer conv1d_1\n",
            "Transfer weights for layer conv1d_2\n",
            "Transfer weights for layer conv1d_3\n",
            "Transfer weights for layer conv1d_4\n",
            "Transfer weights for layer conv1d_5\n",
            "Transfer weights for layer batch_normalization_1\n",
            "Transfer weights for layer batch_normalization_2\n",
            "Transfer weights for layer batch_normalization_3\n",
            "Transfer weights for layer batch_normalization_4\n",
            "Transfer weights for layer batch_normalization_5\n",
            "Transfer weights for layer dense_2\n",
            "Transfer weights for layer dense\n",
            "Transfer weights for layer batch_normalization_6\n",
            "Transfer weights for layer conv1d\n",
            "Transfer weights for layer batch_normalization\n",
            "Transfer weights for layer dense_1\n",
            "Transfer weights for layer batch_normalization_7\n",
            "Transfer weights for layer conv1d_1\n",
            "Transfer weights for layer conv1d_2\n",
            "Transfer weights for layer conv1d_3\n",
            "Transfer weights for layer conv1d_4\n",
            "Transfer weights for layer conv1d_5\n",
            "Transfer weights for layer batch_normalization_1\n",
            "Transfer weights for layer batch_normalization_2\n",
            "Transfer weights for layer batch_normalization_3\n",
            "Transfer weights for layer batch_normalization_4\n",
            "Transfer weights for layer batch_normalization_5\n",
            "Transfer weights for layer dense_2\n"
          ]
        }
      ]
    },
    {
      "cell_type": "code",
      "metadata": {
        "colab": {
          "base_uri": "https://localhost:8080/"
        },
        "id": "cMf3QNgCEYwc",
        "outputId": "713cf00f-f229-4b8d-8396-1ec9c6b9ae78"
      },
      "source": [
        "bin_str_ens = build_ensemble(models=models_bin_str, activation='linear', streaming=True)\n",
        "cat_str_ens = build_ensemble(models=models_cat_str, activation='softmax', streaming=True)\n",
        "ens_str = build_ensemble(models=[bin_str_ens, cat_str_ens], streaming=True)\n",
        "ens_str.summary()"
      ],
      "execution_count": 34,
      "outputs": [
        {
          "output_type": "stream",
          "name": "stdout",
          "text": [
            "Model: \"model_12\"\n",
            "__________________________________________________________________________________________________\n",
            "Layer (type)                    Output Shape         Param #     Connected to                     \n",
            "==================================================================================================\n",
            "input_49 (InputLayer)           [(None, 1, 13)]      0                                            \n",
            "__________________________________________________________________________________________________\n",
            "input_70 (InputLayer)           [(None, 2, 128)]     0                                            \n",
            "__________________________________________________________________________________________________\n",
            "input_71 (InputLayer)           [(None, 3, 128)]     0                                            \n",
            "__________________________________________________________________________________________________\n",
            "input_72 (InputLayer)           [(None, 5, 128)]     0                                            \n",
            "__________________________________________________________________________________________________\n",
            "input_73 (InputLayer)           [(None, 9, 128)]     0                                            \n",
            "__________________________________________________________________________________________________\n",
            "input_74 (InputLayer)           [(None, 32, 128)]    0                                            \n",
            "__________________________________________________________________________________________________\n",
            "input_75 (InputLayer)           [(None, 2, 128)]     0                                            \n",
            "__________________________________________________________________________________________________\n",
            "input_76 (InputLayer)           [(None, 3, 128)]     0                                            \n",
            "__________________________________________________________________________________________________\n",
            "input_77 (InputLayer)           [(None, 5, 128)]     0                                            \n",
            "__________________________________________________________________________________________________\n",
            "input_78 (InputLayer)           [(None, 9, 128)]     0                                            \n",
            "__________________________________________________________________________________________________\n",
            "input_79 (InputLayer)           [(None, 32, 128)]    0                                            \n",
            "__________________________________________________________________________________________________\n",
            "input_80 (InputLayer)           [(None, 2, 128)]     0                                            \n",
            "__________________________________________________________________________________________________\n",
            "input_81 (InputLayer)           [(None, 3, 128)]     0                                            \n",
            "__________________________________________________________________________________________________\n",
            "input_82 (InputLayer)           [(None, 5, 128)]     0                                            \n",
            "__________________________________________________________________________________________________\n",
            "input_83 (InputLayer)           [(None, 9, 128)]     0                                            \n",
            "__________________________________________________________________________________________________\n",
            "input_84 (InputLayer)           [(None, 32, 128)]    0                                            \n",
            "__________________________________________________________________________________________________\n",
            "input_85 (InputLayer)           [(None, 2, 128)]     0                                            \n",
            "__________________________________________________________________________________________________\n",
            "input_86 (InputLayer)           [(None, 3, 128)]     0                                            \n",
            "__________________________________________________________________________________________________\n",
            "input_87 (InputLayer)           [(None, 5, 128)]     0                                            \n",
            "__________________________________________________________________________________________________\n",
            "input_88 (InputLayer)           [(None, 9, 128)]     0                                            \n",
            "__________________________________________________________________________________________________\n",
            "input_89 (InputLayer)           [(None, 32, 128)]    0                                            \n",
            "__________________________________________________________________________________________________\n",
            "input_50 (InputLayer)           [(None, 2, 128)]     0                                            \n",
            "__________________________________________________________________________________________________\n",
            "input_51 (InputLayer)           [(None, 3, 128)]     0                                            \n",
            "__________________________________________________________________________________________________\n",
            "input_52 (InputLayer)           [(None, 5, 128)]     0                                            \n",
            "__________________________________________________________________________________________________\n",
            "input_53 (InputLayer)           [(None, 9, 128)]     0                                            \n",
            "__________________________________________________________________________________________________\n",
            "input_54 (InputLayer)           [(None, 32, 128)]    0                                            \n",
            "__________________________________________________________________________________________________\n",
            "input_55 (InputLayer)           [(None, 2, 128)]     0                                            \n",
            "__________________________________________________________________________________________________\n",
            "input_56 (InputLayer)           [(None, 3, 128)]     0                                            \n",
            "__________________________________________________________________________________________________\n",
            "input_57 (InputLayer)           [(None, 5, 128)]     0                                            \n",
            "__________________________________________________________________________________________________\n",
            "input_58 (InputLayer)           [(None, 9, 128)]     0                                            \n",
            "__________________________________________________________________________________________________\n",
            "input_59 (InputLayer)           [(None, 32, 128)]    0                                            \n",
            "__________________________________________________________________________________________________\n",
            "input_60 (InputLayer)           [(None, 2, 128)]     0                                            \n",
            "__________________________________________________________________________________________________\n",
            "input_61 (InputLayer)           [(None, 3, 128)]     0                                            \n",
            "__________________________________________________________________________________________________\n",
            "input_62 (InputLayer)           [(None, 5, 128)]     0                                            \n",
            "__________________________________________________________________________________________________\n",
            "input_63 (InputLayer)           [(None, 9, 128)]     0                                            \n",
            "__________________________________________________________________________________________________\n",
            "input_64 (InputLayer)           [(None, 32, 128)]    0                                            \n",
            "__________________________________________________________________________________________________\n",
            "input_65 (InputLayer)           [(None, 2, 128)]     0                                            \n",
            "__________________________________________________________________________________________________\n",
            "input_66 (InputLayer)           [(None, 3, 128)]     0                                            \n",
            "__________________________________________________________________________________________________\n",
            "input_67 (InputLayer)           [(None, 5, 128)]     0                                            \n",
            "__________________________________________________________________________________________________\n",
            "input_68 (InputLayer)           [(None, 9, 128)]     0                                            \n",
            "__________________________________________________________________________________________________\n",
            "input_69 (InputLayer)           [(None, 32, 128)]    0                                            \n",
            "__________________________________________________________________________________________________\n",
            "model_11 (Functional)           [(None, 12), (None,  830896      input_49[0][0]                   \n",
            "                                                                 input_70[0][0]                   \n",
            "                                                                 input_71[0][0]                   \n",
            "                                                                 input_72[0][0]                   \n",
            "                                                                 input_73[0][0]                   \n",
            "                                                                 input_74[0][0]                   \n",
            "                                                                 input_75[0][0]                   \n",
            "                                                                 input_76[0][0]                   \n",
            "                                                                 input_77[0][0]                   \n",
            "                                                                 input_78[0][0]                   \n",
            "                                                                 input_79[0][0]                   \n",
            "                                                                 input_80[0][0]                   \n",
            "                                                                 input_81[0][0]                   \n",
            "                                                                 input_82[0][0]                   \n",
            "                                                                 input_83[0][0]                   \n",
            "                                                                 input_84[0][0]                   \n",
            "                                                                 input_85[0][0]                   \n",
            "                                                                 input_86[0][0]                   \n",
            "                                                                 input_87[0][0]                   \n",
            "                                                                 input_88[0][0]                   \n",
            "                                                                 input_89[0][0]                   \n",
            "__________________________________________________________________________________________________\n",
            "model_10 (Functional)           [(None, 1), (None, 1 825220      input_49[0][0]                   \n",
            "                                                                 input_50[0][0]                   \n",
            "                                                                 input_51[0][0]                   \n",
            "                                                                 input_52[0][0]                   \n",
            "                                                                 input_53[0][0]                   \n",
            "                                                                 input_54[0][0]                   \n",
            "                                                                 input_55[0][0]                   \n",
            "                                                                 input_56[0][0]                   \n",
            "                                                                 input_57[0][0]                   \n",
            "                                                                 input_58[0][0]                   \n",
            "                                                                 input_59[0][0]                   \n",
            "                                                                 input_60[0][0]                   \n",
            "                                                                 input_61[0][0]                   \n",
            "                                                                 input_62[0][0]                   \n",
            "                                                                 input_63[0][0]                   \n",
            "                                                                 input_64[0][0]                   \n",
            "                                                                 input_65[0][0]                   \n",
            "                                                                 input_66[0][0]                   \n",
            "                                                                 input_67[0][0]                   \n",
            "                                                                 input_68[0][0]                   \n",
            "                                                                 input_69[0][0]                   \n",
            "__________________________________________________________________________________________________\n",
            "tf.__operators__.getitem (Slici (None,)              0           model_11[0][0]                   \n",
            "__________________________________________________________________________________________________\n",
            "tf.__operators__.getitem_1 (Sli (None,)              0           model_11[0][0]                   \n",
            "__________________________________________________________________________________________________\n",
            "tf.compat.v1.squeeze (TFOpLambd (None,)              0           model_10[0][0]                   \n",
            "__________________________________________________________________________________________________\n",
            "tf.math.greater_1 (TFOpLambda)  (None,)              0           tf.__operators__.getitem[0][0]   \n",
            "                                                                 tf.__operators__.getitem_1[0][0] \n",
            "__________________________________________________________________________________________________\n",
            "tf.math.greater (TFOpLambda)    (None,)              0           tf.compat.v1.squeeze[0][0]       \n",
            "__________________________________________________________________________________________________\n",
            "tf.math.argmax (TFOpLambda)     (None,)              0           model_11[0][0]                   \n",
            "__________________________________________________________________________________________________\n",
            "tf.where (TFOpLambda)           (None,)              0           tf.math.greater_1[0][0]          \n",
            "__________________________________________________________________________________________________\n",
            "tf.where_1 (TFOpLambda)         (None,)              0           tf.math.greater[0][0]            \n",
            "                                                                 tf.math.argmax[0][0]             \n",
            "                                                                 tf.where[0][0]                   \n",
            "__________________________________________________________________________________________________\n",
            "tf.one_hot (TFOpLambda)         (None, 12)           0           tf.where_1[0][0]                 \n",
            "==================================================================================================\n",
            "Total params: 1,656,116\n",
            "Trainable params: 1,639,220\n",
            "Non-trainable params: 16,896\n",
            "__________________________________________________________________________________________________\n"
          ]
        }
      ]
    },
    {
      "cell_type": "code",
      "metadata": {
        "colab": {
          "base_uri": "https://localhost:8080/"
        },
        "id": "_osefPcMYmgD",
        "outputId": "cddf9fff-39bb-4d18-febc-42e04853ee84"
      },
      "source": [
        "converter = tf.lite.TFLiteConverter.from_keras_model(ens_str)\n",
        "tflite_model = converter.convert()\n",
        "with open(\"2ecnn13.tflite\", \"wb\") as f:\n",
        "  f.write(tflite_model)"
      ],
      "execution_count": 35,
      "outputs": [
        {
          "output_type": "stream",
          "name": "stdout",
          "text": [
            "WARNING:tensorflow:Compiled the loaded model, but the compiled metrics have yet to be built. `model.compile_metrics` will be empty until you train or evaluate the model.\n"
          ]
        },
        {
          "output_type": "stream",
          "name": "stderr",
          "text": [
            "WARNING:tensorflow:Compiled the loaded model, but the compiled metrics have yet to be built. `model.compile_metrics` will be empty until you train or evaluate the model.\n"
          ]
        },
        {
          "output_type": "stream",
          "name": "stdout",
          "text": [
            "INFO:tensorflow:Assets written to: /tmp/tmp836r2rvf/assets\n"
          ]
        },
        {
          "output_type": "stream",
          "name": "stderr",
          "text": [
            "INFO:tensorflow:Assets written to: /tmp/tmp836r2rvf/assets\n",
            "/usr/local/lib/python3.7/dist-packages/keras/utils/generic_utils.py:497: CustomMaskWarning: Custom mask layers require a config and must override get_config. When loading, the custom mask layer must be passed to the custom_objects argument.\n",
            "  category=CustomMaskWarning)\n"
          ]
        }
      ]
    },
    {
      "cell_type": "code",
      "metadata": {
        "colab": {
          "base_uri": "https://localhost:8080/"
        },
        "id": "YkxrCu4kYyFC",
        "outputId": "20fef3ba-bf8e-4755-fb6e-6c4c93ad1fc1"
      },
      "source": [
        "!md5sum '2ecnn13.tflite'\n",
        "!mv '2ecnn13.tflite' \"$KERAS_MODELS_ABSOLUTE_PATH\""
      ],
      "execution_count": 36,
      "outputs": [
        {
          "output_type": "stream",
          "name": "stdout",
          "text": [
            "a0f735910f0c4e7b6f9e995cbd806824  2ecnn13.tflite\n"
          ]
        }
      ]
    }
  ]
}