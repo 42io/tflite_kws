{
  "nbformat": 4,
  "nbformat_minor": 0,
  "metadata": {
    "colab": {
      "name": "dcnn47.ipynb",
      "provenance": [],
      "collapsed_sections": [],
      "machine_shape": "hm"
    },
    "kernelspec": {
      "name": "python3",
      "display_name": "Python 3"
    },
    "accelerator": "GPU"
  },
  "cells": [
    {
      "cell_type": "code",
      "metadata": {
        "id": "qwY3lBm83jqO",
        "outputId": "6e564b6b-ee02-4749-857a-2646e82f460c",
        "colab": {
          "base_uri": "https://localhost:8080/",
          "height": 364
        }
      },
      "source": [
        "!nvidia-smi"
      ],
      "execution_count": null,
      "outputs": [
        {
          "output_type": "stream",
          "text": [
            "Sun Oct 11 04:53:10 2020       \n",
            "+-----------------------------------------------------------------------------+\n",
            "| NVIDIA-SMI 455.23.05    Driver Version: 418.67       CUDA Version: 10.1     |\n",
            "|-------------------------------+----------------------+----------------------+\n",
            "| GPU  Name        Persistence-M| Bus-Id        Disp.A | Volatile Uncorr. ECC |\n",
            "| Fan  Temp  Perf  Pwr:Usage/Cap|         Memory-Usage | GPU-Util  Compute M. |\n",
            "|                               |                      |               MIG M. |\n",
            "|===============================+======================+======================|\n",
            "|   0  Tesla P100-PCIE...  Off  | 00000000:00:04.0 Off |                    0 |\n",
            "| N/A   35C    P0    26W / 250W |      0MiB / 16280MiB |      0%      Default |\n",
            "|                               |                      |                 ERR! |\n",
            "+-------------------------------+----------------------+----------------------+\n",
            "                                                                               \n",
            "+-----------------------------------------------------------------------------+\n",
            "| Processes:                                                                  |\n",
            "|  GPU   GI   CI        PID   Type   Process name                  GPU Memory |\n",
            "|        ID   ID                                                   Usage      |\n",
            "|=============================================================================|\n",
            "|  No running processes found                                                 |\n",
            "+-----------------------------------------------------------------------------+\n"
          ],
          "name": "stdout"
        }
      ]
    },
    {
      "cell_type": "code",
      "metadata": {
        "id": "5T3UOLCpGUmg",
        "outputId": "0386bb08-2d38-42dc-ec8a-d8eefc1ca341",
        "colab": {
          "base_uri": "https://localhost:8080/",
          "height": 34
        }
      },
      "source": [
        "%tensorflow_version 2.x\n",
        "import matplotlib.pyplot as plt\n",
        "import numpy as np\n",
        "from tensorflow import keras\n",
        "import tensorflow as tf\n",
        "print(tf.__version__)"
      ],
      "execution_count": null,
      "outputs": [
        {
          "output_type": "stream",
          "text": [
            "2.3.0\n"
          ],
          "name": "stdout"
        }
      ]
    },
    {
      "cell_type": "code",
      "metadata": {
        "id": "l_6NYiKJ7qzN"
      },
      "source": [
        "# https://github.com/42io/dataset/tree/master/google_speech_commands\n",
        "DATASET_FILE = '1NgIw6JrdjDcRhnAxbheqtAcV5Fr-wUJu' # 0-9up.npz"
      ],
      "execution_count": null,
      "outputs": []
    },
    {
      "cell_type": "code",
      "metadata": {
        "id": "J4KjyC2X_ZyQ",
        "outputId": "1a311061-099b-427e-f30f-d0b7795c5b70",
        "colab": {
          "base_uri": "https://localhost:8080/",
          "height": 86
        }
      },
      "source": [
        "!test -f \"$DATASET_FILE\" || gdown --id \"$DATASET_FILE\" -O \"$DATASET_FILE\""
      ],
      "execution_count": null,
      "outputs": [
        {
          "output_type": "stream",
          "text": [
            "Downloading...\n",
            "From: https://drive.google.com/uc?id=1NgIw6JrdjDcRhnAxbheqtAcV5Fr-wUJu\n",
            "To: /content/1NgIw6JrdjDcRhnAxbheqtAcV5Fr-wUJu\n",
            "2.59GB [00:28, 89.5MB/s]\n"
          ],
          "name": "stdout"
        }
      ]
    },
    {
      "cell_type": "code",
      "metadata": {
        "id": "kIdWKJAOu_p9"
      },
      "source": [
        "md5 = !md5sum \"$DATASET_FILE\"\n",
        "assert '54821a74684e7bbb9b3acd853960d9cd' == md5[0].split()[0]"
      ],
      "execution_count": null,
      "outputs": []
    },
    {
      "cell_type": "code",
      "metadata": {
        "id": "b7CYwmbKGb0h",
        "outputId": "f1374bb6-c80c-45a6-eb7b-2b1f5b4afca4",
        "colab": {
          "base_uri": "https://localhost:8080/",
          "height": 34
        }
      },
      "source": [
        "dset = np.load(DATASET_FILE)\n",
        "print(dset['x_train'].shape)"
      ],
      "execution_count": null,
      "outputs": [
        {
          "output_type": "stream",
          "text": [
            "(1095480, 637)\n"
          ],
          "name": "stdout"
        }
      ]
    },
    {
      "cell_type": "code",
      "metadata": {
        "id": "tus9FNQ1pYnO"
      },
      "source": [
        "x_train, x_test, x_valid = (\n",
        "    dset[i].reshape(-1, 49, 13)[:,1:-1]\n",
        "    for i in ['x_train', 'x_test', 'x_valid']\n",
        ")\n",
        "y_train = dset['y_train']\n",
        "y_test  = dset['y_test']\n",
        "y_valid = dset['y_valid']"
      ],
      "execution_count": null,
      "outputs": []
    },
    {
      "cell_type": "code",
      "metadata": {
        "id": "Xcj5MHTAKYwv"
      },
      "source": [
        "def spectrogram_masking(spectrogram, dim=1, masks_number=2, mask_max_size=5):\n",
        "  \"\"\"Spectrogram masking on frequency or time dimension.\n",
        "  Args:\n",
        "    spectrogram: Input spectrum [batch, time, frequency]\n",
        "    dim: dimension on which masking will be applied: 1 - time; 2 - frequency\n",
        "    masks_number: number of masks\n",
        "    mask_max_size: mask max size\n",
        "  Returns:\n",
        "    masked spectrogram\n",
        "  \"\"\"\n",
        "  if dim not in (1, 2):\n",
        "    raise ValueError('Wrong dim value: %d' % dim)\n",
        "  input_shape = spectrogram.shape\n",
        "  time_size, frequency_size = input_shape[1:3]\n",
        "  dim_size = input_shape[dim]  # size of dimension on which mask is applied\n",
        "  stripe_shape = [1, time_size, frequency_size]\n",
        "  for _ in range(masks_number):\n",
        "    mask_end = tf.random.uniform([], 0, mask_max_size, tf.int32)\n",
        "    mask_start = tf.random.uniform([], 0, dim_size - mask_end, tf.int32)\n",
        "\n",
        "    # initialize stripes with stripe_shape\n",
        "    stripe_ones_left = list(stripe_shape)\n",
        "    stripe_zeros_center = list(stripe_shape)\n",
        "    stripe_ones_right = list(stripe_shape)\n",
        "\n",
        "    # update stripes dim\n",
        "    stripe_ones_left[dim] = dim_size - mask_start - mask_end\n",
        "    stripe_zeros_center[dim] = mask_end\n",
        "    stripe_ones_right[dim] = mask_start\n",
        "\n",
        "    # generate mask\n",
        "    mask = tf.concat((\n",
        "        tf.ones(stripe_ones_left, spectrogram.dtype),\n",
        "        tf.zeros(stripe_zeros_center, spectrogram.dtype),\n",
        "        tf.ones(stripe_ones_right, spectrogram.dtype),\n",
        "    ), dim)\n",
        "    spectrogram = spectrogram * mask\n",
        "  return spectrogram"
      ],
      "execution_count": null,
      "outputs": []
    },
    {
      "cell_type": "code",
      "metadata": {
        "id": "kjLWG3zlMNgV"
      },
      "source": [
        "plt.rc('figure', figsize=(13, 4))"
      ],
      "execution_count": null,
      "outputs": []
    },
    {
      "cell_type": "code",
      "metadata": {
        "id": "5HrYYxMxO98s",
        "outputId": "dd0bea25-9d14-4433-9254-2732337a9633",
        "colab": {
          "base_uri": "https://localhost:8080/",
          "height": 266
        }
      },
      "source": [
        "plt.imshow(x_train[0].T)"
      ],
      "execution_count": null,
      "outputs": [
        {
          "output_type": "execute_result",
          "data": {
            "text/plain": [
              "<matplotlib.image.AxesImage at 0x7fbcbf41b2e8>"
            ]
          },
          "metadata": {
            "tags": []
          },
          "execution_count": 11
        },
        {
          "output_type": "display_data",
          "data": {
            "image/png": "[encoded data removed]",
            "text/plain": [
              "<Figure size 936x288 with 1 Axes>"
            ]
          },
          "metadata": {
            "tags": [],
            "needs_background": "light"
          }
        }
      ]
    },
    {
      "cell_type": "code",
      "metadata": {
        "id": "Qd7LudpySbAw",
        "outputId": "bb90fa82-692e-4000-de33-ae5a66d1f8bb",
        "colab": {
          "base_uri": "https://localhost:8080/",
          "height": 266
        }
      },
      "source": [
        "plt.imshow(spectrogram_masking(x_train[0:1], 1, 3, 3).numpy()[0].T)"
      ],
      "execution_count": null,
      "outputs": [
        {
          "output_type": "execute_result",
          "data": {
            "text/plain": [
              "<matplotlib.image.AxesImage at 0x7fbcbeef3a90>"
            ]
          },
          "metadata": {
            "tags": []
          },
          "execution_count": 12
        },
        {
          "output_type": "display_data",
          "data": {
            "image/png": "[encoded data removed]",
            "text/plain": [
              "<Figure size 936x288 with 1 Axes>"
            ]
          },
          "metadata": {
            "tags": [],
            "needs_background": "light"
          }
        }
      ]
    },
    {
      "cell_type": "code",
      "metadata": {
        "id": "IoN9JdEvTRFm",
        "outputId": "da2f34fb-2abd-40e6-811f-533716e347f2",
        "colab": {
          "base_uri": "https://localhost:8080/",
          "height": 266
        }
      },
      "source": [
        "plt.imshow(spectrogram_masking(x_train[0:1], 2, 2, 2).numpy()[0].T)"
      ],
      "execution_count": null,
      "outputs": [
        {
          "output_type": "execute_result",
          "data": {
            "text/plain": [
              "<matplotlib.image.AxesImage at 0x7fbcb0456b70>"
            ]
          },
          "metadata": {
            "tags": []
          },
          "execution_count": 13
        },
        {
          "output_type": "display_data",
          "data": {
            "image/png": "[encoded data removed]",
            "text/plain": [
              "<Figure size 936x288 with 1 Axes>"
            ]
          },
          "metadata": {
            "tags": [],
            "needs_background": "light"
          }
        }
      ]
    },
    {
      "cell_type": "code",
      "metadata": {
        "id": "O1qBLgZrFhOa"
      },
      "source": [
        "train_dataset = tf.data.Dataset.from_tensor_slices((x_train, y_train))\n",
        "train_dataset = train_dataset.shuffle(len(x_train))\n",
        "train_dataset = train_dataset.batch(128)\n",
        "train_dataset = train_dataset.map(lambda x, y: (spectrogram_masking(x, 1, 3, 3), y))\n",
        "train_dataset = train_dataset.map(lambda x, y: (spectrogram_masking(x, 2, 2, 2), y))"
      ],
      "execution_count": null,
      "outputs": []
    },
    {
      "cell_type": "code",
      "metadata": {
        "id": "A8bILLvdZxH0",
        "outputId": "5eaa9398-ecb9-4b85-cb85-6b942b3419f3",
        "colab": {
          "base_uri": "https://localhost:8080/",
          "height": 266
        }
      },
      "source": [
        "plt.imshow(list(train_dataset.take(1))[0][0][0].numpy().T)"
      ],
      "execution_count": null,
      "outputs": [
        {
          "output_type": "execute_result",
          "data": {
            "text/plain": [
              "<matplotlib.image.AxesImage at 0x7fbcb0349e80>"
            ]
          },
          "metadata": {
            "tags": []
          },
          "execution_count": 15
        },
        {
          "output_type": "display_data",
          "data": {
            "image/png": "[encoded data removed]",
            "text/plain": [
              "<Figure size 936x288 with 1 Axes>"
            ]
          },
          "metadata": {
            "tags": [],
            "needs_background": "light"
          }
        }
      ]
    },
    {
      "cell_type": "code",
      "metadata": {
        "id": "hP5H5d2z_SpG",
        "outputId": "d24b4c43-cfa1-460f-ff04-993f94d150b7",
        "colab": {
          "base_uri": "https://localhost:8080/",
          "height": 1000
        }
      },
      "source": [
        "x = x_in = keras.Input(shape=(47, 13))\n",
        "\n",
        "x = keras.layers.Conv1D(128, 1, padding=\"same\", use_bias=False)(x)\n",
        "x = keras.layers.BatchNormalization()(x)\n",
        "x = keras.layers.ReLU()(x)\n",
        "x = keras.layers.SpatialDropout1D(0.1)(x)\n",
        "\n",
        "for p, f in zip([2, 2, 2, 6], [128, 128, 128, 128]):\n",
        "  x = keras.layers.SeparableConv1D(f, 3, padding=\"same\", use_bias=False)(x)\n",
        "  x = keras.layers.BatchNormalization()(x)\n",
        "  x = keras.layers.ReLU()(x)\n",
        "  x = keras.layers.SpatialDropout1D(f / 1280.0)(x)\n",
        "  x = keras.layers.AveragePooling1D(p, padding=\"same\")(x)\n",
        "\n",
        "x = keras.layers.Flatten()(x)\n",
        "\n",
        "x = keras.layers.Dense(128, use_bias=False)(x)\n",
        "x = keras.layers.BatchNormalization()(x)\n",
        "x = keras.layers.ReLU()(x)\n",
        "x = keras.layers.Dropout(0.1)(x)\n",
        "\n",
        "x = keras.layers.Dense(128, use_bias=False)(x)\n",
        "x = keras.layers.BatchNormalization()(x)\n",
        "x = keras.layers.ReLU()(x)\n",
        "x = keras.layers.Dropout(0.1)(x)\n",
        "\n",
        "x = keras.layers.Dense(12, activation='softmax')(x)\n",
        "\n",
        "model = keras.Model(inputs=x_in, outputs=x)\n",
        "\n",
        "model.summary()\n",
        "\n",
        "model.compile(loss=keras.losses.sparse_categorical_crossentropy,\n",
        "              optimizer=keras.optimizers.Adam(),\n",
        "              metrics=['accuracy'])"
      ],
      "execution_count": null,
      "outputs": [
        {
          "output_type": "stream",
          "text": [
            "Model: \"functional_1\"\n",
            "_________________________________________________________________\n",
            "Layer (type)                 Output Shape              Param #   \n",
            "=================================================================\n",
            "input_1 (InputLayer)         [(None, 47, 13)]          0         \n",
            "_________________________________________________________________\n",
            "conv1d (Conv1D)              (None, 47, 128)           1664      \n",
            "_________________________________________________________________\n",
            "batch_normalization (BatchNo (None, 47, 128)           512       \n",
            "_________________________________________________________________\n",
            "re_lu (ReLU)                 (None, 47, 128)           0         \n",
            "_________________________________________________________________\n",
            "spatial_dropout1d (SpatialDr (None, 47, 128)           0         \n",
            "_________________________________________________________________\n",
            "separable_conv1d (SeparableC (None, 47, 128)           16768     \n",
            "_________________________________________________________________\n",
            "batch_normalization_1 (Batch (None, 47, 128)           512       \n",
            "_________________________________________________________________\n",
            "re_lu_1 (ReLU)               (None, 47, 128)           0         \n",
            "_________________________________________________________________\n",
            "spatial_dropout1d_1 (Spatial (None, 47, 128)           0         \n",
            "_________________________________________________________________\n",
            "average_pooling1d (AveragePo (None, 24, 128)           0         \n",
            "_________________________________________________________________\n",
            "separable_conv1d_1 (Separabl (None, 24, 128)           16768     \n",
            "_________________________________________________________________\n",
            "batch_normalization_2 (Batch (None, 24, 128)           512       \n",
            "_________________________________________________________________\n",
            "re_lu_2 (ReLU)               (None, 24, 128)           0         \n",
            "_________________________________________________________________\n",
            "spatial_dropout1d_2 (Spatial (None, 24, 128)           0         \n",
            "_________________________________________________________________\n",
            "average_pooling1d_1 (Average (None, 12, 128)           0         \n",
            "_________________________________________________________________\n",
            "separable_conv1d_2 (Separabl (None, 12, 128)           16768     \n",
            "_________________________________________________________________\n",
            "batch_normalization_3 (Batch (None, 12, 128)           512       \n",
            "_________________________________________________________________\n",
            "re_lu_3 (ReLU)               (None, 12, 128)           0         \n",
            "_________________________________________________________________\n",
            "spatial_dropout1d_3 (Spatial (None, 12, 128)           0         \n",
            "_________________________________________________________________\n",
            "average_pooling1d_2 (Average (None, 6, 128)            0         \n",
            "_________________________________________________________________\n",
            "separable_conv1d_3 (Separabl (None, 6, 128)            16768     \n",
            "_________________________________________________________________\n",
            "batch_normalization_4 (Batch (None, 6, 128)            512       \n",
            "_________________________________________________________________\n",
            "re_lu_4 (ReLU)               (None, 6, 128)            0         \n",
            "_________________________________________________________________\n",
            "spatial_dropout1d_4 (Spatial (None, 6, 128)            0         \n",
            "_________________________________________________________________\n",
            "average_pooling1d_3 (Average (None, 1, 128)            0         \n",
            "_________________________________________________________________\n",
            "flatten (Flatten)            (None, 128)               0         \n",
            "_________________________________________________________________\n",
            "dense (Dense)                (None, 128)               16384     \n",
            "_________________________________________________________________\n",
            "batch_normalization_5 (Batch (None, 128)               512       \n",
            "_________________________________________________________________\n",
            "re_lu_5 (ReLU)               (None, 128)               0         \n",
            "_________________________________________________________________\n",
            "dropout (Dropout)            (None, 128)               0         \n",
            "_________________________________________________________________\n",
            "dense_1 (Dense)              (None, 128)               16384     \n",
            "_________________________________________________________________\n",
            "batch_normalization_6 (Batch (None, 128)               512       \n",
            "_________________________________________________________________\n",
            "re_lu_6 (ReLU)               (None, 128)               0         \n",
            "_________________________________________________________________\n",
            "dropout_1 (Dropout)          (None, 128)               0         \n",
            "_________________________________________________________________\n",
            "dense_2 (Dense)              (None, 12)                1548      \n",
            "=================================================================\n",
            "Total params: 106,636\n",
            "Trainable params: 104,844\n",
            "Non-trainable params: 1,792\n",
            "_________________________________________________________________\n"
          ],
          "name": "stdout"
        }
      ]
    },
    {
      "cell_type": "code",
      "metadata": {
        "id": "2mZMarEqIHF1"
      },
      "source": [
        "early_stopping = keras.callbacks.EarlyStopping(\n",
        "        monitor='val_loss',\n",
        "        mode='min',\n",
        "        verbose=1,\n",
        "        patience=200,\n",
        "        restore_best_weights=True)\n",
        "\n",
        "history = model.fit(train_dataset,\n",
        "                    validation_data=(x_valid, y_valid),\n",
        "                    callbacks=[early_stopping],\n",
        "                    verbose=2,\n",
        "                    epochs=100500)"
      ],
      "execution_count": null,
      "outputs": []
    },
    {
      "cell_type": "code",
      "metadata": {
        "id": "MpFpu5bZeYj4",
        "outputId": "1b168468-072b-40c4-ebcf-b2a1b18e3bbe",
        "colab": {
          "base_uri": "https://localhost:8080/",
          "height": 590
        }
      },
      "source": [
        "print(history.history.keys())\n",
        "\n",
        "# Plot training & validation accuracy values\n",
        "plt.plot(history.history['accuracy'])\n",
        "plt.plot(history.history['val_accuracy'])\n",
        "plt.title('Model accuracy')\n",
        "plt.ylabel('Accuracy')\n",
        "plt.xlabel('Epoch')\n",
        "plt.legend(['Train', 'Valid'], loc='lower right')\n",
        "plt.show()\n",
        "\n",
        "# Plot training & validation loss values\n",
        "plt.plot(history.history['loss'])\n",
        "plt.plot(history.history['val_loss'])\n",
        "plt.title('Model loss')\n",
        "plt.ylabel('Loss')\n",
        "plt.xlabel('Epoch')\n",
        "plt.legend(['Train', 'Valid'], loc='upper right')\n",
        "plt.show()"
      ],
      "execution_count": null,
      "outputs": [
        {
          "output_type": "stream",
          "text": [
            "dict_keys(['loss', 'accuracy', 'val_loss', 'val_accuracy'])\n"
          ],
          "name": "stdout"
        },
        {
          "output_type": "display_data",
          "data": {
            "image/png": "[encoded data removed]",
            "text/plain": [
              "<Figure size 936x288 with 1 Axes>"
            ]
          },
          "metadata": {
            "tags": [],
            "needs_background": "light"
          }
        },
        {
          "output_type": "display_data",
          "data": {
            "image/png": "[encoded data removed]",
            "text/plain": [
              "<Figure size 936x288 with 1 Axes>"
            ]
          },
          "metadata": {
            "tags": [],
            "needs_background": "light"
          }
        }
      ]
    },
    {
      "cell_type": "code",
      "metadata": {
        "id": "PRNTkY9zZlUA",
        "outputId": "8e0c3bfe-ae24-4822-aaa1-65e491392181",
        "colab": {
          "base_uri": "https://localhost:8080/",
          "height": 69
        }
      },
      "source": [
        "results = model.evaluate(x_train, y_train, verbose=0)\n",
        "print('train loss, train acc:', results)\n",
        "\n",
        "results = model.evaluate(x_test, y_test, verbose=0)\n",
        "print('test loss, test acc:', results)\n",
        "\n",
        "results = model.evaluate(x_valid, y_valid, verbose=0)\n",
        "print('valid loss, valid acc:', results)"
      ],
      "execution_count": null,
      "outputs": [
        {
          "output_type": "stream",
          "text": [
            "train loss, train acc: [0.01586507447063923, 0.9950231909751892]\n",
            "test loss, test acc: [0.05184849351644516, 0.9851577281951904]\n",
            "valid loss, valid acc: [0.034315578639507294, 0.9902018904685974]\n"
          ],
          "name": "stdout"
        }
      ]
    },
    {
      "cell_type": "code",
      "metadata": {
        "id": "7JE3mAdnX8MW",
        "outputId": "3d9e17fe-548a-4704-cedd-b34391d08920",
        "colab": {
          "base_uri": "https://localhost:8080/",
          "height": 52
        }
      },
      "source": [
        "assert(len(x_test) + len(x_valid) == 7141)\n",
        "pred = model.predict(x_test).argmax(axis=-1)\n",
        "print(np.sum(pred != y_test), len(pred))\n",
        "pred = model.predict(x_valid).argmax(axis=-1)\n",
        "print(np.sum(pred != y_valid), len(pred))"
      ],
      "execution_count": null,
      "outputs": [
        {
          "output_type": "stream",
          "text": [
            "56 3773\n",
            "33 3368\n"
          ],
          "name": "stdout"
        }
      ]
    },
    {
      "cell_type": "code",
      "metadata": {
        "id": "mZIW5naa6_vB",
        "outputId": "c9826fc8-3e49-437b-b671-bfe71c8a6029",
        "colab": {
          "base_uri": "https://localhost:8080/",
          "height": 159
        }
      },
      "source": [
        "converter = tf.lite.TFLiteConverter.from_keras_model(model)\n",
        "tflite_model = converter.convert()\n",
        "with open(\"dcnn.tflite\", \"wb\") as f:\n",
        "  f.write(tflite_model)"
      ],
      "execution_count": null,
      "outputs": [
        {
          "output_type": "stream",
          "text": [
            "WARNING:tensorflow:From /usr/local/lib/python3.6/dist-packages/tensorflow/python/training/tracking/tracking.py:111: Model.state_updates (from tensorflow.python.keras.engine.training) is deprecated and will be removed in a future version.\n",
            "Instructions for updating:\n",
            "This property should not be used in TensorFlow 2.0, as updates are applied automatically.\n",
            "WARNING:tensorflow:From /usr/local/lib/python3.6/dist-packages/tensorflow/python/training/tracking/tracking.py:111: Layer.updates (from tensorflow.python.keras.engine.base_layer) is deprecated and will be removed in a future version.\n",
            "Instructions for updating:\n",
            "This property should not be used in TensorFlow 2.0, as updates are applied automatically.\n",
            "INFO:tensorflow:Assets written to: /tmp/tmp4epezhdl/assets\n"
          ],
          "name": "stdout"
        }
      ]
    },
    {
      "cell_type": "code",
      "metadata": {
        "id": "poOpt-k7ftvy"
      },
      "source": [
        "from google.colab import drive\n",
        "drive.mount('/content/gdrive')"
      ],
      "execution_count": null,
      "outputs": []
    },
    {
      "cell_type": "code",
      "metadata": {
        "id": "kqQTwS1xfutn",
        "outputId": "7735a853-6fa8-4125-9b52-f3ece535509e",
        "colab": {
          "base_uri": "https://localhost:8080/",
          "height": 34
        }
      },
      "source": [
        "!md5sum 'dcnn.tflite'\n",
        "!mv 'dcnn.tflite' '/content/gdrive/My Drive/0-9.dcnn47.tflite'"
      ],
      "execution_count": null,
      "outputs": [
        {
          "output_type": "stream",
          "text": [
            "ae411796b409fff0418b32cabea5ef5b  dcnn.tflite\n"
          ],
          "name": "stdout"
        }
      ]
    }
  ]
}